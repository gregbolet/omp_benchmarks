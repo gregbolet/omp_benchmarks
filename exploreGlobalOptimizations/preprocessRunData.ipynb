{
 "cells": [
  {
   "cell_type": "code",
   "execution_count": 5,
   "metadata": {},
   "outputs": [],
   "source": [
    "import pandas as pd\n",
    "import numpy as np\n",
    "from benchmarks import *\n",
    "import glob\n",
    "import os, sys\n",
    "import seaborn as sns\n",
    "import matplotlib.pyplot as plt\n",
    "import re\n",
    "import time\n",
    "from tqdm.notebook import tqdm"
   ]
  },
  {
   "cell_type": "code",
   "execution_count": 6,
   "metadata": {},
   "outputs": [
    {
     "name": "stdout",
     "output_type": "stream",
     "text": [
      "lassen /usr/WS2/bolet1/lassen-benchmarks/exploreGlobalOptimizations\n"
     ]
    }
   ],
   "source": [
    "MACHINE = 'lassen' if 'lassen' in ROOT_DIR else 'ruby'\n",
    "print(MACHINE, ROOT_DIR)\n",
    "prognames = list(progs.keys())\n",
    "probsizes = ['smlprob', 'medprob', 'lrgprob']\n",
    "\n",
    "logsDir = ROOT_DIR+'/logs'\n",
    "\n",
    "goMethods=['cma', 'pso', 'bo']\n",
    "seeds = [1337, 3827, 9999, 4873]"
   ]
  },
  {
   "cell_type": "code",
   "execution_count": 7,
   "metadata": {},
   "outputs": [],
   "source": [
    "def getHypersFromFilename(filename):\n",
    "\n",
    "\t# cut the path out if it has a path, and remove the .csv extension\n",
    "\tfilename = os.path.splitext(os.path.basename(filename))[0]\n",
    "\n",
    "\tif '-BO-' in filename:\n",
    "\t\tif '-ucb-' in filename:\n",
    "\t\t\tfilename = filename[filename.find('-ucb-')+5:]\n",
    "\t\t\tfound = re.findall(r'(?:k)(.*)(?:-kd)(.*)(?:-kdd)(.*)(?:--DONE)',filename)[0]\n",
    "\t\t\tk = float(found[0])\n",
    "\t\t\tkd = float(found[1])\n",
    "\t\t\tkdd = int(found[2])\n",
    "\t\t\treturn {'utilFnct':'ucb', 'kappa':k, 'kappa_decay':kd, 'kappa_decay_delay':kdd}\n",
    "\t\t\n",
    "\t\telif '-ei-' in filename:\n",
    "\t\t\tfilename = filename[filename.find('-ei-')+4:]\n",
    "\t\t\tfound = re.findall(r'(?:xi)(.*)(?:--DONE)',filename)[0]\n",
    "\t\t\txi = float(found[0])\n",
    "\t\t\treturn {'utilFnct':'ei', 'xi':xi}\n",
    "\t\t\n",
    "\t\telif '-poi-' in filename:\n",
    "\t\t\tfilename = filename[filename.find('-poi-')+5:]\n",
    "\t\t\tfound = re.findall(r'(?:xi)(.*)(?:--DONE)',filename)[0]\n",
    "\t\t\txi = float(found[0])\n",
    "\t\t\treturn {'utilFnct':'poi', 'xi':xi}\n",
    "\n",
    "\telif '-PSO-' in filename:\n",
    "\t\t\tfilename = filename[filename.find('-PSO-')+5:]\n",
    "\t\t\tfound = re.findall(r'(?:pop)(.*)(?:-w)(.*)(?:-c1)(.*)(?:-c2)(.*)(?:--DONE)',filename)[0]\n",
    "\t\t\tpop = int(found[0])\n",
    "\t\t\tw = float(found[1])\n",
    "\t\t\tc1 = float(found[2])\n",
    "\t\t\tc2 = float(found[3])\n",
    "\t\t\treturn {'popsize':pop, 'w':w, 'c1':c1, 'c2':c2}\n",
    "\t\n",
    "\telif '-CMA-' in filename:\n",
    "\t\t\tfilename = filename[filename.find('-CMA-')+5:]\n",
    "\t\t\tfound = re.findall(r'(?:sigma)(.*)(?:-pop)(.*)(?:-popdecay)(.*)(?:--DONE)',filename)[0]\n",
    "\t\t\tsigma = float(found[0])\n",
    "\t\t\tpop = int(found[1])\n",
    "\t\t\tpd = float(found[2])\n",
    "\t\t\t#return {'method':'cma', 'sigma':sigma, 'popsize':pop, 'popdecay':pd}\n",
    "\t\t\t# excluded popdecay in experiments\n",
    "\t\t\treturn {'sigma':sigma, 'popsize':pop}\n",
    "\t\n",
    "\telse:\n",
    "\t\tprint('no GO method in filename...')\n",
    "\t\traise ValueError('Failed to provide a string path with a GO Method')\n",
    "\t\treturn\n"
   ]
  },
  {
   "cell_type": "code",
   "execution_count": 8,
   "metadata": {},
   "outputs": [],
   "source": [
    "def getData(progname, probsize, method, seed):\n",
    "\tmainDF = pd.DataFrame(columns=['progname', 'probsize', 'method', 'seed'])\n",
    "\tstartTime = time.time()\n",
    "\n",
    "\tdir = logsDir+f'/{progname}-{probsize}/{method}-{seed}'\n",
    "\tprint('working on', dir)\n",
    "\t# check that the directory exists\n",
    "\t# grab the completed data\n",
    "\tcsvs = glob.glob(dir+'/*DONE.csv')\n",
    "\n",
    "\t# read in each of the dataframe, then contatenate them all at once\n",
    "\treadin = []\n",
    "\tfor csv in tqdm(csvs):\n",
    "\t\t# extract the hyperparam values from the filename\n",
    "\t\thypers = getHypersFromFilename(csv)\n",
    "\t\ttoadd = pd.read_csv(csv, usecols=['globalSample', 'optimXtime', 'xtime'])\n",
    "\n",
    "\t\t# add the extra columns\n",
    "\t\tfor hyper,val in hypers.items():\n",
    "\t\t\ttoadd[hyper] = val\n",
    "\n",
    "\t\treadin += [toadd]\n",
    "\n",
    "\tmainDF = pd.concat([mainDF]+readin, ignore_index=True)\n",
    "\n",
    "\tmainDF['progname'] = progname\n",
    "\tmainDF['probsize'] = probsize\n",
    "\tmainDF['method'] = method\n",
    "\tmainDF['seed'] = seed \n",
    "\n",
    "\tprint('completed', progname, probsize, method, seed, mainDF.shape, (time.time() - startTime), 'secs')\t\t\n",
    "\treturn mainDF"
   ]
  },
  {
   "cell_type": "code",
   "execution_count": 9,
   "metadata": {},
   "outputs": [],
   "source": [
    "dbFile = f'{MACHINE}-fullExploreDataset.csv'\n",
    "xtimeDB = pd.read_csv(ROOT_DIR+'/databases/'+dbFile)\n",
    "\n",
    "def getMinMaxXtimeForProg(progname, probsize):\n",
    "\tdf = xtimeDB[(xtimeDB['progname'] == progname) & \n",
    "\t\t\t\t\t\t\t (xtimeDB['probsize'] == probsize)]['xtime']\n",
    "\treturn (df.min(), df.max())\n",
    "\n",
    "# 0 will mean close to maxXtime\n",
    "# 1 will mean close to minXtime\n",
    "def convertXtimesToPercent(df, minXtime, maxXtime):\n",
    "\tdf['xtime'] = 1 - (df['xtime']-minXtime)/(maxXtime-minXtime)\n",
    "\treturn\n"
   ]
  },
  {
   "cell_type": "code",
   "execution_count": 10,
   "metadata": {},
   "outputs": [],
   "source": [
    "def preprocessAllLogs():\n",
    "\n",
    "\tfor method in goMethods:\n",
    "\t\tfor progname in prognames:\n",
    "\t\t\t# gather all the data\n",
    "\t\t\ttoJoin = []\n",
    "\t\t\tfor probsize in probsizes:\n",
    "\t\t\t\tminXtime, maxXtime = getMinMaxXtimeForProg(progname, probsize)\n",
    "\t\t\t\tfor seed in seeds:\n",
    "\t\t\t\t\tdf = getData(progname, probsize, method, seed)\n",
    "\t\t\t\t\tconvertXtimesToPercent(df, minXtime, maxXtime)\n",
    "\t\t\t\t\ttoJoin += [df]\n",
    "\n",
    "\t\t\tfullDF = pd.concat(toJoin, ignore_index=True)\n",
    "\n",
    "\t\t\t# let's save the dataframe for future re-use\n",
    "\t\t\tfilename = ROOT_DIR+'/databases/'+f'{MACHINE}-{progname}-{method}-GO_Data.csv'\n",
    "\t\t\tprint('\\n\\n wrote:', filename, '\\n\\n')\n",
    "\t\t\tfullDF.to_csv(filename, index=False)\n",
    "\treturn"
   ]
  },
  {
   "cell_type": "code",
   "execution_count": 11,
   "metadata": {},
   "outputs": [
    {
     "name": "stdout",
     "output_type": "stream",
     "text": [
      "working on /usr/WS2/bolet1/lassen-benchmarks/exploreGlobalOptimizations/logs/bt_nas-smlprob/cma-1337\n"
     ]
    },
    {
     "data": {
      "application/vnd.jupyter.widget-view+json": {
       "model_id": "bb3540d7ef25421b8f0f5029651e1c47",
       "version_major": 2,
       "version_minor": 0
      },
      "text/plain": [
       "  0%|          | 0/100 [00:00<?, ?it/s]"
      ]
     },
     "metadata": {},
     "output_type": "display_data"
    },
    {
     "name": "stdout",
     "output_type": "stream",
     "text": [
      "completed bt_nas smlprob cma 1337 (59400, 9) 0.46275901794433594 secs\n",
      "working on /usr/WS2/bolet1/lassen-benchmarks/exploreGlobalOptimizations/logs/bt_nas-smlprob/cma-3827\n"
     ]
    },
    {
     "data": {
      "application/vnd.jupyter.widget-view+json": {
       "model_id": "98683cb50a81494d8d64be162e065af7",
       "version_major": 2,
       "version_minor": 0
      },
      "text/plain": [
       "  0%|          | 0/100 [00:00<?, ?it/s]"
      ]
     },
     "metadata": {},
     "output_type": "display_data"
    },
    {
     "name": "stdout",
     "output_type": "stream",
     "text": [
      "completed bt_nas smlprob cma 3827 (59400, 9) 0.41424059867858887 secs\n",
      "working on /usr/WS2/bolet1/lassen-benchmarks/exploreGlobalOptimizations/logs/bt_nas-smlprob/cma-9999\n"
     ]
    },
    {
     "data": {
      "application/vnd.jupyter.widget-view+json": {
       "model_id": "5869d67d275647d6b1b356f075ea7d67",
       "version_major": 2,
       "version_minor": 0
      },
      "text/plain": [
       "  0%|          | 0/100 [00:00<?, ?it/s]"
      ]
     },
     "metadata": {},
     "output_type": "display_data"
    },
    {
     "name": "stdout",
     "output_type": "stream",
     "text": [
      "completed bt_nas smlprob cma 9999 (59400, 9) 0.4056551456451416 secs\n",
      "working on /usr/WS2/bolet1/lassen-benchmarks/exploreGlobalOptimizations/logs/bt_nas-smlprob/cma-4873\n"
     ]
    },
    {
     "data": {
      "application/vnd.jupyter.widget-view+json": {
       "model_id": "afb269cd1aca4343bb7af0e711f21076",
       "version_major": 2,
       "version_minor": 0
      },
      "text/plain": [
       "  0%|          | 0/100 [00:00<?, ?it/s]"
      ]
     },
     "metadata": {},
     "output_type": "display_data"
    },
    {
     "name": "stdout",
     "output_type": "stream",
     "text": [
      "completed bt_nas smlprob cma 4873 (59400, 9) 0.45064640045166016 secs\n",
      "working on /usr/WS2/bolet1/lassen-benchmarks/exploreGlobalOptimizations/logs/bt_nas-medprob/cma-1337\n"
     ]
    },
    {
     "data": {
      "application/vnd.jupyter.widget-view+json": {
       "model_id": "7d0af785e5dc4f299b8c3b28b36c39f4",
       "version_major": 2,
       "version_minor": 0
      },
      "text/plain": [
       "  0%|          | 0/100 [00:00<?, ?it/s]"
      ]
     },
     "metadata": {},
     "output_type": "display_data"
    },
    {
     "name": "stdout",
     "output_type": "stream",
     "text": [
      "completed bt_nas medprob cma 1337 (59400, 9) 0.4776437282562256 secs\n",
      "working on /usr/WS2/bolet1/lassen-benchmarks/exploreGlobalOptimizations/logs/bt_nas-medprob/cma-3827\n"
     ]
    },
    {
     "data": {
      "application/vnd.jupyter.widget-view+json": {
       "model_id": "1c4667f308d14e178d6763124c520c98",
       "version_major": 2,
       "version_minor": 0
      },
      "text/plain": [
       "  0%|          | 0/100 [00:00<?, ?it/s]"
      ]
     },
     "metadata": {},
     "output_type": "display_data"
    },
    {
     "name": "stdout",
     "output_type": "stream",
     "text": [
      "completed bt_nas medprob cma 3827 (59400, 9) 0.46883082389831543 secs\n",
      "working on /usr/WS2/bolet1/lassen-benchmarks/exploreGlobalOptimizations/logs/bt_nas-medprob/cma-9999\n"
     ]
    },
    {
     "data": {
      "application/vnd.jupyter.widget-view+json": {
       "model_id": "dfb5d71a4e4040919047a4f2a12c44b7",
       "version_major": 2,
       "version_minor": 0
      },
      "text/plain": [
       "  0%|          | 0/100 [00:00<?, ?it/s]"
      ]
     },
     "metadata": {},
     "output_type": "display_data"
    },
    {
     "name": "stdout",
     "output_type": "stream",
     "text": [
      "completed bt_nas medprob cma 9999 (59400, 9) 0.3924984931945801 secs\n",
      "working on /usr/WS2/bolet1/lassen-benchmarks/exploreGlobalOptimizations/logs/bt_nas-medprob/cma-4873\n"
     ]
    },
    {
     "data": {
      "application/vnd.jupyter.widget-view+json": {
       "model_id": "3d74e7cf04e24fe6a8fdad58d3deccf7",
       "version_major": 2,
       "version_minor": 0
      },
      "text/plain": [
       "  0%|          | 0/100 [00:00<?, ?it/s]"
      ]
     },
     "metadata": {},
     "output_type": "display_data"
    },
    {
     "name": "stdout",
     "output_type": "stream",
     "text": [
      "completed bt_nas medprob cma 4873 (59400, 9) 0.5059411525726318 secs\n",
      "working on /usr/WS2/bolet1/lassen-benchmarks/exploreGlobalOptimizations/logs/bt_nas-lrgprob/cma-1337\n"
     ]
    },
    {
     "data": {
      "application/vnd.jupyter.widget-view+json": {
       "model_id": "0f6dfff2854544cdba01f06b5050c9c5",
       "version_major": 2,
       "version_minor": 0
      },
      "text/plain": [
       "  0%|          | 0/100 [00:00<?, ?it/s]"
      ]
     },
     "metadata": {},
     "output_type": "display_data"
    },
    {
     "name": "stdout",
     "output_type": "stream",
     "text": [
      "completed bt_nas lrgprob cma 1337 (59400, 9) 1.5016603469848633 secs\n",
      "working on /usr/WS2/bolet1/lassen-benchmarks/exploreGlobalOptimizations/logs/bt_nas-lrgprob/cma-3827\n"
     ]
    },
    {
     "data": {
      "application/vnd.jupyter.widget-view+json": {
       "model_id": "5473b31d604e496faad4752340961154",
       "version_major": 2,
       "version_minor": 0
      },
      "text/plain": [
       "  0%|          | 0/100 [00:00<?, ?it/s]"
      ]
     },
     "metadata": {},
     "output_type": "display_data"
    },
    {
     "name": "stdout",
     "output_type": "stream",
     "text": [
      "completed bt_nas lrgprob cma 3827 (59400, 9) 0.40592312812805176 secs\n",
      "working on /usr/WS2/bolet1/lassen-benchmarks/exploreGlobalOptimizations/logs/bt_nas-lrgprob/cma-9999\n"
     ]
    },
    {
     "data": {
      "application/vnd.jupyter.widget-view+json": {
       "model_id": "42e5019980ff491ca9a21f95f12c0bb6",
       "version_major": 2,
       "version_minor": 0
      },
      "text/plain": [
       "  0%|          | 0/100 [00:00<?, ?it/s]"
      ]
     },
     "metadata": {},
     "output_type": "display_data"
    },
    {
     "name": "stdout",
     "output_type": "stream",
     "text": [
      "completed bt_nas lrgprob cma 9999 (59400, 9) 0.3847463130950928 secs\n",
      "working on /usr/WS2/bolet1/lassen-benchmarks/exploreGlobalOptimizations/logs/bt_nas-lrgprob/cma-4873\n"
     ]
    },
    {
     "data": {
      "application/vnd.jupyter.widget-view+json": {
       "model_id": "859f6b2eaf1f43cf95ecd2c60cd5a415",
       "version_major": 2,
       "version_minor": 0
      },
      "text/plain": [
       "  0%|          | 0/100 [00:00<?, ?it/s]"
      ]
     },
     "metadata": {},
     "output_type": "display_data"
    },
    {
     "name": "stdout",
     "output_type": "stream",
     "text": [
      "completed bt_nas lrgprob cma 4873 (59400, 9) 0.5219664573669434 secs\n",
      "\n",
      "\n",
      " wrote: /usr/WS2/bolet1/lassen-benchmarks/exploreGlobalOptimizations/databases/lassen-bt_nas-cma-GO_Data.csv \n",
      "\n",
      "\n",
      "working on /usr/WS2/bolet1/lassen-benchmarks/exploreGlobalOptimizations/logs/cg_nas-smlprob/cma-1337\n"
     ]
    },
    {
     "data": {
      "application/vnd.jupyter.widget-view+json": {
       "model_id": "6fd3538683bb463daf41b247661e25e0",
       "version_major": 2,
       "version_minor": 0
      },
      "text/plain": [
       "  0%|          | 0/100 [00:00<?, ?it/s]"
      ]
     },
     "metadata": {},
     "output_type": "display_data"
    },
    {
     "name": "stdout",
     "output_type": "stream",
     "text": [
      "completed cg_nas smlprob cma 1337 (59400, 9) 0.4413111209869385 secs\n",
      "working on /usr/WS2/bolet1/lassen-benchmarks/exploreGlobalOptimizations/logs/cg_nas-smlprob/cma-3827\n"
     ]
    },
    {
     "data": {
      "application/vnd.jupyter.widget-view+json": {
       "model_id": "97b89c2c55084acaac8e0396c0c20b21",
       "version_major": 2,
       "version_minor": 0
      },
      "text/plain": [
       "  0%|          | 0/100 [00:00<?, ?it/s]"
      ]
     },
     "metadata": {},
     "output_type": "display_data"
    },
    {
     "name": "stdout",
     "output_type": "stream",
     "text": [
      "completed cg_nas smlprob cma 3827 (59400, 9) 0.40442562103271484 secs\n",
      "working on /usr/WS2/bolet1/lassen-benchmarks/exploreGlobalOptimizations/logs/cg_nas-smlprob/cma-9999\n"
     ]
    },
    {
     "data": {
      "application/vnd.jupyter.widget-view+json": {
       "model_id": "22a04619401348eba27216b30170971b",
       "version_major": 2,
       "version_minor": 0
      },
      "text/plain": [
       "  0%|          | 0/100 [00:00<?, ?it/s]"
      ]
     },
     "metadata": {},
     "output_type": "display_data"
    },
    {
     "name": "stdout",
     "output_type": "stream",
     "text": [
      "completed cg_nas smlprob cma 9999 (59400, 9) 0.4995739459991455 secs\n",
      "working on /usr/WS2/bolet1/lassen-benchmarks/exploreGlobalOptimizations/logs/cg_nas-smlprob/cma-4873\n"
     ]
    },
    {
     "data": {
      "application/vnd.jupyter.widget-view+json": {
       "model_id": "775bb664954f4dfc9770a7e2a70d8dfd",
       "version_major": 2,
       "version_minor": 0
      },
      "text/plain": [
       "  0%|          | 0/100 [00:00<?, ?it/s]"
      ]
     },
     "metadata": {},
     "output_type": "display_data"
    },
    {
     "name": "stdout",
     "output_type": "stream",
     "text": [
      "completed cg_nas smlprob cma 4873 (59400, 9) 0.4442920684814453 secs\n",
      "working on /usr/WS2/bolet1/lassen-benchmarks/exploreGlobalOptimizations/logs/cg_nas-medprob/cma-1337\n"
     ]
    },
    {
     "data": {
      "application/vnd.jupyter.widget-view+json": {
       "model_id": "d6126517f36647edaaad64586420dbc4",
       "version_major": 2,
       "version_minor": 0
      },
      "text/plain": [
       "  0%|          | 0/100 [00:00<?, ?it/s]"
      ]
     },
     "metadata": {},
     "output_type": "display_data"
    },
    {
     "name": "stdout",
     "output_type": "stream",
     "text": [
      "completed cg_nas medprob cma 1337 (59400, 9) 0.43937134742736816 secs\n",
      "working on /usr/WS2/bolet1/lassen-benchmarks/exploreGlobalOptimizations/logs/cg_nas-medprob/cma-3827\n"
     ]
    },
    {
     "data": {
      "application/vnd.jupyter.widget-view+json": {
       "model_id": "153e0c1fbd464a249a62a8da413b90ec",
       "version_major": 2,
       "version_minor": 0
      },
      "text/plain": [
       "  0%|          | 0/100 [00:00<?, ?it/s]"
      ]
     },
     "metadata": {},
     "output_type": "display_data"
    },
    {
     "name": "stdout",
     "output_type": "stream",
     "text": [
      "completed cg_nas medprob cma 3827 (59400, 9) 0.40117573738098145 secs\n",
      "working on /usr/WS2/bolet1/lassen-benchmarks/exploreGlobalOptimizations/logs/cg_nas-medprob/cma-9999\n"
     ]
    },
    {
     "data": {
      "application/vnd.jupyter.widget-view+json": {
       "model_id": "bea169eb7cbd49c6babffabb4f4e16df",
       "version_major": 2,
       "version_minor": 0
      },
      "text/plain": [
       "  0%|          | 0/100 [00:00<?, ?it/s]"
      ]
     },
     "metadata": {},
     "output_type": "display_data"
    },
    {
     "name": "stdout",
     "output_type": "stream",
     "text": [
      "completed cg_nas medprob cma 9999 (59400, 9) 0.5015909671783447 secs\n",
      "working on /usr/WS2/bolet1/lassen-benchmarks/exploreGlobalOptimizations/logs/cg_nas-medprob/cma-4873\n"
     ]
    },
    {
     "data": {
      "application/vnd.jupyter.widget-view+json": {
       "model_id": "fa1db1a5418f410b9a667ccb6da36234",
       "version_major": 2,
       "version_minor": 0
      },
      "text/plain": [
       "  0%|          | 0/100 [00:00<?, ?it/s]"
      ]
     },
     "metadata": {},
     "output_type": "display_data"
    },
    {
     "name": "stdout",
     "output_type": "stream",
     "text": [
      "completed cg_nas medprob cma 4873 (59400, 9) 0.40473175048828125 secs\n",
      "working on /usr/WS2/bolet1/lassen-benchmarks/exploreGlobalOptimizations/logs/cg_nas-lrgprob/cma-1337\n"
     ]
    },
    {
     "data": {
      "application/vnd.jupyter.widget-view+json": {
       "model_id": "43d5e77628ac427cbb14073c990e6921",
       "version_major": 2,
       "version_minor": 0
      },
      "text/plain": [
       "  0%|          | 0/100 [00:00<?, ?it/s]"
      ]
     },
     "metadata": {},
     "output_type": "display_data"
    },
    {
     "name": "stdout",
     "output_type": "stream",
     "text": [
      "completed cg_nas lrgprob cma 1337 (59400, 9) 0.4340059757232666 secs\n",
      "working on /usr/WS2/bolet1/lassen-benchmarks/exploreGlobalOptimizations/logs/cg_nas-lrgprob/cma-3827\n"
     ]
    },
    {
     "data": {
      "application/vnd.jupyter.widget-view+json": {
       "model_id": "5484ce0bbc83413798b75093e6c663fd",
       "version_major": 2,
       "version_minor": 0
      },
      "text/plain": [
       "  0%|          | 0/100 [00:00<?, ?it/s]"
      ]
     },
     "metadata": {},
     "output_type": "display_data"
    },
    {
     "name": "stdout",
     "output_type": "stream",
     "text": [
      "completed cg_nas lrgprob cma 3827 (59400, 9) 0.4488048553466797 secs\n",
      "working on /usr/WS2/bolet1/lassen-benchmarks/exploreGlobalOptimizations/logs/cg_nas-lrgprob/cma-9999\n"
     ]
    },
    {
     "data": {
      "application/vnd.jupyter.widget-view+json": {
       "model_id": "39764d0038eb45d79fca6ecbab500147",
       "version_major": 2,
       "version_minor": 0
      },
      "text/plain": [
       "  0%|          | 0/100 [00:00<?, ?it/s]"
      ]
     },
     "metadata": {},
     "output_type": "display_data"
    },
    {
     "name": "stdout",
     "output_type": "stream",
     "text": [
      "completed cg_nas lrgprob cma 9999 (59400, 9) 0.5228927135467529 secs\n",
      "working on /usr/WS2/bolet1/lassen-benchmarks/exploreGlobalOptimizations/logs/cg_nas-lrgprob/cma-4873\n"
     ]
    },
    {
     "data": {
      "application/vnd.jupyter.widget-view+json": {
       "model_id": "5d9dc3a706224f61ae1829f029cdc17c",
       "version_major": 2,
       "version_minor": 0
      },
      "text/plain": [
       "  0%|          | 0/100 [00:00<?, ?it/s]"
      ]
     },
     "metadata": {},
     "output_type": "display_data"
    },
    {
     "name": "stdout",
     "output_type": "stream",
     "text": [
      "completed cg_nas lrgprob cma 4873 (59400, 9) 0.4170243740081787 secs\n",
      "\n",
      "\n",
      " wrote: /usr/WS2/bolet1/lassen-benchmarks/exploreGlobalOptimizations/databases/lassen-cg_nas-cma-GO_Data.csv \n",
      "\n",
      "\n",
      "working on /usr/WS2/bolet1/lassen-benchmarks/exploreGlobalOptimizations/logs/ft_nas-smlprob/cma-1337\n"
     ]
    },
    {
     "data": {
      "application/vnd.jupyter.widget-view+json": {
       "model_id": "9bfbdb6a6b83449d940612b4b72c0e65",
       "version_major": 2,
       "version_minor": 0
      },
      "text/plain": [
       "  0%|          | 0/100 [00:00<?, ?it/s]"
      ]
     },
     "metadata": {},
     "output_type": "display_data"
    },
    {
     "name": "stdout",
     "output_type": "stream",
     "text": [
      "completed ft_nas smlprob cma 1337 (59400, 9) 0.4205625057220459 secs\n",
      "working on /usr/WS2/bolet1/lassen-benchmarks/exploreGlobalOptimizations/logs/ft_nas-smlprob/cma-3827\n"
     ]
    },
    {
     "data": {
      "application/vnd.jupyter.widget-view+json": {
       "model_id": "994b7679cb3f443b8ae3b947ef077016",
       "version_major": 2,
       "version_minor": 0
      },
      "text/plain": [
       "  0%|          | 0/100 [00:00<?, ?it/s]"
      ]
     },
     "metadata": {},
     "output_type": "display_data"
    },
    {
     "name": "stdout",
     "output_type": "stream",
     "text": [
      "completed ft_nas smlprob cma 3827 (59400, 9) 0.42890095710754395 secs\n",
      "working on /usr/WS2/bolet1/lassen-benchmarks/exploreGlobalOptimizations/logs/ft_nas-smlprob/cma-9999\n"
     ]
    },
    {
     "data": {
      "application/vnd.jupyter.widget-view+json": {
       "model_id": "c066ef5ca13c4c19b86aa166de661267",
       "version_major": 2,
       "version_minor": 0
      },
      "text/plain": [
       "  0%|          | 0/100 [00:00<?, ?it/s]"
      ]
     },
     "metadata": {},
     "output_type": "display_data"
    },
    {
     "name": "stdout",
     "output_type": "stream",
     "text": [
      "completed ft_nas smlprob cma 9999 (59400, 9) 0.4272944927215576 secs\n",
      "working on /usr/WS2/bolet1/lassen-benchmarks/exploreGlobalOptimizations/logs/ft_nas-smlprob/cma-4873\n"
     ]
    },
    {
     "data": {
      "application/vnd.jupyter.widget-view+json": {
       "model_id": "546e7973bb4046d39fc8183f2b64a686",
       "version_major": 2,
       "version_minor": 0
      },
      "text/plain": [
       "  0%|          | 0/100 [00:00<?, ?it/s]"
      ]
     },
     "metadata": {},
     "output_type": "display_data"
    },
    {
     "name": "stdout",
     "output_type": "stream",
     "text": [
      "completed ft_nas smlprob cma 4873 (59400, 9) 0.4369947910308838 secs\n",
      "working on /usr/WS2/bolet1/lassen-benchmarks/exploreGlobalOptimizations/logs/ft_nas-medprob/cma-1337\n"
     ]
    },
    {
     "data": {
      "application/vnd.jupyter.widget-view+json": {
       "model_id": "571d153143914aacb519fdb23c7779e6",
       "version_major": 2,
       "version_minor": 0
      },
      "text/plain": [
       "  0%|          | 0/100 [00:00<?, ?it/s]"
      ]
     },
     "metadata": {},
     "output_type": "display_data"
    },
    {
     "name": "stdout",
     "output_type": "stream",
     "text": [
      "completed ft_nas medprob cma 1337 (59400, 9) 0.4121685028076172 secs\n",
      "working on /usr/WS2/bolet1/lassen-benchmarks/exploreGlobalOptimizations/logs/ft_nas-medprob/cma-3827\n"
     ]
    },
    {
     "data": {
      "application/vnd.jupyter.widget-view+json": {
       "model_id": "6675fe3886974e3babddf8252a1e1cfc",
       "version_major": 2,
       "version_minor": 0
      },
      "text/plain": [
       "  0%|          | 0/100 [00:00<?, ?it/s]"
      ]
     },
     "metadata": {},
     "output_type": "display_data"
    },
    {
     "name": "stdout",
     "output_type": "stream",
     "text": [
      "completed ft_nas medprob cma 3827 (59400, 9) 0.4230630397796631 secs\n",
      "working on /usr/WS2/bolet1/lassen-benchmarks/exploreGlobalOptimizations/logs/ft_nas-medprob/cma-9999\n"
     ]
    },
    {
     "data": {
      "application/vnd.jupyter.widget-view+json": {
       "model_id": "db63aa662e484094b86f34bf291bb703",
       "version_major": 2,
       "version_minor": 0
      },
      "text/plain": [
       "  0%|          | 0/100 [00:00<?, ?it/s]"
      ]
     },
     "metadata": {},
     "output_type": "display_data"
    },
    {
     "name": "stdout",
     "output_type": "stream",
     "text": [
      "completed ft_nas medprob cma 9999 (59400, 9) 0.3874821662902832 secs\n",
      "working on /usr/WS2/bolet1/lassen-benchmarks/exploreGlobalOptimizations/logs/ft_nas-medprob/cma-4873\n"
     ]
    },
    {
     "data": {
      "application/vnd.jupyter.widget-view+json": {
       "model_id": "933189e711fd46e696d8f0a88c9494e9",
       "version_major": 2,
       "version_minor": 0
      },
      "text/plain": [
       "  0%|          | 0/100 [00:00<?, ?it/s]"
      ]
     },
     "metadata": {},
     "output_type": "display_data"
    },
    {
     "name": "stdout",
     "output_type": "stream",
     "text": [
      "completed ft_nas medprob cma 4873 (59400, 9) 0.4048647880554199 secs\n",
      "working on /usr/WS2/bolet1/lassen-benchmarks/exploreGlobalOptimizations/logs/ft_nas-lrgprob/cma-1337\n"
     ]
    },
    {
     "data": {
      "application/vnd.jupyter.widget-view+json": {
       "model_id": "f7506c81673f49639e4457e96626362a",
       "version_major": 2,
       "version_minor": 0
      },
      "text/plain": [
       "  0%|          | 0/100 [00:00<?, ?it/s]"
      ]
     },
     "metadata": {},
     "output_type": "display_data"
    },
    {
     "name": "stdout",
     "output_type": "stream",
     "text": [
      "completed ft_nas lrgprob cma 1337 (59400, 9) 0.42739295959472656 secs\n",
      "working on /usr/WS2/bolet1/lassen-benchmarks/exploreGlobalOptimizations/logs/ft_nas-lrgprob/cma-3827\n"
     ]
    },
    {
     "data": {
      "application/vnd.jupyter.widget-view+json": {
       "model_id": "a65e7f1c0e264b7b82f8d3c017168f26",
       "version_major": 2,
       "version_minor": 0
      },
      "text/plain": [
       "  0%|          | 0/100 [00:00<?, ?it/s]"
      ]
     },
     "metadata": {},
     "output_type": "display_data"
    },
    {
     "name": "stdout",
     "output_type": "stream",
     "text": [
      "completed ft_nas lrgprob cma 3827 (59400, 9) 0.37880373001098633 secs\n",
      "working on /usr/WS2/bolet1/lassen-benchmarks/exploreGlobalOptimizations/logs/ft_nas-lrgprob/cma-9999\n"
     ]
    },
    {
     "data": {
      "application/vnd.jupyter.widget-view+json": {
       "model_id": "f2f4a8cb4abf402d8882221e43609600",
       "version_major": 2,
       "version_minor": 0
      },
      "text/plain": [
       "  0%|          | 0/100 [00:00<?, ?it/s]"
      ]
     },
     "metadata": {},
     "output_type": "display_data"
    },
    {
     "name": "stdout",
     "output_type": "stream",
     "text": [
      "completed ft_nas lrgprob cma 9999 (59400, 9) 0.39114856719970703 secs\n",
      "working on /usr/WS2/bolet1/lassen-benchmarks/exploreGlobalOptimizations/logs/ft_nas-lrgprob/cma-4873\n"
     ]
    },
    {
     "data": {
      "application/vnd.jupyter.widget-view+json": {
       "model_id": "4eefe638bcf24279a6411c7d8ca8383c",
       "version_major": 2,
       "version_minor": 0
      },
      "text/plain": [
       "  0%|          | 0/100 [00:00<?, ?it/s]"
      ]
     },
     "metadata": {},
     "output_type": "display_data"
    },
    {
     "name": "stdout",
     "output_type": "stream",
     "text": [
      "completed ft_nas lrgprob cma 4873 (59400, 9) 0.46924734115600586 secs\n",
      "\n",
      "\n",
      " wrote: /usr/WS2/bolet1/lassen-benchmarks/exploreGlobalOptimizations/databases/lassen-ft_nas-cma-GO_Data.csv \n",
      "\n",
      "\n",
      "working on /usr/WS2/bolet1/lassen-benchmarks/exploreGlobalOptimizations/logs/cfd_rodinia-smlprob/cma-1337\n"
     ]
    },
    {
     "data": {
      "application/vnd.jupyter.widget-view+json": {
       "model_id": "c59be441f560471da470d837492e5036",
       "version_major": 2,
       "version_minor": 0
      },
      "text/plain": [
       "  0%|          | 0/100 [00:00<?, ?it/s]"
      ]
     },
     "metadata": {},
     "output_type": "display_data"
    },
    {
     "name": "stdout",
     "output_type": "stream",
     "text": [
      "completed cfd_rodinia smlprob cma 1337 (59400, 9) 0.42742395401000977 secs\n",
      "working on /usr/WS2/bolet1/lassen-benchmarks/exploreGlobalOptimizations/logs/cfd_rodinia-smlprob/cma-3827\n"
     ]
    },
    {
     "data": {
      "application/vnd.jupyter.widget-view+json": {
       "model_id": "2885dbd09c8f4ba6822c5d352245ea1b",
       "version_major": 2,
       "version_minor": 0
      },
      "text/plain": [
       "  0%|          | 0/100 [00:00<?, ?it/s]"
      ]
     },
     "metadata": {},
     "output_type": "display_data"
    },
    {
     "name": "stdout",
     "output_type": "stream",
     "text": [
      "completed cfd_rodinia smlprob cma 3827 (59400, 9) 0.49939703941345215 secs\n",
      "working on /usr/WS2/bolet1/lassen-benchmarks/exploreGlobalOptimizations/logs/cfd_rodinia-smlprob/cma-9999\n"
     ]
    },
    {
     "data": {
      "application/vnd.jupyter.widget-view+json": {
       "model_id": "0d6df9c1a098468e87c6c4f9bb4ebdb6",
       "version_major": 2,
       "version_minor": 0
      },
      "text/plain": [
       "  0%|          | 0/100 [00:00<?, ?it/s]"
      ]
     },
     "metadata": {},
     "output_type": "display_data"
    },
    {
     "name": "stdout",
     "output_type": "stream",
     "text": [
      "completed cfd_rodinia smlprob cma 9999 (59400, 9) 0.4054286479949951 secs\n",
      "working on /usr/WS2/bolet1/lassen-benchmarks/exploreGlobalOptimizations/logs/cfd_rodinia-smlprob/cma-4873\n"
     ]
    },
    {
     "data": {
      "application/vnd.jupyter.widget-view+json": {
       "model_id": "b5d49fdcb8be43ea8a2228fa309fff1d",
       "version_major": 2,
       "version_minor": 0
      },
      "text/plain": [
       "  0%|          | 0/100 [00:00<?, ?it/s]"
      ]
     },
     "metadata": {},
     "output_type": "display_data"
    },
    {
     "name": "stdout",
     "output_type": "stream",
     "text": [
      "completed cfd_rodinia smlprob cma 4873 (59400, 9) 0.395719051361084 secs\n",
      "working on /usr/WS2/bolet1/lassen-benchmarks/exploreGlobalOptimizations/logs/cfd_rodinia-medprob/cma-1337\n"
     ]
    },
    {
     "data": {
      "application/vnd.jupyter.widget-view+json": {
       "model_id": "a5c67280d4134edda1f1b30d80c3deff",
       "version_major": 2,
       "version_minor": 0
      },
      "text/plain": [
       "  0%|          | 0/100 [00:00<?, ?it/s]"
      ]
     },
     "metadata": {},
     "output_type": "display_data"
    },
    {
     "name": "stdout",
     "output_type": "stream",
     "text": [
      "completed cfd_rodinia medprob cma 1337 (59400, 9) 0.4674215316772461 secs\n",
      "working on /usr/WS2/bolet1/lassen-benchmarks/exploreGlobalOptimizations/logs/cfd_rodinia-medprob/cma-3827\n"
     ]
    },
    {
     "data": {
      "application/vnd.jupyter.widget-view+json": {
       "model_id": "244e56f2d05445f283a0542b2f5ff24a",
       "version_major": 2,
       "version_minor": 0
      },
      "text/plain": [
       "  0%|          | 0/100 [00:00<?, ?it/s]"
      ]
     },
     "metadata": {},
     "output_type": "display_data"
    },
    {
     "name": "stdout",
     "output_type": "stream",
     "text": [
      "completed cfd_rodinia medprob cma 3827 (59400, 9) 1.4445490837097168 secs\n",
      "working on /usr/WS2/bolet1/lassen-benchmarks/exploreGlobalOptimizations/logs/cfd_rodinia-medprob/cma-9999\n"
     ]
    },
    {
     "data": {
      "application/vnd.jupyter.widget-view+json": {
       "model_id": "0d0be56157ef46b6b5fc5c8f67017f11",
       "version_major": 2,
       "version_minor": 0
      },
      "text/plain": [
       "  0%|          | 0/100 [00:00<?, ?it/s]"
      ]
     },
     "metadata": {},
     "output_type": "display_data"
    },
    {
     "name": "stdout",
     "output_type": "stream",
     "text": [
      "completed cfd_rodinia medprob cma 9999 (59400, 9) 0.4646487236022949 secs\n",
      "working on /usr/WS2/bolet1/lassen-benchmarks/exploreGlobalOptimizations/logs/cfd_rodinia-medprob/cma-4873\n"
     ]
    },
    {
     "data": {
      "application/vnd.jupyter.widget-view+json": {
       "model_id": "cfa5b724898a48fe9bb91d6f51fbaf25",
       "version_major": 2,
       "version_minor": 0
      },
      "text/plain": [
       "  0%|          | 0/100 [00:00<?, ?it/s]"
      ]
     },
     "metadata": {},
     "output_type": "display_data"
    },
    {
     "name": "stdout",
     "output_type": "stream",
     "text": [
      "completed cfd_rodinia medprob cma 4873 (59400, 9) 0.4628920555114746 secs\n",
      "working on /usr/WS2/bolet1/lassen-benchmarks/exploreGlobalOptimizations/logs/cfd_rodinia-lrgprob/cma-1337\n"
     ]
    },
    {
     "data": {
      "application/vnd.jupyter.widget-view+json": {
       "model_id": "7ab434c263744d7aac979471dc6dd555",
       "version_major": 2,
       "version_minor": 0
      },
      "text/plain": [
       "  0%|          | 0/100 [00:00<?, ?it/s]"
      ]
     },
     "metadata": {},
     "output_type": "display_data"
    },
    {
     "name": "stdout",
     "output_type": "stream",
     "text": [
      "completed cfd_rodinia lrgprob cma 1337 (59400, 9) 0.5457010269165039 secs\n",
      "working on /usr/WS2/bolet1/lassen-benchmarks/exploreGlobalOptimizations/logs/cfd_rodinia-lrgprob/cma-3827\n"
     ]
    },
    {
     "data": {
      "application/vnd.jupyter.widget-view+json": {
       "model_id": "59e78807b27f4c75b42c65e052b0b313",
       "version_major": 2,
       "version_minor": 0
      },
      "text/plain": [
       "  0%|          | 0/100 [00:00<?, ?it/s]"
      ]
     },
     "metadata": {},
     "output_type": "display_data"
    },
    {
     "name": "stdout",
     "output_type": "stream",
     "text": [
      "completed cfd_rodinia lrgprob cma 3827 (59400, 9) 0.40873169898986816 secs\n",
      "working on /usr/WS2/bolet1/lassen-benchmarks/exploreGlobalOptimizations/logs/cfd_rodinia-lrgprob/cma-9999\n"
     ]
    },
    {
     "data": {
      "application/vnd.jupyter.widget-view+json": {
       "model_id": "bfbbc171e4b1444aa57097c73fd5ee71",
       "version_major": 2,
       "version_minor": 0
      },
      "text/plain": [
       "  0%|          | 0/100 [00:00<?, ?it/s]"
      ]
     },
     "metadata": {},
     "output_type": "display_data"
    },
    {
     "name": "stdout",
     "output_type": "stream",
     "text": [
      "completed cfd_rodinia lrgprob cma 9999 (59400, 9) 0.5143520832061768 secs\n",
      "working on /usr/WS2/bolet1/lassen-benchmarks/exploreGlobalOptimizations/logs/cfd_rodinia-lrgprob/cma-4873\n"
     ]
    },
    {
     "data": {
      "application/vnd.jupyter.widget-view+json": {
       "model_id": "a4278bdb3ceb40fdbf0de3a210951507",
       "version_major": 2,
       "version_minor": 0
      },
      "text/plain": [
       "  0%|          | 0/100 [00:00<?, ?it/s]"
      ]
     },
     "metadata": {},
     "output_type": "display_data"
    },
    {
     "name": "stdout",
     "output_type": "stream",
     "text": [
      "completed cfd_rodinia lrgprob cma 4873 (59400, 9) 0.41944360733032227 secs\n",
      "\n",
      "\n",
      " wrote: /usr/WS2/bolet1/lassen-benchmarks/exploreGlobalOptimizations/databases/lassen-cfd_rodinia-cma-GO_Data.csv \n",
      "\n",
      "\n",
      "working on /usr/WS2/bolet1/lassen-benchmarks/exploreGlobalOptimizations/logs/hpcg-smlprob/cma-1337\n"
     ]
    },
    {
     "data": {
      "application/vnd.jupyter.widget-view+json": {
       "model_id": "5337f434fd4b4d2da19df5451d2161c1",
       "version_major": 2,
       "version_minor": 0
      },
      "text/plain": [
       "  0%|          | 0/100 [00:00<?, ?it/s]"
      ]
     },
     "metadata": {},
     "output_type": "display_data"
    },
    {
     "name": "stdout",
     "output_type": "stream",
     "text": [
      "completed hpcg smlprob cma 1337 (59400, 9) 0.39991164207458496 secs\n",
      "working on /usr/WS2/bolet1/lassen-benchmarks/exploreGlobalOptimizations/logs/hpcg-smlprob/cma-3827\n"
     ]
    },
    {
     "data": {
      "application/vnd.jupyter.widget-view+json": {
       "model_id": "50bfdbbac07940a28cc3d0d4fbba53d5",
       "version_major": 2,
       "version_minor": 0
      },
      "text/plain": [
       "  0%|          | 0/100 [00:00<?, ?it/s]"
      ]
     },
     "metadata": {},
     "output_type": "display_data"
    },
    {
     "name": "stdout",
     "output_type": "stream",
     "text": [
      "completed hpcg smlprob cma 3827 (59400, 9) 0.36276745796203613 secs\n",
      "working on /usr/WS2/bolet1/lassen-benchmarks/exploreGlobalOptimizations/logs/hpcg-smlprob/cma-9999\n"
     ]
    },
    {
     "data": {
      "application/vnd.jupyter.widget-view+json": {
       "model_id": "a9fbeccfd5b44b1e8878922670dcd6d3",
       "version_major": 2,
       "version_minor": 0
      },
      "text/plain": [
       "  0%|          | 0/100 [00:00<?, ?it/s]"
      ]
     },
     "metadata": {},
     "output_type": "display_data"
    },
    {
     "name": "stdout",
     "output_type": "stream",
     "text": [
      "completed hpcg smlprob cma 9999 (59400, 9) 0.38430285453796387 secs\n",
      "working on /usr/WS2/bolet1/lassen-benchmarks/exploreGlobalOptimizations/logs/hpcg-smlprob/cma-4873\n"
     ]
    },
    {
     "data": {
      "application/vnd.jupyter.widget-view+json": {
       "model_id": "eafa9ec7fc3146449e6cc76b508664ec",
       "version_major": 2,
       "version_minor": 0
      },
      "text/plain": [
       "  0%|          | 0/100 [00:00<?, ?it/s]"
      ]
     },
     "metadata": {},
     "output_type": "display_data"
    },
    {
     "name": "stdout",
     "output_type": "stream",
     "text": [
      "completed hpcg smlprob cma 4873 (59400, 9) 0.36858201026916504 secs\n",
      "working on /usr/WS2/bolet1/lassen-benchmarks/exploreGlobalOptimizations/logs/hpcg-medprob/cma-1337\n"
     ]
    },
    {
     "data": {
      "application/vnd.jupyter.widget-view+json": {
       "model_id": "98375dfa6f854e2ca98a24cd2e106bcb",
       "version_major": 2,
       "version_minor": 0
      },
      "text/plain": [
       "  0%|          | 0/100 [00:00<?, ?it/s]"
      ]
     },
     "metadata": {},
     "output_type": "display_data"
    },
    {
     "name": "stdout",
     "output_type": "stream",
     "text": [
      "completed hpcg medprob cma 1337 (59400, 9) 0.43299198150634766 secs\n",
      "working on /usr/WS2/bolet1/lassen-benchmarks/exploreGlobalOptimizations/logs/hpcg-medprob/cma-3827\n"
     ]
    },
    {
     "data": {
      "application/vnd.jupyter.widget-view+json": {
       "model_id": "327b58b32368435c9d34b084ce09dff6",
       "version_major": 2,
       "version_minor": 0
      },
      "text/plain": [
       "  0%|          | 0/100 [00:00<?, ?it/s]"
      ]
     },
     "metadata": {},
     "output_type": "display_data"
    },
    {
     "name": "stdout",
     "output_type": "stream",
     "text": [
      "completed hpcg medprob cma 3827 (59400, 9) 1.492140531539917 secs\n",
      "working on /usr/WS2/bolet1/lassen-benchmarks/exploreGlobalOptimizations/logs/hpcg-medprob/cma-9999\n"
     ]
    },
    {
     "data": {
      "application/vnd.jupyter.widget-view+json": {
       "model_id": "d66869f8df8d444088fb3cddb678423f",
       "version_major": 2,
       "version_minor": 0
      },
      "text/plain": [
       "  0%|          | 0/100 [00:00<?, ?it/s]"
      ]
     },
     "metadata": {},
     "output_type": "display_data"
    },
    {
     "name": "stdout",
     "output_type": "stream",
     "text": [
      "completed hpcg medprob cma 9999 (59400, 9) 0.37764930725097656 secs\n",
      "working on /usr/WS2/bolet1/lassen-benchmarks/exploreGlobalOptimizations/logs/hpcg-medprob/cma-4873\n"
     ]
    },
    {
     "data": {
      "application/vnd.jupyter.widget-view+json": {
       "model_id": "11c29c1a9ec94b1e9f215d3b15822dcd",
       "version_major": 2,
       "version_minor": 0
      },
      "text/plain": [
       "  0%|          | 0/100 [00:00<?, ?it/s]"
      ]
     },
     "metadata": {},
     "output_type": "display_data"
    },
    {
     "name": "stdout",
     "output_type": "stream",
     "text": [
      "completed hpcg medprob cma 4873 (59400, 9) 0.38593482971191406 secs\n",
      "working on /usr/WS2/bolet1/lassen-benchmarks/exploreGlobalOptimizations/logs/hpcg-lrgprob/cma-1337\n"
     ]
    },
    {
     "data": {
      "application/vnd.jupyter.widget-view+json": {
       "model_id": "4b6d2c0a87284896aa595ce5b2f9e363",
       "version_major": 2,
       "version_minor": 0
      },
      "text/plain": [
       "  0%|          | 0/100 [00:00<?, ?it/s]"
      ]
     },
     "metadata": {},
     "output_type": "display_data"
    },
    {
     "name": "stdout",
     "output_type": "stream",
     "text": [
      "completed hpcg lrgprob cma 1337 (59400, 9) 0.4429018497467041 secs\n",
      "working on /usr/WS2/bolet1/lassen-benchmarks/exploreGlobalOptimizations/logs/hpcg-lrgprob/cma-3827\n"
     ]
    },
    {
     "data": {
      "application/vnd.jupyter.widget-view+json": {
       "model_id": "513f81b3d6004097849d3e618be54d52",
       "version_major": 2,
       "version_minor": 0
      },
      "text/plain": [
       "  0%|          | 0/100 [00:00<?, ?it/s]"
      ]
     },
     "metadata": {},
     "output_type": "display_data"
    },
    {
     "name": "stdout",
     "output_type": "stream",
     "text": [
      "completed hpcg lrgprob cma 3827 (59400, 9) 0.47802281379699707 secs\n",
      "working on /usr/WS2/bolet1/lassen-benchmarks/exploreGlobalOptimizations/logs/hpcg-lrgprob/cma-9999\n"
     ]
    },
    {
     "data": {
      "application/vnd.jupyter.widget-view+json": {
       "model_id": "4a16509706214f3a87bd59bd4045f3b2",
       "version_major": 2,
       "version_minor": 0
      },
      "text/plain": [
       "  0%|          | 0/100 [00:00<?, ?it/s]"
      ]
     },
     "metadata": {},
     "output_type": "display_data"
    },
    {
     "name": "stdout",
     "output_type": "stream",
     "text": [
      "completed hpcg lrgprob cma 9999 (59400, 9) 0.4308803081512451 secs\n",
      "working on /usr/WS2/bolet1/lassen-benchmarks/exploreGlobalOptimizations/logs/hpcg-lrgprob/cma-4873\n"
     ]
    },
    {
     "data": {
      "application/vnd.jupyter.widget-view+json": {
       "model_id": "98fb128d036e448ca704668bd0450b63",
       "version_major": 2,
       "version_minor": 0
      },
      "text/plain": [
       "  0%|          | 0/100 [00:00<?, ?it/s]"
      ]
     },
     "metadata": {},
     "output_type": "display_data"
    },
    {
     "name": "stdout",
     "output_type": "stream",
     "text": [
      "completed hpcg lrgprob cma 4873 (59400, 9) 0.4258275032043457 secs\n",
      "\n",
      "\n",
      " wrote: /usr/WS2/bolet1/lassen-benchmarks/exploreGlobalOptimizations/databases/lassen-hpcg-cma-GO_Data.csv \n",
      "\n",
      "\n",
      "working on /usr/WS2/bolet1/lassen-benchmarks/exploreGlobalOptimizations/logs/lulesh-smlprob/cma-1337\n"
     ]
    },
    {
     "data": {
      "application/vnd.jupyter.widget-view+json": {
       "model_id": "01ac75ee4b7347a4bfdfcd33ab4f9df1",
       "version_major": 2,
       "version_minor": 0
      },
      "text/plain": [
       "  0%|          | 0/100 [00:00<?, ?it/s]"
      ]
     },
     "metadata": {},
     "output_type": "display_data"
    },
    {
     "name": "stdout",
     "output_type": "stream",
     "text": [
      "completed lulesh smlprob cma 1337 (59400, 9) 0.41158246994018555 secs\n",
      "working on /usr/WS2/bolet1/lassen-benchmarks/exploreGlobalOptimizations/logs/lulesh-smlprob/cma-3827\n"
     ]
    },
    {
     "data": {
      "application/vnd.jupyter.widget-view+json": {
       "model_id": "fda4121f5db548179885025303244cdf",
       "version_major": 2,
       "version_minor": 0
      },
      "text/plain": [
       "  0%|          | 0/100 [00:00<?, ?it/s]"
      ]
     },
     "metadata": {},
     "output_type": "display_data"
    },
    {
     "name": "stdout",
     "output_type": "stream",
     "text": [
      "completed lulesh smlprob cma 3827 (59400, 9) 0.45752644538879395 secs\n",
      "working on /usr/WS2/bolet1/lassen-benchmarks/exploreGlobalOptimizations/logs/lulesh-smlprob/cma-9999\n"
     ]
    },
    {
     "data": {
      "application/vnd.jupyter.widget-view+json": {
       "model_id": "91c48b1b6e0e4612854ca1eb3b748e87",
       "version_major": 2,
       "version_minor": 0
      },
      "text/plain": [
       "  0%|          | 0/100 [00:00<?, ?it/s]"
      ]
     },
     "metadata": {},
     "output_type": "display_data"
    },
    {
     "name": "stdout",
     "output_type": "stream",
     "text": [
      "completed lulesh smlprob cma 9999 (59400, 9) 0.4592568874359131 secs\n",
      "working on /usr/WS2/bolet1/lassen-benchmarks/exploreGlobalOptimizations/logs/lulesh-smlprob/cma-4873\n"
     ]
    },
    {
     "data": {
      "application/vnd.jupyter.widget-view+json": {
       "model_id": "ba222508ab2246279d0db703ae6fce2d",
       "version_major": 2,
       "version_minor": 0
      },
      "text/plain": [
       "  0%|          | 0/100 [00:00<?, ?it/s]"
      ]
     },
     "metadata": {},
     "output_type": "display_data"
    },
    {
     "name": "stdout",
     "output_type": "stream",
     "text": [
      "completed lulesh smlprob cma 4873 (59400, 9) 0.38006162643432617 secs\n",
      "working on /usr/WS2/bolet1/lassen-benchmarks/exploreGlobalOptimizations/logs/lulesh-medprob/cma-1337\n"
     ]
    },
    {
     "data": {
      "application/vnd.jupyter.widget-view+json": {
       "model_id": "9e226384eebe4a3bbfb7350801af7d76",
       "version_major": 2,
       "version_minor": 0
      },
      "text/plain": [
       "  0%|          | 0/100 [00:00<?, ?it/s]"
      ]
     },
     "metadata": {},
     "output_type": "display_data"
    },
    {
     "name": "stdout",
     "output_type": "stream",
     "text": [
      "completed lulesh medprob cma 1337 (59400, 9) 0.42262816429138184 secs\n",
      "working on /usr/WS2/bolet1/lassen-benchmarks/exploreGlobalOptimizations/logs/lulesh-medprob/cma-3827\n"
     ]
    },
    {
     "data": {
      "application/vnd.jupyter.widget-view+json": {
       "model_id": "25e850ed5b43489a834d246b53ab8d7b",
       "version_major": 2,
       "version_minor": 0
      },
      "text/plain": [
       "  0%|          | 0/100 [00:00<?, ?it/s]"
      ]
     },
     "metadata": {},
     "output_type": "display_data"
    },
    {
     "name": "stdout",
     "output_type": "stream",
     "text": [
      "completed lulesh medprob cma 3827 (59400, 9) 0.4204673767089844 secs\n",
      "working on /usr/WS2/bolet1/lassen-benchmarks/exploreGlobalOptimizations/logs/lulesh-medprob/cma-9999\n"
     ]
    },
    {
     "data": {
      "application/vnd.jupyter.widget-view+json": {
       "model_id": "85b9897df2d248928abd90acd2e6dfb3",
       "version_major": 2,
       "version_minor": 0
      },
      "text/plain": [
       "  0%|          | 0/100 [00:00<?, ?it/s]"
      ]
     },
     "metadata": {},
     "output_type": "display_data"
    },
    {
     "name": "stdout",
     "output_type": "stream",
     "text": [
      "completed lulesh medprob cma 9999 (59400, 9) 0.511582612991333 secs\n",
      "working on /usr/WS2/bolet1/lassen-benchmarks/exploreGlobalOptimizations/logs/lulesh-medprob/cma-4873\n"
     ]
    },
    {
     "data": {
      "application/vnd.jupyter.widget-view+json": {
       "model_id": "f4fcae0726be40b38baf003e53df77ca",
       "version_major": 2,
       "version_minor": 0
      },
      "text/plain": [
       "  0%|          | 0/100 [00:00<?, ?it/s]"
      ]
     },
     "metadata": {},
     "output_type": "display_data"
    },
    {
     "name": "stdout",
     "output_type": "stream",
     "text": [
      "completed lulesh medprob cma 4873 (59400, 9) 0.38251757621765137 secs\n",
      "working on /usr/WS2/bolet1/lassen-benchmarks/exploreGlobalOptimizations/logs/lulesh-lrgprob/cma-1337\n"
     ]
    },
    {
     "data": {
      "application/vnd.jupyter.widget-view+json": {
       "model_id": "f7219e85cd84466e96b00ff86aa872a0",
       "version_major": 2,
       "version_minor": 0
      },
      "text/plain": [
       "  0%|          | 0/100 [00:00<?, ?it/s]"
      ]
     },
     "metadata": {},
     "output_type": "display_data"
    },
    {
     "name": "stdout",
     "output_type": "stream",
     "text": [
      "completed lulesh lrgprob cma 1337 (59400, 9) 0.41684842109680176 secs\n",
      "working on /usr/WS2/bolet1/lassen-benchmarks/exploreGlobalOptimizations/logs/lulesh-lrgprob/cma-3827\n"
     ]
    },
    {
     "data": {
      "application/vnd.jupyter.widget-view+json": {
       "model_id": "f0b3397c682345d585f5dcbe037a4a9b",
       "version_major": 2,
       "version_minor": 0
      },
      "text/plain": [
       "  0%|          | 0/100 [00:00<?, ?it/s]"
      ]
     },
     "metadata": {},
     "output_type": "display_data"
    },
    {
     "name": "stdout",
     "output_type": "stream",
     "text": [
      "completed lulesh lrgprob cma 3827 (59400, 9) 0.40516066551208496 secs\n",
      "working on /usr/WS2/bolet1/lassen-benchmarks/exploreGlobalOptimizations/logs/lulesh-lrgprob/cma-9999\n"
     ]
    },
    {
     "data": {
      "application/vnd.jupyter.widget-view+json": {
       "model_id": "02e04702c7a741ed89267059c3cbdd67",
       "version_major": 2,
       "version_minor": 0
      },
      "text/plain": [
       "  0%|          | 0/100 [00:00<?, ?it/s]"
      ]
     },
     "metadata": {},
     "output_type": "display_data"
    },
    {
     "name": "stdout",
     "output_type": "stream",
     "text": [
      "completed lulesh lrgprob cma 9999 (59400, 9) 0.40008115768432617 secs\n",
      "working on /usr/WS2/bolet1/lassen-benchmarks/exploreGlobalOptimizations/logs/lulesh-lrgprob/cma-4873\n"
     ]
    },
    {
     "data": {
      "application/vnd.jupyter.widget-view+json": {
       "model_id": "2a765fa6cff64e448c038c2c784ed0fc",
       "version_major": 2,
       "version_minor": 0
      },
      "text/plain": [
       "  0%|          | 0/100 [00:00<?, ?it/s]"
      ]
     },
     "metadata": {},
     "output_type": "display_data"
    },
    {
     "name": "stdout",
     "output_type": "stream",
     "text": [
      "completed lulesh lrgprob cma 4873 (59400, 9) 0.41156673431396484 secs\n",
      "\n",
      "\n",
      " wrote: /usr/WS2/bolet1/lassen-benchmarks/exploreGlobalOptimizations/databases/lassen-lulesh-cma-GO_Data.csv \n",
      "\n",
      "\n",
      "working on /usr/WS2/bolet1/lassen-benchmarks/exploreGlobalOptimizations/logs/bt_nas-smlprob/pso-1337\n"
     ]
    },
    {
     "data": {
      "application/vnd.jupyter.widget-view+json": {
       "model_id": "581591406a284effb4b4d5ae95c8f94f",
       "version_major": 2,
       "version_minor": 0
      },
      "text/plain": [
       "  0%|          | 0/1250 [00:00<?, ?it/s]"
      ]
     },
     "metadata": {},
     "output_type": "display_data"
    },
    {
     "name": "stdout",
     "output_type": "stream",
     "text": [
      "completed bt_nas smlprob pso 1337 (742500, 11) 5.218753337860107 secs\n",
      "working on /usr/WS2/bolet1/lassen-benchmarks/exploreGlobalOptimizations/logs/bt_nas-smlprob/pso-3827\n"
     ]
    },
    {
     "data": {
      "application/vnd.jupyter.widget-view+json": {
       "model_id": "bcaa024873664e7eab12bd48d7bdc609",
       "version_major": 2,
       "version_minor": 0
      },
      "text/plain": [
       "  0%|          | 0/1249 [00:00<?, ?it/s]"
      ]
     },
     "metadata": {},
     "output_type": "display_data"
    },
    {
     "name": "stdout",
     "output_type": "stream",
     "text": [
      "completed bt_nas smlprob pso 3827 (741906, 11) 5.406130075454712 secs\n",
      "working on /usr/WS2/bolet1/lassen-benchmarks/exploreGlobalOptimizations/logs/bt_nas-smlprob/pso-9999\n"
     ]
    },
    {
     "data": {
      "application/vnd.jupyter.widget-view+json": {
       "model_id": "b4a5c179365741608ea6898edfee5518",
       "version_major": 2,
       "version_minor": 0
      },
      "text/plain": [
       "  0%|          | 0/1250 [00:00<?, ?it/s]"
      ]
     },
     "metadata": {},
     "output_type": "display_data"
    },
    {
     "name": "stdout",
     "output_type": "stream",
     "text": [
      "completed bt_nas smlprob pso 9999 (742500, 11) 4.896279335021973 secs\n",
      "working on /usr/WS2/bolet1/lassen-benchmarks/exploreGlobalOptimizations/logs/bt_nas-smlprob/pso-4873\n"
     ]
    },
    {
     "data": {
      "application/vnd.jupyter.widget-view+json": {
       "model_id": "6e602749a78544a4854d839ebc682bd3",
       "version_major": 2,
       "version_minor": 0
      },
      "text/plain": [
       "  0%|          | 0/1250 [00:00<?, ?it/s]"
      ]
     },
     "metadata": {},
     "output_type": "display_data"
    },
    {
     "name": "stdout",
     "output_type": "stream",
     "text": [
      "completed bt_nas smlprob pso 4873 (742500, 11) 5.18790864944458 secs\n",
      "working on /usr/WS2/bolet1/lassen-benchmarks/exploreGlobalOptimizations/logs/bt_nas-medprob/pso-1337\n"
     ]
    },
    {
     "data": {
      "application/vnd.jupyter.widget-view+json": {
       "model_id": "1285dede20d94a0fb21b4eeb64a1714f",
       "version_major": 2,
       "version_minor": 0
      },
      "text/plain": [
       "  0%|          | 0/1250 [00:00<?, ?it/s]"
      ]
     },
     "metadata": {},
     "output_type": "display_data"
    },
    {
     "name": "stdout",
     "output_type": "stream",
     "text": [
      "completed bt_nas medprob pso 1337 (742500, 11) 6.27597975730896 secs\n",
      "working on /usr/WS2/bolet1/lassen-benchmarks/exploreGlobalOptimizations/logs/bt_nas-medprob/pso-3827\n"
     ]
    },
    {
     "data": {
      "application/vnd.jupyter.widget-view+json": {
       "model_id": "319399107ad34dce870ca6efba253e80",
       "version_major": 2,
       "version_minor": 0
      },
      "text/plain": [
       "  0%|          | 0/1250 [00:00<?, ?it/s]"
      ]
     },
     "metadata": {},
     "output_type": "display_data"
    },
    {
     "name": "stdout",
     "output_type": "stream",
     "text": [
      "completed bt_nas medprob pso 3827 (742500, 11) 7.91094708442688 secs\n",
      "working on /usr/WS2/bolet1/lassen-benchmarks/exploreGlobalOptimizations/logs/bt_nas-medprob/pso-9999\n"
     ]
    },
    {
     "data": {
      "application/vnd.jupyter.widget-view+json": {
       "model_id": "ea941ef8e5d0423a8c0427a6c5537444",
       "version_major": 2,
       "version_minor": 0
      },
      "text/plain": [
       "  0%|          | 0/1250 [00:00<?, ?it/s]"
      ]
     },
     "metadata": {},
     "output_type": "display_data"
    },
    {
     "name": "stdout",
     "output_type": "stream",
     "text": [
      "completed bt_nas medprob pso 9999 (742500, 11) 6.143807888031006 secs\n",
      "working on /usr/WS2/bolet1/lassen-benchmarks/exploreGlobalOptimizations/logs/bt_nas-medprob/pso-4873\n"
     ]
    },
    {
     "data": {
      "application/vnd.jupyter.widget-view+json": {
       "model_id": "7d35d454021b44b9b95a30dfb1cdddc6",
       "version_major": 2,
       "version_minor": 0
      },
      "text/plain": [
       "  0%|          | 0/1250 [00:00<?, ?it/s]"
      ]
     },
     "metadata": {},
     "output_type": "display_data"
    },
    {
     "name": "stdout",
     "output_type": "stream",
     "text": [
      "completed bt_nas medprob pso 4873 (742500, 11) 4.891409397125244 secs\n",
      "working on /usr/WS2/bolet1/lassen-benchmarks/exploreGlobalOptimizations/logs/bt_nas-lrgprob/pso-1337\n"
     ]
    },
    {
     "data": {
      "application/vnd.jupyter.widget-view+json": {
       "model_id": "323f1466feb14c0a96bd1d04ee752ff7",
       "version_major": 2,
       "version_minor": 0
      },
      "text/plain": [
       "  0%|          | 0/1250 [00:00<?, ?it/s]"
      ]
     },
     "metadata": {},
     "output_type": "display_data"
    },
    {
     "name": "stdout",
     "output_type": "stream",
     "text": [
      "completed bt_nas lrgprob pso 1337 (742500, 11) 5.281900405883789 secs\n",
      "working on /usr/WS2/bolet1/lassen-benchmarks/exploreGlobalOptimizations/logs/bt_nas-lrgprob/pso-3827\n"
     ]
    },
    {
     "data": {
      "application/vnd.jupyter.widget-view+json": {
       "model_id": "b4068f3d0f044a7c9b3a41e4e9ec3ebb",
       "version_major": 2,
       "version_minor": 0
      },
      "text/plain": [
       "  0%|          | 0/1250 [00:00<?, ?it/s]"
      ]
     },
     "metadata": {},
     "output_type": "display_data"
    },
    {
     "name": "stdout",
     "output_type": "stream",
     "text": [
      "completed bt_nas lrgprob pso 3827 (742500, 11) 5.322004079818726 secs\n",
      "working on /usr/WS2/bolet1/lassen-benchmarks/exploreGlobalOptimizations/logs/bt_nas-lrgprob/pso-9999\n"
     ]
    },
    {
     "data": {
      "application/vnd.jupyter.widget-view+json": {
       "model_id": "b9ddf9b690444c4e90cf01069f6de6f1",
       "version_major": 2,
       "version_minor": 0
      },
      "text/plain": [
       "  0%|          | 0/1250 [00:00<?, ?it/s]"
      ]
     },
     "metadata": {},
     "output_type": "display_data"
    },
    {
     "name": "stdout",
     "output_type": "stream",
     "text": [
      "completed bt_nas lrgprob pso 9999 (742500, 11) 5.235116481781006 secs\n",
      "working on /usr/WS2/bolet1/lassen-benchmarks/exploreGlobalOptimizations/logs/bt_nas-lrgprob/pso-4873\n"
     ]
    },
    {
     "data": {
      "application/vnd.jupyter.widget-view+json": {
       "model_id": "2ffc8ef7b99642f9bc6f9e39d44403f8",
       "version_major": 2,
       "version_minor": 0
      },
      "text/plain": [
       "  0%|          | 0/1250 [00:00<?, ?it/s]"
      ]
     },
     "metadata": {},
     "output_type": "display_data"
    },
    {
     "name": "stdout",
     "output_type": "stream",
     "text": [
      "completed bt_nas lrgprob pso 4873 (742500, 11) 4.907085418701172 secs\n",
      "\n",
      "\n",
      " wrote: /usr/WS2/bolet1/lassen-benchmarks/exploreGlobalOptimizations/databases/lassen-bt_nas-pso-GO_Data.csv \n",
      "\n",
      "\n",
      "working on /usr/WS2/bolet1/lassen-benchmarks/exploreGlobalOptimizations/logs/cg_nas-smlprob/pso-1337\n"
     ]
    },
    {
     "data": {
      "application/vnd.jupyter.widget-view+json": {
       "model_id": "59522440f2334762a0a895fec3979b99",
       "version_major": 2,
       "version_minor": 0
      },
      "text/plain": [
       "  0%|          | 0/1250 [00:00<?, ?it/s]"
      ]
     },
     "metadata": {},
     "output_type": "display_data"
    },
    {
     "name": "stdout",
     "output_type": "stream",
     "text": [
      "completed cg_nas smlprob pso 1337 (742500, 11) 5.731959104537964 secs\n",
      "working on /usr/WS2/bolet1/lassen-benchmarks/exploreGlobalOptimizations/logs/cg_nas-smlprob/pso-3827\n"
     ]
    },
    {
     "data": {
      "application/vnd.jupyter.widget-view+json": {
       "model_id": "30414fd0a62d4bdc87133663c301fd75",
       "version_major": 2,
       "version_minor": 0
      },
      "text/plain": [
       "  0%|          | 0/1250 [00:00<?, ?it/s]"
      ]
     },
     "metadata": {},
     "output_type": "display_data"
    },
    {
     "name": "stdout",
     "output_type": "stream",
     "text": [
      "completed cg_nas smlprob pso 3827 (742500, 11) 6.868877172470093 secs\n",
      "working on /usr/WS2/bolet1/lassen-benchmarks/exploreGlobalOptimizations/logs/cg_nas-smlprob/pso-9999\n"
     ]
    },
    {
     "data": {
      "application/vnd.jupyter.widget-view+json": {
       "model_id": "8023ec3de3a44ed6b98a9aa37d49d4ee",
       "version_major": 2,
       "version_minor": 0
      },
      "text/plain": [
       "  0%|          | 0/1250 [00:00<?, ?it/s]"
      ]
     },
     "metadata": {},
     "output_type": "display_data"
    },
    {
     "name": "stdout",
     "output_type": "stream",
     "text": [
      "completed cg_nas smlprob pso 9999 (742500, 11) 5.7571539878845215 secs\n",
      "working on /usr/WS2/bolet1/lassen-benchmarks/exploreGlobalOptimizations/logs/cg_nas-smlprob/pso-4873\n"
     ]
    },
    {
     "data": {
      "application/vnd.jupyter.widget-view+json": {
       "model_id": "0a16c10f3b5a4df2a8996047354e8d7a",
       "version_major": 2,
       "version_minor": 0
      },
      "text/plain": [
       "  0%|          | 0/1250 [00:00<?, ?it/s]"
      ]
     },
     "metadata": {},
     "output_type": "display_data"
    },
    {
     "name": "stdout",
     "output_type": "stream",
     "text": [
      "completed cg_nas smlprob pso 4873 (742500, 11) 5.414660215377808 secs\n",
      "working on /usr/WS2/bolet1/lassen-benchmarks/exploreGlobalOptimizations/logs/cg_nas-medprob/pso-1337\n"
     ]
    },
    {
     "data": {
      "application/vnd.jupyter.widget-view+json": {
       "model_id": "ac0ff23e0bf343a4b584d3857664270e",
       "version_major": 2,
       "version_minor": 0
      },
      "text/plain": [
       "  0%|          | 0/1250 [00:00<?, ?it/s]"
      ]
     },
     "metadata": {},
     "output_type": "display_data"
    },
    {
     "name": "stdout",
     "output_type": "stream",
     "text": [
      "completed cg_nas medprob pso 1337 (742500, 11) 6.402167797088623 secs\n",
      "working on /usr/WS2/bolet1/lassen-benchmarks/exploreGlobalOptimizations/logs/cg_nas-medprob/pso-3827\n"
     ]
    },
    {
     "data": {
      "application/vnd.jupyter.widget-view+json": {
       "model_id": "3c1d74f5c72d400990b24a8f4c2335a9",
       "version_major": 2,
       "version_minor": 0
      },
      "text/plain": [
       "  0%|          | 0/1250 [00:00<?, ?it/s]"
      ]
     },
     "metadata": {},
     "output_type": "display_data"
    },
    {
     "name": "stdout",
     "output_type": "stream",
     "text": [
      "completed cg_nas medprob pso 3827 (742500, 11) 6.457882404327393 secs\n",
      "working on /usr/WS2/bolet1/lassen-benchmarks/exploreGlobalOptimizations/logs/cg_nas-medprob/pso-9999\n"
     ]
    },
    {
     "data": {
      "application/vnd.jupyter.widget-view+json": {
       "model_id": "e1370956a6eb4d219b64d8281cd26208",
       "version_major": 2,
       "version_minor": 0
      },
      "text/plain": [
       "  0%|          | 0/1250 [00:00<?, ?it/s]"
      ]
     },
     "metadata": {},
     "output_type": "display_data"
    },
    {
     "name": "stdout",
     "output_type": "stream",
     "text": [
      "completed cg_nas medprob pso 9999 (742500, 11) 5.2114551067352295 secs\n",
      "working on /usr/WS2/bolet1/lassen-benchmarks/exploreGlobalOptimizations/logs/cg_nas-medprob/pso-4873\n"
     ]
    },
    {
     "data": {
      "application/vnd.jupyter.widget-view+json": {
       "model_id": "e4395b11a1ac48ad9f4322bdf99f65cb",
       "version_major": 2,
       "version_minor": 0
      },
      "text/plain": [
       "  0%|          | 0/1250 [00:00<?, ?it/s]"
      ]
     },
     "metadata": {},
     "output_type": "display_data"
    },
    {
     "name": "stdout",
     "output_type": "stream",
     "text": [
      "completed cg_nas medprob pso 4873 (742500, 11) 6.16466760635376 secs\n",
      "working on /usr/WS2/bolet1/lassen-benchmarks/exploreGlobalOptimizations/logs/cg_nas-lrgprob/pso-1337\n"
     ]
    },
    {
     "data": {
      "application/vnd.jupyter.widget-view+json": {
       "model_id": "ff0c0755851e44b28079ec71a3431830",
       "version_major": 2,
       "version_minor": 0
      },
      "text/plain": [
       "  0%|          | 0/1250 [00:00<?, ?it/s]"
      ]
     },
     "metadata": {},
     "output_type": "display_data"
    },
    {
     "name": "stdout",
     "output_type": "stream",
     "text": [
      "completed cg_nas lrgprob pso 1337 (742500, 11) 5.5959601402282715 secs\n",
      "working on /usr/WS2/bolet1/lassen-benchmarks/exploreGlobalOptimizations/logs/cg_nas-lrgprob/pso-3827\n"
     ]
    },
    {
     "data": {
      "application/vnd.jupyter.widget-view+json": {
       "model_id": "c445456477024740925e3037085e7af0",
       "version_major": 2,
       "version_minor": 0
      },
      "text/plain": [
       "  0%|          | 0/1250 [00:00<?, ?it/s]"
      ]
     },
     "metadata": {},
     "output_type": "display_data"
    },
    {
     "name": "stdout",
     "output_type": "stream",
     "text": [
      "completed cg_nas lrgprob pso 3827 (742500, 11) 5.7017011642456055 secs\n",
      "working on /usr/WS2/bolet1/lassen-benchmarks/exploreGlobalOptimizations/logs/cg_nas-lrgprob/pso-9999\n"
     ]
    },
    {
     "data": {
      "application/vnd.jupyter.widget-view+json": {
       "model_id": "fa55de9c0927434993e1889166e48252",
       "version_major": 2,
       "version_minor": 0
      },
      "text/plain": [
       "  0%|          | 0/1250 [00:00<?, ?it/s]"
      ]
     },
     "metadata": {},
     "output_type": "display_data"
    },
    {
     "name": "stdout",
     "output_type": "stream",
     "text": [
      "completed cg_nas lrgprob pso 9999 (742500, 11) 7.898244380950928 secs\n",
      "working on /usr/WS2/bolet1/lassen-benchmarks/exploreGlobalOptimizations/logs/cg_nas-lrgprob/pso-4873\n"
     ]
    },
    {
     "data": {
      "application/vnd.jupyter.widget-view+json": {
       "model_id": "9c62f8d3e8e64ae1911c968d18988177",
       "version_major": 2,
       "version_minor": 0
      },
      "text/plain": [
       "  0%|          | 0/1250 [00:00<?, ?it/s]"
      ]
     },
     "metadata": {},
     "output_type": "display_data"
    },
    {
     "name": "stdout",
     "output_type": "stream",
     "text": [
      "completed cg_nas lrgprob pso 4873 (742500, 11) 6.63310432434082 secs\n",
      "\n",
      "\n",
      " wrote: /usr/WS2/bolet1/lassen-benchmarks/exploreGlobalOptimizations/databases/lassen-cg_nas-pso-GO_Data.csv \n",
      "\n",
      "\n",
      "working on /usr/WS2/bolet1/lassen-benchmarks/exploreGlobalOptimizations/logs/ft_nas-smlprob/pso-1337\n"
     ]
    },
    {
     "data": {
      "application/vnd.jupyter.widget-view+json": {
       "model_id": "4d42abdbf5a4403db0313f6e32c4d6a1",
       "version_major": 2,
       "version_minor": 0
      },
      "text/plain": [
       "  0%|          | 0/1250 [00:00<?, ?it/s]"
      ]
     },
     "metadata": {},
     "output_type": "display_data"
    },
    {
     "name": "stdout",
     "output_type": "stream",
     "text": [
      "completed ft_nas smlprob pso 1337 (742500, 11) 6.580447196960449 secs\n",
      "working on /usr/WS2/bolet1/lassen-benchmarks/exploreGlobalOptimizations/logs/ft_nas-smlprob/pso-3827\n"
     ]
    },
    {
     "data": {
      "application/vnd.jupyter.widget-view+json": {
       "model_id": "14c02c6d42274f1f9c9987ad70ced77f",
       "version_major": 2,
       "version_minor": 0
      },
      "text/plain": [
       "  0%|          | 0/1250 [00:00<?, ?it/s]"
      ]
     },
     "metadata": {},
     "output_type": "display_data"
    },
    {
     "name": "stdout",
     "output_type": "stream",
     "text": [
      "completed ft_nas smlprob pso 3827 (742500, 11) 5.570149898529053 secs\n",
      "working on /usr/WS2/bolet1/lassen-benchmarks/exploreGlobalOptimizations/logs/ft_nas-smlprob/pso-9999\n"
     ]
    },
    {
     "data": {
      "application/vnd.jupyter.widget-view+json": {
       "model_id": "0a143c1188d7463a897fdbe3ef6705b6",
       "version_major": 2,
       "version_minor": 0
      },
      "text/plain": [
       "  0%|          | 0/1250 [00:00<?, ?it/s]"
      ]
     },
     "metadata": {},
     "output_type": "display_data"
    },
    {
     "name": "stdout",
     "output_type": "stream",
     "text": [
      "completed ft_nas smlprob pso 9999 (742500, 11) 6.017695188522339 secs\n",
      "working on /usr/WS2/bolet1/lassen-benchmarks/exploreGlobalOptimizations/logs/ft_nas-smlprob/pso-4873\n"
     ]
    },
    {
     "data": {
      "application/vnd.jupyter.widget-view+json": {
       "model_id": "3e5f1bf9a21a49f2a611d68e71d5e75c",
       "version_major": 2,
       "version_minor": 0
      },
      "text/plain": [
       "  0%|          | 0/1250 [00:00<?, ?it/s]"
      ]
     },
     "metadata": {},
     "output_type": "display_data"
    },
    {
     "name": "stdout",
     "output_type": "stream",
     "text": [
      "completed ft_nas smlprob pso 4873 (742500, 11) 6.0162672996521 secs\n",
      "working on /usr/WS2/bolet1/lassen-benchmarks/exploreGlobalOptimizations/logs/ft_nas-medprob/pso-1337\n"
     ]
    },
    {
     "data": {
      "application/vnd.jupyter.widget-view+json": {
       "model_id": "afb16d54c81e497e940180fee835547f",
       "version_major": 2,
       "version_minor": 0
      },
      "text/plain": [
       "  0%|          | 0/1250 [00:00<?, ?it/s]"
      ]
     },
     "metadata": {},
     "output_type": "display_data"
    },
    {
     "name": "stdout",
     "output_type": "stream",
     "text": [
      "completed ft_nas medprob pso 1337 (742500, 11) 6.487762451171875 secs\n",
      "working on /usr/WS2/bolet1/lassen-benchmarks/exploreGlobalOptimizations/logs/ft_nas-medprob/pso-3827\n"
     ]
    },
    {
     "data": {
      "application/vnd.jupyter.widget-view+json": {
       "model_id": "0c163434aeb7417d9d272b3671fd7a93",
       "version_major": 2,
       "version_minor": 0
      },
      "text/plain": [
       "  0%|          | 0/1250 [00:00<?, ?it/s]"
      ]
     },
     "metadata": {},
     "output_type": "display_data"
    },
    {
     "name": "stdout",
     "output_type": "stream",
     "text": [
      "completed ft_nas medprob pso 3827 (742500, 11) 5.416584014892578 secs\n",
      "working on /usr/WS2/bolet1/lassen-benchmarks/exploreGlobalOptimizations/logs/ft_nas-medprob/pso-9999\n"
     ]
    },
    {
     "data": {
      "application/vnd.jupyter.widget-view+json": {
       "model_id": "0338c84fecc54666b186dceeffe07438",
       "version_major": 2,
       "version_minor": 0
      },
      "text/plain": [
       "  0%|          | 0/1250 [00:00<?, ?it/s]"
      ]
     },
     "metadata": {},
     "output_type": "display_data"
    },
    {
     "name": "stdout",
     "output_type": "stream",
     "text": [
      "completed ft_nas medprob pso 9999 (742500, 11) 5.3071818351745605 secs\n",
      "working on /usr/WS2/bolet1/lassen-benchmarks/exploreGlobalOptimizations/logs/ft_nas-medprob/pso-4873\n"
     ]
    },
    {
     "data": {
      "application/vnd.jupyter.widget-view+json": {
       "model_id": "3dc309b50d8e4fafb4960151077212f5",
       "version_major": 2,
       "version_minor": 0
      },
      "text/plain": [
       "  0%|          | 0/1250 [00:00<?, ?it/s]"
      ]
     },
     "metadata": {},
     "output_type": "display_data"
    },
    {
     "name": "stdout",
     "output_type": "stream",
     "text": [
      "completed ft_nas medprob pso 4873 (742500, 11) 5.400230407714844 secs\n",
      "working on /usr/WS2/bolet1/lassen-benchmarks/exploreGlobalOptimizations/logs/ft_nas-lrgprob/pso-1337\n"
     ]
    },
    {
     "data": {
      "application/vnd.jupyter.widget-view+json": {
       "model_id": "92de871bad704e52a97a0887500221de",
       "version_major": 2,
       "version_minor": 0
      },
      "text/plain": [
       "  0%|          | 0/1249 [00:00<?, ?it/s]"
      ]
     },
     "metadata": {},
     "output_type": "display_data"
    },
    {
     "name": "stdout",
     "output_type": "stream",
     "text": [
      "completed ft_nas lrgprob pso 1337 (741906, 11) 6.267248153686523 secs\n",
      "working on /usr/WS2/bolet1/lassen-benchmarks/exploreGlobalOptimizations/logs/ft_nas-lrgprob/pso-3827\n"
     ]
    },
    {
     "data": {
      "application/vnd.jupyter.widget-view+json": {
       "model_id": "7ad2b002853e416597681b696ecb5212",
       "version_major": 2,
       "version_minor": 0
      },
      "text/plain": [
       "  0%|          | 0/1250 [00:00<?, ?it/s]"
      ]
     },
     "metadata": {},
     "output_type": "display_data"
    },
    {
     "name": "stdout",
     "output_type": "stream",
     "text": [
      "completed ft_nas lrgprob pso 3827 (742500, 11) 5.66067099571228 secs\n",
      "working on /usr/WS2/bolet1/lassen-benchmarks/exploreGlobalOptimizations/logs/ft_nas-lrgprob/pso-9999\n"
     ]
    },
    {
     "data": {
      "application/vnd.jupyter.widget-view+json": {
       "model_id": "dfdb2c7b870746cfa3ccc7dc8a6b9b7b",
       "version_major": 2,
       "version_minor": 0
      },
      "text/plain": [
       "  0%|          | 0/1250 [00:00<?, ?it/s]"
      ]
     },
     "metadata": {},
     "output_type": "display_data"
    },
    {
     "name": "stdout",
     "output_type": "stream",
     "text": [
      "completed ft_nas lrgprob pso 9999 (742500, 11) 6.2241106033325195 secs\n",
      "working on /usr/WS2/bolet1/lassen-benchmarks/exploreGlobalOptimizations/logs/ft_nas-lrgprob/pso-4873\n"
     ]
    },
    {
     "data": {
      "application/vnd.jupyter.widget-view+json": {
       "model_id": "8bee5e633ea8431f983541a507266782",
       "version_major": 2,
       "version_minor": 0
      },
      "text/plain": [
       "  0%|          | 0/1250 [00:00<?, ?it/s]"
      ]
     },
     "metadata": {},
     "output_type": "display_data"
    },
    {
     "name": "stdout",
     "output_type": "stream",
     "text": [
      "completed ft_nas lrgprob pso 4873 (742500, 11) 13.93505048751831 secs\n",
      "\n",
      "\n",
      " wrote: /usr/WS2/bolet1/lassen-benchmarks/exploreGlobalOptimizations/databases/lassen-ft_nas-pso-GO_Data.csv \n",
      "\n",
      "\n",
      "working on /usr/WS2/bolet1/lassen-benchmarks/exploreGlobalOptimizations/logs/cfd_rodinia-smlprob/pso-1337\n"
     ]
    },
    {
     "data": {
      "application/vnd.jupyter.widget-view+json": {
       "model_id": "b2fc7be41bb348f5abfbfa12818027bb",
       "version_major": 2,
       "version_minor": 0
      },
      "text/plain": [
       "  0%|          | 0/1250 [00:00<?, ?it/s]"
      ]
     },
     "metadata": {},
     "output_type": "display_data"
    },
    {
     "name": "stdout",
     "output_type": "stream",
     "text": [
      "completed cfd_rodinia smlprob pso 1337 (742500, 11) 5.569811582565308 secs\n",
      "working on /usr/WS2/bolet1/lassen-benchmarks/exploreGlobalOptimizations/logs/cfd_rodinia-smlprob/pso-3827\n"
     ]
    },
    {
     "data": {
      "application/vnd.jupyter.widget-view+json": {
       "model_id": "e99241a3913543b1a481b6e79062222e",
       "version_major": 2,
       "version_minor": 0
      },
      "text/plain": [
       "  0%|          | 0/1250 [00:00<?, ?it/s]"
      ]
     },
     "metadata": {},
     "output_type": "display_data"
    },
    {
     "name": "stdout",
     "output_type": "stream",
     "text": [
      "completed cfd_rodinia smlprob pso 3827 (742500, 11) 7.295546293258667 secs\n",
      "working on /usr/WS2/bolet1/lassen-benchmarks/exploreGlobalOptimizations/logs/cfd_rodinia-smlprob/pso-9999\n"
     ]
    },
    {
     "data": {
      "application/vnd.jupyter.widget-view+json": {
       "model_id": "20740caa42064064b5652120fa8716f0",
       "version_major": 2,
       "version_minor": 0
      },
      "text/plain": [
       "  0%|          | 0/1250 [00:00<?, ?it/s]"
      ]
     },
     "metadata": {},
     "output_type": "display_data"
    },
    {
     "name": "stdout",
     "output_type": "stream",
     "text": [
      "completed cfd_rodinia smlprob pso 9999 (742500, 11) 7.349965572357178 secs\n",
      "working on /usr/WS2/bolet1/lassen-benchmarks/exploreGlobalOptimizations/logs/cfd_rodinia-smlprob/pso-4873\n"
     ]
    },
    {
     "data": {
      "application/vnd.jupyter.widget-view+json": {
       "model_id": "a27f6e56606a42a8917c85b4cf9e7778",
       "version_major": 2,
       "version_minor": 0
      },
      "text/plain": [
       "  0%|          | 0/1250 [00:00<?, ?it/s]"
      ]
     },
     "metadata": {},
     "output_type": "display_data"
    },
    {
     "name": "stdout",
     "output_type": "stream",
     "text": [
      "completed cfd_rodinia smlprob pso 4873 (742500, 11) 7.356545448303223 secs\n",
      "working on /usr/WS2/bolet1/lassen-benchmarks/exploreGlobalOptimizations/logs/cfd_rodinia-medprob/pso-1337\n"
     ]
    },
    {
     "data": {
      "application/vnd.jupyter.widget-view+json": {
       "model_id": "b213eb831ce746c3a75654b4c6da3bac",
       "version_major": 2,
       "version_minor": 0
      },
      "text/plain": [
       "  0%|          | 0/1250 [00:00<?, ?it/s]"
      ]
     },
     "metadata": {},
     "output_type": "display_data"
    },
    {
     "name": "stdout",
     "output_type": "stream",
     "text": [
      "completed cfd_rodinia medprob pso 1337 (742500, 11) 5.63312029838562 secs\n",
      "working on /usr/WS2/bolet1/lassen-benchmarks/exploreGlobalOptimizations/logs/cfd_rodinia-medprob/pso-3827\n"
     ]
    },
    {
     "data": {
      "application/vnd.jupyter.widget-view+json": {
       "model_id": "f72571d27b1a473ba19540d966936693",
       "version_major": 2,
       "version_minor": 0
      },
      "text/plain": [
       "  0%|          | 0/1250 [00:00<?, ?it/s]"
      ]
     },
     "metadata": {},
     "output_type": "display_data"
    },
    {
     "name": "stdout",
     "output_type": "stream",
     "text": [
      "completed cfd_rodinia medprob pso 3827 (742500, 11) 5.8245251178741455 secs\n",
      "working on /usr/WS2/bolet1/lassen-benchmarks/exploreGlobalOptimizations/logs/cfd_rodinia-medprob/pso-9999\n"
     ]
    },
    {
     "data": {
      "application/vnd.jupyter.widget-view+json": {
       "model_id": "688abb39754341b19ceedca62ec2f034",
       "version_major": 2,
       "version_minor": 0
      },
      "text/plain": [
       "  0%|          | 0/1250 [00:00<?, ?it/s]"
      ]
     },
     "metadata": {},
     "output_type": "display_data"
    },
    {
     "name": "stdout",
     "output_type": "stream",
     "text": [
      "completed cfd_rodinia medprob pso 9999 (742500, 11) 6.052629709243774 secs\n",
      "working on /usr/WS2/bolet1/lassen-benchmarks/exploreGlobalOptimizations/logs/cfd_rodinia-medprob/pso-4873\n"
     ]
    },
    {
     "data": {
      "application/vnd.jupyter.widget-view+json": {
       "model_id": "52b2c23dd418431992ab4352fb301828",
       "version_major": 2,
       "version_minor": 0
      },
      "text/plain": [
       "  0%|          | 0/1250 [00:00<?, ?it/s]"
      ]
     },
     "metadata": {},
     "output_type": "display_data"
    },
    {
     "name": "stdout",
     "output_type": "stream",
     "text": [
      "completed cfd_rodinia medprob pso 4873 (742500, 11) 7.3646626472473145 secs\n",
      "working on /usr/WS2/bolet1/lassen-benchmarks/exploreGlobalOptimizations/logs/cfd_rodinia-lrgprob/pso-1337\n"
     ]
    },
    {
     "data": {
      "application/vnd.jupyter.widget-view+json": {
       "model_id": "cdc0d86d8ecd44b489d480d9732c98c0",
       "version_major": 2,
       "version_minor": 0
      },
      "text/plain": [
       "  0%|          | 0/1250 [00:00<?, ?it/s]"
      ]
     },
     "metadata": {},
     "output_type": "display_data"
    },
    {
     "name": "stdout",
     "output_type": "stream",
     "text": [
      "completed cfd_rodinia lrgprob pso 1337 (742500, 11) 6.1310811042785645 secs\n",
      "working on /usr/WS2/bolet1/lassen-benchmarks/exploreGlobalOptimizations/logs/cfd_rodinia-lrgprob/pso-3827\n"
     ]
    },
    {
     "data": {
      "application/vnd.jupyter.widget-view+json": {
       "model_id": "14376bf531694299ab8e2fdb222139c6",
       "version_major": 2,
       "version_minor": 0
      },
      "text/plain": [
       "  0%|          | 0/1250 [00:00<?, ?it/s]"
      ]
     },
     "metadata": {},
     "output_type": "display_data"
    },
    {
     "name": "stdout",
     "output_type": "stream",
     "text": [
      "completed cfd_rodinia lrgprob pso 3827 (742500, 11) 7.5674896240234375 secs\n",
      "working on /usr/WS2/bolet1/lassen-benchmarks/exploreGlobalOptimizations/logs/cfd_rodinia-lrgprob/pso-9999\n"
     ]
    },
    {
     "data": {
      "application/vnd.jupyter.widget-view+json": {
       "model_id": "5c6d7fc1ca534b8b98c559c26c50ff11",
       "version_major": 2,
       "version_minor": 0
      },
      "text/plain": [
       "  0%|          | 0/1250 [00:00<?, ?it/s]"
      ]
     },
     "metadata": {},
     "output_type": "display_data"
    },
    {
     "name": "stdout",
     "output_type": "stream",
     "text": [
      "completed cfd_rodinia lrgprob pso 9999 (742500, 11) 13.093697547912598 secs\n",
      "working on /usr/WS2/bolet1/lassen-benchmarks/exploreGlobalOptimizations/logs/cfd_rodinia-lrgprob/pso-4873\n"
     ]
    },
    {
     "data": {
      "application/vnd.jupyter.widget-view+json": {
       "model_id": "716b3e7e6e5b45809bd4a595435ddf4d",
       "version_major": 2,
       "version_minor": 0
      },
      "text/plain": [
       "  0%|          | 0/1250 [00:00<?, ?it/s]"
      ]
     },
     "metadata": {},
     "output_type": "display_data"
    },
    {
     "name": "stdout",
     "output_type": "stream",
     "text": [
      "completed cfd_rodinia lrgprob pso 4873 (742500, 11) 5.985091209411621 secs\n",
      "\n",
      "\n",
      " wrote: /usr/WS2/bolet1/lassen-benchmarks/exploreGlobalOptimizations/databases/lassen-cfd_rodinia-pso-GO_Data.csv \n",
      "\n",
      "\n",
      "working on /usr/WS2/bolet1/lassen-benchmarks/exploreGlobalOptimizations/logs/hpcg-smlprob/pso-1337\n"
     ]
    },
    {
     "data": {
      "application/vnd.jupyter.widget-view+json": {
       "model_id": "216fb5de16064ccbabfab16b9cb2757d",
       "version_major": 2,
       "version_minor": 0
      },
      "text/plain": [
       "  0%|          | 0/1250 [00:00<?, ?it/s]"
      ]
     },
     "metadata": {},
     "output_type": "display_data"
    },
    {
     "name": "stdout",
     "output_type": "stream",
     "text": [
      "completed hpcg smlprob pso 1337 (742500, 11) 6.317494630813599 secs\n",
      "working on /usr/WS2/bolet1/lassen-benchmarks/exploreGlobalOptimizations/logs/hpcg-smlprob/pso-3827\n"
     ]
    },
    {
     "data": {
      "application/vnd.jupyter.widget-view+json": {
       "model_id": "2b6d2d1e597546eebb84150bcdc771a9",
       "version_major": 2,
       "version_minor": 0
      },
      "text/plain": [
       "  0%|          | 0/1250 [00:00<?, ?it/s]"
      ]
     },
     "metadata": {},
     "output_type": "display_data"
    },
    {
     "name": "stdout",
     "output_type": "stream",
     "text": [
      "completed hpcg smlprob pso 3827 (742500, 11) 5.373946189880371 secs\n",
      "working on /usr/WS2/bolet1/lassen-benchmarks/exploreGlobalOptimizations/logs/hpcg-smlprob/pso-9999\n"
     ]
    },
    {
     "data": {
      "application/vnd.jupyter.widget-view+json": {
       "model_id": "07c3d61c5e284ee6a05151c81714148c",
       "version_major": 2,
       "version_minor": 0
      },
      "text/plain": [
       "  0%|          | 0/1250 [00:00<?, ?it/s]"
      ]
     },
     "metadata": {},
     "output_type": "display_data"
    },
    {
     "name": "stdout",
     "output_type": "stream",
     "text": [
      "completed hpcg smlprob pso 9999 (742500, 11) 6.293866395950317 secs\n",
      "working on /usr/WS2/bolet1/lassen-benchmarks/exploreGlobalOptimizations/logs/hpcg-smlprob/pso-4873\n"
     ]
    },
    {
     "data": {
      "application/vnd.jupyter.widget-view+json": {
       "model_id": "8a70a1e8c13c4d15b3bd0c76b73c3cbc",
       "version_major": 2,
       "version_minor": 0
      },
      "text/plain": [
       "  0%|          | 0/1250 [00:00<?, ?it/s]"
      ]
     },
     "metadata": {},
     "output_type": "display_data"
    },
    {
     "name": "stdout",
     "output_type": "stream",
     "text": [
      "completed hpcg smlprob pso 4873 (742500, 11) 5.5054075717926025 secs\n",
      "working on /usr/WS2/bolet1/lassen-benchmarks/exploreGlobalOptimizations/logs/hpcg-medprob/pso-1337\n"
     ]
    },
    {
     "data": {
      "application/vnd.jupyter.widget-view+json": {
       "model_id": "8341c24865c24928a31816820c7e1189",
       "version_major": 2,
       "version_minor": 0
      },
      "text/plain": [
       "  0%|          | 0/1250 [00:00<?, ?it/s]"
      ]
     },
     "metadata": {},
     "output_type": "display_data"
    },
    {
     "name": "stdout",
     "output_type": "stream",
     "text": [
      "completed hpcg medprob pso 1337 (742500, 11) 4.926086187362671 secs\n",
      "working on /usr/WS2/bolet1/lassen-benchmarks/exploreGlobalOptimizations/logs/hpcg-medprob/pso-3827\n"
     ]
    },
    {
     "data": {
      "application/vnd.jupyter.widget-view+json": {
       "model_id": "aa96a74441d540a1b21ef1169e2b43b2",
       "version_major": 2,
       "version_minor": 0
      },
      "text/plain": [
       "  0%|          | 0/1250 [00:00<?, ?it/s]"
      ]
     },
     "metadata": {},
     "output_type": "display_data"
    },
    {
     "name": "stdout",
     "output_type": "stream",
     "text": [
      "completed hpcg medprob pso 3827 (742500, 11) 5.122356176376343 secs\n",
      "working on /usr/WS2/bolet1/lassen-benchmarks/exploreGlobalOptimizations/logs/hpcg-medprob/pso-9999\n"
     ]
    },
    {
     "data": {
      "application/vnd.jupyter.widget-view+json": {
       "model_id": "4841191f2df74717aa8bacea4fb5a564",
       "version_major": 2,
       "version_minor": 0
      },
      "text/plain": [
       "  0%|          | 0/1250 [00:00<?, ?it/s]"
      ]
     },
     "metadata": {},
     "output_type": "display_data"
    },
    {
     "name": "stdout",
     "output_type": "stream",
     "text": [
      "completed hpcg medprob pso 9999 (742500, 11) 5.3669047355651855 secs\n",
      "working on /usr/WS2/bolet1/lassen-benchmarks/exploreGlobalOptimizations/logs/hpcg-medprob/pso-4873\n"
     ]
    },
    {
     "data": {
      "application/vnd.jupyter.widget-view+json": {
       "model_id": "481d0f6481ee43d6b8db43a144a5fa00",
       "version_major": 2,
       "version_minor": 0
      },
      "text/plain": [
       "  0%|          | 0/1250 [00:00<?, ?it/s]"
      ]
     },
     "metadata": {},
     "output_type": "display_data"
    },
    {
     "name": "stdout",
     "output_type": "stream",
     "text": [
      "completed hpcg medprob pso 4873 (742500, 11) 5.163512229919434 secs\n",
      "working on /usr/WS2/bolet1/lassen-benchmarks/exploreGlobalOptimizations/logs/hpcg-lrgprob/pso-1337\n"
     ]
    },
    {
     "data": {
      "application/vnd.jupyter.widget-view+json": {
       "model_id": "de461b6e23444cbe8b9b8648e816c140",
       "version_major": 2,
       "version_minor": 0
      },
      "text/plain": [
       "  0%|          | 0/1250 [00:00<?, ?it/s]"
      ]
     },
     "metadata": {},
     "output_type": "display_data"
    },
    {
     "name": "stdout",
     "output_type": "stream",
     "text": [
      "completed hpcg lrgprob pso 1337 (742500, 11) 7.297193765640259 secs\n",
      "working on /usr/WS2/bolet1/lassen-benchmarks/exploreGlobalOptimizations/logs/hpcg-lrgprob/pso-3827\n"
     ]
    },
    {
     "data": {
      "application/vnd.jupyter.widget-view+json": {
       "model_id": "0b5bc8460cea4f0e89ceac4c425b513b",
       "version_major": 2,
       "version_minor": 0
      },
      "text/plain": [
       "  0%|          | 0/1250 [00:00<?, ?it/s]"
      ]
     },
     "metadata": {},
     "output_type": "display_data"
    },
    {
     "name": "stdout",
     "output_type": "stream",
     "text": [
      "completed hpcg lrgprob pso 3827 (742500, 11) 6.571730136871338 secs\n",
      "working on /usr/WS2/bolet1/lassen-benchmarks/exploreGlobalOptimizations/logs/hpcg-lrgprob/pso-9999\n"
     ]
    },
    {
     "data": {
      "application/vnd.jupyter.widget-view+json": {
       "model_id": "d3fd07a394c34dcfb5f633db27eb985b",
       "version_major": 2,
       "version_minor": 0
      },
      "text/plain": [
       "  0%|          | 0/1250 [00:00<?, ?it/s]"
      ]
     },
     "metadata": {},
     "output_type": "display_data"
    },
    {
     "name": "stdout",
     "output_type": "stream",
     "text": [
      "completed hpcg lrgprob pso 9999 (742500, 11) 6.283002853393555 secs\n",
      "working on /usr/WS2/bolet1/lassen-benchmarks/exploreGlobalOptimizations/logs/hpcg-lrgprob/pso-4873\n"
     ]
    },
    {
     "data": {
      "application/vnd.jupyter.widget-view+json": {
       "model_id": "0c15a24ab8d9469094a90b3df53817a1",
       "version_major": 2,
       "version_minor": 0
      },
      "text/plain": [
       "  0%|          | 0/1250 [00:00<?, ?it/s]"
      ]
     },
     "metadata": {},
     "output_type": "display_data"
    },
    {
     "name": "stdout",
     "output_type": "stream",
     "text": [
      "completed hpcg lrgprob pso 4873 (742500, 11) 10.258840799331665 secs\n",
      "\n",
      "\n",
      " wrote: /usr/WS2/bolet1/lassen-benchmarks/exploreGlobalOptimizations/databases/lassen-hpcg-pso-GO_Data.csv \n",
      "\n",
      "\n",
      "working on /usr/WS2/bolet1/lassen-benchmarks/exploreGlobalOptimizations/logs/lulesh-smlprob/pso-1337\n"
     ]
    },
    {
     "data": {
      "application/vnd.jupyter.widget-view+json": {
       "model_id": "17a0b2c033b740bf8ed80cbfa84d31d6",
       "version_major": 2,
       "version_minor": 0
      },
      "text/plain": [
       "  0%|          | 0/1250 [00:00<?, ?it/s]"
      ]
     },
     "metadata": {},
     "output_type": "display_data"
    },
    {
     "name": "stdout",
     "output_type": "stream",
     "text": [
      "completed lulesh smlprob pso 1337 (742500, 11) 7.1307830810546875 secs\n",
      "working on /usr/WS2/bolet1/lassen-benchmarks/exploreGlobalOptimizations/logs/lulesh-smlprob/pso-3827\n"
     ]
    },
    {
     "data": {
      "application/vnd.jupyter.widget-view+json": {
       "model_id": "9f9a35f6fb104893b3836a40b82b8a32",
       "version_major": 2,
       "version_minor": 0
      },
      "text/plain": [
       "  0%|          | 0/1250 [00:00<?, ?it/s]"
      ]
     },
     "metadata": {},
     "output_type": "display_data"
    },
    {
     "name": "stdout",
     "output_type": "stream",
     "text": [
      "completed lulesh smlprob pso 3827 (742500, 11) 5.678528547286987 secs\n",
      "working on /usr/WS2/bolet1/lassen-benchmarks/exploreGlobalOptimizations/logs/lulesh-smlprob/pso-9999\n"
     ]
    },
    {
     "data": {
      "application/vnd.jupyter.widget-view+json": {
       "model_id": "c0ba782efccb46efb708ba4357c06e14",
       "version_major": 2,
       "version_minor": 0
      },
      "text/plain": [
       "  0%|          | 0/1250 [00:00<?, ?it/s]"
      ]
     },
     "metadata": {},
     "output_type": "display_data"
    },
    {
     "name": "stdout",
     "output_type": "stream",
     "text": [
      "completed lulesh smlprob pso 9999 (742500, 11) 6.194837808609009 secs\n",
      "working on /usr/WS2/bolet1/lassen-benchmarks/exploreGlobalOptimizations/logs/lulesh-smlprob/pso-4873\n"
     ]
    },
    {
     "data": {
      "application/vnd.jupyter.widget-view+json": {
       "model_id": "878a20e43c03485f97c9d4aaf8d0a76e",
       "version_major": 2,
       "version_minor": 0
      },
      "text/plain": [
       "  0%|          | 0/1250 [00:00<?, ?it/s]"
      ]
     },
     "metadata": {},
     "output_type": "display_data"
    },
    {
     "name": "stdout",
     "output_type": "stream",
     "text": [
      "completed lulesh smlprob pso 4873 (742500, 11) 8.026793479919434 secs\n",
      "working on /usr/WS2/bolet1/lassen-benchmarks/exploreGlobalOptimizations/logs/lulesh-medprob/pso-1337\n"
     ]
    },
    {
     "data": {
      "application/vnd.jupyter.widget-view+json": {
       "model_id": "18283346f1c94f3abbead2103409089a",
       "version_major": 2,
       "version_minor": 0
      },
      "text/plain": [
       "  0%|          | 0/1250 [00:00<?, ?it/s]"
      ]
     },
     "metadata": {},
     "output_type": "display_data"
    },
    {
     "name": "stdout",
     "output_type": "stream",
     "text": [
      "completed lulesh medprob pso 1337 (742500, 11) 6.577831983566284 secs\n",
      "working on /usr/WS2/bolet1/lassen-benchmarks/exploreGlobalOptimizations/logs/lulesh-medprob/pso-3827\n"
     ]
    },
    {
     "data": {
      "application/vnd.jupyter.widget-view+json": {
       "model_id": "e1c79e643c09412bb62c57c929bc4e26",
       "version_major": 2,
       "version_minor": 0
      },
      "text/plain": [
       "  0%|          | 0/1250 [00:00<?, ?it/s]"
      ]
     },
     "metadata": {},
     "output_type": "display_data"
    },
    {
     "name": "stdout",
     "output_type": "stream",
     "text": [
      "completed lulesh medprob pso 3827 (742500, 11) 11.457366704940796 secs\n",
      "working on /usr/WS2/bolet1/lassen-benchmarks/exploreGlobalOptimizations/logs/lulesh-medprob/pso-9999\n"
     ]
    },
    {
     "data": {
      "application/vnd.jupyter.widget-view+json": {
       "model_id": "1e46a1f50d9f4d04ae8c0414219bde17",
       "version_major": 2,
       "version_minor": 0
      },
      "text/plain": [
       "  0%|          | 0/1250 [00:00<?, ?it/s]"
      ]
     },
     "metadata": {},
     "output_type": "display_data"
    },
    {
     "name": "stdout",
     "output_type": "stream",
     "text": [
      "completed lulesh medprob pso 9999 (742500, 11) 6.285702705383301 secs\n",
      "working on /usr/WS2/bolet1/lassen-benchmarks/exploreGlobalOptimizations/logs/lulesh-medprob/pso-4873\n"
     ]
    },
    {
     "data": {
      "application/vnd.jupyter.widget-view+json": {
       "model_id": "1917e5dd196b42858c45d6053831ae93",
       "version_major": 2,
       "version_minor": 0
      },
      "text/plain": [
       "  0%|          | 0/1250 [00:00<?, ?it/s]"
      ]
     },
     "metadata": {},
     "output_type": "display_data"
    },
    {
     "name": "stdout",
     "output_type": "stream",
     "text": [
      "completed lulesh medprob pso 4873 (742500, 11) 6.241363286972046 secs\n",
      "working on /usr/WS2/bolet1/lassen-benchmarks/exploreGlobalOptimizations/logs/lulesh-lrgprob/pso-1337\n"
     ]
    },
    {
     "data": {
      "application/vnd.jupyter.widget-view+json": {
       "model_id": "58723129d57841f9bfe2e9508870fdec",
       "version_major": 2,
       "version_minor": 0
      },
      "text/plain": [
       "  0%|          | 0/1250 [00:00<?, ?it/s]"
      ]
     },
     "metadata": {},
     "output_type": "display_data"
    },
    {
     "name": "stdout",
     "output_type": "stream",
     "text": [
      "completed lulesh lrgprob pso 1337 (742500, 11) 5.699758052825928 secs\n",
      "working on /usr/WS2/bolet1/lassen-benchmarks/exploreGlobalOptimizations/logs/lulesh-lrgprob/pso-3827\n"
     ]
    },
    {
     "data": {
      "application/vnd.jupyter.widget-view+json": {
       "model_id": "a7b18d218e8c4a6f96a0dcd28d6efb6f",
       "version_major": 2,
       "version_minor": 0
      },
      "text/plain": [
       "  0%|          | 0/1250 [00:00<?, ?it/s]"
      ]
     },
     "metadata": {},
     "output_type": "display_data"
    },
    {
     "name": "stdout",
     "output_type": "stream",
     "text": [
      "completed lulesh lrgprob pso 3827 (742500, 11) 5.717024803161621 secs\n",
      "working on /usr/WS2/bolet1/lassen-benchmarks/exploreGlobalOptimizations/logs/lulesh-lrgprob/pso-9999\n"
     ]
    },
    {
     "data": {
      "application/vnd.jupyter.widget-view+json": {
       "model_id": "372690dc7ca04fd98d57b99939f948ee",
       "version_major": 2,
       "version_minor": 0
      },
      "text/plain": [
       "  0%|          | 0/1250 [00:00<?, ?it/s]"
      ]
     },
     "metadata": {},
     "output_type": "display_data"
    },
    {
     "name": "stdout",
     "output_type": "stream",
     "text": [
      "completed lulesh lrgprob pso 9999 (742500, 11) 6.133498668670654 secs\n",
      "working on /usr/WS2/bolet1/lassen-benchmarks/exploreGlobalOptimizations/logs/lulesh-lrgprob/pso-4873\n"
     ]
    },
    {
     "data": {
      "application/vnd.jupyter.widget-view+json": {
       "model_id": "6b08807e8800465ba813f99395646f4f",
       "version_major": 2,
       "version_minor": 0
      },
      "text/plain": [
       "  0%|          | 0/1250 [00:00<?, ?it/s]"
      ]
     },
     "metadata": {},
     "output_type": "display_data"
    },
    {
     "name": "stdout",
     "output_type": "stream",
     "text": [
      "completed lulesh lrgprob pso 4873 (742500, 11) 7.277693033218384 secs\n",
      "\n",
      "\n",
      " wrote: /usr/WS2/bolet1/lassen-benchmarks/exploreGlobalOptimizations/databases/lassen-lulesh-pso-GO_Data.csv \n",
      "\n",
      "\n",
      "working on /usr/WS2/bolet1/lassen-benchmarks/exploreGlobalOptimizations/logs/bt_nas-smlprob/bo-1337\n"
     ]
    },
    {
     "data": {
      "application/vnd.jupyter.widget-view+json": {
       "model_id": "19474e2b8abd40ac8b6edd0edc15309e",
       "version_major": 2,
       "version_minor": 0
      },
      "text/plain": [
       "  0%|          | 0/1980 [00:00<?, ?it/s]"
      ]
     },
     "metadata": {},
     "output_type": "display_data"
    },
    {
     "name": "stdout",
     "output_type": "stream",
     "text": [
      "completed bt_nas smlprob bo 1337 (1176120, 12) 9.871686935424805 secs\n",
      "working on /usr/WS2/bolet1/lassen-benchmarks/exploreGlobalOptimizations/logs/bt_nas-smlprob/bo-3827\n"
     ]
    },
    {
     "data": {
      "application/vnd.jupyter.widget-view+json": {
       "model_id": "0ad2f1931c49419c9a2727546afa022e",
       "version_major": 2,
       "version_minor": 0
      },
      "text/plain": [
       "  0%|          | 0/3009 [00:00<?, ?it/s]"
      ]
     },
     "metadata": {},
     "output_type": "display_data"
    },
    {
     "name": "stdout",
     "output_type": "stream",
     "text": [
      "completed bt_nas smlprob bo 3827 (1787346, 12) 14.807514905929565 secs\n",
      "working on /usr/WS2/bolet1/lassen-benchmarks/exploreGlobalOptimizations/logs/bt_nas-smlprob/bo-9999\n"
     ]
    },
    {
     "data": {
      "application/vnd.jupyter.widget-view+json": {
       "model_id": "fcecf25925304fbaa3421bce32e8dded",
       "version_major": 2,
       "version_minor": 0
      },
      "text/plain": [
       "  0%|          | 0/2889 [00:00<?, ?it/s]"
      ]
     },
     "metadata": {},
     "output_type": "display_data"
    },
    {
     "name": "stdout",
     "output_type": "stream",
     "text": [
      "completed bt_nas smlprob bo 9999 (1716066, 12) 15.121829986572266 secs\n",
      "working on /usr/WS2/bolet1/lassen-benchmarks/exploreGlobalOptimizations/logs/bt_nas-smlprob/bo-4873\n"
     ]
    },
    {
     "data": {
      "application/vnd.jupyter.widget-view+json": {
       "model_id": "bd7b34ee3f86445a839fbe1a14531792",
       "version_major": 2,
       "version_minor": 0
      },
      "text/plain": [
       "  0%|          | 0/2757 [00:00<?, ?it/s]"
      ]
     },
     "metadata": {},
     "output_type": "display_data"
    },
    {
     "name": "stdout",
     "output_type": "stream",
     "text": [
      "completed bt_nas smlprob bo 4873 (1637658, 12) 18.116570234298706 secs\n",
      "working on /usr/WS2/bolet1/lassen-benchmarks/exploreGlobalOptimizations/logs/bt_nas-medprob/bo-1337\n"
     ]
    },
    {
     "data": {
      "application/vnd.jupyter.widget-view+json": {
       "model_id": "a8b54058b6ff44aa83a93791ba753c66",
       "version_major": 2,
       "version_minor": 0
      },
      "text/plain": [
       "  0%|          | 0/2786 [00:00<?, ?it/s]"
      ]
     },
     "metadata": {},
     "output_type": "display_data"
    },
    {
     "name": "stdout",
     "output_type": "stream",
     "text": [
      "completed bt_nas medprob bo 1337 (1654884, 12) 14.668159246444702 secs\n",
      "working on /usr/WS2/bolet1/lassen-benchmarks/exploreGlobalOptimizations/logs/bt_nas-medprob/bo-3827\n"
     ]
    },
    {
     "data": {
      "application/vnd.jupyter.widget-view+json": {
       "model_id": "272c717afc924d57a0b216b821eae95c",
       "version_major": 2,
       "version_minor": 0
      },
      "text/plain": [
       "  0%|          | 0/2883 [00:00<?, ?it/s]"
      ]
     },
     "metadata": {},
     "output_type": "display_data"
    },
    {
     "name": "stdout",
     "output_type": "stream",
     "text": [
      "completed bt_nas medprob bo 3827 (1712502, 12) 16.251816034317017 secs\n",
      "working on /usr/WS2/bolet1/lassen-benchmarks/exploreGlobalOptimizations/logs/bt_nas-medprob/bo-9999\n"
     ]
    },
    {
     "data": {
      "application/vnd.jupyter.widget-view+json": {
       "model_id": "568d4245b09d4dc8aac580593dbd40e7",
       "version_major": 2,
       "version_minor": 0
      },
      "text/plain": [
       "  0%|          | 0/2933 [00:00<?, ?it/s]"
      ]
     },
     "metadata": {},
     "output_type": "display_data"
    },
    {
     "name": "stdout",
     "output_type": "stream",
     "text": [
      "completed bt_nas medprob bo 9999 (1742202, 12) 18.20364236831665 secs\n",
      "working on /usr/WS2/bolet1/lassen-benchmarks/exploreGlobalOptimizations/logs/bt_nas-medprob/bo-4873\n"
     ]
    },
    {
     "data": {
      "application/vnd.jupyter.widget-view+json": {
       "model_id": "d361b27aac7a4039aa0902c88dbd362d",
       "version_major": 2,
       "version_minor": 0
      },
      "text/plain": [
       "  0%|          | 0/2101 [00:00<?, ?it/s]"
      ]
     },
     "metadata": {},
     "output_type": "display_data"
    },
    {
     "name": "stdout",
     "output_type": "stream",
     "text": [
      "completed bt_nas medprob bo 4873 (1247994, 12) 11.77344036102295 secs\n",
      "working on /usr/WS2/bolet1/lassen-benchmarks/exploreGlobalOptimizations/logs/bt_nas-lrgprob/bo-1337\n"
     ]
    },
    {
     "data": {
      "application/vnd.jupyter.widget-view+json": {
       "model_id": "2316357dc7304e5a8c0131b2dba79f4d",
       "version_major": 2,
       "version_minor": 0
      },
      "text/plain": [
       "  0%|          | 0/2332 [00:00<?, ?it/s]"
      ]
     },
     "metadata": {},
     "output_type": "display_data"
    },
    {
     "name": "stdout",
     "output_type": "stream",
     "text": [
      "completed bt_nas lrgprob bo 1337 (1385208, 12) 11.800262212753296 secs\n",
      "working on /usr/WS2/bolet1/lassen-benchmarks/exploreGlobalOptimizations/logs/bt_nas-lrgprob/bo-3827\n"
     ]
    },
    {
     "data": {
      "application/vnd.jupyter.widget-view+json": {
       "model_id": "cb6ab525708342cea8b02fd2fe515417",
       "version_major": 2,
       "version_minor": 0
      },
      "text/plain": [
       "  0%|          | 0/2830 [00:00<?, ?it/s]"
      ]
     },
     "metadata": {},
     "output_type": "display_data"
    },
    {
     "name": "stdout",
     "output_type": "stream",
     "text": [
      "completed bt_nas lrgprob bo 3827 (1681020, 12) 14.196048736572266 secs\n",
      "working on /usr/WS2/bolet1/lassen-benchmarks/exploreGlobalOptimizations/logs/bt_nas-lrgprob/bo-9999\n"
     ]
    },
    {
     "data": {
      "application/vnd.jupyter.widget-view+json": {
       "model_id": "4f08d68255654b15b95dae95a460a8be",
       "version_major": 2,
       "version_minor": 0
      },
      "text/plain": [
       "  0%|          | 0/2507 [00:00<?, ?it/s]"
      ]
     },
     "metadata": {},
     "output_type": "display_data"
    },
    {
     "name": "stdout",
     "output_type": "stream",
     "text": [
      "completed bt_nas lrgprob bo 9999 (1489158, 12) 16.219504594802856 secs\n",
      "working on /usr/WS2/bolet1/lassen-benchmarks/exploreGlobalOptimizations/logs/bt_nas-lrgprob/bo-4873\n"
     ]
    },
    {
     "data": {
      "application/vnd.jupyter.widget-view+json": {
       "model_id": "176ed7e007b64cc6a0ef1c47149677ea",
       "version_major": 2,
       "version_minor": 0
      },
      "text/plain": [
       "  0%|          | 0/2637 [00:00<?, ?it/s]"
      ]
     },
     "metadata": {},
     "output_type": "display_data"
    },
    {
     "name": "stdout",
     "output_type": "stream",
     "text": [
      "completed bt_nas lrgprob bo 4873 (1566378, 12) 12.400474786758423 secs\n",
      "\n",
      "\n",
      " wrote: /usr/WS2/bolet1/lassen-benchmarks/exploreGlobalOptimizations/databases/lassen-bt_nas-bo-GO_Data.csv \n",
      "\n",
      "\n",
      "working on /usr/WS2/bolet1/lassen-benchmarks/exploreGlobalOptimizations/logs/cg_nas-smlprob/bo-1337\n"
     ]
    },
    {
     "data": {
      "application/vnd.jupyter.widget-view+json": {
       "model_id": "b4d8b1970d3d45d483e882d8ebc3c5f7",
       "version_major": 2,
       "version_minor": 0
      },
      "text/plain": [
       "  0%|          | 0/2995 [00:00<?, ?it/s]"
      ]
     },
     "metadata": {},
     "output_type": "display_data"
    },
    {
     "name": "stdout",
     "output_type": "stream",
     "text": [
      "completed cg_nas smlprob bo 1337 (1779030, 12) 16.6961612701416 secs\n",
      "working on /usr/WS2/bolet1/lassen-benchmarks/exploreGlobalOptimizations/logs/cg_nas-smlprob/bo-3827\n"
     ]
    },
    {
     "data": {
      "application/vnd.jupyter.widget-view+json": {
       "model_id": "49f07b4fc8b44b34bd6b47459389211b",
       "version_major": 2,
       "version_minor": 0
      },
      "text/plain": [
       "  0%|          | 0/2175 [00:00<?, ?it/s]"
      ]
     },
     "metadata": {},
     "output_type": "display_data"
    },
    {
     "name": "stdout",
     "output_type": "stream",
     "text": [
      "completed cg_nas smlprob bo 3827 (1291950, 12) 10.794460535049438 secs\n",
      "working on /usr/WS2/bolet1/lassen-benchmarks/exploreGlobalOptimizations/logs/cg_nas-smlprob/bo-9999\n"
     ]
    },
    {
     "data": {
      "application/vnd.jupyter.widget-view+json": {
       "model_id": "324fa877e9e846d0a23fcbfb53f8dfdb",
       "version_major": 2,
       "version_minor": 0
      },
      "text/plain": [
       "  0%|          | 0/2334 [00:00<?, ?it/s]"
      ]
     },
     "metadata": {},
     "output_type": "display_data"
    },
    {
     "name": "stdout",
     "output_type": "stream",
     "text": [
      "completed cg_nas smlprob bo 9999 (1386396, 12) 13.086956977844238 secs\n",
      "working on /usr/WS2/bolet1/lassen-benchmarks/exploreGlobalOptimizations/logs/cg_nas-smlprob/bo-4873\n"
     ]
    },
    {
     "data": {
      "application/vnd.jupyter.widget-view+json": {
       "model_id": "fdc8a8c7817e41c3ac0bead278e9c28c",
       "version_major": 2,
       "version_minor": 0
      },
      "text/plain": [
       "  0%|          | 0/2499 [00:00<?, ?it/s]"
      ]
     },
     "metadata": {},
     "output_type": "display_data"
    },
    {
     "name": "stdout",
     "output_type": "stream",
     "text": [
      "completed cg_nas smlprob bo 4873 (1484406, 12) 14.3831627368927 secs\n",
      "working on /usr/WS2/bolet1/lassen-benchmarks/exploreGlobalOptimizations/logs/cg_nas-medprob/bo-1337\n"
     ]
    },
    {
     "data": {
      "application/vnd.jupyter.widget-view+json": {
       "model_id": "9963d989274940e98c10981b02aec7f3",
       "version_major": 2,
       "version_minor": 0
      },
      "text/plain": [
       "  0%|          | 0/2588 [00:00<?, ?it/s]"
      ]
     },
     "metadata": {},
     "output_type": "display_data"
    },
    {
     "name": "stdout",
     "output_type": "stream",
     "text": [
      "completed cg_nas medprob bo 1337 (1537272, 12) 13.640784740447998 secs\n",
      "working on /usr/WS2/bolet1/lassen-benchmarks/exploreGlobalOptimizations/logs/cg_nas-medprob/bo-3827\n"
     ]
    },
    {
     "data": {
      "application/vnd.jupyter.widget-view+json": {
       "model_id": "23a655f3eaa248d389f3b17def102d06",
       "version_major": 2,
       "version_minor": 0
      },
      "text/plain": [
       "  0%|          | 0/2943 [00:00<?, ?it/s]"
      ]
     },
     "metadata": {},
     "output_type": "display_data"
    },
    {
     "name": "stdout",
     "output_type": "stream",
     "text": [
      "completed cg_nas medprob bo 3827 (1748142, 12) 16.82018232345581 secs\n",
      "working on /usr/WS2/bolet1/lassen-benchmarks/exploreGlobalOptimizations/logs/cg_nas-medprob/bo-9999\n"
     ]
    },
    {
     "data": {
      "application/vnd.jupyter.widget-view+json": {
       "model_id": "3beec7e0d5be43c7be19cd6d87402a66",
       "version_major": 2,
       "version_minor": 0
      },
      "text/plain": [
       "  0%|          | 0/2027 [00:00<?, ?it/s]"
      ]
     },
     "metadata": {},
     "output_type": "display_data"
    },
    {
     "name": "stdout",
     "output_type": "stream",
     "text": [
      "completed cg_nas medprob bo 9999 (1204038, 12) 12.999890327453613 secs\n",
      "working on /usr/WS2/bolet1/lassen-benchmarks/exploreGlobalOptimizations/logs/cg_nas-medprob/bo-4873\n"
     ]
    },
    {
     "data": {
      "application/vnd.jupyter.widget-view+json": {
       "model_id": "d5e7cec4b3bb4999a9fb6407793961e8",
       "version_major": 2,
       "version_minor": 0
      },
      "text/plain": [
       "  0%|          | 0/2838 [00:00<?, ?it/s]"
      ]
     },
     "metadata": {},
     "output_type": "display_data"
    },
    {
     "name": "stdout",
     "output_type": "stream",
     "text": [
      "completed cg_nas medprob bo 4873 (1685772, 12) 14.95427942276001 secs\n",
      "working on /usr/WS2/bolet1/lassen-benchmarks/exploreGlobalOptimizations/logs/cg_nas-lrgprob/bo-1337\n"
     ]
    },
    {
     "data": {
      "application/vnd.jupyter.widget-view+json": {
       "model_id": "1347fb3b373345fb93c080f923ab55be",
       "version_major": 2,
       "version_minor": 0
      },
      "text/plain": [
       "  0%|          | 0/2797 [00:00<?, ?it/s]"
      ]
     },
     "metadata": {},
     "output_type": "display_data"
    },
    {
     "name": "stdout",
     "output_type": "stream",
     "text": [
      "completed cg_nas lrgprob bo 1337 (1661418, 12) 16.728142499923706 secs\n",
      "working on /usr/WS2/bolet1/lassen-benchmarks/exploreGlobalOptimizations/logs/cg_nas-lrgprob/bo-3827\n"
     ]
    },
    {
     "data": {
      "application/vnd.jupyter.widget-view+json": {
       "model_id": "ea5b0924fc804c36b6b78b69f1751e63",
       "version_major": 2,
       "version_minor": 0
      },
      "text/plain": [
       "  0%|          | 0/2979 [00:00<?, ?it/s]"
      ]
     },
     "metadata": {},
     "output_type": "display_data"
    },
    {
     "name": "stdout",
     "output_type": "stream",
     "text": [
      "completed cg_nas lrgprob bo 3827 (1769526, 12) 16.361332416534424 secs\n",
      "working on /usr/WS2/bolet1/lassen-benchmarks/exploreGlobalOptimizations/logs/cg_nas-lrgprob/bo-9999\n"
     ]
    },
    {
     "data": {
      "application/vnd.jupyter.widget-view+json": {
       "model_id": "11c467f6007846d4a9c98e3f542cbed8",
       "version_major": 2,
       "version_minor": 0
      },
      "text/plain": [
       "  0%|          | 0/2769 [00:00<?, ?it/s]"
      ]
     },
     "metadata": {},
     "output_type": "display_data"
    },
    {
     "name": "stdout",
     "output_type": "stream",
     "text": [
      "completed cg_nas lrgprob bo 9999 (1644786, 12) 17.990339040756226 secs\n",
      "working on /usr/WS2/bolet1/lassen-benchmarks/exploreGlobalOptimizations/logs/cg_nas-lrgprob/bo-4873\n"
     ]
    },
    {
     "data": {
      "application/vnd.jupyter.widget-view+json": {
       "model_id": "25f4040dc71240cbaa920dc4d1a8ab31",
       "version_major": 2,
       "version_minor": 0
      },
      "text/plain": [
       "  0%|          | 0/1358 [00:00<?, ?it/s]"
      ]
     },
     "metadata": {},
     "output_type": "display_data"
    },
    {
     "name": "stdout",
     "output_type": "stream",
     "text": [
      "completed cg_nas lrgprob bo 4873 (806652, 12) 7.517611265182495 secs\n",
      "\n",
      "\n",
      " wrote: /usr/WS2/bolet1/lassen-benchmarks/exploreGlobalOptimizations/databases/lassen-cg_nas-bo-GO_Data.csv \n",
      "\n",
      "\n",
      "working on /usr/WS2/bolet1/lassen-benchmarks/exploreGlobalOptimizations/logs/ft_nas-smlprob/bo-1337\n"
     ]
    },
    {
     "data": {
      "application/vnd.jupyter.widget-view+json": {
       "model_id": "4dc45c9572334ebda9e8f78a0f714aca",
       "version_major": 2,
       "version_minor": 0
      },
      "text/plain": [
       "  0%|          | 0/2700 [00:00<?, ?it/s]"
      ]
     },
     "metadata": {},
     "output_type": "display_data"
    },
    {
     "name": "stdout",
     "output_type": "stream",
     "text": [
      "completed ft_nas smlprob bo 1337 (1603800, 12) 15.324284315109253 secs\n",
      "working on /usr/WS2/bolet1/lassen-benchmarks/exploreGlobalOptimizations/logs/ft_nas-smlprob/bo-3827\n"
     ]
    },
    {
     "data": {
      "application/vnd.jupyter.widget-view+json": {
       "model_id": "0be388ef6d5a4e0289357114d434fa19",
       "version_major": 2,
       "version_minor": 0
      },
      "text/plain": [
       "  0%|          | 0/2847 [00:00<?, ?it/s]"
      ]
     },
     "metadata": {},
     "output_type": "display_data"
    },
    {
     "name": "stdout",
     "output_type": "stream",
     "text": [
      "completed ft_nas smlprob bo 3827 (1691118, 12) 16.827344179153442 secs\n",
      "working on /usr/WS2/bolet1/lassen-benchmarks/exploreGlobalOptimizations/logs/ft_nas-smlprob/bo-9999\n"
     ]
    },
    {
     "data": {
      "application/vnd.jupyter.widget-view+json": {
       "model_id": "6dae5afd536a4dbda6afede67d37c8d7",
       "version_major": 2,
       "version_minor": 0
      },
      "text/plain": [
       "  0%|          | 0/2791 [00:00<?, ?it/s]"
      ]
     },
     "metadata": {},
     "output_type": "display_data"
    },
    {
     "name": "stdout",
     "output_type": "stream",
     "text": [
      "completed ft_nas smlprob bo 9999 (1657854, 12) 14.310079336166382 secs\n",
      "working on /usr/WS2/bolet1/lassen-benchmarks/exploreGlobalOptimizations/logs/ft_nas-smlprob/bo-4873\n"
     ]
    },
    {
     "data": {
      "application/vnd.jupyter.widget-view+json": {
       "model_id": "55b5eb005d4840f2950eb0fbdb8c5fca",
       "version_major": 2,
       "version_minor": 0
      },
      "text/plain": [
       "  0%|          | 0/2620 [00:00<?, ?it/s]"
      ]
     },
     "metadata": {},
     "output_type": "display_data"
    },
    {
     "name": "stdout",
     "output_type": "stream",
     "text": [
      "completed ft_nas smlprob bo 4873 (1556280, 12) 14.11875057220459 secs\n",
      "working on /usr/WS2/bolet1/lassen-benchmarks/exploreGlobalOptimizations/logs/ft_nas-medprob/bo-1337\n"
     ]
    },
    {
     "data": {
      "application/vnd.jupyter.widget-view+json": {
       "model_id": "e54f1455ff9a4afcbe5e3097b6ab1e12",
       "version_major": 2,
       "version_minor": 0
      },
      "text/plain": [
       "  0%|          | 0/2126 [00:00<?, ?it/s]"
      ]
     },
     "metadata": {},
     "output_type": "display_data"
    },
    {
     "name": "stdout",
     "output_type": "stream",
     "text": [
      "completed ft_nas medprob bo 1337 (1262844, 12) 11.60214114189148 secs\n",
      "working on /usr/WS2/bolet1/lassen-benchmarks/exploreGlobalOptimizations/logs/ft_nas-medprob/bo-3827\n"
     ]
    },
    {
     "data": {
      "application/vnd.jupyter.widget-view+json": {
       "model_id": "f84fbb1c2eed4152be444ddbf6407f96",
       "version_major": 2,
       "version_minor": 0
      },
      "text/plain": [
       "  0%|          | 0/2973 [00:00<?, ?it/s]"
      ]
     },
     "metadata": {},
     "output_type": "display_data"
    },
    {
     "name": "stdout",
     "output_type": "stream",
     "text": [
      "completed ft_nas medprob bo 3827 (1765962, 12) 15.578490495681763 secs\n",
      "working on /usr/WS2/bolet1/lassen-benchmarks/exploreGlobalOptimizations/logs/ft_nas-medprob/bo-9999\n"
     ]
    },
    {
     "data": {
      "application/vnd.jupyter.widget-view+json": {
       "model_id": "3330df8592df42f4a1bbddfb387f1b2b",
       "version_major": 2,
       "version_minor": 0
      },
      "text/plain": [
       "  0%|          | 0/2850 [00:00<?, ?it/s]"
      ]
     },
     "metadata": {},
     "output_type": "display_data"
    },
    {
     "name": "stdout",
     "output_type": "stream",
     "text": [
      "completed ft_nas medprob bo 9999 (1692900, 12) 15.455965757369995 secs\n",
      "working on /usr/WS2/bolet1/lassen-benchmarks/exploreGlobalOptimizations/logs/ft_nas-medprob/bo-4873\n"
     ]
    },
    {
     "data": {
      "application/vnd.jupyter.widget-view+json": {
       "model_id": "79c7f0e913ee4a3ca0922176b2ac8aea",
       "version_major": 2,
       "version_minor": 0
      },
      "text/plain": [
       "  0%|          | 0/2802 [00:00<?, ?it/s]"
      ]
     },
     "metadata": {},
     "output_type": "display_data"
    },
    {
     "name": "stdout",
     "output_type": "stream",
     "text": [
      "completed ft_nas medprob bo 4873 (1664388, 12) 16.6455819606781 secs\n",
      "working on /usr/WS2/bolet1/lassen-benchmarks/exploreGlobalOptimizations/logs/ft_nas-lrgprob/bo-1337\n"
     ]
    },
    {
     "data": {
      "application/vnd.jupyter.widget-view+json": {
       "model_id": "e53a8b99833540e6bb63d35fcc0421be",
       "version_major": 2,
       "version_minor": 0
      },
      "text/plain": [
       "  0%|          | 0/2171 [00:00<?, ?it/s]"
      ]
     },
     "metadata": {},
     "output_type": "display_data"
    },
    {
     "name": "stdout",
     "output_type": "stream",
     "text": [
      "completed ft_nas lrgprob bo 1337 (1289574, 12) 13.021047115325928 secs\n",
      "working on /usr/WS2/bolet1/lassen-benchmarks/exploreGlobalOptimizations/logs/ft_nas-lrgprob/bo-3827\n"
     ]
    },
    {
     "data": {
      "application/vnd.jupyter.widget-view+json": {
       "model_id": "54b6f42e9e6d45f09cb9414ac5564d9a",
       "version_major": 2,
       "version_minor": 0
      },
      "text/plain": [
       "  0%|          | 0/2804 [00:00<?, ?it/s]"
      ]
     },
     "metadata": {},
     "output_type": "display_data"
    },
    {
     "name": "stdout",
     "output_type": "stream",
     "text": [
      "completed ft_nas lrgprob bo 3827 (1665576, 12) 15.39823579788208 secs\n",
      "working on /usr/WS2/bolet1/lassen-benchmarks/exploreGlobalOptimizations/logs/ft_nas-lrgprob/bo-9999\n"
     ]
    },
    {
     "data": {
      "application/vnd.jupyter.widget-view+json": {
       "model_id": "703d5232554a4d76a0f1d330b698a70a",
       "version_major": 2,
       "version_minor": 0
      },
      "text/plain": [
       "  0%|          | 0/2058 [00:00<?, ?it/s]"
      ]
     },
     "metadata": {},
     "output_type": "display_data"
    },
    {
     "name": "stdout",
     "output_type": "stream",
     "text": [
      "completed ft_nas lrgprob bo 9999 (1222452, 12) 12.935694694519043 secs\n",
      "working on /usr/WS2/bolet1/lassen-benchmarks/exploreGlobalOptimizations/logs/ft_nas-lrgprob/bo-4873\n"
     ]
    },
    {
     "data": {
      "application/vnd.jupyter.widget-view+json": {
       "model_id": "5abe502ff36f44abbb0fa4f053ff1419",
       "version_major": 2,
       "version_minor": 0
      },
      "text/plain": [
       "  0%|          | 0/2533 [00:00<?, ?it/s]"
      ]
     },
     "metadata": {},
     "output_type": "display_data"
    },
    {
     "name": "stdout",
     "output_type": "stream",
     "text": [
      "completed ft_nas lrgprob bo 4873 (1504602, 12) 15.208776950836182 secs\n",
      "\n",
      "\n",
      " wrote: /usr/WS2/bolet1/lassen-benchmarks/exploreGlobalOptimizations/databases/lassen-ft_nas-bo-GO_Data.csv \n",
      "\n",
      "\n",
      "working on /usr/WS2/bolet1/lassen-benchmarks/exploreGlobalOptimizations/logs/cfd_rodinia-smlprob/bo-1337\n"
     ]
    },
    {
     "data": {
      "application/vnd.jupyter.widget-view+json": {
       "model_id": "1fd0a4c7698a4d7f87ee867fbcd8c167",
       "version_major": 2,
       "version_minor": 0
      },
      "text/plain": [
       "  0%|          | 0/2886 [00:00<?, ?it/s]"
      ]
     },
     "metadata": {},
     "output_type": "display_data"
    },
    {
     "name": "stdout",
     "output_type": "stream",
     "text": [
      "completed cfd_rodinia smlprob bo 1337 (1714284, 12) 16.280002117156982 secs\n",
      "working on /usr/WS2/bolet1/lassen-benchmarks/exploreGlobalOptimizations/logs/cfd_rodinia-smlprob/bo-3827\n"
     ]
    },
    {
     "data": {
      "application/vnd.jupyter.widget-view+json": {
       "model_id": "8f34cd048a3046d682ca86333b6d7050",
       "version_major": 2,
       "version_minor": 0
      },
      "text/plain": [
       "  0%|          | 0/2900 [00:00<?, ?it/s]"
      ]
     },
     "metadata": {},
     "output_type": "display_data"
    },
    {
     "name": "stdout",
     "output_type": "stream",
     "text": [
      "completed cfd_rodinia smlprob bo 3827 (1722600, 12) 16.77407717704773 secs\n",
      "working on /usr/WS2/bolet1/lassen-benchmarks/exploreGlobalOptimizations/logs/cfd_rodinia-smlprob/bo-9999\n"
     ]
    },
    {
     "data": {
      "application/vnd.jupyter.widget-view+json": {
       "model_id": "5fe8d6af7d8244dfb990a1a335041a3e",
       "version_major": 2,
       "version_minor": 0
      },
      "text/plain": [
       "  0%|          | 0/2704 [00:00<?, ?it/s]"
      ]
     },
     "metadata": {},
     "output_type": "display_data"
    },
    {
     "name": "stdout",
     "output_type": "stream",
     "text": [
      "completed cfd_rodinia smlprob bo 9999 (1606176, 12) 13.698075294494629 secs\n",
      "working on /usr/WS2/bolet1/lassen-benchmarks/exploreGlobalOptimizations/logs/cfd_rodinia-smlprob/bo-4873\n"
     ]
    },
    {
     "data": {
      "application/vnd.jupyter.widget-view+json": {
       "model_id": "53c90e171013426cbbfe7233a315d859",
       "version_major": 2,
       "version_minor": 0
      },
      "text/plain": [
       "  0%|          | 0/2757 [00:00<?, ?it/s]"
      ]
     },
     "metadata": {},
     "output_type": "display_data"
    },
    {
     "name": "stdout",
     "output_type": "stream",
     "text": [
      "completed cfd_rodinia smlprob bo 4873 (1637658, 12) 15.066887617111206 secs\n",
      "working on /usr/WS2/bolet1/lassen-benchmarks/exploreGlobalOptimizations/logs/cfd_rodinia-medprob/bo-1337\n"
     ]
    },
    {
     "data": {
      "application/vnd.jupyter.widget-view+json": {
       "model_id": "3bb9f0b2d6024899b0567e07b8e10333",
       "version_major": 2,
       "version_minor": 0
      },
      "text/plain": [
       "  0%|          | 0/2818 [00:00<?, ?it/s]"
      ]
     },
     "metadata": {},
     "output_type": "display_data"
    },
    {
     "name": "stdout",
     "output_type": "stream",
     "text": [
      "completed cfd_rodinia medprob bo 1337 (1673892, 12) 16.193731546401978 secs\n",
      "working on /usr/WS2/bolet1/lassen-benchmarks/exploreGlobalOptimizations/logs/cfd_rodinia-medprob/bo-3827\n"
     ]
    },
    {
     "data": {
      "application/vnd.jupyter.widget-view+json": {
       "model_id": "01337c066df649bdaa25a9e6f6622f5e",
       "version_major": 2,
       "version_minor": 0
      },
      "text/plain": [
       "  0%|          | 0/2841 [00:00<?, ?it/s]"
      ]
     },
     "metadata": {},
     "output_type": "display_data"
    },
    {
     "name": "stdout",
     "output_type": "stream",
     "text": [
      "completed cfd_rodinia medprob bo 3827 (1687554, 12) 14.299179315567017 secs\n",
      "working on /usr/WS2/bolet1/lassen-benchmarks/exploreGlobalOptimizations/logs/cfd_rodinia-medprob/bo-9999\n"
     ]
    },
    {
     "data": {
      "application/vnd.jupyter.widget-view+json": {
       "model_id": "dd85d43c06a14cefb8753ce7c7e847ae",
       "version_major": 2,
       "version_minor": 0
      },
      "text/plain": [
       "  0%|          | 0/1365 [00:00<?, ?it/s]"
      ]
     },
     "metadata": {},
     "output_type": "display_data"
    },
    {
     "name": "stdout",
     "output_type": "stream",
     "text": [
      "completed cfd_rodinia medprob bo 9999 (810810, 12) 7.053799152374268 secs\n",
      "working on /usr/WS2/bolet1/lassen-benchmarks/exploreGlobalOptimizations/logs/cfd_rodinia-medprob/bo-4873\n"
     ]
    },
    {
     "data": {
      "application/vnd.jupyter.widget-view+json": {
       "model_id": "6107eb0ec75445ba964b5c6ceb9d1dc6",
       "version_major": 2,
       "version_minor": 0
      },
      "text/plain": [
       "  0%|          | 0/2696 [00:00<?, ?it/s]"
      ]
     },
     "metadata": {},
     "output_type": "display_data"
    },
    {
     "name": "stdout",
     "output_type": "stream",
     "text": [
      "completed cfd_rodinia medprob bo 4873 (1601424, 12) 13.598304986953735 secs\n",
      "working on /usr/WS2/bolet1/lassen-benchmarks/exploreGlobalOptimizations/logs/cfd_rodinia-lrgprob/bo-1337\n"
     ]
    },
    {
     "data": {
      "application/vnd.jupyter.widget-view+json": {
       "model_id": "ad43001ad5d248d584b26e2ce6d50492",
       "version_major": 2,
       "version_minor": 0
      },
      "text/plain": [
       "  0%|          | 0/2345 [00:00<?, ?it/s]"
      ]
     },
     "metadata": {},
     "output_type": "display_data"
    },
    {
     "name": "stdout",
     "output_type": "stream",
     "text": [
      "completed cfd_rodinia lrgprob bo 1337 (1392930, 12) 12.99142837524414 secs\n",
      "working on /usr/WS2/bolet1/lassen-benchmarks/exploreGlobalOptimizations/logs/cfd_rodinia-lrgprob/bo-3827\n"
     ]
    },
    {
     "data": {
      "application/vnd.jupyter.widget-view+json": {
       "model_id": "3d492b9605db499fa9d115a4feab8602",
       "version_major": 2,
       "version_minor": 0
      },
      "text/plain": [
       "  0%|          | 0/2746 [00:00<?, ?it/s]"
      ]
     },
     "metadata": {},
     "output_type": "display_data"
    },
    {
     "name": "stdout",
     "output_type": "stream",
     "text": [
      "completed cfd_rodinia lrgprob bo 3827 (1631124, 12) 15.647801399230957 secs\n",
      "working on /usr/WS2/bolet1/lassen-benchmarks/exploreGlobalOptimizations/logs/cfd_rodinia-lrgprob/bo-9999\n"
     ]
    },
    {
     "data": {
      "application/vnd.jupyter.widget-view+json": {
       "model_id": "80f8c0bcec0b4db9af3a8fadf88cc7e0",
       "version_major": 2,
       "version_minor": 0
      },
      "text/plain": [
       "  0%|          | 0/2641 [00:00<?, ?it/s]"
      ]
     },
     "metadata": {},
     "output_type": "display_data"
    },
    {
     "name": "stdout",
     "output_type": "stream",
     "text": [
      "completed cfd_rodinia lrgprob bo 9999 (1568754, 12) 12.965679168701172 secs\n",
      "working on /usr/WS2/bolet1/lassen-benchmarks/exploreGlobalOptimizations/logs/cfd_rodinia-lrgprob/bo-4873\n"
     ]
    },
    {
     "data": {
      "application/vnd.jupyter.widget-view+json": {
       "model_id": "8ed999c383e649ef97df9c40caf6d116",
       "version_major": 2,
       "version_minor": 0
      },
      "text/plain": [
       "  0%|          | 0/2332 [00:00<?, ?it/s]"
      ]
     },
     "metadata": {},
     "output_type": "display_data"
    },
    {
     "name": "stdout",
     "output_type": "stream",
     "text": [
      "completed cfd_rodinia lrgprob bo 4873 (1385208, 12) 13.772858142852783 secs\n",
      "\n",
      "\n",
      " wrote: /usr/WS2/bolet1/lassen-benchmarks/exploreGlobalOptimizations/databases/lassen-cfd_rodinia-bo-GO_Data.csv \n",
      "\n",
      "\n",
      "working on /usr/WS2/bolet1/lassen-benchmarks/exploreGlobalOptimizations/logs/hpcg-smlprob/bo-1337\n"
     ]
    },
    {
     "data": {
      "application/vnd.jupyter.widget-view+json": {
       "model_id": "ddde87dfa5424d21aa051d3d684f7621",
       "version_major": 2,
       "version_minor": 0
      },
      "text/plain": [
       "  0%|          | 0/2143 [00:00<?, ?it/s]"
      ]
     },
     "metadata": {},
     "output_type": "display_data"
    },
    {
     "name": "stdout",
     "output_type": "stream",
     "text": [
      "completed hpcg smlprob bo 1337 (1272942, 12) 10.457748413085938 secs\n",
      "working on /usr/WS2/bolet1/lassen-benchmarks/exploreGlobalOptimizations/logs/hpcg-smlprob/bo-3827\n"
     ]
    },
    {
     "data": {
      "application/vnd.jupyter.widget-view+json": {
       "model_id": "1d75bae8fb404d80a3037cdc29b0b70f",
       "version_major": 2,
       "version_minor": 0
      },
      "text/plain": [
       "  0%|          | 0/2149 [00:00<?, ?it/s]"
      ]
     },
     "metadata": {},
     "output_type": "display_data"
    },
    {
     "name": "stdout",
     "output_type": "stream",
     "text": [
      "completed hpcg smlprob bo 3827 (1276506, 12) 10.231268644332886 secs\n",
      "working on /usr/WS2/bolet1/lassen-benchmarks/exploreGlobalOptimizations/logs/hpcg-smlprob/bo-9999\n"
     ]
    },
    {
     "data": {
      "application/vnd.jupyter.widget-view+json": {
       "model_id": "2b753abb03914356a66ea54de8b86e80",
       "version_major": 2,
       "version_minor": 0
      },
      "text/plain": [
       "  0%|          | 0/2605 [00:00<?, ?it/s]"
      ]
     },
     "metadata": {},
     "output_type": "display_data"
    },
    {
     "name": "stdout",
     "output_type": "stream",
     "text": [
      "completed hpcg smlprob bo 9999 (1547370, 12) 12.74342656135559 secs\n",
      "working on /usr/WS2/bolet1/lassen-benchmarks/exploreGlobalOptimizations/logs/hpcg-smlprob/bo-4873\n"
     ]
    },
    {
     "data": {
      "application/vnd.jupyter.widget-view+json": {
       "model_id": "b05b281a271d4f6d918f30b105986ee5",
       "version_major": 2,
       "version_minor": 0
      },
      "text/plain": [
       "  0%|          | 0/2760 [00:00<?, ?it/s]"
      ]
     },
     "metadata": {},
     "output_type": "display_data"
    },
    {
     "name": "stdout",
     "output_type": "stream",
     "text": [
      "completed hpcg smlprob bo 4873 (1639440, 12) 12.609667778015137 secs\n",
      "working on /usr/WS2/bolet1/lassen-benchmarks/exploreGlobalOptimizations/logs/hpcg-medprob/bo-1337\n"
     ]
    },
    {
     "data": {
      "application/vnd.jupyter.widget-view+json": {
       "model_id": "b7ec7ccaaf2d42bc984d30d7e71b44b6",
       "version_major": 2,
       "version_minor": 0
      },
      "text/plain": [
       "  0%|          | 0/2915 [00:00<?, ?it/s]"
      ]
     },
     "metadata": {},
     "output_type": "display_data"
    },
    {
     "name": "stdout",
     "output_type": "stream",
     "text": [
      "completed hpcg medprob bo 1337 (1731510, 12) 15.96357798576355 secs\n",
      "working on /usr/WS2/bolet1/lassen-benchmarks/exploreGlobalOptimizations/logs/hpcg-medprob/bo-3827\n"
     ]
    },
    {
     "data": {
      "application/vnd.jupyter.widget-view+json": {
       "model_id": "39578a19ec694830a4d495878cf02119",
       "version_major": 2,
       "version_minor": 0
      },
      "text/plain": [
       "  0%|          | 0/2705 [00:00<?, ?it/s]"
      ]
     },
     "metadata": {},
     "output_type": "display_data"
    },
    {
     "name": "stdout",
     "output_type": "stream",
     "text": [
      "completed hpcg medprob bo 3827 (1606770, 12) 13.916339874267578 secs\n",
      "working on /usr/WS2/bolet1/lassen-benchmarks/exploreGlobalOptimizations/logs/hpcg-medprob/bo-9999\n"
     ]
    },
    {
     "data": {
      "application/vnd.jupyter.widget-view+json": {
       "model_id": "342dcf381f724b0c9081588809c99d76",
       "version_major": 2,
       "version_minor": 0
      },
      "text/plain": [
       "  0%|          | 0/2930 [00:00<?, ?it/s]"
      ]
     },
     "metadata": {},
     "output_type": "display_data"
    },
    {
     "name": "stdout",
     "output_type": "stream",
     "text": [
      "completed hpcg medprob bo 9999 (1740420, 12) 14.084541320800781 secs\n",
      "working on /usr/WS2/bolet1/lassen-benchmarks/exploreGlobalOptimizations/logs/hpcg-medprob/bo-4873\n"
     ]
    },
    {
     "data": {
      "application/vnd.jupyter.widget-view+json": {
       "model_id": "70d7137aa5eb494c9cf85c494a737a7e",
       "version_major": 2,
       "version_minor": 0
      },
      "text/plain": [
       "  0%|          | 0/2233 [00:00<?, ?it/s]"
      ]
     },
     "metadata": {},
     "output_type": "display_data"
    },
    {
     "name": "stdout",
     "output_type": "stream",
     "text": [
      "completed hpcg medprob bo 4873 (1326402, 12) 10.664465188980103 secs\n",
      "working on /usr/WS2/bolet1/lassen-benchmarks/exploreGlobalOptimizations/logs/hpcg-lrgprob/bo-1337\n"
     ]
    },
    {
     "data": {
      "application/vnd.jupyter.widget-view+json": {
       "model_id": "cafa7f15f32e485dab80f33d48d95fc5",
       "version_major": 2,
       "version_minor": 0
      },
      "text/plain": [
       "  0%|          | 0/2026 [00:00<?, ?it/s]"
      ]
     },
     "metadata": {},
     "output_type": "display_data"
    },
    {
     "name": "stdout",
     "output_type": "stream",
     "text": [
      "completed hpcg lrgprob bo 1337 (1203444, 12) 11.50570011138916 secs\n",
      "working on /usr/WS2/bolet1/lassen-benchmarks/exploreGlobalOptimizations/logs/hpcg-lrgprob/bo-3827\n"
     ]
    },
    {
     "data": {
      "application/vnd.jupyter.widget-view+json": {
       "model_id": "80c6b1e580264e8e9cf4f28ef0de08ee",
       "version_major": 2,
       "version_minor": 0
      },
      "text/plain": [
       "  0%|          | 0/2944 [00:00<?, ?it/s]"
      ]
     },
     "metadata": {},
     "output_type": "display_data"
    },
    {
     "name": "stdout",
     "output_type": "stream",
     "text": [
      "completed hpcg lrgprob bo 3827 (1748736, 12) 15.222428798675537 secs\n",
      "working on /usr/WS2/bolet1/lassen-benchmarks/exploreGlobalOptimizations/logs/hpcg-lrgprob/bo-9999\n"
     ]
    },
    {
     "data": {
      "application/vnd.jupyter.widget-view+json": {
       "model_id": "d53fdce7248b466baa539cbe0bbf2a1d",
       "version_major": 2,
       "version_minor": 0
      },
      "text/plain": [
       "  0%|          | 0/2815 [00:00<?, ?it/s]"
      ]
     },
     "metadata": {},
     "output_type": "display_data"
    },
    {
     "name": "stdout",
     "output_type": "stream",
     "text": [
      "completed hpcg lrgprob bo 9999 (1672110, 12) 13.878768920898438 secs\n",
      "working on /usr/WS2/bolet1/lassen-benchmarks/exploreGlobalOptimizations/logs/hpcg-lrgprob/bo-4873\n"
     ]
    },
    {
     "data": {
      "application/vnd.jupyter.widget-view+json": {
       "model_id": "4d56ba509326466db2eb639ecff0b4e3",
       "version_major": 2,
       "version_minor": 0
      },
      "text/plain": [
       "  0%|          | 0/2560 [00:00<?, ?it/s]"
      ]
     },
     "metadata": {},
     "output_type": "display_data"
    },
    {
     "name": "stdout",
     "output_type": "stream",
     "text": [
      "completed hpcg lrgprob bo 4873 (1520640, 12) 12.722649097442627 secs\n",
      "\n",
      "\n",
      " wrote: /usr/WS2/bolet1/lassen-benchmarks/exploreGlobalOptimizations/databases/lassen-hpcg-bo-GO_Data.csv \n",
      "\n",
      "\n",
      "working on /usr/WS2/bolet1/lassen-benchmarks/exploreGlobalOptimizations/logs/lulesh-smlprob/bo-1337\n"
     ]
    },
    {
     "data": {
      "application/vnd.jupyter.widget-view+json": {
       "model_id": "f49992f4fd67457c88e7618c8a2c744a",
       "version_major": 2,
       "version_minor": 0
      },
      "text/plain": [
       "  0%|          | 0/2814 [00:00<?, ?it/s]"
      ]
     },
     "metadata": {},
     "output_type": "display_data"
    },
    {
     "name": "stdout",
     "output_type": "stream",
     "text": [
      "completed lulesh smlprob bo 1337 (1671516, 12) 17.71883988380432 secs\n",
      "working on /usr/WS2/bolet1/lassen-benchmarks/exploreGlobalOptimizations/logs/lulesh-smlprob/bo-3827\n"
     ]
    },
    {
     "data": {
      "application/vnd.jupyter.widget-view+json": {
       "model_id": "4de6dc407a8d4c1f827a77f3b05fdfe2",
       "version_major": 2,
       "version_minor": 0
      },
      "text/plain": [
       "  0%|          | 0/1311 [00:00<?, ?it/s]"
      ]
     },
     "metadata": {},
     "output_type": "display_data"
    },
    {
     "name": "stdout",
     "output_type": "stream",
     "text": [
      "completed lulesh smlprob bo 3827 (778734, 12) 6.924991607666016 secs\n",
      "working on /usr/WS2/bolet1/lassen-benchmarks/exploreGlobalOptimizations/logs/lulesh-smlprob/bo-9999\n"
     ]
    },
    {
     "data": {
      "application/vnd.jupyter.widget-view+json": {
       "model_id": "981e80796aa646539cdf04059105ffef",
       "version_major": 2,
       "version_minor": 0
      },
      "text/plain": [
       "  0%|          | 0/2655 [00:00<?, ?it/s]"
      ]
     },
     "metadata": {},
     "output_type": "display_data"
    },
    {
     "name": "stdout",
     "output_type": "stream",
     "text": [
      "completed lulesh smlprob bo 9999 (1577070, 12) 13.385542154312134 secs\n",
      "working on /usr/WS2/bolet1/lassen-benchmarks/exploreGlobalOptimizations/logs/lulesh-smlprob/bo-4873\n"
     ]
    },
    {
     "data": {
      "application/vnd.jupyter.widget-view+json": {
       "model_id": "cfa07944145f4552aae4e0bf1bf56381",
       "version_major": 2,
       "version_minor": 0
      },
      "text/plain": [
       "  0%|          | 0/2619 [00:00<?, ?it/s]"
      ]
     },
     "metadata": {},
     "output_type": "display_data"
    },
    {
     "name": "stdout",
     "output_type": "stream",
     "text": [
      "completed lulesh smlprob bo 4873 (1555686, 12) 14.106077671051025 secs\n",
      "working on /usr/WS2/bolet1/lassen-benchmarks/exploreGlobalOptimizations/logs/lulesh-medprob/bo-1337\n"
     ]
    },
    {
     "data": {
      "application/vnd.jupyter.widget-view+json": {
       "model_id": "295063fad0544f7f8b158ae3a8350cdd",
       "version_major": 2,
       "version_minor": 0
      },
      "text/plain": [
       "  0%|          | 0/2662 [00:00<?, ?it/s]"
      ]
     },
     "metadata": {},
     "output_type": "display_data"
    },
    {
     "name": "stdout",
     "output_type": "stream",
     "text": [
      "completed lulesh medprob bo 1337 (1581228, 12) 14.34944486618042 secs\n",
      "working on /usr/WS2/bolet1/lassen-benchmarks/exploreGlobalOptimizations/logs/lulesh-medprob/bo-3827\n"
     ]
    },
    {
     "data": {
      "application/vnd.jupyter.widget-view+json": {
       "model_id": "856759cf6bdf42ed9b8cd994f1c7308b",
       "version_major": 2,
       "version_minor": 0
      },
      "text/plain": [
       "  0%|          | 0/2660 [00:00<?, ?it/s]"
      ]
     },
     "metadata": {},
     "output_type": "display_data"
    },
    {
     "name": "stdout",
     "output_type": "stream",
     "text": [
      "completed lulesh medprob bo 3827 (1580040, 12) 14.716273307800293 secs\n",
      "working on /usr/WS2/bolet1/lassen-benchmarks/exploreGlobalOptimizations/logs/lulesh-medprob/bo-9999\n"
     ]
    },
    {
     "data": {
      "application/vnd.jupyter.widget-view+json": {
       "model_id": "fd287466ca454956a479a8475c649354",
       "version_major": 2,
       "version_minor": 0
      },
      "text/plain": [
       "  0%|          | 0/2605 [00:00<?, ?it/s]"
      ]
     },
     "metadata": {},
     "output_type": "display_data"
    },
    {
     "name": "stdout",
     "output_type": "stream",
     "text": [
      "completed lulesh medprob bo 9999 (1547370, 12) 11.77702784538269 secs\n",
      "working on /usr/WS2/bolet1/lassen-benchmarks/exploreGlobalOptimizations/logs/lulesh-medprob/bo-4873\n"
     ]
    },
    {
     "data": {
      "application/vnd.jupyter.widget-view+json": {
       "model_id": "d110079bb41e40c3a2029bd358e51ff8",
       "version_major": 2,
       "version_minor": 0
      },
      "text/plain": [
       "  0%|          | 0/2573 [00:00<?, ?it/s]"
      ]
     },
     "metadata": {},
     "output_type": "display_data"
    },
    {
     "name": "stdout",
     "output_type": "stream",
     "text": [
      "completed lulesh medprob bo 4873 (1528362, 12) 12.688869953155518 secs\n",
      "working on /usr/WS2/bolet1/lassen-benchmarks/exploreGlobalOptimizations/logs/lulesh-lrgprob/bo-1337\n"
     ]
    },
    {
     "data": {
      "application/vnd.jupyter.widget-view+json": {
       "model_id": "b1577e0d8bae43e49f409f999761f9f0",
       "version_major": 2,
       "version_minor": 0
      },
      "text/plain": [
       "  0%|          | 0/2726 [00:00<?, ?it/s]"
      ]
     },
     "metadata": {},
     "output_type": "display_data"
    },
    {
     "name": "stdout",
     "output_type": "stream",
     "text": [
      "completed lulesh lrgprob bo 1337 (1619244, 12) 15.287299633026123 secs\n",
      "working on /usr/WS2/bolet1/lassen-benchmarks/exploreGlobalOptimizations/logs/lulesh-lrgprob/bo-3827\n"
     ]
    },
    {
     "data": {
      "application/vnd.jupyter.widget-view+json": {
       "model_id": "08c8a6dc169840ff9aa0de73e4cad40e",
       "version_major": 2,
       "version_minor": 0
      },
      "text/plain": [
       "  0%|          | 0/2743 [00:00<?, ?it/s]"
      ]
     },
     "metadata": {},
     "output_type": "display_data"
    },
    {
     "name": "stdout",
     "output_type": "stream",
     "text": [
      "completed lulesh lrgprob bo 3827 (1629342, 12) 14.312270879745483 secs\n",
      "working on /usr/WS2/bolet1/lassen-benchmarks/exploreGlobalOptimizations/logs/lulesh-lrgprob/bo-9999\n"
     ]
    },
    {
     "data": {
      "application/vnd.jupyter.widget-view+json": {
       "model_id": "a14f5af6b0a94a5089b7cf14568d4b05",
       "version_major": 2,
       "version_minor": 0
      },
      "text/plain": [
       "  0%|          | 0/2573 [00:00<?, ?it/s]"
      ]
     },
     "metadata": {},
     "output_type": "display_data"
    },
    {
     "name": "stdout",
     "output_type": "stream",
     "text": [
      "completed lulesh lrgprob bo 9999 (1528362, 12) 13.934394359588623 secs\n",
      "working on /usr/WS2/bolet1/lassen-benchmarks/exploreGlobalOptimizations/logs/lulesh-lrgprob/bo-4873\n"
     ]
    },
    {
     "data": {
      "application/vnd.jupyter.widget-view+json": {
       "model_id": "67a35ea83fa846e7ae6a7829f20ccc1c",
       "version_major": 2,
       "version_minor": 0
      },
      "text/plain": [
       "  0%|          | 0/2577 [00:00<?, ?it/s]"
      ]
     },
     "metadata": {},
     "output_type": "display_data"
    },
    {
     "name": "stdout",
     "output_type": "stream",
     "text": [
      "completed lulesh lrgprob bo 4873 (1530738, 12) 13.4993155002594 secs\n",
      "\n",
      "\n",
      " wrote: /usr/WS2/bolet1/lassen-benchmarks/exploreGlobalOptimizations/databases/lassen-lulesh-bo-GO_Data.csv \n",
      "\n",
      "\n"
     ]
    }
   ],
   "source": [
    "preprocessAllLogs()"
   ]
  }
 ],
 "metadata": {
  "kernelspec": {
   "display_name": "python3.10.8-gregvirtenv",
   "language": "python",
   "name": "python3"
  },
  "language_info": {
   "codemirror_mode": {
    "name": "ipython",
    "version": 3
   },
   "file_extension": ".py",
   "mimetype": "text/x-python",
   "name": "python",
   "nbconvert_exporter": "python",
   "pygments_lexer": "ipython3",
   "version": "3.10.8"
  },
  "orig_nbformat": 4
 },
 "nbformat": 4,
 "nbformat_minor": 2
}
