{
 "cells": [
  {
   "cell_type": "code",
   "execution_count": 1,
   "metadata": {},
   "outputs": [
    {
     "name": "stdout",
     "output_type": "stream",
     "text": [
      "ROOT_DIR /usr/WS2/bolet1/ruby-benchmarks/exploreGlobalOptimizations\n"
     ]
    }
   ],
   "source": [
    "import pandas as pd\n",
    "import numpy as np\n",
    "from benchmarks import *\n",
    "import glob\n",
    "import os, sys\n",
    "import seaborn as sns\n",
    "import matplotlib.pyplot as plt\n",
    "import re\n",
    "import time\n",
    "from tqdm.notebook import tqdm"
   ]
  },
  {
   "cell_type": "code",
   "execution_count": 2,
   "metadata": {},
   "outputs": [
    {
     "name": "stdout",
     "output_type": "stream",
     "text": [
      "ruby /usr/WS2/bolet1/ruby-benchmarks/exploreGlobalOptimizations\n"
     ]
    }
   ],
   "source": [
    "MACHINE = 'lassen' if 'lassen' in ROOT_DIR else 'ruby'\n",
    "print(MACHINE, ROOT_DIR)\n",
    "prognames = list(progs.keys())\n",
    "probsizes = ['smlprob', 'medprob', 'lrgprob']\n",
    "\n",
    "logsDir = ROOT_DIR+'/logs'\n",
    "\n",
    "goMethods=['cma', 'pso', 'bo']\n",
    "seeds = [1337, 3827, 9999, 4873]"
   ]
  },
  {
   "cell_type": "code",
   "execution_count": 3,
   "metadata": {},
   "outputs": [],
   "source": [
    "def getHypersFromFilename(filename):\n",
    "\n",
    "\t# cut the path out if it has a path, and remove the .csv extension\n",
    "\tfilename = os.path.splitext(os.path.basename(filename))[0]\n",
    "\n",
    "\tif '-BO-' in filename:\n",
    "\t\tif '-ucb-' in filename:\n",
    "\t\t\tfilename = filename[filename.find('-ucb-')+5:]\n",
    "\t\t\tfound = re.findall(r'(?:k)(.*)(?:-kd)(.*)(?:-kdd)(.*)(?:--DONE)',filename)[0]\n",
    "\t\t\tk = float(found[0])\n",
    "\t\t\tkd = float(found[1])\n",
    "\t\t\tkdd = int(found[2])\n",
    "\t\t\treturn {'utilFnct':'ucb', 'kappa':k, 'kappa_decay':kd, 'kappa_decay_delay':kdd}\n",
    "\t\t\n",
    "\t\telif '-ei-' in filename:\n",
    "\t\t\tfilename = filename[filename.find('-ei-')+4:]\n",
    "\t\t\tfound = re.findall(r'(?:xi)(.*)(?:--DONE)',filename)[0]\n",
    "\t\t\txi = float(found)\n",
    "\t\t\treturn {'utilFnct':'ei', 'xi':xi}\n",
    "\t\t\n",
    "\t\telif '-poi-' in filename:\n",
    "\t\t\tfilename = filename[filename.find('-poi-')+5:]\n",
    "\t\t\tfound = re.findall(r'(?:xi)(.*)(?:--DONE)',filename)[0]\n",
    "\t\t\txi = float(found)\n",
    "\t\t\treturn {'utilFnct':'poi', 'xi':xi}\n",
    "\n",
    "\telif '-PSO-' in filename:\n",
    "\t\t\tfilename = filename[filename.find('-PSO-')+5:]\n",
    "\t\t\tfound = re.findall(r'(?:pop)(.*)(?:-w)(.*)(?:-c1)(.*)(?:-c2)(.*)(?:--DONE)',filename)[0]\n",
    "\t\t\tpop = int(found[0])\n",
    "\t\t\tw = float(found[1])\n",
    "\t\t\tc1 = float(found[2])\n",
    "\t\t\tc2 = float(found[3])\n",
    "\t\t\treturn {'popsize':pop, 'w':w, 'c1':c1, 'c2':c2}\n",
    "\t\n",
    "\telif '-CMA-' in filename:\n",
    "\t\t\tfilename = filename[filename.find('-CMA-')+5:]\n",
    "\t\t\tfound = re.findall(r'(?:sigma)(.*)(?:-pop)(.*)(?:-popdecay)(.*)(?:--DONE)',filename)[0]\n",
    "\t\t\tsigma = float(found[0])\n",
    "\t\t\tpop = int(found[1])\n",
    "\t\t\tpd = float(found[2])\n",
    "\t\t\t#return {'method':'cma', 'sigma':sigma, 'popsize':pop, 'popdecay':pd}\n",
    "\t\t\t# excluded popdecay in experiments\n",
    "\t\t\treturn {'sigma':sigma, 'popsize':pop}\n",
    "\t\n",
    "\telse:\n",
    "\t\tprint('no GO method in filename...')\n",
    "\t\traise ValueError('Failed to provide a string path with a GO Method')\n",
    "\t\treturn\n"
   ]
  },
  {
   "cell_type": "code",
   "execution_count": 4,
   "metadata": {},
   "outputs": [],
   "source": [
    "def getData(progname, probsize, method, seed):\n",
    "\tmainDF = pd.DataFrame(columns=['progname', 'probsize', 'method', 'seed'])\n",
    "\tstartTime = time.time()\n",
    "\n",
    "\tdir = logsDir+f'/{progname}-{probsize}/{method}-{seed}'\n",
    "\tprint('working on', dir)\n",
    "\t# check that the directory exists\n",
    "\t# grab the completed data\n",
    "\tcsvs = glob.glob(dir+'/*DONE.csv')\n",
    "\n",
    "\t# read in each of the dataframe, then contatenate them all at once\n",
    "\treadin = []\n",
    "\tfor csv in tqdm(csvs):\n",
    "\t\t# extract the hyperparam values from the filename\n",
    "\t\thypers = getHypersFromFilename(csv)\n",
    "\t\ttoadd = pd.read_csv(csv, usecols=['globalSample', 'optimXtime', 'xtime'])\n",
    "\n",
    "\t\t# add the extra columns\n",
    "\t\tfor hyper,val in hypers.items():\n",
    "\t\t\ttoadd[hyper] = val\n",
    "\n",
    "\t\treadin += [toadd]\n",
    "\n",
    "\tmainDF = pd.concat([mainDF]+readin, ignore_index=True)\n",
    "\n",
    "\tmainDF['progname'] = progname\n",
    "\tmainDF['probsize'] = probsize\n",
    "\tmainDF['method'] = method\n",
    "\tmainDF['seed'] = seed \n",
    "\n",
    "\tprint('completed', progname, probsize, method, seed, mainDF.shape, (time.time() - startTime), 'secs')\t\t\n",
    "\treturn mainDF"
   ]
  },
  {
   "cell_type": "code",
   "execution_count": 5,
   "metadata": {},
   "outputs": [],
   "source": [
    "dbFile = f'{MACHINE}-fullExploreDataset.csv'\n",
    "xtimeDB = pd.read_csv(ROOT_DIR+'/databases/'+dbFile)\n",
    "\n",
    "def getMinMaxXtimeForProg(progname, probsize):\n",
    "\tdf = xtimeDB[(xtimeDB['progname'] == progname) & \n",
    "\t\t\t\t\t\t\t (xtimeDB['probsize'] == probsize)]['xtime']\n",
    "\treturn (df.min(), df.max())\n",
    "\n",
    "# 0 will mean close to maxXtime\n",
    "# 1 will mean close to minXtime\n",
    "def convertXtimesToPercent(df, minXtime, maxXtime):\n",
    "\tdf['xtime'] = 1 - (df['xtime']-minXtime)/(maxXtime-minXtime)\n",
    "\treturn\n"
   ]
  },
  {
   "cell_type": "code",
   "execution_count": 6,
   "metadata": {},
   "outputs": [],
   "source": [
    "def preprocessAllLogs():\n",
    "\n",
    "\tfor method in goMethods:\n",
    "\t\tfor progname in prognames:\n",
    "\t\t\t# gather all the data\n",
    "\t\t\ttoJoin = []\n",
    "\t\t\tfor probsize in probsizes:\n",
    "\t\t\t\tminXtime, maxXtime = getMinMaxXtimeForProg(progname, probsize)\n",
    "\t\t\t\tfor seed in seeds:\n",
    "\t\t\t\t\tdf = getData(progname, probsize, method, seed)\n",
    "\n",
    "\t\t\t\t\t# if there's no data\n",
    "\t\t\t\t\tif df.shape[0] == 0:\n",
    "\t\t\t\t\t\tcontinue\n",
    "\t\t\t\t\tconvertXtimesToPercent(df, minXtime, maxXtime)\n",
    "\t\t\t\t\ttoJoin += [df]\n",
    "\n",
    "\t\t\t# if there's no data to join\n",
    "\t\t\tif len(toJoin) == 0:\n",
    "\t\t\t\tcontinue\n",
    "\n",
    "\t\t\tfullDF = pd.concat(toJoin, ignore_index=True)\n",
    "\n",
    "\t\t\t# let's save the dataframe for future re-use\n",
    "\t\t\tfilename = ROOT_DIR+'/databases/'+f'{MACHINE}-{progname}-{method}-GO_Data.csv'\n",
    "\t\t\tprint('\\n\\n wrote:', filename, '\\n\\n')\n",
    "\t\t\tfullDF.to_csv(filename, index=False)\n",
    "\treturn"
   ]
  },
  {
   "cell_type": "code",
   "execution_count": 7,
   "metadata": {},
   "outputs": [
    {
     "name": "stdout",
     "output_type": "stream",
     "text": [
      "working on /usr/WS2/bolet1/ruby-benchmarks/exploreGlobalOptimizations/logs/bt_nas-smlprob/cma-1337\n"
     ]
    },
    {
     "data": {
      "application/vnd.jupyter.widget-view+json": {
       "model_id": "a1cd527aeb394860b6e6d6fe2afa28f3",
       "version_major": 2,
       "version_minor": 0
      },
      "text/plain": [
       "  0%|          | 0/100 [00:00<?, ?it/s]"
      ]
     },
     "metadata": {},
     "output_type": "display_data"
    },
    {
     "name": "stdout",
     "output_type": "stream",
     "text": [
      "completed bt_nas smlprob cma 1337 (30000, 9) 2.1356070041656494 secs\n",
      "working on /usr/WS2/bolet1/ruby-benchmarks/exploreGlobalOptimizations/logs/bt_nas-smlprob/cma-3827\n"
     ]
    },
    {
     "data": {
      "application/vnd.jupyter.widget-view+json": {
       "model_id": "b7a0fcd97726439fb52a2b9f4e0d330e",
       "version_major": 2,
       "version_minor": 0
      },
      "text/plain": [
       "  0%|          | 0/100 [00:00<?, ?it/s]"
      ]
     },
     "metadata": {},
     "output_type": "display_data"
    },
    {
     "name": "stdout",
     "output_type": "stream",
     "text": [
      "completed bt_nas smlprob cma 3827 (30000, 9) 1.794142246246338 secs\n",
      "working on /usr/WS2/bolet1/ruby-benchmarks/exploreGlobalOptimizations/logs/bt_nas-smlprob/cma-9999\n"
     ]
    },
    {
     "data": {
      "application/vnd.jupyter.widget-view+json": {
       "model_id": "7b31002e24d242a1ac122a03b9d6a53b",
       "version_major": 2,
       "version_minor": 0
      },
      "text/plain": [
       "  0%|          | 0/100 [00:00<?, ?it/s]"
      ]
     },
     "metadata": {},
     "output_type": "display_data"
    },
    {
     "name": "stdout",
     "output_type": "stream",
     "text": [
      "completed bt_nas smlprob cma 9999 (30000, 9) 1.3348751068115234 secs\n",
      "working on /usr/WS2/bolet1/ruby-benchmarks/exploreGlobalOptimizations/logs/bt_nas-smlprob/cma-4873\n"
     ]
    },
    {
     "data": {
      "application/vnd.jupyter.widget-view+json": {
       "model_id": "6c4d665c2c2449bf9baf229efda65b8a",
       "version_major": 2,
       "version_minor": 0
      },
      "text/plain": [
       "  0%|          | 0/100 [00:00<?, ?it/s]"
      ]
     },
     "metadata": {},
     "output_type": "display_data"
    },
    {
     "name": "stdout",
     "output_type": "stream",
     "text": [
      "completed bt_nas smlprob cma 4873 (30000, 9) 1.7350795269012451 secs\n",
      "working on /usr/WS2/bolet1/ruby-benchmarks/exploreGlobalOptimizations/logs/bt_nas-medprob/cma-1337\n"
     ]
    },
    {
     "data": {
      "application/vnd.jupyter.widget-view+json": {
       "model_id": "c1c95b71bf4b4c259695bff6004b1240",
       "version_major": 2,
       "version_minor": 0
      },
      "text/plain": [
       "  0%|          | 0/100 [00:00<?, ?it/s]"
      ]
     },
     "metadata": {},
     "output_type": "display_data"
    },
    {
     "name": "stdout",
     "output_type": "stream",
     "text": [
      "completed bt_nas medprob cma 1337 (30000, 9) 1.6239373683929443 secs\n",
      "working on /usr/WS2/bolet1/ruby-benchmarks/exploreGlobalOptimizations/logs/bt_nas-medprob/cma-3827\n"
     ]
    },
    {
     "data": {
      "application/vnd.jupyter.widget-view+json": {
       "model_id": "95f5b7621cf04541833d1e44c7562cdb",
       "version_major": 2,
       "version_minor": 0
      },
      "text/plain": [
       "  0%|          | 0/100 [00:00<?, ?it/s]"
      ]
     },
     "metadata": {},
     "output_type": "display_data"
    },
    {
     "name": "stdout",
     "output_type": "stream",
     "text": [
      "completed bt_nas medprob cma 3827 (30000, 9) 1.5210270881652832 secs\n",
      "working on /usr/WS2/bolet1/ruby-benchmarks/exploreGlobalOptimizations/logs/bt_nas-medprob/cma-9999\n"
     ]
    },
    {
     "data": {
      "application/vnd.jupyter.widget-view+json": {
       "model_id": "676b52ba4c134eef8f3c5af243c487ad",
       "version_major": 2,
       "version_minor": 0
      },
      "text/plain": [
       "  0%|          | 0/100 [00:00<?, ?it/s]"
      ]
     },
     "metadata": {},
     "output_type": "display_data"
    },
    {
     "name": "stdout",
     "output_type": "stream",
     "text": [
      "completed bt_nas medprob cma 9999 (30000, 9) 2.00704026222229 secs\n",
      "working on /usr/WS2/bolet1/ruby-benchmarks/exploreGlobalOptimizations/logs/bt_nas-medprob/cma-4873\n"
     ]
    },
    {
     "data": {
      "application/vnd.jupyter.widget-view+json": {
       "model_id": "1d33f91e16a54d0e9dc213c6e90cfd69",
       "version_major": 2,
       "version_minor": 0
      },
      "text/plain": [
       "  0%|          | 0/100 [00:00<?, ?it/s]"
      ]
     },
     "metadata": {},
     "output_type": "display_data"
    },
    {
     "name": "stdout",
     "output_type": "stream",
     "text": [
      "completed bt_nas medprob cma 4873 (30000, 9) 1.7964262962341309 secs\n",
      "working on /usr/WS2/bolet1/ruby-benchmarks/exploreGlobalOptimizations/logs/bt_nas-lrgprob/cma-1337\n"
     ]
    },
    {
     "data": {
      "application/vnd.jupyter.widget-view+json": {
       "model_id": "ea19aee42b294a4ca83c6254b74fb5ca",
       "version_major": 2,
       "version_minor": 0
      },
      "text/plain": [
       "  0%|          | 0/100 [00:00<?, ?it/s]"
      ]
     },
     "metadata": {},
     "output_type": "display_data"
    },
    {
     "name": "stdout",
     "output_type": "stream",
     "text": [
      "completed bt_nas lrgprob cma 1337 (30000, 9) 2.576075315475464 secs\n",
      "working on /usr/WS2/bolet1/ruby-benchmarks/exploreGlobalOptimizations/logs/bt_nas-lrgprob/cma-3827\n"
     ]
    },
    {
     "data": {
      "application/vnd.jupyter.widget-view+json": {
       "model_id": "2c4e666cdc5c495b9a78bae9a5bff0a5",
       "version_major": 2,
       "version_minor": 0
      },
      "text/plain": [
       "  0%|          | 0/100 [00:00<?, ?it/s]"
      ]
     },
     "metadata": {},
     "output_type": "display_data"
    },
    {
     "name": "stdout",
     "output_type": "stream",
     "text": [
      "completed bt_nas lrgprob cma 3827 (30000, 9) 1.9749021530151367 secs\n",
      "working on /usr/WS2/bolet1/ruby-benchmarks/exploreGlobalOptimizations/logs/bt_nas-lrgprob/cma-9999\n"
     ]
    },
    {
     "data": {
      "application/vnd.jupyter.widget-view+json": {
       "model_id": "d61dabdb84c441499a7f236d516d1171",
       "version_major": 2,
       "version_minor": 0
      },
      "text/plain": [
       "  0%|          | 0/100 [00:00<?, ?it/s]"
      ]
     },
     "metadata": {},
     "output_type": "display_data"
    },
    {
     "name": "stdout",
     "output_type": "stream",
     "text": [
      "completed bt_nas lrgprob cma 9999 (30000, 9) 1.388399600982666 secs\n",
      "working on /usr/WS2/bolet1/ruby-benchmarks/exploreGlobalOptimizations/logs/bt_nas-lrgprob/cma-4873\n"
     ]
    },
    {
     "data": {
      "application/vnd.jupyter.widget-view+json": {
       "model_id": "d922dcd1c7804e748cc133b6d14b9fd3",
       "version_major": 2,
       "version_minor": 0
      },
      "text/plain": [
       "  0%|          | 0/100 [00:00<?, ?it/s]"
      ]
     },
     "metadata": {},
     "output_type": "display_data"
    },
    {
     "name": "stdout",
     "output_type": "stream",
     "text": [
      "completed bt_nas lrgprob cma 4873 (30000, 9) 3.560023069381714 secs\n",
      "\n",
      "\n",
      " wrote: /usr/WS2/bolet1/ruby-benchmarks/exploreGlobalOptimizations/databases/ruby-bt_nas-cma-GO_Data.csv \n",
      "\n",
      "\n",
      "working on /usr/WS2/bolet1/ruby-benchmarks/exploreGlobalOptimizations/logs/cg_nas-smlprob/cma-1337\n"
     ]
    },
    {
     "data": {
      "application/vnd.jupyter.widget-view+json": {
       "model_id": "9dea4f6bd66a479d90f334c95ba9f1da",
       "version_major": 2,
       "version_minor": 0
      },
      "text/plain": [
       "  0%|          | 0/100 [00:00<?, ?it/s]"
      ]
     },
     "metadata": {},
     "output_type": "display_data"
    },
    {
     "name": "stdout",
     "output_type": "stream",
     "text": [
      "completed cg_nas smlprob cma 1337 (30000, 9) 2.002579927444458 secs\n",
      "working on /usr/WS2/bolet1/ruby-benchmarks/exploreGlobalOptimizations/logs/cg_nas-smlprob/cma-3827\n"
     ]
    },
    {
     "data": {
      "application/vnd.jupyter.widget-view+json": {
       "model_id": "5ab5dea6fdb748e69b78a146f543b323",
       "version_major": 2,
       "version_minor": 0
      },
      "text/plain": [
       "  0%|          | 0/100 [00:00<?, ?it/s]"
      ]
     },
     "metadata": {},
     "output_type": "display_data"
    },
    {
     "name": "stdout",
     "output_type": "stream",
     "text": [
      "completed cg_nas smlprob cma 3827 (30000, 9) 1.855374813079834 secs\n",
      "working on /usr/WS2/bolet1/ruby-benchmarks/exploreGlobalOptimizations/logs/cg_nas-smlprob/cma-9999\n"
     ]
    },
    {
     "data": {
      "application/vnd.jupyter.widget-view+json": {
       "model_id": "71defb8072664efc94f1b6f993d84dbc",
       "version_major": 2,
       "version_minor": 0
      },
      "text/plain": [
       "  0%|          | 0/100 [00:00<?, ?it/s]"
      ]
     },
     "metadata": {},
     "output_type": "display_data"
    },
    {
     "name": "stdout",
     "output_type": "stream",
     "text": [
      "completed cg_nas smlprob cma 9999 (30000, 9) 1.570889949798584 secs\n",
      "working on /usr/WS2/bolet1/ruby-benchmarks/exploreGlobalOptimizations/logs/cg_nas-smlprob/cma-4873\n"
     ]
    },
    {
     "data": {
      "application/vnd.jupyter.widget-view+json": {
       "model_id": "f75850a6d99543f6b939092121859306",
       "version_major": 2,
       "version_minor": 0
      },
      "text/plain": [
       "  0%|          | 0/100 [00:00<?, ?it/s]"
      ]
     },
     "metadata": {},
     "output_type": "display_data"
    },
    {
     "name": "stdout",
     "output_type": "stream",
     "text": [
      "completed cg_nas smlprob cma 4873 (30000, 9) 1.714811086654663 secs\n",
      "working on /usr/WS2/bolet1/ruby-benchmarks/exploreGlobalOptimizations/logs/cg_nas-medprob/cma-1337\n"
     ]
    },
    {
     "data": {
      "application/vnd.jupyter.widget-view+json": {
       "model_id": "7bc06e1fbbc84457a15297b71a9a69b4",
       "version_major": 2,
       "version_minor": 0
      },
      "text/plain": [
       "  0%|          | 0/100 [00:00<?, ?it/s]"
      ]
     },
     "metadata": {},
     "output_type": "display_data"
    },
    {
     "name": "stdout",
     "output_type": "stream",
     "text": [
      "completed cg_nas medprob cma 1337 (30000, 9) 1.706597089767456 secs\n",
      "working on /usr/WS2/bolet1/ruby-benchmarks/exploreGlobalOptimizations/logs/cg_nas-medprob/cma-3827\n"
     ]
    },
    {
     "data": {
      "application/vnd.jupyter.widget-view+json": {
       "model_id": "ac0e0a96910a42e4a8f69928cdca3f97",
       "version_major": 2,
       "version_minor": 0
      },
      "text/plain": [
       "  0%|          | 0/100 [00:00<?, ?it/s]"
      ]
     },
     "metadata": {},
     "output_type": "display_data"
    },
    {
     "name": "stdout",
     "output_type": "stream",
     "text": [
      "completed cg_nas medprob cma 3827 (30000, 9) 1.6696279048919678 secs\n",
      "working on /usr/WS2/bolet1/ruby-benchmarks/exploreGlobalOptimizations/logs/cg_nas-medprob/cma-9999\n"
     ]
    },
    {
     "data": {
      "application/vnd.jupyter.widget-view+json": {
       "model_id": "930cc1bd761b4e34942781acde20f1d5",
       "version_major": 2,
       "version_minor": 0
      },
      "text/plain": [
       "  0%|          | 0/100 [00:00<?, ?it/s]"
      ]
     },
     "metadata": {},
     "output_type": "display_data"
    },
    {
     "name": "stdout",
     "output_type": "stream",
     "text": [
      "completed cg_nas medprob cma 9999 (30000, 9) 1.5445518493652344 secs\n",
      "working on /usr/WS2/bolet1/ruby-benchmarks/exploreGlobalOptimizations/logs/cg_nas-medprob/cma-4873\n"
     ]
    },
    {
     "data": {
      "application/vnd.jupyter.widget-view+json": {
       "model_id": "ee68cb36fb4b47d7a37e969ee8f3a407",
       "version_major": 2,
       "version_minor": 0
      },
      "text/plain": [
       "  0%|          | 0/100 [00:00<?, ?it/s]"
      ]
     },
     "metadata": {},
     "output_type": "display_data"
    },
    {
     "name": "stdout",
     "output_type": "stream",
     "text": [
      "completed cg_nas medprob cma 4873 (30000, 9) 2.4241771697998047 secs\n",
      "working on /usr/WS2/bolet1/ruby-benchmarks/exploreGlobalOptimizations/logs/cg_nas-lrgprob/cma-1337\n"
     ]
    },
    {
     "data": {
      "application/vnd.jupyter.widget-view+json": {
       "model_id": "b3e8c62f8ab648529108e7abddc2b91e",
       "version_major": 2,
       "version_minor": 0
      },
      "text/plain": [
       "  0%|          | 0/100 [00:00<?, ?it/s]"
      ]
     },
     "metadata": {},
     "output_type": "display_data"
    },
    {
     "name": "stdout",
     "output_type": "stream",
     "text": [
      "completed cg_nas lrgprob cma 1337 (30000, 9) 1.7912869453430176 secs\n",
      "working on /usr/WS2/bolet1/ruby-benchmarks/exploreGlobalOptimizations/logs/cg_nas-lrgprob/cma-3827\n"
     ]
    },
    {
     "data": {
      "application/vnd.jupyter.widget-view+json": {
       "model_id": "f126cdd2533e451083ff89a99906f182",
       "version_major": 2,
       "version_minor": 0
      },
      "text/plain": [
       "  0%|          | 0/100 [00:00<?, ?it/s]"
      ]
     },
     "metadata": {},
     "output_type": "display_data"
    },
    {
     "name": "stdout",
     "output_type": "stream",
     "text": [
      "completed cg_nas lrgprob cma 3827 (30000, 9) 1.5892887115478516 secs\n",
      "working on /usr/WS2/bolet1/ruby-benchmarks/exploreGlobalOptimizations/logs/cg_nas-lrgprob/cma-9999\n"
     ]
    },
    {
     "data": {
      "application/vnd.jupyter.widget-view+json": {
       "model_id": "69382b709492403795ae7aff251cdf27",
       "version_major": 2,
       "version_minor": 0
      },
      "text/plain": [
       "  0%|          | 0/100 [00:00<?, ?it/s]"
      ]
     },
     "metadata": {},
     "output_type": "display_data"
    },
    {
     "name": "stdout",
     "output_type": "stream",
     "text": [
      "completed cg_nas lrgprob cma 9999 (30000, 9) 1.3921749591827393 secs\n",
      "working on /usr/WS2/bolet1/ruby-benchmarks/exploreGlobalOptimizations/logs/cg_nas-lrgprob/cma-4873\n"
     ]
    },
    {
     "data": {
      "application/vnd.jupyter.widget-view+json": {
       "model_id": "97341e18e5b740e3802c4ade94261a7d",
       "version_major": 2,
       "version_minor": 0
      },
      "text/plain": [
       "  0%|          | 0/100 [00:00<?, ?it/s]"
      ]
     },
     "metadata": {},
     "output_type": "display_data"
    },
    {
     "name": "stdout",
     "output_type": "stream",
     "text": [
      "completed cg_nas lrgprob cma 4873 (30000, 9) 1.7482609748840332 secs\n",
      "\n",
      "\n",
      " wrote: /usr/WS2/bolet1/ruby-benchmarks/exploreGlobalOptimizations/databases/ruby-cg_nas-cma-GO_Data.csv \n",
      "\n",
      "\n",
      "working on /usr/WS2/bolet1/ruby-benchmarks/exploreGlobalOptimizations/logs/ft_nas-smlprob/cma-1337\n"
     ]
    },
    {
     "data": {
      "application/vnd.jupyter.widget-view+json": {
       "model_id": "4fb09edd339e4982ab5feb5c6ab39e3c",
       "version_major": 2,
       "version_minor": 0
      },
      "text/plain": [
       "  0%|          | 0/100 [00:00<?, ?it/s]"
      ]
     },
     "metadata": {},
     "output_type": "display_data"
    },
    {
     "name": "stdout",
     "output_type": "stream",
     "text": [
      "completed ft_nas smlprob cma 1337 (30000, 9) 1.4360167980194092 secs\n",
      "working on /usr/WS2/bolet1/ruby-benchmarks/exploreGlobalOptimizations/logs/ft_nas-smlprob/cma-3827\n"
     ]
    },
    {
     "data": {
      "application/vnd.jupyter.widget-view+json": {
       "model_id": "8c772ae7fa0d4953a3f464a2c6f1baa8",
       "version_major": 2,
       "version_minor": 0
      },
      "text/plain": [
       "  0%|          | 0/100 [00:00<?, ?it/s]"
      ]
     },
     "metadata": {},
     "output_type": "display_data"
    },
    {
     "name": "stdout",
     "output_type": "stream",
     "text": [
      "completed ft_nas smlprob cma 3827 (30000, 9) 1.940690279006958 secs\n",
      "working on /usr/WS2/bolet1/ruby-benchmarks/exploreGlobalOptimizations/logs/ft_nas-smlprob/cma-9999\n"
     ]
    },
    {
     "data": {
      "application/vnd.jupyter.widget-view+json": {
       "model_id": "7fa756f8f5284e97bcaacf954e9ff504",
       "version_major": 2,
       "version_minor": 0
      },
      "text/plain": [
       "  0%|          | 0/100 [00:00<?, ?it/s]"
      ]
     },
     "metadata": {},
     "output_type": "display_data"
    },
    {
     "name": "stdout",
     "output_type": "stream",
     "text": [
      "completed ft_nas smlprob cma 9999 (30000, 9) 1.4222259521484375 secs\n",
      "working on /usr/WS2/bolet1/ruby-benchmarks/exploreGlobalOptimizations/logs/ft_nas-smlprob/cma-4873\n"
     ]
    },
    {
     "data": {
      "application/vnd.jupyter.widget-view+json": {
       "model_id": "c3895907ad4c450ab1bc21ae905f62cd",
       "version_major": 2,
       "version_minor": 0
      },
      "text/plain": [
       "  0%|          | 0/100 [00:00<?, ?it/s]"
      ]
     },
     "metadata": {},
     "output_type": "display_data"
    },
    {
     "name": "stdout",
     "output_type": "stream",
     "text": [
      "completed ft_nas smlprob cma 4873 (30000, 9) 1.640289068222046 secs\n",
      "working on /usr/WS2/bolet1/ruby-benchmarks/exploreGlobalOptimizations/logs/ft_nas-medprob/cma-1337\n"
     ]
    },
    {
     "data": {
      "application/vnd.jupyter.widget-view+json": {
       "model_id": "7568c424d7b14ba8936d46fc853f4651",
       "version_major": 2,
       "version_minor": 0
      },
      "text/plain": [
       "  0%|          | 0/100 [00:00<?, ?it/s]"
      ]
     },
     "metadata": {},
     "output_type": "display_data"
    },
    {
     "name": "stdout",
     "output_type": "stream",
     "text": [
      "completed ft_nas medprob cma 1337 (30000, 9) 1.488344669342041 secs\n",
      "working on /usr/WS2/bolet1/ruby-benchmarks/exploreGlobalOptimizations/logs/ft_nas-medprob/cma-3827\n"
     ]
    },
    {
     "data": {
      "application/vnd.jupyter.widget-view+json": {
       "model_id": "4e0257321f5b4510a2409698142ba26b",
       "version_major": 2,
       "version_minor": 0
      },
      "text/plain": [
       "  0%|          | 0/100 [00:00<?, ?it/s]"
      ]
     },
     "metadata": {},
     "output_type": "display_data"
    },
    {
     "name": "stdout",
     "output_type": "stream",
     "text": [
      "completed ft_nas medprob cma 3827 (30000, 9) 1.2905404567718506 secs\n",
      "working on /usr/WS2/bolet1/ruby-benchmarks/exploreGlobalOptimizations/logs/ft_nas-medprob/cma-9999\n"
     ]
    },
    {
     "data": {
      "application/vnd.jupyter.widget-view+json": {
       "model_id": "eddcf6cdcdb546319941b3db7c9ebbb6",
       "version_major": 2,
       "version_minor": 0
      },
      "text/plain": [
       "  0%|          | 0/100 [00:00<?, ?it/s]"
      ]
     },
     "metadata": {},
     "output_type": "display_data"
    },
    {
     "name": "stdout",
     "output_type": "stream",
     "text": [
      "completed ft_nas medprob cma 9999 (30000, 9) 1.557750940322876 secs\n",
      "working on /usr/WS2/bolet1/ruby-benchmarks/exploreGlobalOptimizations/logs/ft_nas-medprob/cma-4873\n"
     ]
    },
    {
     "data": {
      "application/vnd.jupyter.widget-view+json": {
       "model_id": "a17c6806d4234b6c8ac3a63ce0687663",
       "version_major": 2,
       "version_minor": 0
      },
      "text/plain": [
       "  0%|          | 0/100 [00:00<?, ?it/s]"
      ]
     },
     "metadata": {},
     "output_type": "display_data"
    },
    {
     "name": "stdout",
     "output_type": "stream",
     "text": [
      "completed ft_nas medprob cma 4873 (30000, 9) 1.9571566581726074 secs\n",
      "working on /usr/WS2/bolet1/ruby-benchmarks/exploreGlobalOptimizations/logs/ft_nas-lrgprob/cma-1337\n"
     ]
    },
    {
     "data": {
      "application/vnd.jupyter.widget-view+json": {
       "model_id": "975b5523f32f4335b43933769fa72bf4",
       "version_major": 2,
       "version_minor": 0
      },
      "text/plain": [
       "  0%|          | 0/100 [00:00<?, ?it/s]"
      ]
     },
     "metadata": {},
     "output_type": "display_data"
    },
    {
     "name": "stdout",
     "output_type": "stream",
     "text": [
      "completed ft_nas lrgprob cma 1337 (30000, 9) 1.8834075927734375 secs\n",
      "working on /usr/WS2/bolet1/ruby-benchmarks/exploreGlobalOptimizations/logs/ft_nas-lrgprob/cma-3827\n"
     ]
    },
    {
     "data": {
      "application/vnd.jupyter.widget-view+json": {
       "model_id": "b47d4b49f1ff4454ada83c2f866f9227",
       "version_major": 2,
       "version_minor": 0
      },
      "text/plain": [
       "  0%|          | 0/100 [00:00<?, ?it/s]"
      ]
     },
     "metadata": {},
     "output_type": "display_data"
    },
    {
     "name": "stdout",
     "output_type": "stream",
     "text": [
      "completed ft_nas lrgprob cma 3827 (30000, 9) 1.4045922756195068 secs\n",
      "working on /usr/WS2/bolet1/ruby-benchmarks/exploreGlobalOptimizations/logs/ft_nas-lrgprob/cma-9999\n"
     ]
    },
    {
     "data": {
      "application/vnd.jupyter.widget-view+json": {
       "model_id": "c4edfb21fd8f40c0904948322bac883d",
       "version_major": 2,
       "version_minor": 0
      },
      "text/plain": [
       "  0%|          | 0/100 [00:00<?, ?it/s]"
      ]
     },
     "metadata": {},
     "output_type": "display_data"
    },
    {
     "name": "stdout",
     "output_type": "stream",
     "text": [
      "completed ft_nas lrgprob cma 9999 (30000, 9) 1.5062127113342285 secs\n",
      "working on /usr/WS2/bolet1/ruby-benchmarks/exploreGlobalOptimizations/logs/ft_nas-lrgprob/cma-4873\n"
     ]
    },
    {
     "data": {
      "application/vnd.jupyter.widget-view+json": {
       "model_id": "2338d0062d4445e2a81f59725979e7cc",
       "version_major": 2,
       "version_minor": 0
      },
      "text/plain": [
       "  0%|          | 0/100 [00:00<?, ?it/s]"
      ]
     },
     "metadata": {},
     "output_type": "display_data"
    },
    {
     "name": "stdout",
     "output_type": "stream",
     "text": [
      "completed ft_nas lrgprob cma 4873 (30000, 9) 1.5725228786468506 secs\n",
      "\n",
      "\n",
      " wrote: /usr/WS2/bolet1/ruby-benchmarks/exploreGlobalOptimizations/databases/ruby-ft_nas-cma-GO_Data.csv \n",
      "\n",
      "\n",
      "working on /usr/WS2/bolet1/ruby-benchmarks/exploreGlobalOptimizations/logs/hpcg-smlprob/cma-1337\n"
     ]
    },
    {
     "data": {
      "application/vnd.jupyter.widget-view+json": {
       "model_id": "c300cb76e4e848ed99a2ab0e2f2dcd7b",
       "version_major": 2,
       "version_minor": 0
      },
      "text/plain": [
       "  0%|          | 0/100 [00:00<?, ?it/s]"
      ]
     },
     "metadata": {},
     "output_type": "display_data"
    },
    {
     "name": "stdout",
     "output_type": "stream",
     "text": [
      "completed hpcg smlprob cma 1337 (30000, 9) 1.9587812423706055 secs\n",
      "working on /usr/WS2/bolet1/ruby-benchmarks/exploreGlobalOptimizations/logs/hpcg-smlprob/cma-3827\n"
     ]
    },
    {
     "data": {
      "application/vnd.jupyter.widget-view+json": {
       "model_id": "add342b4e8a346fc867a24e7fd5544ed",
       "version_major": 2,
       "version_minor": 0
      },
      "text/plain": [
       "  0%|          | 0/100 [00:00<?, ?it/s]"
      ]
     },
     "metadata": {},
     "output_type": "display_data"
    },
    {
     "name": "stdout",
     "output_type": "stream",
     "text": [
      "completed hpcg smlprob cma 3827 (30000, 9) 1.0617282390594482 secs\n",
      "working on /usr/WS2/bolet1/ruby-benchmarks/exploreGlobalOptimizations/logs/hpcg-smlprob/cma-9999\n"
     ]
    },
    {
     "data": {
      "application/vnd.jupyter.widget-view+json": {
       "model_id": "1ac2628462454edaa8316e09118cb275",
       "version_major": 2,
       "version_minor": 0
      },
      "text/plain": [
       "  0%|          | 0/100 [00:00<?, ?it/s]"
      ]
     },
     "metadata": {},
     "output_type": "display_data"
    },
    {
     "name": "stdout",
     "output_type": "stream",
     "text": [
      "completed hpcg smlprob cma 9999 (30000, 9) 1.8646056652069092 secs\n",
      "working on /usr/WS2/bolet1/ruby-benchmarks/exploreGlobalOptimizations/logs/hpcg-smlprob/cma-4873\n"
     ]
    },
    {
     "data": {
      "application/vnd.jupyter.widget-view+json": {
       "model_id": "3942b2a6d4a346efa5d7d165798d30c9",
       "version_major": 2,
       "version_minor": 0
      },
      "text/plain": [
       "  0%|          | 0/100 [00:00<?, ?it/s]"
      ]
     },
     "metadata": {},
     "output_type": "display_data"
    },
    {
     "name": "stdout",
     "output_type": "stream",
     "text": [
      "completed hpcg smlprob cma 4873 (30000, 9) 1.6182122230529785 secs\n",
      "working on /usr/WS2/bolet1/ruby-benchmarks/exploreGlobalOptimizations/logs/hpcg-medprob/cma-1337\n"
     ]
    },
    {
     "data": {
      "application/vnd.jupyter.widget-view+json": {
       "model_id": "6b9ab2f424fb496e9fd252d7127e08e1",
       "version_major": 2,
       "version_minor": 0
      },
      "text/plain": [
       "  0%|          | 0/100 [00:00<?, ?it/s]"
      ]
     },
     "metadata": {},
     "output_type": "display_data"
    },
    {
     "name": "stdout",
     "output_type": "stream",
     "text": [
      "completed hpcg medprob cma 1337 (30000, 9) 1.4848830699920654 secs\n",
      "working on /usr/WS2/bolet1/ruby-benchmarks/exploreGlobalOptimizations/logs/hpcg-medprob/cma-3827\n"
     ]
    },
    {
     "data": {
      "application/vnd.jupyter.widget-view+json": {
       "model_id": "2b72f82fe1784870bab7b2a83ac2a68a",
       "version_major": 2,
       "version_minor": 0
      },
      "text/plain": [
       "  0%|          | 0/100 [00:00<?, ?it/s]"
      ]
     },
     "metadata": {},
     "output_type": "display_data"
    },
    {
     "name": "stdout",
     "output_type": "stream",
     "text": [
      "completed hpcg medprob cma 3827 (30000, 9) 1.5230543613433838 secs\n",
      "working on /usr/WS2/bolet1/ruby-benchmarks/exploreGlobalOptimizations/logs/hpcg-medprob/cma-9999\n"
     ]
    },
    {
     "data": {
      "application/vnd.jupyter.widget-view+json": {
       "model_id": "b30f877822a54ed8816dda53ddeb1698",
       "version_major": 2,
       "version_minor": 0
      },
      "text/plain": [
       "  0%|          | 0/100 [00:00<?, ?it/s]"
      ]
     },
     "metadata": {},
     "output_type": "display_data"
    },
    {
     "name": "stdout",
     "output_type": "stream",
     "text": [
      "completed hpcg medprob cma 9999 (30000, 9) 1.9019973278045654 secs\n",
      "working on /usr/WS2/bolet1/ruby-benchmarks/exploreGlobalOptimizations/logs/hpcg-medprob/cma-4873\n"
     ]
    },
    {
     "data": {
      "application/vnd.jupyter.widget-view+json": {
       "model_id": "fd85535d3e394a58b23583d5eabf5eb3",
       "version_major": 2,
       "version_minor": 0
      },
      "text/plain": [
       "  0%|          | 0/100 [00:00<?, ?it/s]"
      ]
     },
     "metadata": {},
     "output_type": "display_data"
    },
    {
     "name": "stdout",
     "output_type": "stream",
     "text": [
      "completed hpcg medprob cma 4873 (30000, 9) 1.7634735107421875 secs\n",
      "working on /usr/WS2/bolet1/ruby-benchmarks/exploreGlobalOptimizations/logs/hpcg-lrgprob/cma-1337\n"
     ]
    },
    {
     "data": {
      "application/vnd.jupyter.widget-view+json": {
       "model_id": "e84b80eef02a42f78061c01003b0897d",
       "version_major": 2,
       "version_minor": 0
      },
      "text/plain": [
       "  0%|          | 0/100 [00:00<?, ?it/s]"
      ]
     },
     "metadata": {},
     "output_type": "display_data"
    },
    {
     "name": "stdout",
     "output_type": "stream",
     "text": [
      "completed hpcg lrgprob cma 1337 (30000, 9) 1.7081499099731445 secs\n",
      "working on /usr/WS2/bolet1/ruby-benchmarks/exploreGlobalOptimizations/logs/hpcg-lrgprob/cma-3827\n"
     ]
    },
    {
     "data": {
      "application/vnd.jupyter.widget-view+json": {
       "model_id": "00205721eedb406ba0a0ac069f44258c",
       "version_major": 2,
       "version_minor": 0
      },
      "text/plain": [
       "  0%|          | 0/100 [00:00<?, ?it/s]"
      ]
     },
     "metadata": {},
     "output_type": "display_data"
    },
    {
     "name": "stdout",
     "output_type": "stream",
     "text": [
      "completed hpcg lrgprob cma 3827 (30000, 9) 1.4340264797210693 secs\n",
      "working on /usr/WS2/bolet1/ruby-benchmarks/exploreGlobalOptimizations/logs/hpcg-lrgprob/cma-9999\n"
     ]
    },
    {
     "data": {
      "application/vnd.jupyter.widget-view+json": {
       "model_id": "389b78c643144adc911da12be11349ea",
       "version_major": 2,
       "version_minor": 0
      },
      "text/plain": [
       "  0%|          | 0/100 [00:00<?, ?it/s]"
      ]
     },
     "metadata": {},
     "output_type": "display_data"
    },
    {
     "name": "stdout",
     "output_type": "stream",
     "text": [
      "completed hpcg lrgprob cma 9999 (30000, 9) 1.7100238800048828 secs\n",
      "working on /usr/WS2/bolet1/ruby-benchmarks/exploreGlobalOptimizations/logs/hpcg-lrgprob/cma-4873\n"
     ]
    },
    {
     "data": {
      "application/vnd.jupyter.widget-view+json": {
       "model_id": "b150adc2060847abb7fd994424c017e2",
       "version_major": 2,
       "version_minor": 0
      },
      "text/plain": [
       "  0%|          | 0/100 [00:00<?, ?it/s]"
      ]
     },
     "metadata": {},
     "output_type": "display_data"
    },
    {
     "name": "stdout",
     "output_type": "stream",
     "text": [
      "completed hpcg lrgprob cma 4873 (30000, 9) 1.7708230018615723 secs\n",
      "\n",
      "\n",
      " wrote: /usr/WS2/bolet1/ruby-benchmarks/exploreGlobalOptimizations/databases/ruby-hpcg-cma-GO_Data.csv \n",
      "\n",
      "\n",
      "working on /usr/WS2/bolet1/ruby-benchmarks/exploreGlobalOptimizations/logs/lulesh-smlprob/cma-1337\n"
     ]
    },
    {
     "data": {
      "application/vnd.jupyter.widget-view+json": {
       "model_id": "c46acf942e7d4017a5b9ff8969271e45",
       "version_major": 2,
       "version_minor": 0
      },
      "text/plain": [
       "  0%|          | 0/100 [00:00<?, ?it/s]"
      ]
     },
     "metadata": {},
     "output_type": "display_data"
    },
    {
     "name": "stdout",
     "output_type": "stream",
     "text": [
      "completed lulesh smlprob cma 1337 (30000, 9) 1.740868091583252 secs\n",
      "working on /usr/WS2/bolet1/ruby-benchmarks/exploreGlobalOptimizations/logs/lulesh-smlprob/cma-3827\n"
     ]
    },
    {
     "data": {
      "application/vnd.jupyter.widget-view+json": {
       "model_id": "b2e7020aa0fa4357907e78b8ab066eec",
       "version_major": 2,
       "version_minor": 0
      },
      "text/plain": [
       "  0%|          | 0/100 [00:00<?, ?it/s]"
      ]
     },
     "metadata": {},
     "output_type": "display_data"
    },
    {
     "name": "stdout",
     "output_type": "stream",
     "text": [
      "completed lulesh smlprob cma 3827 (30000, 9) 1.5490984916687012 secs\n",
      "working on /usr/WS2/bolet1/ruby-benchmarks/exploreGlobalOptimizations/logs/lulesh-smlprob/cma-9999\n"
     ]
    },
    {
     "data": {
      "application/vnd.jupyter.widget-view+json": {
       "model_id": "d204d35854c5412a9f4a78132f84558c",
       "version_major": 2,
       "version_minor": 0
      },
      "text/plain": [
       "  0%|          | 0/100 [00:00<?, ?it/s]"
      ]
     },
     "metadata": {},
     "output_type": "display_data"
    },
    {
     "name": "stdout",
     "output_type": "stream",
     "text": [
      "completed lulesh smlprob cma 9999 (30000, 9) 1.507915735244751 secs\n",
      "working on /usr/WS2/bolet1/ruby-benchmarks/exploreGlobalOptimizations/logs/lulesh-smlprob/cma-4873\n"
     ]
    },
    {
     "data": {
      "application/vnd.jupyter.widget-view+json": {
       "model_id": "a2b991da17604291b10819d8ac39ad8c",
       "version_major": 2,
       "version_minor": 0
      },
      "text/plain": [
       "  0%|          | 0/100 [00:00<?, ?it/s]"
      ]
     },
     "metadata": {},
     "output_type": "display_data"
    },
    {
     "name": "stdout",
     "output_type": "stream",
     "text": [
      "completed lulesh smlprob cma 4873 (30000, 9) 1.6456222534179688 secs\n",
      "working on /usr/WS2/bolet1/ruby-benchmarks/exploreGlobalOptimizations/logs/lulesh-medprob/cma-1337\n"
     ]
    },
    {
     "data": {
      "application/vnd.jupyter.widget-view+json": {
       "model_id": "efc8cca6c14345d483300e5f981f3bc4",
       "version_major": 2,
       "version_minor": 0
      },
      "text/plain": [
       "  0%|          | 0/100 [00:00<?, ?it/s]"
      ]
     },
     "metadata": {},
     "output_type": "display_data"
    },
    {
     "name": "stdout",
     "output_type": "stream",
     "text": [
      "completed lulesh medprob cma 1337 (30000, 9) 2.0122928619384766 secs\n",
      "working on /usr/WS2/bolet1/ruby-benchmarks/exploreGlobalOptimizations/logs/lulesh-medprob/cma-3827\n"
     ]
    },
    {
     "data": {
      "application/vnd.jupyter.widget-view+json": {
       "model_id": "59c9c2eeeded45ea94f1fc36da7c6df9",
       "version_major": 2,
       "version_minor": 0
      },
      "text/plain": [
       "  0%|          | 0/100 [00:00<?, ?it/s]"
      ]
     },
     "metadata": {},
     "output_type": "display_data"
    },
    {
     "name": "stdout",
     "output_type": "stream",
     "text": [
      "completed lulesh medprob cma 3827 (30000, 9) 1.223266839981079 secs\n",
      "working on /usr/WS2/bolet1/ruby-benchmarks/exploreGlobalOptimizations/logs/lulesh-medprob/cma-9999\n"
     ]
    },
    {
     "data": {
      "application/vnd.jupyter.widget-view+json": {
       "model_id": "3447cb91216c4a2c82f2f5ac18b6a56b",
       "version_major": 2,
       "version_minor": 0
      },
      "text/plain": [
       "  0%|          | 0/100 [00:00<?, ?it/s]"
      ]
     },
     "metadata": {},
     "output_type": "display_data"
    },
    {
     "name": "stdout",
     "output_type": "stream",
     "text": [
      "completed lulesh medprob cma 9999 (30000, 9) 1.5887060165405273 secs\n",
      "working on /usr/WS2/bolet1/ruby-benchmarks/exploreGlobalOptimizations/logs/lulesh-medprob/cma-4873\n"
     ]
    },
    {
     "data": {
      "application/vnd.jupyter.widget-view+json": {
       "model_id": "eebadf0b741f46e7bb1359e1e28e97f7",
       "version_major": 2,
       "version_minor": 0
      },
      "text/plain": [
       "  0%|          | 0/100 [00:00<?, ?it/s]"
      ]
     },
     "metadata": {},
     "output_type": "display_data"
    },
    {
     "name": "stdout",
     "output_type": "stream",
     "text": [
      "completed lulesh medprob cma 4873 (30000, 9) 1.9391746520996094 secs\n",
      "working on /usr/WS2/bolet1/ruby-benchmarks/exploreGlobalOptimizations/logs/lulesh-lrgprob/cma-1337\n"
     ]
    },
    {
     "data": {
      "application/vnd.jupyter.widget-view+json": {
       "model_id": "cbac81b6076b481fb9d1715407d6937f",
       "version_major": 2,
       "version_minor": 0
      },
      "text/plain": [
       "  0%|          | 0/100 [00:00<?, ?it/s]"
      ]
     },
     "metadata": {},
     "output_type": "display_data"
    },
    {
     "name": "stdout",
     "output_type": "stream",
     "text": [
      "completed lulesh lrgprob cma 1337 (30000, 9) 1.5271897315979004 secs\n",
      "working on /usr/WS2/bolet1/ruby-benchmarks/exploreGlobalOptimizations/logs/lulesh-lrgprob/cma-3827\n"
     ]
    },
    {
     "data": {
      "application/vnd.jupyter.widget-view+json": {
       "model_id": "1322c7c7935a467b8ad68029fde3225c",
       "version_major": 2,
       "version_minor": 0
      },
      "text/plain": [
       "  0%|          | 0/100 [00:00<?, ?it/s]"
      ]
     },
     "metadata": {},
     "output_type": "display_data"
    },
    {
     "name": "stdout",
     "output_type": "stream",
     "text": [
      "completed lulesh lrgprob cma 3827 (30000, 9) 2.2398011684417725 secs\n",
      "working on /usr/WS2/bolet1/ruby-benchmarks/exploreGlobalOptimizations/logs/lulesh-lrgprob/cma-9999\n"
     ]
    },
    {
     "data": {
      "application/vnd.jupyter.widget-view+json": {
       "model_id": "50d1c592317d433191236d3e3657ba73",
       "version_major": 2,
       "version_minor": 0
      },
      "text/plain": [
       "  0%|          | 0/100 [00:00<?, ?it/s]"
      ]
     },
     "metadata": {},
     "output_type": "display_data"
    },
    {
     "name": "stdout",
     "output_type": "stream",
     "text": [
      "completed lulesh lrgprob cma 9999 (30000, 9) 1.9118142127990723 secs\n",
      "working on /usr/WS2/bolet1/ruby-benchmarks/exploreGlobalOptimizations/logs/lulesh-lrgprob/cma-4873\n"
     ]
    },
    {
     "data": {
      "application/vnd.jupyter.widget-view+json": {
       "model_id": "0d8adf7d63cd43e7a89d9a981616f29d",
       "version_major": 2,
       "version_minor": 0
      },
      "text/plain": [
       "  0%|          | 0/100 [00:00<?, ?it/s]"
      ]
     },
     "metadata": {},
     "output_type": "display_data"
    },
    {
     "name": "stdout",
     "output_type": "stream",
     "text": [
      "completed lulesh lrgprob cma 4873 (30000, 9) 1.912919044494629 secs\n",
      "\n",
      "\n",
      " wrote: /usr/WS2/bolet1/ruby-benchmarks/exploreGlobalOptimizations/databases/ruby-lulesh-cma-GO_Data.csv \n",
      "\n",
      "\n",
      "working on /usr/WS2/bolet1/ruby-benchmarks/exploreGlobalOptimizations/logs/bt_nas-smlprob/pso-1337\n"
     ]
    },
    {
     "data": {
      "application/vnd.jupyter.widget-view+json": {
       "model_id": "28a04dd6439140d2b3b42b2f99e54811",
       "version_major": 2,
       "version_minor": 0
      },
      "text/plain": [
       "  0%|          | 0/1250 [00:00<?, ?it/s]"
      ]
     },
     "metadata": {},
     "output_type": "display_data"
    },
    {
     "name": "stdout",
     "output_type": "stream",
     "text": [
      "completed bt_nas smlprob pso 1337 (375000, 11) 23.299456119537354 secs\n",
      "working on /usr/WS2/bolet1/ruby-benchmarks/exploreGlobalOptimizations/logs/bt_nas-smlprob/pso-3827\n"
     ]
    },
    {
     "data": {
      "application/vnd.jupyter.widget-view+json": {
       "model_id": "f93caed7fd644e17a2ca1de6f517e245",
       "version_major": 2,
       "version_minor": 0
      },
      "text/plain": [
       "  0%|          | 0/1250 [00:00<?, ?it/s]"
      ]
     },
     "metadata": {},
     "output_type": "display_data"
    },
    {
     "name": "stdout",
     "output_type": "stream",
     "text": [
      "completed bt_nas smlprob pso 3827 (375000, 11) 19.89012098312378 secs\n",
      "working on /usr/WS2/bolet1/ruby-benchmarks/exploreGlobalOptimizations/logs/bt_nas-smlprob/pso-9999\n"
     ]
    },
    {
     "data": {
      "application/vnd.jupyter.widget-view+json": {
       "model_id": "4421f888fa4f42e9b898ecbeb9b95368",
       "version_major": 2,
       "version_minor": 0
      },
      "text/plain": [
       "  0%|          | 0/1250 [00:00<?, ?it/s]"
      ]
     },
     "metadata": {},
     "output_type": "display_data"
    },
    {
     "name": "stdout",
     "output_type": "stream",
     "text": [
      "completed bt_nas smlprob pso 9999 (375000, 11) 16.023489236831665 secs\n",
      "working on /usr/WS2/bolet1/ruby-benchmarks/exploreGlobalOptimizations/logs/bt_nas-smlprob/pso-4873\n"
     ]
    },
    {
     "data": {
      "application/vnd.jupyter.widget-view+json": {
       "model_id": "26ff937432644e12a783823f92e17fdd",
       "version_major": 2,
       "version_minor": 0
      },
      "text/plain": [
       "  0%|          | 0/1250 [00:00<?, ?it/s]"
      ]
     },
     "metadata": {},
     "output_type": "display_data"
    },
    {
     "name": "stdout",
     "output_type": "stream",
     "text": [
      "completed bt_nas smlprob pso 4873 (375000, 11) 16.386549711227417 secs\n",
      "working on /usr/WS2/bolet1/ruby-benchmarks/exploreGlobalOptimizations/logs/bt_nas-medprob/pso-1337\n"
     ]
    },
    {
     "data": {
      "application/vnd.jupyter.widget-view+json": {
       "model_id": "0055affe87d5494483f1785132414246",
       "version_major": 2,
       "version_minor": 0
      },
      "text/plain": [
       "  0%|          | 0/1250 [00:00<?, ?it/s]"
      ]
     },
     "metadata": {},
     "output_type": "display_data"
    },
    {
     "name": "stdout",
     "output_type": "stream",
     "text": [
      "completed bt_nas medprob pso 1337 (375000, 11) 18.958715438842773 secs\n",
      "working on /usr/WS2/bolet1/ruby-benchmarks/exploreGlobalOptimizations/logs/bt_nas-medprob/pso-3827\n"
     ]
    },
    {
     "data": {
      "application/vnd.jupyter.widget-view+json": {
       "model_id": "fd0dcb8904024cc0ae06c902f874d7f7",
       "version_major": 2,
       "version_minor": 0
      },
      "text/plain": [
       "  0%|          | 0/1250 [00:00<?, ?it/s]"
      ]
     },
     "metadata": {},
     "output_type": "display_data"
    },
    {
     "name": "stdout",
     "output_type": "stream",
     "text": [
      "completed bt_nas medprob pso 3827 (375000, 11) 14.874202013015747 secs\n",
      "working on /usr/WS2/bolet1/ruby-benchmarks/exploreGlobalOptimizations/logs/bt_nas-medprob/pso-9999\n"
     ]
    },
    {
     "data": {
      "application/vnd.jupyter.widget-view+json": {
       "model_id": "8bd3d7060b214271b610e1ad2091705f",
       "version_major": 2,
       "version_minor": 0
      },
      "text/plain": [
       "  0%|          | 0/1250 [00:00<?, ?it/s]"
      ]
     },
     "metadata": {},
     "output_type": "display_data"
    },
    {
     "name": "stdout",
     "output_type": "stream",
     "text": [
      "completed bt_nas medprob pso 9999 (375000, 11) 20.319586515426636 secs\n",
      "working on /usr/WS2/bolet1/ruby-benchmarks/exploreGlobalOptimizations/logs/bt_nas-medprob/pso-4873\n"
     ]
    },
    {
     "data": {
      "application/vnd.jupyter.widget-view+json": {
       "model_id": "78cab17d1f644386a7b3e915323b105d",
       "version_major": 2,
       "version_minor": 0
      },
      "text/plain": [
       "  0%|          | 0/1250 [00:00<?, ?it/s]"
      ]
     },
     "metadata": {},
     "output_type": "display_data"
    },
    {
     "name": "stdout",
     "output_type": "stream",
     "text": [
      "completed bt_nas medprob pso 4873 (375000, 11) 17.67229676246643 secs\n",
      "working on /usr/WS2/bolet1/ruby-benchmarks/exploreGlobalOptimizations/logs/bt_nas-lrgprob/pso-1337\n"
     ]
    },
    {
     "data": {
      "application/vnd.jupyter.widget-view+json": {
       "model_id": "60ce1faccc254c18bd314c2b03ee3b07",
       "version_major": 2,
       "version_minor": 0
      },
      "text/plain": [
       "  0%|          | 0/1250 [00:00<?, ?it/s]"
      ]
     },
     "metadata": {},
     "output_type": "display_data"
    },
    {
     "name": "stdout",
     "output_type": "stream",
     "text": [
      "completed bt_nas lrgprob pso 1337 (375000, 11) 17.9925696849823 secs\n",
      "working on /usr/WS2/bolet1/ruby-benchmarks/exploreGlobalOptimizations/logs/bt_nas-lrgprob/pso-3827\n"
     ]
    },
    {
     "data": {
      "application/vnd.jupyter.widget-view+json": {
       "model_id": "2dff9f15b63941fabcfb9d4e83e22771",
       "version_major": 2,
       "version_minor": 0
      },
      "text/plain": [
       "  0%|          | 0/1250 [00:00<?, ?it/s]"
      ]
     },
     "metadata": {},
     "output_type": "display_data"
    },
    {
     "name": "stdout",
     "output_type": "stream",
     "text": [
      "completed bt_nas lrgprob pso 3827 (375000, 11) 20.467488050460815 secs\n",
      "working on /usr/WS2/bolet1/ruby-benchmarks/exploreGlobalOptimizations/logs/bt_nas-lrgprob/pso-9999\n"
     ]
    },
    {
     "data": {
      "application/vnd.jupyter.widget-view+json": {
       "model_id": "0c40b653995c4aa7ac0dbfe35b6cd763",
       "version_major": 2,
       "version_minor": 0
      },
      "text/plain": [
       "  0%|          | 0/1250 [00:00<?, ?it/s]"
      ]
     },
     "metadata": {},
     "output_type": "display_data"
    },
    {
     "name": "stdout",
     "output_type": "stream",
     "text": [
      "completed bt_nas lrgprob pso 9999 (375000, 11) 17.63471293449402 secs\n",
      "working on /usr/WS2/bolet1/ruby-benchmarks/exploreGlobalOptimizations/logs/bt_nas-lrgprob/pso-4873\n"
     ]
    },
    {
     "data": {
      "application/vnd.jupyter.widget-view+json": {
       "model_id": "78e13c9ced81489a860593b464cc23ea",
       "version_major": 2,
       "version_minor": 0
      },
      "text/plain": [
       "  0%|          | 0/1250 [00:00<?, ?it/s]"
      ]
     },
     "metadata": {},
     "output_type": "display_data"
    },
    {
     "name": "stdout",
     "output_type": "stream",
     "text": [
      "completed bt_nas lrgprob pso 4873 (375000, 11) 20.967787742614746 secs\n",
      "\n",
      "\n",
      " wrote: /usr/WS2/bolet1/ruby-benchmarks/exploreGlobalOptimizations/databases/ruby-bt_nas-pso-GO_Data.csv \n",
      "\n",
      "\n",
      "working on /usr/WS2/bolet1/ruby-benchmarks/exploreGlobalOptimizations/logs/cg_nas-smlprob/pso-1337\n"
     ]
    },
    {
     "data": {
      "application/vnd.jupyter.widget-view+json": {
       "model_id": "9934a20b19cd4a1b9692cd163e6f05d5",
       "version_major": 2,
       "version_minor": 0
      },
      "text/plain": [
       "  0%|          | 0/1250 [00:00<?, ?it/s]"
      ]
     },
     "metadata": {},
     "output_type": "display_data"
    },
    {
     "name": "stdout",
     "output_type": "stream",
     "text": [
      "completed cg_nas smlprob pso 1337 (375000, 11) 17.33367156982422 secs\n",
      "working on /usr/WS2/bolet1/ruby-benchmarks/exploreGlobalOptimizations/logs/cg_nas-smlprob/pso-3827\n"
     ]
    },
    {
     "data": {
      "application/vnd.jupyter.widget-view+json": {
       "model_id": "92ef4a5060a344ff9d91f1d9a6dcdcfd",
       "version_major": 2,
       "version_minor": 0
      },
      "text/plain": [
       "  0%|          | 0/1250 [00:00<?, ?it/s]"
      ]
     },
     "metadata": {},
     "output_type": "display_data"
    },
    {
     "name": "stdout",
     "output_type": "stream",
     "text": [
      "completed cg_nas smlprob pso 3827 (375000, 11) 14.97263503074646 secs\n",
      "working on /usr/WS2/bolet1/ruby-benchmarks/exploreGlobalOptimizations/logs/cg_nas-smlprob/pso-9999\n"
     ]
    },
    {
     "data": {
      "application/vnd.jupyter.widget-view+json": {
       "model_id": "483c791af9ab47ecb869c4b03b4f5179",
       "version_major": 2,
       "version_minor": 0
      },
      "text/plain": [
       "  0%|          | 0/1250 [00:00<?, ?it/s]"
      ]
     },
     "metadata": {},
     "output_type": "display_data"
    },
    {
     "name": "stdout",
     "output_type": "stream",
     "text": [
      "completed cg_nas smlprob pso 9999 (375000, 11) 20.179616689682007 secs\n",
      "working on /usr/WS2/bolet1/ruby-benchmarks/exploreGlobalOptimizations/logs/cg_nas-smlprob/pso-4873\n"
     ]
    },
    {
     "data": {
      "application/vnd.jupyter.widget-view+json": {
       "model_id": "e2616df6ba27493080bae5611144da38",
       "version_major": 2,
       "version_minor": 0
      },
      "text/plain": [
       "  0%|          | 0/1249 [00:00<?, ?it/s]"
      ]
     },
     "metadata": {},
     "output_type": "display_data"
    },
    {
     "name": "stdout",
     "output_type": "stream",
     "text": [
      "completed cg_nas smlprob pso 4873 (374700, 11) 19.03672504425049 secs\n",
      "working on /usr/WS2/bolet1/ruby-benchmarks/exploreGlobalOptimizations/logs/cg_nas-medprob/pso-1337\n"
     ]
    },
    {
     "data": {
      "application/vnd.jupyter.widget-view+json": {
       "model_id": "65617ef107ae41bdb5bb021f61b5c7c8",
       "version_major": 2,
       "version_minor": 0
      },
      "text/plain": [
       "  0%|          | 0/1250 [00:00<?, ?it/s]"
      ]
     },
     "metadata": {},
     "output_type": "display_data"
    },
    {
     "name": "stdout",
     "output_type": "stream",
     "text": [
      "completed cg_nas medprob pso 1337 (375000, 11) 20.28163743019104 secs\n",
      "working on /usr/WS2/bolet1/ruby-benchmarks/exploreGlobalOptimizations/logs/cg_nas-medprob/pso-3827\n"
     ]
    },
    {
     "data": {
      "application/vnd.jupyter.widget-view+json": {
       "model_id": "f6e9ebcad85849c2bd32cdd2fd56bc54",
       "version_major": 2,
       "version_minor": 0
      },
      "text/plain": [
       "  0%|          | 0/1250 [00:00<?, ?it/s]"
      ]
     },
     "metadata": {},
     "output_type": "display_data"
    },
    {
     "name": "stdout",
     "output_type": "stream",
     "text": [
      "completed cg_nas medprob pso 3827 (375000, 11) 16.22460699081421 secs\n",
      "working on /usr/WS2/bolet1/ruby-benchmarks/exploreGlobalOptimizations/logs/cg_nas-medprob/pso-9999\n"
     ]
    },
    {
     "data": {
      "application/vnd.jupyter.widget-view+json": {
       "model_id": "5f5eda74c3f6407fa885871e27a299f7",
       "version_major": 2,
       "version_minor": 0
      },
      "text/plain": [
       "  0%|          | 0/1250 [00:00<?, ?it/s]"
      ]
     },
     "metadata": {},
     "output_type": "display_data"
    },
    {
     "name": "stdout",
     "output_type": "stream",
     "text": [
      "completed cg_nas medprob pso 9999 (375000, 11) 20.62880277633667 secs\n",
      "working on /usr/WS2/bolet1/ruby-benchmarks/exploreGlobalOptimizations/logs/cg_nas-medprob/pso-4873\n"
     ]
    },
    {
     "data": {
      "application/vnd.jupyter.widget-view+json": {
       "model_id": "de309a963c7542d7a18e1664b3259794",
       "version_major": 2,
       "version_minor": 0
      },
      "text/plain": [
       "  0%|          | 0/1250 [00:00<?, ?it/s]"
      ]
     },
     "metadata": {},
     "output_type": "display_data"
    },
    {
     "name": "stdout",
     "output_type": "stream",
     "text": [
      "completed cg_nas medprob pso 4873 (375000, 11) 19.87351703643799 secs\n",
      "working on /usr/WS2/bolet1/ruby-benchmarks/exploreGlobalOptimizations/logs/cg_nas-lrgprob/pso-1337\n"
     ]
    },
    {
     "data": {
      "application/vnd.jupyter.widget-view+json": {
       "model_id": "db97c109405c444f827ca091d7b6ed08",
       "version_major": 2,
       "version_minor": 0
      },
      "text/plain": [
       "  0%|          | 0/1250 [00:00<?, ?it/s]"
      ]
     },
     "metadata": {},
     "output_type": "display_data"
    },
    {
     "name": "stdout",
     "output_type": "stream",
     "text": [
      "completed cg_nas lrgprob pso 1337 (375000, 11) 20.31851363182068 secs\n",
      "working on /usr/WS2/bolet1/ruby-benchmarks/exploreGlobalOptimizations/logs/cg_nas-lrgprob/pso-3827\n"
     ]
    },
    {
     "data": {
      "application/vnd.jupyter.widget-view+json": {
       "model_id": "7af95c883c1548b2ad02d955b9c66294",
       "version_major": 2,
       "version_minor": 0
      },
      "text/plain": [
       "  0%|          | 0/1250 [00:00<?, ?it/s]"
      ]
     },
     "metadata": {},
     "output_type": "display_data"
    },
    {
     "name": "stdout",
     "output_type": "stream",
     "text": [
      "completed cg_nas lrgprob pso 3827 (375000, 11) 22.45910334587097 secs\n",
      "working on /usr/WS2/bolet1/ruby-benchmarks/exploreGlobalOptimizations/logs/cg_nas-lrgprob/pso-9999\n"
     ]
    },
    {
     "data": {
      "application/vnd.jupyter.widget-view+json": {
       "model_id": "42f31db391f94fdb953cd9e18bd1f06b",
       "version_major": 2,
       "version_minor": 0
      },
      "text/plain": [
       "  0%|          | 0/1250 [00:00<?, ?it/s]"
      ]
     },
     "metadata": {},
     "output_type": "display_data"
    },
    {
     "name": "stdout",
     "output_type": "stream",
     "text": [
      "completed cg_nas lrgprob pso 9999 (375000, 11) 20.227960109710693 secs\n",
      "working on /usr/WS2/bolet1/ruby-benchmarks/exploreGlobalOptimizations/logs/cg_nas-lrgprob/pso-4873\n"
     ]
    },
    {
     "data": {
      "application/vnd.jupyter.widget-view+json": {
       "model_id": "b311acda745549c3a2091a19eb90c28d",
       "version_major": 2,
       "version_minor": 0
      },
      "text/plain": [
       "  0%|          | 0/1250 [00:00<?, ?it/s]"
      ]
     },
     "metadata": {},
     "output_type": "display_data"
    },
    {
     "name": "stdout",
     "output_type": "stream",
     "text": [
      "completed cg_nas lrgprob pso 4873 (375000, 11) 20.32254910469055 secs\n",
      "\n",
      "\n",
      " wrote: /usr/WS2/bolet1/ruby-benchmarks/exploreGlobalOptimizations/databases/ruby-cg_nas-pso-GO_Data.csv \n",
      "\n",
      "\n",
      "working on /usr/WS2/bolet1/ruby-benchmarks/exploreGlobalOptimizations/logs/ft_nas-smlprob/pso-1337\n"
     ]
    },
    {
     "data": {
      "application/vnd.jupyter.widget-view+json": {
       "model_id": "61732063cd424e4ea14e60df8c7ca6b1",
       "version_major": 2,
       "version_minor": 0
      },
      "text/plain": [
       "  0%|          | 0/1250 [00:00<?, ?it/s]"
      ]
     },
     "metadata": {},
     "output_type": "display_data"
    },
    {
     "name": "stdout",
     "output_type": "stream",
     "text": [
      "completed ft_nas smlprob pso 1337 (375000, 11) 21.430280208587646 secs\n",
      "working on /usr/WS2/bolet1/ruby-benchmarks/exploreGlobalOptimizations/logs/ft_nas-smlprob/pso-3827\n"
     ]
    },
    {
     "data": {
      "application/vnd.jupyter.widget-view+json": {
       "model_id": "b0745090b57841f08b245c7b148068e3",
       "version_major": 2,
       "version_minor": 0
      },
      "text/plain": [
       "  0%|          | 0/1250 [00:00<?, ?it/s]"
      ]
     },
     "metadata": {},
     "output_type": "display_data"
    },
    {
     "name": "stdout",
     "output_type": "stream",
     "text": [
      "completed ft_nas smlprob pso 3827 (375000, 11) 22.403834581375122 secs\n",
      "working on /usr/WS2/bolet1/ruby-benchmarks/exploreGlobalOptimizations/logs/ft_nas-smlprob/pso-9999\n"
     ]
    },
    {
     "data": {
      "application/vnd.jupyter.widget-view+json": {
       "model_id": "9f26b39df49c45068bb405d38bebaa5d",
       "version_major": 2,
       "version_minor": 0
      },
      "text/plain": [
       "  0%|          | 0/1250 [00:00<?, ?it/s]"
      ]
     },
     "metadata": {},
     "output_type": "display_data"
    },
    {
     "name": "stdout",
     "output_type": "stream",
     "text": [
      "completed ft_nas smlprob pso 9999 (375000, 11) 26.427502870559692 secs\n",
      "working on /usr/WS2/bolet1/ruby-benchmarks/exploreGlobalOptimizations/logs/ft_nas-smlprob/pso-4873\n"
     ]
    },
    {
     "data": {
      "application/vnd.jupyter.widget-view+json": {
       "model_id": "5b52d7fe9f024f52b80f3c65564f2f4a",
       "version_major": 2,
       "version_minor": 0
      },
      "text/plain": [
       "  0%|          | 0/1250 [00:00<?, ?it/s]"
      ]
     },
     "metadata": {},
     "output_type": "display_data"
    },
    {
     "name": "stdout",
     "output_type": "stream",
     "text": [
      "completed ft_nas smlprob pso 4873 (375000, 11) 20.18891739845276 secs\n",
      "working on /usr/WS2/bolet1/ruby-benchmarks/exploreGlobalOptimizations/logs/ft_nas-medprob/pso-1337\n"
     ]
    },
    {
     "data": {
      "application/vnd.jupyter.widget-view+json": {
       "model_id": "95262de6be6b4f04baf6ca13671338e4",
       "version_major": 2,
       "version_minor": 0
      },
      "text/plain": [
       "  0%|          | 0/1250 [00:00<?, ?it/s]"
      ]
     },
     "metadata": {},
     "output_type": "display_data"
    },
    {
     "name": "stdout",
     "output_type": "stream",
     "text": [
      "completed ft_nas medprob pso 1337 (375000, 11) 25.23844814300537 secs\n",
      "working on /usr/WS2/bolet1/ruby-benchmarks/exploreGlobalOptimizations/logs/ft_nas-medprob/pso-3827\n"
     ]
    },
    {
     "data": {
      "application/vnd.jupyter.widget-view+json": {
       "model_id": "e36522d6b43c44658cf745d71a755634",
       "version_major": 2,
       "version_minor": 0
      },
      "text/plain": [
       "  0%|          | 0/1250 [00:00<?, ?it/s]"
      ]
     },
     "metadata": {},
     "output_type": "display_data"
    },
    {
     "name": "stdout",
     "output_type": "stream",
     "text": [
      "completed ft_nas medprob pso 3827 (375000, 11) 24.803464651107788 secs\n",
      "working on /usr/WS2/bolet1/ruby-benchmarks/exploreGlobalOptimizations/logs/ft_nas-medprob/pso-9999\n"
     ]
    },
    {
     "data": {
      "application/vnd.jupyter.widget-view+json": {
       "model_id": "835753972dbd4d179db537e19d908eb2",
       "version_major": 2,
       "version_minor": 0
      },
      "text/plain": [
       "  0%|          | 0/1250 [00:00<?, ?it/s]"
      ]
     },
     "metadata": {},
     "output_type": "display_data"
    },
    {
     "name": "stdout",
     "output_type": "stream",
     "text": [
      "completed ft_nas medprob pso 9999 (375000, 11) 18.720946788787842 secs\n",
      "working on /usr/WS2/bolet1/ruby-benchmarks/exploreGlobalOptimizations/logs/ft_nas-medprob/pso-4873\n"
     ]
    },
    {
     "data": {
      "application/vnd.jupyter.widget-view+json": {
       "model_id": "c3e00bf9c91d43898bc16883a617f161",
       "version_major": 2,
       "version_minor": 0
      },
      "text/plain": [
       "  0%|          | 0/1250 [00:00<?, ?it/s]"
      ]
     },
     "metadata": {},
     "output_type": "display_data"
    },
    {
     "name": "stdout",
     "output_type": "stream",
     "text": [
      "completed ft_nas medprob pso 4873 (375000, 11) 19.955379009246826 secs\n",
      "working on /usr/WS2/bolet1/ruby-benchmarks/exploreGlobalOptimizations/logs/ft_nas-lrgprob/pso-1337\n"
     ]
    },
    {
     "data": {
      "application/vnd.jupyter.widget-view+json": {
       "model_id": "0901c5b5084e4cc391b2264a2a1552f7",
       "version_major": 2,
       "version_minor": 0
      },
      "text/plain": [
       "  0%|          | 0/1250 [00:00<?, ?it/s]"
      ]
     },
     "metadata": {},
     "output_type": "display_data"
    },
    {
     "name": "stdout",
     "output_type": "stream",
     "text": [
      "completed ft_nas lrgprob pso 1337 (375000, 11) 25.0168559551239 secs\n",
      "working on /usr/WS2/bolet1/ruby-benchmarks/exploreGlobalOptimizations/logs/ft_nas-lrgprob/pso-3827\n"
     ]
    },
    {
     "data": {
      "application/vnd.jupyter.widget-view+json": {
       "model_id": "92f5c2fa1aeb4e0c89aa0cc3f5477644",
       "version_major": 2,
       "version_minor": 0
      },
      "text/plain": [
       "  0%|          | 0/1250 [00:00<?, ?it/s]"
      ]
     },
     "metadata": {},
     "output_type": "display_data"
    },
    {
     "name": "stdout",
     "output_type": "stream",
     "text": [
      "completed ft_nas lrgprob pso 3827 (375000, 11) 19.310816764831543 secs\n",
      "working on /usr/WS2/bolet1/ruby-benchmarks/exploreGlobalOptimizations/logs/ft_nas-lrgprob/pso-9999\n"
     ]
    },
    {
     "data": {
      "application/vnd.jupyter.widget-view+json": {
       "model_id": "0a9180f9adb04a0a8880272f0e6401fb",
       "version_major": 2,
       "version_minor": 0
      },
      "text/plain": [
       "  0%|          | 0/1250 [00:00<?, ?it/s]"
      ]
     },
     "metadata": {},
     "output_type": "display_data"
    },
    {
     "name": "stdout",
     "output_type": "stream",
     "text": [
      "completed ft_nas lrgprob pso 9999 (375000, 11) 18.935359001159668 secs\n",
      "working on /usr/WS2/bolet1/ruby-benchmarks/exploreGlobalOptimizations/logs/ft_nas-lrgprob/pso-4873\n"
     ]
    },
    {
     "data": {
      "application/vnd.jupyter.widget-view+json": {
       "model_id": "cf9d8cc1d2df4bf7aa5e519f67621079",
       "version_major": 2,
       "version_minor": 0
      },
      "text/plain": [
       "  0%|          | 0/1250 [00:00<?, ?it/s]"
      ]
     },
     "metadata": {},
     "output_type": "display_data"
    },
    {
     "name": "stdout",
     "output_type": "stream",
     "text": [
      "completed ft_nas lrgprob pso 4873 (375000, 11) 26.533956050872803 secs\n",
      "\n",
      "\n",
      " wrote: /usr/WS2/bolet1/ruby-benchmarks/exploreGlobalOptimizations/databases/ruby-ft_nas-pso-GO_Data.csv \n",
      "\n",
      "\n",
      "working on /usr/WS2/bolet1/ruby-benchmarks/exploreGlobalOptimizations/logs/hpcg-smlprob/pso-1337\n"
     ]
    },
    {
     "data": {
      "application/vnd.jupyter.widget-view+json": {
       "model_id": "889d7110a3404650a65685758bae0531",
       "version_major": 2,
       "version_minor": 0
      },
      "text/plain": [
       "  0%|          | 0/1250 [00:00<?, ?it/s]"
      ]
     },
     "metadata": {},
     "output_type": "display_data"
    },
    {
     "name": "stdout",
     "output_type": "stream",
     "text": [
      "completed hpcg smlprob pso 1337 (375000, 11) 24.771567583084106 secs\n",
      "working on /usr/WS2/bolet1/ruby-benchmarks/exploreGlobalOptimizations/logs/hpcg-smlprob/pso-3827\n"
     ]
    },
    {
     "data": {
      "application/vnd.jupyter.widget-view+json": {
       "model_id": "3b16fde63c504f69a8d206ce0681146a",
       "version_major": 2,
       "version_minor": 0
      },
      "text/plain": [
       "  0%|          | 0/1250 [00:00<?, ?it/s]"
      ]
     },
     "metadata": {},
     "output_type": "display_data"
    },
    {
     "name": "stdout",
     "output_type": "stream",
     "text": [
      "completed hpcg smlprob pso 3827 (375000, 11) 22.628355264663696 secs\n",
      "working on /usr/WS2/bolet1/ruby-benchmarks/exploreGlobalOptimizations/logs/hpcg-smlprob/pso-9999\n"
     ]
    },
    {
     "data": {
      "application/vnd.jupyter.widget-view+json": {
       "model_id": "b737d57c51214cdba6f4290640d61a49",
       "version_major": 2,
       "version_minor": 0
      },
      "text/plain": [
       "  0%|          | 0/1250 [00:00<?, ?it/s]"
      ]
     },
     "metadata": {},
     "output_type": "display_data"
    },
    {
     "name": "stdout",
     "output_type": "stream",
     "text": [
      "completed hpcg smlprob pso 9999 (375000, 11) 24.840835332870483 secs\n",
      "working on /usr/WS2/bolet1/ruby-benchmarks/exploreGlobalOptimizations/logs/hpcg-smlprob/pso-4873\n"
     ]
    },
    {
     "data": {
      "application/vnd.jupyter.widget-view+json": {
       "model_id": "af6ffc408b9349ea9d6504b0144c133b",
       "version_major": 2,
       "version_minor": 0
      },
      "text/plain": [
       "  0%|          | 0/1250 [00:00<?, ?it/s]"
      ]
     },
     "metadata": {},
     "output_type": "display_data"
    },
    {
     "name": "stdout",
     "output_type": "stream",
     "text": [
      "completed hpcg smlprob pso 4873 (375000, 11) 19.226741313934326 secs\n",
      "working on /usr/WS2/bolet1/ruby-benchmarks/exploreGlobalOptimizations/logs/hpcg-medprob/pso-1337\n"
     ]
    },
    {
     "data": {
      "application/vnd.jupyter.widget-view+json": {
       "model_id": "a010e9a5b7f1432ca27c91666938118f",
       "version_major": 2,
       "version_minor": 0
      },
      "text/plain": [
       "  0%|          | 0/1250 [00:00<?, ?it/s]"
      ]
     },
     "metadata": {},
     "output_type": "display_data"
    },
    {
     "name": "stdout",
     "output_type": "stream",
     "text": [
      "completed hpcg medprob pso 1337 (375000, 11) 19.42883563041687 secs\n",
      "working on /usr/WS2/bolet1/ruby-benchmarks/exploreGlobalOptimizations/logs/hpcg-medprob/pso-3827\n"
     ]
    },
    {
     "data": {
      "application/vnd.jupyter.widget-view+json": {
       "model_id": "3345edc812734a549f701b3ea7d6f035",
       "version_major": 2,
       "version_minor": 0
      },
      "text/plain": [
       "  0%|          | 0/1250 [00:00<?, ?it/s]"
      ]
     },
     "metadata": {},
     "output_type": "display_data"
    },
    {
     "name": "stdout",
     "output_type": "stream",
     "text": [
      "completed hpcg medprob pso 3827 (375000, 11) 21.805001735687256 secs\n",
      "working on /usr/WS2/bolet1/ruby-benchmarks/exploreGlobalOptimizations/logs/hpcg-medprob/pso-9999\n"
     ]
    },
    {
     "data": {
      "application/vnd.jupyter.widget-view+json": {
       "model_id": "93e81add9b7e4981aae646fc0046d5e7",
       "version_major": 2,
       "version_minor": 0
      },
      "text/plain": [
       "  0%|          | 0/1250 [00:00<?, ?it/s]"
      ]
     },
     "metadata": {},
     "output_type": "display_data"
    },
    {
     "name": "stdout",
     "output_type": "stream",
     "text": [
      "completed hpcg medprob pso 9999 (375000, 11) 29.085102081298828 secs\n",
      "working on /usr/WS2/bolet1/ruby-benchmarks/exploreGlobalOptimizations/logs/hpcg-medprob/pso-4873\n"
     ]
    },
    {
     "data": {
      "application/vnd.jupyter.widget-view+json": {
       "model_id": "51e0b62c479b45e7b355bca26191761f",
       "version_major": 2,
       "version_minor": 0
      },
      "text/plain": [
       "  0%|          | 0/1250 [00:00<?, ?it/s]"
      ]
     },
     "metadata": {},
     "output_type": "display_data"
    },
    {
     "name": "stdout",
     "output_type": "stream",
     "text": [
      "completed hpcg medprob pso 4873 (375000, 11) 22.654650688171387 secs\n",
      "working on /usr/WS2/bolet1/ruby-benchmarks/exploreGlobalOptimizations/logs/hpcg-lrgprob/pso-1337\n"
     ]
    },
    {
     "data": {
      "application/vnd.jupyter.widget-view+json": {
       "model_id": "58986c77daa84a3da3b397a9217bb837",
       "version_major": 2,
       "version_minor": 0
      },
      "text/plain": [
       "  0%|          | 0/1250 [00:00<?, ?it/s]"
      ]
     },
     "metadata": {},
     "output_type": "display_data"
    },
    {
     "name": "stdout",
     "output_type": "stream",
     "text": [
      "completed hpcg lrgprob pso 1337 (375000, 11) 21.475757837295532 secs\n",
      "working on /usr/WS2/bolet1/ruby-benchmarks/exploreGlobalOptimizations/logs/hpcg-lrgprob/pso-3827\n"
     ]
    },
    {
     "data": {
      "application/vnd.jupyter.widget-view+json": {
       "model_id": "bae0ee0871ba43089f59e95638faeba3",
       "version_major": 2,
       "version_minor": 0
      },
      "text/plain": [
       "  0%|          | 0/1250 [00:00<?, ?it/s]"
      ]
     },
     "metadata": {},
     "output_type": "display_data"
    },
    {
     "name": "stdout",
     "output_type": "stream",
     "text": [
      "completed hpcg lrgprob pso 3827 (375000, 11) 39.738659143447876 secs\n",
      "working on /usr/WS2/bolet1/ruby-benchmarks/exploreGlobalOptimizations/logs/hpcg-lrgprob/pso-9999\n"
     ]
    },
    {
     "data": {
      "application/vnd.jupyter.widget-view+json": {
       "model_id": "87238af35cfc4bb28fdd5c831c6e859f",
       "version_major": 2,
       "version_minor": 0
      },
      "text/plain": [
       "  0%|          | 0/1250 [00:00<?, ?it/s]"
      ]
     },
     "metadata": {},
     "output_type": "display_data"
    },
    {
     "name": "stdout",
     "output_type": "stream",
     "text": [
      "completed hpcg lrgprob pso 9999 (375000, 11) 24.882450580596924 secs\n",
      "working on /usr/WS2/bolet1/ruby-benchmarks/exploreGlobalOptimizations/logs/hpcg-lrgprob/pso-4873\n"
     ]
    },
    {
     "data": {
      "application/vnd.jupyter.widget-view+json": {
       "model_id": "41d16907dc944efa867fddd11a0af355",
       "version_major": 2,
       "version_minor": 0
      },
      "text/plain": [
       "  0%|          | 0/1250 [00:00<?, ?it/s]"
      ]
     },
     "metadata": {},
     "output_type": "display_data"
    },
    {
     "name": "stdout",
     "output_type": "stream",
     "text": [
      "completed hpcg lrgprob pso 4873 (375000, 11) 20.143579959869385 secs\n",
      "\n",
      "\n",
      " wrote: /usr/WS2/bolet1/ruby-benchmarks/exploreGlobalOptimizations/databases/ruby-hpcg-pso-GO_Data.csv \n",
      "\n",
      "\n",
      "working on /usr/WS2/bolet1/ruby-benchmarks/exploreGlobalOptimizations/logs/lulesh-smlprob/pso-1337\n"
     ]
    },
    {
     "data": {
      "application/vnd.jupyter.widget-view+json": {
       "model_id": "a9bcda91806b40f49d5eb6449964a6cf",
       "version_major": 2,
       "version_minor": 0
      },
      "text/plain": [
       "  0%|          | 0/1250 [00:00<?, ?it/s]"
      ]
     },
     "metadata": {},
     "output_type": "display_data"
    },
    {
     "name": "stdout",
     "output_type": "stream",
     "text": [
      "completed lulesh smlprob pso 1337 (375000, 11) 19.677531242370605 secs\n",
      "working on /usr/WS2/bolet1/ruby-benchmarks/exploreGlobalOptimizations/logs/lulesh-smlprob/pso-3827\n"
     ]
    },
    {
     "data": {
      "application/vnd.jupyter.widget-view+json": {
       "model_id": "905b15b83c2c4671abf875e2fef0410e",
       "version_major": 2,
       "version_minor": 0
      },
      "text/plain": [
       "  0%|          | 0/1250 [00:00<?, ?it/s]"
      ]
     },
     "metadata": {},
     "output_type": "display_data"
    },
    {
     "name": "stdout",
     "output_type": "stream",
     "text": [
      "completed lulesh smlprob pso 3827 (375000, 11) 18.765460968017578 secs\n",
      "working on /usr/WS2/bolet1/ruby-benchmarks/exploreGlobalOptimizations/logs/lulesh-smlprob/pso-9999\n"
     ]
    },
    {
     "data": {
      "application/vnd.jupyter.widget-view+json": {
       "model_id": "a6e3b4b8b4134564820cd0418e503926",
       "version_major": 2,
       "version_minor": 0
      },
      "text/plain": [
       "  0%|          | 0/1250 [00:00<?, ?it/s]"
      ]
     },
     "metadata": {},
     "output_type": "display_data"
    },
    {
     "name": "stdout",
     "output_type": "stream",
     "text": [
      "completed lulesh smlprob pso 9999 (375000, 11) 19.733556509017944 secs\n",
      "working on /usr/WS2/bolet1/ruby-benchmarks/exploreGlobalOptimizations/logs/lulesh-smlprob/pso-4873\n"
     ]
    },
    {
     "data": {
      "application/vnd.jupyter.widget-view+json": {
       "model_id": "e5e32562d6c5417b9c46842fa5791483",
       "version_major": 2,
       "version_minor": 0
      },
      "text/plain": [
       "  0%|          | 0/1250 [00:00<?, ?it/s]"
      ]
     },
     "metadata": {},
     "output_type": "display_data"
    },
    {
     "name": "stdout",
     "output_type": "stream",
     "text": [
      "completed lulesh smlprob pso 4873 (375000, 11) 18.44577169418335 secs\n",
      "working on /usr/WS2/bolet1/ruby-benchmarks/exploreGlobalOptimizations/logs/lulesh-medprob/pso-1337\n"
     ]
    },
    {
     "data": {
      "application/vnd.jupyter.widget-view+json": {
       "model_id": "11d2f5f4710e45a299dcfaedc7c43853",
       "version_major": 2,
       "version_minor": 0
      },
      "text/plain": [
       "  0%|          | 0/1250 [00:00<?, ?it/s]"
      ]
     },
     "metadata": {},
     "output_type": "display_data"
    },
    {
     "name": "stdout",
     "output_type": "stream",
     "text": [
      "completed lulesh medprob pso 1337 (375000, 11) 20.69613528251648 secs\n",
      "working on /usr/WS2/bolet1/ruby-benchmarks/exploreGlobalOptimizations/logs/lulesh-medprob/pso-3827\n"
     ]
    },
    {
     "data": {
      "application/vnd.jupyter.widget-view+json": {
       "model_id": "0adc0240a9e6421296c13287ce83614d",
       "version_major": 2,
       "version_minor": 0
      },
      "text/plain": [
       "  0%|          | 0/1250 [00:00<?, ?it/s]"
      ]
     },
     "metadata": {},
     "output_type": "display_data"
    },
    {
     "name": "stdout",
     "output_type": "stream",
     "text": [
      "completed lulesh medprob pso 3827 (375000, 11) 20.755696296691895 secs\n",
      "working on /usr/WS2/bolet1/ruby-benchmarks/exploreGlobalOptimizations/logs/lulesh-medprob/pso-9999\n"
     ]
    },
    {
     "data": {
      "application/vnd.jupyter.widget-view+json": {
       "model_id": "4f380006ab3443879059eb90d552ef2b",
       "version_major": 2,
       "version_minor": 0
      },
      "text/plain": [
       "  0%|          | 0/1250 [00:00<?, ?it/s]"
      ]
     },
     "metadata": {},
     "output_type": "display_data"
    },
    {
     "name": "stdout",
     "output_type": "stream",
     "text": [
      "completed lulesh medprob pso 9999 (375000, 11) 29.876972913742065 secs\n",
      "working on /usr/WS2/bolet1/ruby-benchmarks/exploreGlobalOptimizations/logs/lulesh-medprob/pso-4873\n"
     ]
    },
    {
     "data": {
      "application/vnd.jupyter.widget-view+json": {
       "model_id": "5b3f8bcc61994b8287b5ddf3dae659e2",
       "version_major": 2,
       "version_minor": 0
      },
      "text/plain": [
       "  0%|          | 0/1250 [00:00<?, ?it/s]"
      ]
     },
     "metadata": {},
     "output_type": "display_data"
    },
    {
     "name": "stdout",
     "output_type": "stream",
     "text": [
      "completed lulesh medprob pso 4873 (375000, 11) 19.648309469223022 secs\n",
      "working on /usr/WS2/bolet1/ruby-benchmarks/exploreGlobalOptimizations/logs/lulesh-lrgprob/pso-1337\n"
     ]
    },
    {
     "data": {
      "application/vnd.jupyter.widget-view+json": {
       "model_id": "ffd56b4e27b24839b62aa96b6eef0e48",
       "version_major": 2,
       "version_minor": 0
      },
      "text/plain": [
       "  0%|          | 0/1250 [00:00<?, ?it/s]"
      ]
     },
     "metadata": {},
     "output_type": "display_data"
    },
    {
     "name": "stdout",
     "output_type": "stream",
     "text": [
      "completed lulesh lrgprob pso 1337 (375000, 11) 21.661169290542603 secs\n",
      "working on /usr/WS2/bolet1/ruby-benchmarks/exploreGlobalOptimizations/logs/lulesh-lrgprob/pso-3827\n"
     ]
    },
    {
     "data": {
      "application/vnd.jupyter.widget-view+json": {
       "model_id": "967d4dd42aae43d59d57c2c438a879f2",
       "version_major": 2,
       "version_minor": 0
      },
      "text/plain": [
       "  0%|          | 0/1250 [00:00<?, ?it/s]"
      ]
     },
     "metadata": {},
     "output_type": "display_data"
    },
    {
     "name": "stdout",
     "output_type": "stream",
     "text": [
      "completed lulesh lrgprob pso 3827 (375000, 11) 18.887761116027832 secs\n",
      "working on /usr/WS2/bolet1/ruby-benchmarks/exploreGlobalOptimizations/logs/lulesh-lrgprob/pso-9999\n"
     ]
    },
    {
     "data": {
      "application/vnd.jupyter.widget-view+json": {
       "model_id": "8e6cadb098eb456fab9ee19f83883e5c",
       "version_major": 2,
       "version_minor": 0
      },
      "text/plain": [
       "  0%|          | 0/1250 [00:00<?, ?it/s]"
      ]
     },
     "metadata": {},
     "output_type": "display_data"
    },
    {
     "name": "stdout",
     "output_type": "stream",
     "text": [
      "completed lulesh lrgprob pso 9999 (375000, 11) 21.56418228149414 secs\n",
      "working on /usr/WS2/bolet1/ruby-benchmarks/exploreGlobalOptimizations/logs/lulesh-lrgprob/pso-4873\n"
     ]
    },
    {
     "data": {
      "application/vnd.jupyter.widget-view+json": {
       "model_id": "1c388db882ea423294c3eee4d2fd69a0",
       "version_major": 2,
       "version_minor": 0
      },
      "text/plain": [
       "  0%|          | 0/1250 [00:00<?, ?it/s]"
      ]
     },
     "metadata": {},
     "output_type": "display_data"
    },
    {
     "name": "stdout",
     "output_type": "stream",
     "text": [
      "completed lulesh lrgprob pso 4873 (375000, 11) 22.535741329193115 secs\n",
      "\n",
      "\n",
      " wrote: /usr/WS2/bolet1/ruby-benchmarks/exploreGlobalOptimizations/databases/ruby-lulesh-pso-GO_Data.csv \n",
      "\n",
      "\n",
      "working on /usr/WS2/bolet1/ruby-benchmarks/exploreGlobalOptimizations/logs/bt_nas-smlprob/bo-1337\n"
     ]
    },
    {
     "data": {
      "application/vnd.jupyter.widget-view+json": {
       "model_id": "d29080366db74cc29ce40097cb18eee8",
       "version_major": 2,
       "version_minor": 0
      },
      "text/plain": [
       "  0%|          | 0/60 [00:00<?, ?it/s]"
      ]
     },
     "metadata": {},
     "output_type": "display_data"
    },
    {
     "name": "stdout",
     "output_type": "stream",
     "text": [
      "completed bt_nas smlprob bo 1337 (18000, 12) 1.6820197105407715 secs\n",
      "working on /usr/WS2/bolet1/ruby-benchmarks/exploreGlobalOptimizations/logs/bt_nas-smlprob/bo-3827\n"
     ]
    },
    {
     "data": {
      "application/vnd.jupyter.widget-view+json": {
       "model_id": "36085f65cd0f43db83e138472697fad1",
       "version_major": 2,
       "version_minor": 0
      },
      "text/plain": [
       "  0%|          | 0/60 [00:00<?, ?it/s]"
      ]
     },
     "metadata": {},
     "output_type": "display_data"
    },
    {
     "name": "stdout",
     "output_type": "stream",
     "text": [
      "completed bt_nas smlprob bo 3827 (18000, 12) 1.0876615047454834 secs\n",
      "working on /usr/WS2/bolet1/ruby-benchmarks/exploreGlobalOptimizations/logs/bt_nas-smlprob/bo-9999\n"
     ]
    },
    {
     "data": {
      "application/vnd.jupyter.widget-view+json": {
       "model_id": "e009391e33cb4edb9e7874a9a5a164b4",
       "version_major": 2,
       "version_minor": 0
      },
      "text/plain": [
       "  0%|          | 0/60 [00:00<?, ?it/s]"
      ]
     },
     "metadata": {},
     "output_type": "display_data"
    },
    {
     "name": "stdout",
     "output_type": "stream",
     "text": [
      "completed bt_nas smlprob bo 9999 (18000, 12) 1.067767858505249 secs\n",
      "working on /usr/WS2/bolet1/ruby-benchmarks/exploreGlobalOptimizations/logs/bt_nas-smlprob/bo-4873\n"
     ]
    },
    {
     "data": {
      "application/vnd.jupyter.widget-view+json": {
       "model_id": "7460bc8bc71342f7bd9822ccd8885c68",
       "version_major": 2,
       "version_minor": 0
      },
      "text/plain": [
       "  0%|          | 0/60 [00:00<?, ?it/s]"
      ]
     },
     "metadata": {},
     "output_type": "display_data"
    },
    {
     "name": "stdout",
     "output_type": "stream",
     "text": [
      "completed bt_nas smlprob bo 4873 (18000, 12) 1.309459924697876 secs\n",
      "working on /usr/WS2/bolet1/ruby-benchmarks/exploreGlobalOptimizations/logs/bt_nas-medprob/bo-1337\n"
     ]
    },
    {
     "data": {
      "application/vnd.jupyter.widget-view+json": {
       "model_id": "dc6dc44e595145d3804548bfca00caf3",
       "version_major": 2,
       "version_minor": 0
      },
      "text/plain": [
       "  0%|          | 0/60 [00:00<?, ?it/s]"
      ]
     },
     "metadata": {},
     "output_type": "display_data"
    },
    {
     "name": "stdout",
     "output_type": "stream",
     "text": [
      "completed bt_nas medprob bo 1337 (18000, 12) 1.0009207725524902 secs\n",
      "working on /usr/WS2/bolet1/ruby-benchmarks/exploreGlobalOptimizations/logs/bt_nas-medprob/bo-3827\n"
     ]
    },
    {
     "data": {
      "application/vnd.jupyter.widget-view+json": {
       "model_id": "44528f7a5f4b4d038bd4ccb46c6765ab",
       "version_major": 2,
       "version_minor": 0
      },
      "text/plain": [
       "  0%|          | 0/60 [00:00<?, ?it/s]"
      ]
     },
     "metadata": {},
     "output_type": "display_data"
    },
    {
     "name": "stdout",
     "output_type": "stream",
     "text": [
      "completed bt_nas medprob bo 3827 (18000, 12) 1.0524091720581055 secs\n",
      "working on /usr/WS2/bolet1/ruby-benchmarks/exploreGlobalOptimizations/logs/bt_nas-medprob/bo-9999\n"
     ]
    },
    {
     "data": {
      "application/vnd.jupyter.widget-view+json": {
       "model_id": "a40515ba73474441ba28d338b9ce7f74",
       "version_major": 2,
       "version_minor": 0
      },
      "text/plain": [
       "  0%|          | 0/60 [00:00<?, ?it/s]"
      ]
     },
     "metadata": {},
     "output_type": "display_data"
    },
    {
     "name": "stdout",
     "output_type": "stream",
     "text": [
      "completed bt_nas medprob bo 9999 (18000, 12) 1.0366613864898682 secs\n",
      "working on /usr/WS2/bolet1/ruby-benchmarks/exploreGlobalOptimizations/logs/bt_nas-medprob/bo-4873\n"
     ]
    },
    {
     "data": {
      "application/vnd.jupyter.widget-view+json": {
       "model_id": "054eaa08699d412c829ca563d84ac4e7",
       "version_major": 2,
       "version_minor": 0
      },
      "text/plain": [
       "  0%|          | 0/60 [00:00<?, ?it/s]"
      ]
     },
     "metadata": {},
     "output_type": "display_data"
    },
    {
     "name": "stdout",
     "output_type": "stream",
     "text": [
      "completed bt_nas medprob bo 4873 (18000, 12) 1.0669188499450684 secs\n",
      "working on /usr/WS2/bolet1/ruby-benchmarks/exploreGlobalOptimizations/logs/bt_nas-lrgprob/bo-1337\n"
     ]
    },
    {
     "data": {
      "application/vnd.jupyter.widget-view+json": {
       "model_id": "5097dc58b9ca4512adf09bd22ece7384",
       "version_major": 2,
       "version_minor": 0
      },
      "text/plain": [
       "  0%|          | 0/60 [00:00<?, ?it/s]"
      ]
     },
     "metadata": {},
     "output_type": "display_data"
    },
    {
     "name": "stdout",
     "output_type": "stream",
     "text": [
      "completed bt_nas lrgprob bo 1337 (18000, 12) 0.942887544631958 secs\n",
      "working on /usr/WS2/bolet1/ruby-benchmarks/exploreGlobalOptimizations/logs/bt_nas-lrgprob/bo-3827\n"
     ]
    },
    {
     "data": {
      "application/vnd.jupyter.widget-view+json": {
       "model_id": "aeb2adef64a042d19f8ee81f32c4dba4",
       "version_major": 2,
       "version_minor": 0
      },
      "text/plain": [
       "  0%|          | 0/60 [00:00<?, ?it/s]"
      ]
     },
     "metadata": {},
     "output_type": "display_data"
    },
    {
     "name": "stdout",
     "output_type": "stream",
     "text": [
      "completed bt_nas lrgprob bo 3827 (18000, 12) 1.1287822723388672 secs\n",
      "working on /usr/WS2/bolet1/ruby-benchmarks/exploreGlobalOptimizations/logs/bt_nas-lrgprob/bo-9999\n"
     ]
    },
    {
     "data": {
      "application/vnd.jupyter.widget-view+json": {
       "model_id": "86ac8d6301e847f1ba2403a05ffa06d1",
       "version_major": 2,
       "version_minor": 0
      },
      "text/plain": [
       "  0%|          | 0/60 [00:00<?, ?it/s]"
      ]
     },
     "metadata": {},
     "output_type": "display_data"
    },
    {
     "name": "stdout",
     "output_type": "stream",
     "text": [
      "completed bt_nas lrgprob bo 9999 (18000, 12) 0.9577081203460693 secs\n",
      "working on /usr/WS2/bolet1/ruby-benchmarks/exploreGlobalOptimizations/logs/bt_nas-lrgprob/bo-4873\n"
     ]
    },
    {
     "data": {
      "application/vnd.jupyter.widget-view+json": {
       "model_id": "124b6ccfe21043cb814a569f80e92da7",
       "version_major": 2,
       "version_minor": 0
      },
      "text/plain": [
       "  0%|          | 0/60 [00:00<?, ?it/s]"
      ]
     },
     "metadata": {},
     "output_type": "display_data"
    },
    {
     "name": "stdout",
     "output_type": "stream",
     "text": [
      "completed bt_nas lrgprob bo 4873 (18000, 12) 1.0968117713928223 secs\n",
      "\n",
      "\n",
      " wrote: /usr/WS2/bolet1/ruby-benchmarks/exploreGlobalOptimizations/databases/ruby-bt_nas-bo-GO_Data.csv \n",
      "\n",
      "\n",
      "working on /usr/WS2/bolet1/ruby-benchmarks/exploreGlobalOptimizations/logs/cg_nas-smlprob/bo-1337\n"
     ]
    },
    {
     "data": {
      "application/vnd.jupyter.widget-view+json": {
       "model_id": "7fb83bcff46e4101b925a797b48c55b1",
       "version_major": 2,
       "version_minor": 0
      },
      "text/plain": [
       "  0%|          | 0/60 [00:00<?, ?it/s]"
      ]
     },
     "metadata": {},
     "output_type": "display_data"
    },
    {
     "name": "stdout",
     "output_type": "stream",
     "text": [
      "completed cg_nas smlprob bo 1337 (18000, 12) 0.9361066818237305 secs\n",
      "working on /usr/WS2/bolet1/ruby-benchmarks/exploreGlobalOptimizations/logs/cg_nas-smlprob/bo-3827\n"
     ]
    },
    {
     "data": {
      "application/vnd.jupyter.widget-view+json": {
       "model_id": "36c5bfc875c248918f06dcc9be21494e",
       "version_major": 2,
       "version_minor": 0
      },
      "text/plain": [
       "  0%|          | 0/60 [00:00<?, ?it/s]"
      ]
     },
     "metadata": {},
     "output_type": "display_data"
    },
    {
     "name": "stdout",
     "output_type": "stream",
     "text": [
      "completed cg_nas smlprob bo 3827 (18000, 12) 1.2006356716156006 secs\n",
      "working on /usr/WS2/bolet1/ruby-benchmarks/exploreGlobalOptimizations/logs/cg_nas-smlprob/bo-9999\n"
     ]
    },
    {
     "data": {
      "application/vnd.jupyter.widget-view+json": {
       "model_id": "4e320efecbc8425cb8fede0ed42de6bb",
       "version_major": 2,
       "version_minor": 0
      },
      "text/plain": [
       "  0%|          | 0/60 [00:00<?, ?it/s]"
      ]
     },
     "metadata": {},
     "output_type": "display_data"
    },
    {
     "name": "stdout",
     "output_type": "stream",
     "text": [
      "completed cg_nas smlprob bo 9999 (18000, 12) 2.381748676300049 secs\n",
      "working on /usr/WS2/bolet1/ruby-benchmarks/exploreGlobalOptimizations/logs/cg_nas-smlprob/bo-4873\n"
     ]
    },
    {
     "data": {
      "application/vnd.jupyter.widget-view+json": {
       "model_id": "9131469f4b154ab79533a951e9054257",
       "version_major": 2,
       "version_minor": 0
      },
      "text/plain": [
       "  0%|          | 0/60 [00:00<?, ?it/s]"
      ]
     },
     "metadata": {},
     "output_type": "display_data"
    },
    {
     "name": "stdout",
     "output_type": "stream",
     "text": [
      "completed cg_nas smlprob bo 4873 (18000, 12) 1.2750203609466553 secs\n",
      "working on /usr/WS2/bolet1/ruby-benchmarks/exploreGlobalOptimizations/logs/cg_nas-medprob/bo-1337\n"
     ]
    },
    {
     "data": {
      "application/vnd.jupyter.widget-view+json": {
       "model_id": "863bf9a04a554eb9b762a8ac11eb5bf0",
       "version_major": 2,
       "version_minor": 0
      },
      "text/plain": [
       "  0%|          | 0/60 [00:00<?, ?it/s]"
      ]
     },
     "metadata": {},
     "output_type": "display_data"
    },
    {
     "name": "stdout",
     "output_type": "stream",
     "text": [
      "completed cg_nas medprob bo 1337 (18000, 12) 1.3346424102783203 secs\n",
      "working on /usr/WS2/bolet1/ruby-benchmarks/exploreGlobalOptimizations/logs/cg_nas-medprob/bo-3827\n"
     ]
    },
    {
     "data": {
      "application/vnd.jupyter.widget-view+json": {
       "model_id": "b82c56331f2c43c880bdbe30cbc09245",
       "version_major": 2,
       "version_minor": 0
      },
      "text/plain": [
       "  0%|          | 0/60 [00:00<?, ?it/s]"
      ]
     },
     "metadata": {},
     "output_type": "display_data"
    },
    {
     "name": "stdout",
     "output_type": "stream",
     "text": [
      "completed cg_nas medprob bo 3827 (18000, 12) 1.073204755783081 secs\n",
      "working on /usr/WS2/bolet1/ruby-benchmarks/exploreGlobalOptimizations/logs/cg_nas-medprob/bo-9999\n"
     ]
    },
    {
     "data": {
      "application/vnd.jupyter.widget-view+json": {
       "model_id": "274ca7156ffa42e297d96949eaff9956",
       "version_major": 2,
       "version_minor": 0
      },
      "text/plain": [
       "  0%|          | 0/60 [00:00<?, ?it/s]"
      ]
     },
     "metadata": {},
     "output_type": "display_data"
    },
    {
     "name": "stdout",
     "output_type": "stream",
     "text": [
      "completed cg_nas medprob bo 9999 (18000, 12) 1.0271272659301758 secs\n",
      "working on /usr/WS2/bolet1/ruby-benchmarks/exploreGlobalOptimizations/logs/cg_nas-medprob/bo-4873\n"
     ]
    },
    {
     "data": {
      "application/vnd.jupyter.widget-view+json": {
       "model_id": "56abcebf8ccc4f8ea87be141430b0fdd",
       "version_major": 2,
       "version_minor": 0
      },
      "text/plain": [
       "  0%|          | 0/60 [00:00<?, ?it/s]"
      ]
     },
     "metadata": {},
     "output_type": "display_data"
    },
    {
     "name": "stdout",
     "output_type": "stream",
     "text": [
      "completed cg_nas medprob bo 4873 (18000, 12) 1.024634838104248 secs\n",
      "working on /usr/WS2/bolet1/ruby-benchmarks/exploreGlobalOptimizations/logs/cg_nas-lrgprob/bo-1337\n"
     ]
    },
    {
     "data": {
      "application/vnd.jupyter.widget-view+json": {
       "model_id": "2e3e8666fc5c40448df867d842ead9ed",
       "version_major": 2,
       "version_minor": 0
      },
      "text/plain": [
       "  0%|          | 0/60 [00:00<?, ?it/s]"
      ]
     },
     "metadata": {},
     "output_type": "display_data"
    },
    {
     "name": "stdout",
     "output_type": "stream",
     "text": [
      "completed cg_nas lrgprob bo 1337 (18000, 12) 1.1318857669830322 secs\n",
      "working on /usr/WS2/bolet1/ruby-benchmarks/exploreGlobalOptimizations/logs/cg_nas-lrgprob/bo-3827\n"
     ]
    },
    {
     "data": {
      "application/vnd.jupyter.widget-view+json": {
       "model_id": "082bcd1d36c2441398c49614a60a6404",
       "version_major": 2,
       "version_minor": 0
      },
      "text/plain": [
       "  0%|          | 0/60 [00:00<?, ?it/s]"
      ]
     },
     "metadata": {},
     "output_type": "display_data"
    },
    {
     "name": "stdout",
     "output_type": "stream",
     "text": [
      "completed cg_nas lrgprob bo 3827 (18000, 12) 1.0634145736694336 secs\n",
      "working on /usr/WS2/bolet1/ruby-benchmarks/exploreGlobalOptimizations/logs/cg_nas-lrgprob/bo-9999\n"
     ]
    },
    {
     "data": {
      "application/vnd.jupyter.widget-view+json": {
       "model_id": "44d6ae7fc0064fe2b5e0e1443fe6508c",
       "version_major": 2,
       "version_minor": 0
      },
      "text/plain": [
       "  0%|          | 0/60 [00:00<?, ?it/s]"
      ]
     },
     "metadata": {},
     "output_type": "display_data"
    },
    {
     "name": "stdout",
     "output_type": "stream",
     "text": [
      "completed cg_nas lrgprob bo 9999 (18000, 12) 1.110321283340454 secs\n",
      "working on /usr/WS2/bolet1/ruby-benchmarks/exploreGlobalOptimizations/logs/cg_nas-lrgprob/bo-4873\n"
     ]
    },
    {
     "data": {
      "application/vnd.jupyter.widget-view+json": {
       "model_id": "1d12e169e0274efeb4369360af0c4e9e",
       "version_major": 2,
       "version_minor": 0
      },
      "text/plain": [
       "  0%|          | 0/60 [00:00<?, ?it/s]"
      ]
     },
     "metadata": {},
     "output_type": "display_data"
    },
    {
     "name": "stdout",
     "output_type": "stream",
     "text": [
      "completed cg_nas lrgprob bo 4873 (18000, 12) 1.1587107181549072 secs\n",
      "\n",
      "\n",
      " wrote: /usr/WS2/bolet1/ruby-benchmarks/exploreGlobalOptimizations/databases/ruby-cg_nas-bo-GO_Data.csv \n",
      "\n",
      "\n",
      "working on /usr/WS2/bolet1/ruby-benchmarks/exploreGlobalOptimizations/logs/ft_nas-smlprob/bo-1337\n"
     ]
    },
    {
     "data": {
      "application/vnd.jupyter.widget-view+json": {
       "model_id": "ce52dbc7fecb46a0a41c059d05f1b46e",
       "version_major": 2,
       "version_minor": 0
      },
      "text/plain": [
       "  0%|          | 0/60 [00:00<?, ?it/s]"
      ]
     },
     "metadata": {},
     "output_type": "display_data"
    },
    {
     "name": "stdout",
     "output_type": "stream",
     "text": [
      "completed ft_nas smlprob bo 1337 (18000, 12) 0.9513130187988281 secs\n",
      "working on /usr/WS2/bolet1/ruby-benchmarks/exploreGlobalOptimizations/logs/ft_nas-smlprob/bo-3827\n"
     ]
    },
    {
     "data": {
      "application/vnd.jupyter.widget-view+json": {
       "model_id": "f0c73c5d416b477d9d023b3d89ee3984",
       "version_major": 2,
       "version_minor": 0
      },
      "text/plain": [
       "  0%|          | 0/60 [00:00<?, ?it/s]"
      ]
     },
     "metadata": {},
     "output_type": "display_data"
    },
    {
     "name": "stdout",
     "output_type": "stream",
     "text": [
      "completed ft_nas smlprob bo 3827 (18000, 12) 1.1345570087432861 secs\n",
      "working on /usr/WS2/bolet1/ruby-benchmarks/exploreGlobalOptimizations/logs/ft_nas-smlprob/bo-9999\n"
     ]
    },
    {
     "data": {
      "application/vnd.jupyter.widget-view+json": {
       "model_id": "2c72300a9dce41bea3267aace255b8e7",
       "version_major": 2,
       "version_minor": 0
      },
      "text/plain": [
       "  0%|          | 0/60 [00:00<?, ?it/s]"
      ]
     },
     "metadata": {},
     "output_type": "display_data"
    },
    {
     "name": "stdout",
     "output_type": "stream",
     "text": [
      "completed ft_nas smlprob bo 9999 (18000, 12) 1.003385305404663 secs\n",
      "working on /usr/WS2/bolet1/ruby-benchmarks/exploreGlobalOptimizations/logs/ft_nas-smlprob/bo-4873\n"
     ]
    },
    {
     "data": {
      "application/vnd.jupyter.widget-view+json": {
       "model_id": "23aee95eb4a74bba9a05d82028daa3c3",
       "version_major": 2,
       "version_minor": 0
      },
      "text/plain": [
       "  0%|          | 0/60 [00:00<?, ?it/s]"
      ]
     },
     "metadata": {},
     "output_type": "display_data"
    },
    {
     "name": "stdout",
     "output_type": "stream",
     "text": [
      "completed ft_nas smlprob bo 4873 (18000, 12) 0.9957826137542725 secs\n",
      "working on /usr/WS2/bolet1/ruby-benchmarks/exploreGlobalOptimizations/logs/ft_nas-medprob/bo-1337\n"
     ]
    },
    {
     "data": {
      "application/vnd.jupyter.widget-view+json": {
       "model_id": "92ea08ed030e465c87a2a6fc13a478cc",
       "version_major": 2,
       "version_minor": 0
      },
      "text/plain": [
       "  0%|          | 0/60 [00:00<?, ?it/s]"
      ]
     },
     "metadata": {},
     "output_type": "display_data"
    },
    {
     "name": "stdout",
     "output_type": "stream",
     "text": [
      "completed ft_nas medprob bo 1337 (18000, 12) 1.0333826541900635 secs\n",
      "working on /usr/WS2/bolet1/ruby-benchmarks/exploreGlobalOptimizations/logs/ft_nas-medprob/bo-3827\n"
     ]
    },
    {
     "data": {
      "application/vnd.jupyter.widget-view+json": {
       "model_id": "0ed05ece462c492fa7898395ea7b852a",
       "version_major": 2,
       "version_minor": 0
      },
      "text/plain": [
       "  0%|          | 0/60 [00:00<?, ?it/s]"
      ]
     },
     "metadata": {},
     "output_type": "display_data"
    },
    {
     "name": "stdout",
     "output_type": "stream",
     "text": [
      "completed ft_nas medprob bo 3827 (18000, 12) 0.962287425994873 secs\n",
      "working on /usr/WS2/bolet1/ruby-benchmarks/exploreGlobalOptimizations/logs/ft_nas-medprob/bo-9999\n"
     ]
    },
    {
     "data": {
      "application/vnd.jupyter.widget-view+json": {
       "model_id": "b451f8aa4b7c437c89bf3644be9f82ca",
       "version_major": 2,
       "version_minor": 0
      },
      "text/plain": [
       "  0%|          | 0/60 [00:00<?, ?it/s]"
      ]
     },
     "metadata": {},
     "output_type": "display_data"
    },
    {
     "name": "stdout",
     "output_type": "stream",
     "text": [
      "completed ft_nas medprob bo 9999 (18000, 12) 1.1171760559082031 secs\n",
      "working on /usr/WS2/bolet1/ruby-benchmarks/exploreGlobalOptimizations/logs/ft_nas-medprob/bo-4873\n"
     ]
    },
    {
     "data": {
      "application/vnd.jupyter.widget-view+json": {
       "model_id": "57cd0f35b15a440890dca6234e29efcc",
       "version_major": 2,
       "version_minor": 0
      },
      "text/plain": [
       "  0%|          | 0/60 [00:00<?, ?it/s]"
      ]
     },
     "metadata": {},
     "output_type": "display_data"
    },
    {
     "name": "stdout",
     "output_type": "stream",
     "text": [
      "completed ft_nas medprob bo 4873 (18000, 12) 1.0600090026855469 secs\n",
      "working on /usr/WS2/bolet1/ruby-benchmarks/exploreGlobalOptimizations/logs/ft_nas-lrgprob/bo-1337\n"
     ]
    },
    {
     "data": {
      "application/vnd.jupyter.widget-view+json": {
       "model_id": "a25bd3d609654b6c99f41cffbbc5e635",
       "version_major": 2,
       "version_minor": 0
      },
      "text/plain": [
       "  0%|          | 0/60 [00:00<?, ?it/s]"
      ]
     },
     "metadata": {},
     "output_type": "display_data"
    },
    {
     "name": "stdout",
     "output_type": "stream",
     "text": [
      "completed ft_nas lrgprob bo 1337 (18000, 12) 1.1421961784362793 secs\n",
      "working on /usr/WS2/bolet1/ruby-benchmarks/exploreGlobalOptimizations/logs/ft_nas-lrgprob/bo-3827\n"
     ]
    },
    {
     "data": {
      "application/vnd.jupyter.widget-view+json": {
       "model_id": "e583b25ec27d4471a762230e57b26972",
       "version_major": 2,
       "version_minor": 0
      },
      "text/plain": [
       "  0%|          | 0/60 [00:00<?, ?it/s]"
      ]
     },
     "metadata": {},
     "output_type": "display_data"
    },
    {
     "name": "stdout",
     "output_type": "stream",
     "text": [
      "completed ft_nas lrgprob bo 3827 (18000, 12) 0.8932359218597412 secs\n",
      "working on /usr/WS2/bolet1/ruby-benchmarks/exploreGlobalOptimizations/logs/ft_nas-lrgprob/bo-9999\n"
     ]
    },
    {
     "data": {
      "application/vnd.jupyter.widget-view+json": {
       "model_id": "8c6ce43abcf347c8bb22b8d23c832f8b",
       "version_major": 2,
       "version_minor": 0
      },
      "text/plain": [
       "  0%|          | 0/60 [00:00<?, ?it/s]"
      ]
     },
     "metadata": {},
     "output_type": "display_data"
    },
    {
     "name": "stdout",
     "output_type": "stream",
     "text": [
      "completed ft_nas lrgprob bo 9999 (18000, 12) 0.9298031330108643 secs\n",
      "working on /usr/WS2/bolet1/ruby-benchmarks/exploreGlobalOptimizations/logs/ft_nas-lrgprob/bo-4873\n"
     ]
    },
    {
     "data": {
      "application/vnd.jupyter.widget-view+json": {
       "model_id": "7b451ac265c540ffab7667527c9afbb3",
       "version_major": 2,
       "version_minor": 0
      },
      "text/plain": [
       "  0%|          | 0/60 [00:00<?, ?it/s]"
      ]
     },
     "metadata": {},
     "output_type": "display_data"
    },
    {
     "name": "stdout",
     "output_type": "stream",
     "text": [
      "completed ft_nas lrgprob bo 4873 (18000, 12) 1.0021049976348877 secs\n",
      "\n",
      "\n",
      " wrote: /usr/WS2/bolet1/ruby-benchmarks/exploreGlobalOptimizations/databases/ruby-ft_nas-bo-GO_Data.csv \n",
      "\n",
      "\n",
      "working on /usr/WS2/bolet1/ruby-benchmarks/exploreGlobalOptimizations/logs/hpcg-smlprob/bo-1337\n"
     ]
    },
    {
     "data": {
      "application/vnd.jupyter.widget-view+json": {
       "model_id": "0401554defb649fd825d1d8c5b40f0dd",
       "version_major": 2,
       "version_minor": 0
      },
      "text/plain": [
       "  0%|          | 0/60 [00:00<?, ?it/s]"
      ]
     },
     "metadata": {},
     "output_type": "display_data"
    },
    {
     "name": "stdout",
     "output_type": "stream",
     "text": [
      "completed hpcg smlprob bo 1337 (18000, 12) 1.5256357192993164 secs\n",
      "working on /usr/WS2/bolet1/ruby-benchmarks/exploreGlobalOptimizations/logs/hpcg-smlprob/bo-3827\n"
     ]
    },
    {
     "data": {
      "application/vnd.jupyter.widget-view+json": {
       "model_id": "2682bc6ed6c94573b0eefccd1441475b",
       "version_major": 2,
       "version_minor": 0
      },
      "text/plain": [
       "  0%|          | 0/60 [00:00<?, ?it/s]"
      ]
     },
     "metadata": {},
     "output_type": "display_data"
    },
    {
     "name": "stdout",
     "output_type": "stream",
     "text": [
      "completed hpcg smlprob bo 3827 (18000, 12) 3.560915470123291 secs\n",
      "working on /usr/WS2/bolet1/ruby-benchmarks/exploreGlobalOptimizations/logs/hpcg-smlprob/bo-9999\n"
     ]
    },
    {
     "data": {
      "application/vnd.jupyter.widget-view+json": {
       "model_id": "c4e35a61137249c899053e4f05bb09f0",
       "version_major": 2,
       "version_minor": 0
      },
      "text/plain": [
       "  0%|          | 0/60 [00:00<?, ?it/s]"
      ]
     },
     "metadata": {},
     "output_type": "display_data"
    },
    {
     "name": "stdout",
     "output_type": "stream",
     "text": [
      "completed hpcg smlprob bo 9999 (18000, 12) 2.9712016582489014 secs\n",
      "working on /usr/WS2/bolet1/ruby-benchmarks/exploreGlobalOptimizations/logs/hpcg-smlprob/bo-4873\n"
     ]
    },
    {
     "data": {
      "application/vnd.jupyter.widget-view+json": {
       "model_id": "15b5ddcf3c3c4662a706b3a93118de26",
       "version_major": 2,
       "version_minor": 0
      },
      "text/plain": [
       "  0%|          | 0/60 [00:00<?, ?it/s]"
      ]
     },
     "metadata": {},
     "output_type": "display_data"
    },
    {
     "name": "stdout",
     "output_type": "stream",
     "text": [
      "completed hpcg smlprob bo 4873 (18000, 12) 1.0951669216156006 secs\n",
      "working on /usr/WS2/bolet1/ruby-benchmarks/exploreGlobalOptimizations/logs/hpcg-medprob/bo-1337\n"
     ]
    },
    {
     "data": {
      "application/vnd.jupyter.widget-view+json": {
       "model_id": "deb378e8436f4df4b4b777c72688702a",
       "version_major": 2,
       "version_minor": 0
      },
      "text/plain": [
       "  0%|          | 0/60 [00:00<?, ?it/s]"
      ]
     },
     "metadata": {},
     "output_type": "display_data"
    },
    {
     "name": "stdout",
     "output_type": "stream",
     "text": [
      "completed hpcg medprob bo 1337 (18000, 12) 1.199772596359253 secs\n",
      "working on /usr/WS2/bolet1/ruby-benchmarks/exploreGlobalOptimizations/logs/hpcg-medprob/bo-3827\n"
     ]
    },
    {
     "data": {
      "application/vnd.jupyter.widget-view+json": {
       "model_id": "9503692f254c45ca8b64b3053d32b6ab",
       "version_major": 2,
       "version_minor": 0
      },
      "text/plain": [
       "  0%|          | 0/60 [00:00<?, ?it/s]"
      ]
     },
     "metadata": {},
     "output_type": "display_data"
    },
    {
     "name": "stdout",
     "output_type": "stream",
     "text": [
      "completed hpcg medprob bo 3827 (18000, 12) 1.0621569156646729 secs\n",
      "working on /usr/WS2/bolet1/ruby-benchmarks/exploreGlobalOptimizations/logs/hpcg-medprob/bo-9999\n"
     ]
    },
    {
     "data": {
      "application/vnd.jupyter.widget-view+json": {
       "model_id": "e3edc404b7224564b56e331c89fc7f65",
       "version_major": 2,
       "version_minor": 0
      },
      "text/plain": [
       "  0%|          | 0/60 [00:00<?, ?it/s]"
      ]
     },
     "metadata": {},
     "output_type": "display_data"
    },
    {
     "name": "stdout",
     "output_type": "stream",
     "text": [
      "completed hpcg medprob bo 9999 (18000, 12) 1.0571227073669434 secs\n",
      "working on /usr/WS2/bolet1/ruby-benchmarks/exploreGlobalOptimizations/logs/hpcg-medprob/bo-4873\n"
     ]
    },
    {
     "data": {
      "application/vnd.jupyter.widget-view+json": {
       "model_id": "b31e563279fa42d8b273248bdd0c49e7",
       "version_major": 2,
       "version_minor": 0
      },
      "text/plain": [
       "  0%|          | 0/60 [00:00<?, ?it/s]"
      ]
     },
     "metadata": {},
     "output_type": "display_data"
    },
    {
     "name": "stdout",
     "output_type": "stream",
     "text": [
      "completed hpcg medprob bo 4873 (18000, 12) 1.0734889507293701 secs\n",
      "working on /usr/WS2/bolet1/ruby-benchmarks/exploreGlobalOptimizations/logs/hpcg-lrgprob/bo-1337\n"
     ]
    },
    {
     "data": {
      "application/vnd.jupyter.widget-view+json": {
       "model_id": "72517522bb3c4aaeaabb556776e8661b",
       "version_major": 2,
       "version_minor": 0
      },
      "text/plain": [
       "  0%|          | 0/60 [00:00<?, ?it/s]"
      ]
     },
     "metadata": {},
     "output_type": "display_data"
    },
    {
     "name": "stdout",
     "output_type": "stream",
     "text": [
      "completed hpcg lrgprob bo 1337 (18000, 12) 1.2988011837005615 secs\n",
      "working on /usr/WS2/bolet1/ruby-benchmarks/exploreGlobalOptimizations/logs/hpcg-lrgprob/bo-3827\n"
     ]
    },
    {
     "data": {
      "application/vnd.jupyter.widget-view+json": {
       "model_id": "7d919515669347368acd6d5535419935",
       "version_major": 2,
       "version_minor": 0
      },
      "text/plain": [
       "  0%|          | 0/60 [00:00<?, ?it/s]"
      ]
     },
     "metadata": {},
     "output_type": "display_data"
    },
    {
     "name": "stdout",
     "output_type": "stream",
     "text": [
      "completed hpcg lrgprob bo 3827 (18000, 12) 1.0971004962921143 secs\n",
      "working on /usr/WS2/bolet1/ruby-benchmarks/exploreGlobalOptimizations/logs/hpcg-lrgprob/bo-9999\n"
     ]
    },
    {
     "data": {
      "application/vnd.jupyter.widget-view+json": {
       "model_id": "c460df0d8a2d4dd8a061c3453eaac641",
       "version_major": 2,
       "version_minor": 0
      },
      "text/plain": [
       "  0%|          | 0/60 [00:00<?, ?it/s]"
      ]
     },
     "metadata": {},
     "output_type": "display_data"
    },
    {
     "name": "stdout",
     "output_type": "stream",
     "text": [
      "completed hpcg lrgprob bo 9999 (18000, 12) 1.200605869293213 secs\n",
      "working on /usr/WS2/bolet1/ruby-benchmarks/exploreGlobalOptimizations/logs/hpcg-lrgprob/bo-4873\n"
     ]
    },
    {
     "data": {
      "application/vnd.jupyter.widget-view+json": {
       "model_id": "e4677b7435b6499c9fcec4553fe4b72e",
       "version_major": 2,
       "version_minor": 0
      },
      "text/plain": [
       "  0%|          | 0/60 [00:00<?, ?it/s]"
      ]
     },
     "metadata": {},
     "output_type": "display_data"
    },
    {
     "name": "stdout",
     "output_type": "stream",
     "text": [
      "completed hpcg lrgprob bo 4873 (18000, 12) 3.225093364715576 secs\n",
      "\n",
      "\n",
      " wrote: /usr/WS2/bolet1/ruby-benchmarks/exploreGlobalOptimizations/databases/ruby-hpcg-bo-GO_Data.csv \n",
      "\n",
      "\n",
      "working on /usr/WS2/bolet1/ruby-benchmarks/exploreGlobalOptimizations/logs/lulesh-smlprob/bo-1337\n"
     ]
    },
    {
     "data": {
      "application/vnd.jupyter.widget-view+json": {
       "model_id": "8b7b98f341354b02ba0e393ee2931dd4",
       "version_major": 2,
       "version_minor": 0
      },
      "text/plain": [
       "  0%|          | 0/60 [00:00<?, ?it/s]"
      ]
     },
     "metadata": {},
     "output_type": "display_data"
    },
    {
     "name": "stdout",
     "output_type": "stream",
     "text": [
      "completed lulesh smlprob bo 1337 (18000, 12) 1.136899709701538 secs\n",
      "working on /usr/WS2/bolet1/ruby-benchmarks/exploreGlobalOptimizations/logs/lulesh-smlprob/bo-3827\n"
     ]
    },
    {
     "data": {
      "application/vnd.jupyter.widget-view+json": {
       "model_id": "0ee468f3d2e14e25a3a5fd4ddad12388",
       "version_major": 2,
       "version_minor": 0
      },
      "text/plain": [
       "  0%|          | 0/60 [00:00<?, ?it/s]"
      ]
     },
     "metadata": {},
     "output_type": "display_data"
    },
    {
     "name": "stdout",
     "output_type": "stream",
     "text": [
      "completed lulesh smlprob bo 3827 (18000, 12) 1.0502233505249023 secs\n",
      "working on /usr/WS2/bolet1/ruby-benchmarks/exploreGlobalOptimizations/logs/lulesh-smlprob/bo-9999\n"
     ]
    },
    {
     "data": {
      "application/vnd.jupyter.widget-view+json": {
       "model_id": "616d4cf8f5b741409f39f5215e8e7d88",
       "version_major": 2,
       "version_minor": 0
      },
      "text/plain": [
       "  0%|          | 0/60 [00:00<?, ?it/s]"
      ]
     },
     "metadata": {},
     "output_type": "display_data"
    },
    {
     "name": "stdout",
     "output_type": "stream",
     "text": [
      "completed lulesh smlprob bo 9999 (18000, 12) 3.202132225036621 secs\n",
      "working on /usr/WS2/bolet1/ruby-benchmarks/exploreGlobalOptimizations/logs/lulesh-smlprob/bo-4873\n"
     ]
    },
    {
     "data": {
      "application/vnd.jupyter.widget-view+json": {
       "model_id": "0685cb48753749bd9721fcf2ad3f1a8d",
       "version_major": 2,
       "version_minor": 0
      },
      "text/plain": [
       "  0%|          | 0/60 [00:00<?, ?it/s]"
      ]
     },
     "metadata": {},
     "output_type": "display_data"
    },
    {
     "name": "stdout",
     "output_type": "stream",
     "text": [
      "completed lulesh smlprob bo 4873 (18000, 12) 1.097700595855713 secs\n",
      "working on /usr/WS2/bolet1/ruby-benchmarks/exploreGlobalOptimizations/logs/lulesh-medprob/bo-1337\n"
     ]
    },
    {
     "data": {
      "application/vnd.jupyter.widget-view+json": {
       "model_id": "842bb0781e994af19aaa4c50077a908a",
       "version_major": 2,
       "version_minor": 0
      },
      "text/plain": [
       "  0%|          | 0/60 [00:00<?, ?it/s]"
      ]
     },
     "metadata": {},
     "output_type": "display_data"
    },
    {
     "name": "stdout",
     "output_type": "stream",
     "text": [
      "completed lulesh medprob bo 1337 (18000, 12) 1.1239452362060547 secs\n",
      "working on /usr/WS2/bolet1/ruby-benchmarks/exploreGlobalOptimizations/logs/lulesh-medprob/bo-3827\n"
     ]
    },
    {
     "data": {
      "application/vnd.jupyter.widget-view+json": {
       "model_id": "f40ab81ab0f74bdca797c60e1aef2e98",
       "version_major": 2,
       "version_minor": 0
      },
      "text/plain": [
       "  0%|          | 0/60 [00:00<?, ?it/s]"
      ]
     },
     "metadata": {},
     "output_type": "display_data"
    },
    {
     "name": "stdout",
     "output_type": "stream",
     "text": [
      "completed lulesh medprob bo 3827 (18000, 12) 0.9906201362609863 secs\n",
      "working on /usr/WS2/bolet1/ruby-benchmarks/exploreGlobalOptimizations/logs/lulesh-medprob/bo-9999\n"
     ]
    },
    {
     "data": {
      "application/vnd.jupyter.widget-view+json": {
       "model_id": "e93d7d1b1c894177aca0dc407fa5d51f",
       "version_major": 2,
       "version_minor": 0
      },
      "text/plain": [
       "  0%|          | 0/60 [00:00<?, ?it/s]"
      ]
     },
     "metadata": {},
     "output_type": "display_data"
    },
    {
     "name": "stdout",
     "output_type": "stream",
     "text": [
      "completed lulesh medprob bo 9999 (18000, 12) 1.1276659965515137 secs\n",
      "working on /usr/WS2/bolet1/ruby-benchmarks/exploreGlobalOptimizations/logs/lulesh-medprob/bo-4873\n"
     ]
    },
    {
     "data": {
      "application/vnd.jupyter.widget-view+json": {
       "model_id": "0c9714ff188a49afb979ec23e2166abe",
       "version_major": 2,
       "version_minor": 0
      },
      "text/plain": [
       "  0%|          | 0/60 [00:00<?, ?it/s]"
      ]
     },
     "metadata": {},
     "output_type": "display_data"
    },
    {
     "name": "stdout",
     "output_type": "stream",
     "text": [
      "completed lulesh medprob bo 4873 (18000, 12) 1.3232128620147705 secs\n",
      "working on /usr/WS2/bolet1/ruby-benchmarks/exploreGlobalOptimizations/logs/lulesh-lrgprob/bo-1337\n"
     ]
    },
    {
     "data": {
      "application/vnd.jupyter.widget-view+json": {
       "model_id": "5730f9f77dd64c1e95955970cc6008af",
       "version_major": 2,
       "version_minor": 0
      },
      "text/plain": [
       "  0%|          | 0/60 [00:00<?, ?it/s]"
      ]
     },
     "metadata": {},
     "output_type": "display_data"
    },
    {
     "name": "stdout",
     "output_type": "stream",
     "text": [
      "completed lulesh lrgprob bo 1337 (18000, 12) 1.361250638961792 secs\n",
      "working on /usr/WS2/bolet1/ruby-benchmarks/exploreGlobalOptimizations/logs/lulesh-lrgprob/bo-3827\n"
     ]
    },
    {
     "data": {
      "application/vnd.jupyter.widget-view+json": {
       "model_id": "4f2139b130b743fcb971035fbfaa6fe2",
       "version_major": 2,
       "version_minor": 0
      },
      "text/plain": [
       "  0%|          | 0/60 [00:00<?, ?it/s]"
      ]
     },
     "metadata": {},
     "output_type": "display_data"
    },
    {
     "name": "stdout",
     "output_type": "stream",
     "text": [
      "completed lulesh lrgprob bo 3827 (18000, 12) 1.049931287765503 secs\n",
      "working on /usr/WS2/bolet1/ruby-benchmarks/exploreGlobalOptimizations/logs/lulesh-lrgprob/bo-9999\n"
     ]
    },
    {
     "data": {
      "application/vnd.jupyter.widget-view+json": {
       "model_id": "bd0c11da0dba41dd9ae69375371f9ba4",
       "version_major": 2,
       "version_minor": 0
      },
      "text/plain": [
       "  0%|          | 0/60 [00:00<?, ?it/s]"
      ]
     },
     "metadata": {},
     "output_type": "display_data"
    },
    {
     "name": "stdout",
     "output_type": "stream",
     "text": [
      "completed lulesh lrgprob bo 9999 (18000, 12) 1.1312768459320068 secs\n",
      "working on /usr/WS2/bolet1/ruby-benchmarks/exploreGlobalOptimizations/logs/lulesh-lrgprob/bo-4873\n"
     ]
    },
    {
     "data": {
      "application/vnd.jupyter.widget-view+json": {
       "model_id": "fe8e592fb9584066bf798752bec56fe8",
       "version_major": 2,
       "version_minor": 0
      },
      "text/plain": [
       "  0%|          | 0/60 [00:00<?, ?it/s]"
      ]
     },
     "metadata": {},
     "output_type": "display_data"
    },
    {
     "name": "stdout",
     "output_type": "stream",
     "text": [
      "completed lulesh lrgprob bo 4873 (18000, 12) 1.022057056427002 secs\n",
      "\n",
      "\n",
      " wrote: /usr/WS2/bolet1/ruby-benchmarks/exploreGlobalOptimizations/databases/ruby-lulesh-bo-GO_Data.csv \n",
      "\n",
      "\n"
     ]
    }
   ],
   "source": [
    "preprocessAllLogs()"
   ]
  }
 ],
 "metadata": {
  "kernelspec": {
   "display_name": "python3.10.8-gregvirtenv",
   "language": "python",
   "name": "python3"
  },
  "language_info": {
   "codemirror_mode": {
    "name": "ipython",
    "version": 3
   },
   "file_extension": ".py",
   "mimetype": "text/x-python",
   "name": "python",
   "nbconvert_exporter": "python",
   "pygments_lexer": "ipython3",
   "version": "3.10.8"
  },
  "orig_nbformat": 4
 },
 "nbformat": 4,
 "nbformat_minor": 2
}
