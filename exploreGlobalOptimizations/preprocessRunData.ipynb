{
 "cells": [
  {
   "cell_type": "code",
   "execution_count": 1,
   "metadata": {},
   "outputs": [
    {
     "name": "stdout",
     "output_type": "stream",
     "text": [
      "ROOT_DIR /usr/WS2/bolet1/ruby-benchmarks/exploreGlobalOptimizations\n"
     ]
    }
   ],
   "source": [
    "import pandas as pd\n",
    "import numpy as np\n",
    "from benchmarks import *\n",
    "import glob\n",
    "import os, sys\n",
    "import seaborn as sns\n",
    "import matplotlib.pyplot as plt\n",
    "import re\n",
    "import time\n",
    "from tqdm.notebook import tqdm"
   ]
  },
  {
   "cell_type": "code",
   "execution_count": 2,
   "metadata": {},
   "outputs": [
    {
     "name": "stdout",
     "output_type": "stream",
     "text": [
      "ruby /usr/WS2/bolet1/ruby-benchmarks/exploreGlobalOptimizations\n"
     ]
    }
   ],
   "source": [
    "print(MACHINE, ROOT_DIR)\n",
    "prognames = list(progs.keys())\n",
    "probsizes = ['smlprob', 'medprob', 'lrgprob']\n",
    "\n",
    "logsDir = ROOT_DIR+'/logs'\n",
    "\n",
    "goMethods=['cma', 'pso', 'bo']\n",
    "seeds = [1337, 3827, 9999, 4873]"
   ]
  },
  {
   "cell_type": "code",
   "execution_count": 3,
   "metadata": {},
   "outputs": [],
   "source": [
    "def getHypersFromFilename(filename):\n",
    "\n",
    "\t# cut the path out if it has a path, and remove the .csv extension\n",
    "\tfilename = os.path.splitext(os.path.basename(filename))[0]\n",
    "\n",
    "\tif '-BO-' in filename:\n",
    "\t\tif '-ucb-' in filename:\n",
    "\t\t\tfilename = filename[filename.find('-ucb-')+5:]\n",
    "\t\t\tfound = re.findall(r'(?:k)(.*)(?:-kd)(.*)(?:-kdd)(.*)(?:--DONE)',filename)[0]\n",
    "\t\t\tk = float(found[0])\n",
    "\t\t\tkd = float(found[1])\n",
    "\t\t\tkdd = int(found[2])\n",
    "\t\t\treturn {'utilFnct':'ucb', 'kappa':k, 'kappa_decay':kd, 'kappa_decay_delay':kdd}\n",
    "\t\t\n",
    "\t\telif '-ei-' in filename:\n",
    "\t\t\tfilename = filename[filename.find('-ei-')+4:]\n",
    "\t\t\tfound = re.findall(r'(?:xi)(.*)(?:--DONE)',filename)[0]\n",
    "\t\t\txi = float(found[0])\n",
    "\t\t\treturn {'utilFnct':'ei', 'xi':xi}\n",
    "\t\t\n",
    "\t\telif '-poi-' in filename:\n",
    "\t\t\tfilename = filename[filename.find('-poi-')+5:]\n",
    "\t\t\tfound = re.findall(r'(?:xi)(.*)(?:--DONE)',filename)[0]\n",
    "\t\t\txi = float(found[0])\n",
    "\t\t\treturn {'utilFnct':'poi', 'xi':xi}\n",
    "\n",
    "\telif '-PSO-' in filename:\n",
    "\t\t\tfilename = filename[filename.find('-PSO-')+5:]\n",
    "\t\t\tfound = re.findall(r'(?:pop)(.*)(?:-w)(.*)(?:-c1)(.*)(?:-c2)(.*)(?:--DONE)',filename)[0]\n",
    "\t\t\tpop = int(found[0])\n",
    "\t\t\tw = float(found[1])\n",
    "\t\t\tc1 = float(found[2])\n",
    "\t\t\tc2 = float(found[3])\n",
    "\t\t\treturn {'popsize':pop, 'w':w, 'c1':c1, 'c2':c2}\n",
    "\t\n",
    "\telif '-CMA-' in filename:\n",
    "\t\t\tfilename = filename[filename.find('-CMA-')+5:]\n",
    "\t\t\tfound = re.findall(r'(?:sigma)(.*)(?:-pop)(.*)(?:-popdecay)(.*)(?:--DONE)',filename)[0]\n",
    "\t\t\tsigma = float(found[0])\n",
    "\t\t\tpop = int(found[1])\n",
    "\t\t\tpd = float(found[2])\n",
    "\t\t\t#return {'method':'cma', 'sigma':sigma, 'popsize':pop, 'popdecay':pd}\n",
    "\t\t\t# excluded popdecay in experiments\n",
    "\t\t\treturn {'sigma':sigma, 'popsize':pop}\n",
    "\t\n",
    "\telse:\n",
    "\t\tprint('no GO method in filename...')\n",
    "\t\traise ValueError('Failed to provide a string path with a GO Method')\n",
    "\t\treturn\n"
   ]
  },
  {
   "cell_type": "code",
   "execution_count": 4,
   "metadata": {},
   "outputs": [],
   "source": [
    "def getData(progname, probsize, method, seed):\n",
    "\tmainDF = pd.DataFrame(columns=['progname', 'probsize', 'method', 'seed'])\n",
    "\tstartTime = time.time()\n",
    "\n",
    "\tdir = logsDir+f'/{progname}-{probsize}/{method}-{seed}'\n",
    "\tprint('working on', dir)\n",
    "\t# check that the directory exists\n",
    "\t# grab the completed data\n",
    "\tcsvs = glob.glob(dir+'/*DONE.csv')\n",
    "\n",
    "\t# read in each of the dataframe, then contatenate them all at once\n",
    "\treadin = []\n",
    "\tfor csv in tqdm(csvs):\n",
    "\t\t# extract the hyperparam values from the filename\n",
    "\t\thypers = getHypersFromFilename(csv)\n",
    "\t\ttoadd = pd.read_csv(csv, usecols=['globalSample', 'optimXtime', 'xtime'])\n",
    "\n",
    "\t\t# add the extra columns\n",
    "\t\tfor hyper,val in hypers.items():\n",
    "\t\t\ttoadd[hyper] = val\n",
    "\n",
    "\t\treadin += [toadd]\n",
    "\n",
    "\tmainDF = pd.concat([mainDF]+readin, ignore_index=True)\n",
    "\n",
    "\tmainDF['progname'] = progname\n",
    "\tmainDF['probsize'] = probsize\n",
    "\tmainDF['method'] = method\n",
    "\tmainDF['seed'] = seed \n",
    "\n",
    "\tprint('completed', progname, probsize, method, seed, mainDF.shape, (time.time() - startTime), 'secs')\t\t\n",
    "\treturn mainDF"
   ]
  },
  {
   "cell_type": "code",
   "execution_count": 5,
   "metadata": {},
   "outputs": [],
   "source": [
    "dbFile = f'{MACHINE}-fullExploreDataset.csv'\n",
    "xtimeDB = pd.read_csv(ROOT_DIR+'/databases/'+dbFile)\n",
    "\n",
    "def getMinMaxXtimeForProg(progname, probsize):\n",
    "\tdf = xtimeDB[(xtimeDB['progname'] == progname) & \n",
    "\t\t\t\t\t\t\t (xtimeDB['probsize'] == probsize)]['xtime']\n",
    "\treturn (df.min(), df.max())\n",
    "\n",
    "# 0 will mean close to maxXtime\n",
    "# 1 will mean close to minXtime\n",
    "def convertXtimesToPercent(df, minXtime, maxXtime):\n",
    "\tdf['xtime'] = 1 - (df['xtime']-minXtime)/(maxXtime-minXtime)\n",
    "\treturn\n"
   ]
  },
  {
   "cell_type": "code",
   "execution_count": 6,
   "metadata": {},
   "outputs": [],
   "source": [
    "def preprocessAllLogs():\n",
    "\n",
    "\tfor method in goMethods:\n",
    "\t\tfor progname in prognames:\n",
    "\t\t\t# gather all the data\n",
    "\t\t\ttoJoin = []\n",
    "\t\t\tfor probsize in probsizes:\n",
    "\t\t\t\tminXtime, maxXtime = getMinMaxXtimeForProg(progname, probsize)\n",
    "\t\t\t\tfor seed in seeds:\n",
    "\t\t\t\t\tdf = getData(progname, probsize, method, seed)\n",
    "\t\t\t\t\tconvertXtimesToPercent(df, minXtime, maxXtime)\n",
    "\t\t\t\t\ttoJoin += [df]\n",
    "\n",
    "\t\t\tfullDF = pd.concat(toJoin, ignore_index=True)\n",
    "\n",
    "\t\t\t# let's save the dataframe for future re-use\n",
    "\t\t\tfilename = ROOT_DIR+'/databases/'+f'{MACHINE}-{progname}-{method}-GO_Data.csv'\n",
    "\t\t\tprint('\\n\\n wrote:', filename, '\\n\\n')\n",
    "\t\t\tfullDF.to_csv(filename, index=False)\n",
    "\treturn"
   ]
  },
  {
   "cell_type": "code",
   "execution_count": 7,
   "metadata": {},
   "outputs": [
    {
     "name": "stdout",
     "output_type": "stream",
     "text": [
      "working on /usr/WS2/bolet1/ruby-benchmarks/exploreGlobalOptimizations/logs/bt_nas-smlprob/cma-1337\n"
     ]
    },
    {
     "data": {
      "application/vnd.jupyter.widget-view+json": {
       "model_id": "b766b1ebd39d4517865230b1bba05945",
       "version_major": 2,
       "version_minor": 0
      },
      "text/plain": [
       "  0%|          | 0/100 [00:00<?, ?it/s]"
      ]
     },
     "metadata": {},
     "output_type": "display_data"
    },
    {
     "name": "stdout",
     "output_type": "stream",
     "text": [
      "completed bt_nas smlprob cma 1337 (66000, 9) 0.3491384983062744 secs\n",
      "working on /usr/WS2/bolet1/ruby-benchmarks/exploreGlobalOptimizations/logs/bt_nas-smlprob/cma-3827\n"
     ]
    },
    {
     "data": {
      "application/vnd.jupyter.widget-view+json": {
       "model_id": "c788dd924c4a4853a4a7a3f764e17e38",
       "version_major": 2,
       "version_minor": 0
      },
      "text/plain": [
       "  0%|          | 0/100 [00:00<?, ?it/s]"
      ]
     },
     "metadata": {},
     "output_type": "display_data"
    },
    {
     "name": "stdout",
     "output_type": "stream",
     "text": [
      "completed bt_nas smlprob cma 3827 (66000, 9) 0.24349427223205566 secs\n",
      "working on /usr/WS2/bolet1/ruby-benchmarks/exploreGlobalOptimizations/logs/bt_nas-smlprob/cma-9999\n"
     ]
    },
    {
     "data": {
      "application/vnd.jupyter.widget-view+json": {
       "model_id": "b77dda2314624f4a86d266b4b9e1bc7f",
       "version_major": 2,
       "version_minor": 0
      },
      "text/plain": [
       "  0%|          | 0/100 [00:00<?, ?it/s]"
      ]
     },
     "metadata": {},
     "output_type": "display_data"
    },
    {
     "name": "stdout",
     "output_type": "stream",
     "text": [
      "completed bt_nas smlprob cma 9999 (66000, 9) 0.26433849334716797 secs\n",
      "working on /usr/WS2/bolet1/ruby-benchmarks/exploreGlobalOptimizations/logs/bt_nas-smlprob/cma-4873\n"
     ]
    },
    {
     "data": {
      "application/vnd.jupyter.widget-view+json": {
       "model_id": "1b7e1b91016848819f9c91e7b2c01333",
       "version_major": 2,
       "version_minor": 0
      },
      "text/plain": [
       "  0%|          | 0/100 [00:00<?, ?it/s]"
      ]
     },
     "metadata": {},
     "output_type": "display_data"
    },
    {
     "name": "stdout",
     "output_type": "stream",
     "text": [
      "completed bt_nas smlprob cma 4873 (66000, 9) 2.837324619293213 secs\n",
      "working on /usr/WS2/bolet1/ruby-benchmarks/exploreGlobalOptimizations/logs/bt_nas-medprob/cma-1337\n"
     ]
    },
    {
     "data": {
      "application/vnd.jupyter.widget-view+json": {
       "model_id": "0bda10f0704d476a8806ba41f06fcb7d",
       "version_major": 2,
       "version_minor": 0
      },
      "text/plain": [
       "  0%|          | 0/100 [00:00<?, ?it/s]"
      ]
     },
     "metadata": {},
     "output_type": "display_data"
    },
    {
     "name": "stdout",
     "output_type": "stream",
     "text": [
      "completed bt_nas medprob cma 1337 (66000, 9) 1.5624713897705078 secs\n",
      "working on /usr/WS2/bolet1/ruby-benchmarks/exploreGlobalOptimizations/logs/bt_nas-medprob/cma-3827\n"
     ]
    },
    {
     "data": {
      "application/vnd.jupyter.widget-view+json": {
       "model_id": "abcc8dac60984f26930b4bb4d3eaf1ee",
       "version_major": 2,
       "version_minor": 0
      },
      "text/plain": [
       "  0%|          | 0/100 [00:00<?, ?it/s]"
      ]
     },
     "metadata": {},
     "output_type": "display_data"
    },
    {
     "name": "stdout",
     "output_type": "stream",
     "text": [
      "completed bt_nas medprob cma 3827 (66000, 9) 1.5408828258514404 secs\n",
      "working on /usr/WS2/bolet1/ruby-benchmarks/exploreGlobalOptimizations/logs/bt_nas-medprob/cma-9999\n"
     ]
    },
    {
     "data": {
      "application/vnd.jupyter.widget-view+json": {
       "model_id": "c581530fde9e477bb1906751971d4ad3",
       "version_major": 2,
       "version_minor": 0
      },
      "text/plain": [
       "  0%|          | 0/100 [00:00<?, ?it/s]"
      ]
     },
     "metadata": {},
     "output_type": "display_data"
    },
    {
     "name": "stdout",
     "output_type": "stream",
     "text": [
      "completed bt_nas medprob cma 9999 (66000, 9) 2.5826268196105957 secs\n",
      "working on /usr/WS2/bolet1/ruby-benchmarks/exploreGlobalOptimizations/logs/bt_nas-medprob/cma-4873\n"
     ]
    },
    {
     "data": {
      "application/vnd.jupyter.widget-view+json": {
       "model_id": "35248b7f20d449a486d9523fddfc52ef",
       "version_major": 2,
       "version_minor": 0
      },
      "text/plain": [
       "  0%|          | 0/100 [00:00<?, ?it/s]"
      ]
     },
     "metadata": {},
     "output_type": "display_data"
    },
    {
     "name": "stdout",
     "output_type": "stream",
     "text": [
      "completed bt_nas medprob cma 4873 (66000, 9) 1.8089776039123535 secs\n",
      "working on /usr/WS2/bolet1/ruby-benchmarks/exploreGlobalOptimizations/logs/bt_nas-lrgprob/cma-1337\n"
     ]
    },
    {
     "data": {
      "application/vnd.jupyter.widget-view+json": {
       "model_id": "5825c19a686b4cceb278339a97e7eea3",
       "version_major": 2,
       "version_minor": 0
      },
      "text/plain": [
       "  0%|          | 0/100 [00:00<?, ?it/s]"
      ]
     },
     "metadata": {},
     "output_type": "display_data"
    },
    {
     "name": "stdout",
     "output_type": "stream",
     "text": [
      "completed bt_nas lrgprob cma 1337 (66000, 9) 1.7366018295288086 secs\n",
      "working on /usr/WS2/bolet1/ruby-benchmarks/exploreGlobalOptimizations/logs/bt_nas-lrgprob/cma-3827\n"
     ]
    },
    {
     "data": {
      "application/vnd.jupyter.widget-view+json": {
       "model_id": "3708fd51dd9c4cd08ba30c9e60ae9565",
       "version_major": 2,
       "version_minor": 0
      },
      "text/plain": [
       "  0%|          | 0/100 [00:00<?, ?it/s]"
      ]
     },
     "metadata": {},
     "output_type": "display_data"
    },
    {
     "name": "stdout",
     "output_type": "stream",
     "text": [
      "completed bt_nas lrgprob cma 3827 (66000, 9) 1.612339735031128 secs\n",
      "working on /usr/WS2/bolet1/ruby-benchmarks/exploreGlobalOptimizations/logs/bt_nas-lrgprob/cma-9999\n"
     ]
    },
    {
     "data": {
      "application/vnd.jupyter.widget-view+json": {
       "model_id": "753a7145634d409695247fac2b96fff5",
       "version_major": 2,
       "version_minor": 0
      },
      "text/plain": [
       "  0%|          | 0/100 [00:00<?, ?it/s]"
      ]
     },
     "metadata": {},
     "output_type": "display_data"
    },
    {
     "name": "stdout",
     "output_type": "stream",
     "text": [
      "completed bt_nas lrgprob cma 9999 (66000, 9) 1.9040722846984863 secs\n",
      "working on /usr/WS2/bolet1/ruby-benchmarks/exploreGlobalOptimizations/logs/bt_nas-lrgprob/cma-4873\n"
     ]
    },
    {
     "data": {
      "application/vnd.jupyter.widget-view+json": {
       "model_id": "5dd7d82f90b34a0ab1eebbc20f4edb3c",
       "version_major": 2,
       "version_minor": 0
      },
      "text/plain": [
       "  0%|          | 0/100 [00:00<?, ?it/s]"
      ]
     },
     "metadata": {},
     "output_type": "display_data"
    },
    {
     "name": "stdout",
     "output_type": "stream",
     "text": [
      "completed bt_nas lrgprob cma 4873 (66000, 9) 2.60188364982605 secs\n",
      "\n",
      "\n",
      " wrote: /usr/WS2/bolet1/ruby-benchmarks/exploreGlobalOptimizations/databases/ruby-bt_nas-cma-GO_Data.csv \n",
      "\n",
      "\n",
      "working on /usr/WS2/bolet1/ruby-benchmarks/exploreGlobalOptimizations/logs/cg_nas-smlprob/cma-1337\n"
     ]
    },
    {
     "data": {
      "application/vnd.jupyter.widget-view+json": {
       "model_id": "c4211fe6e7f541288c60d4d10b0342d7",
       "version_major": 2,
       "version_minor": 0
      },
      "text/plain": [
       "  0%|          | 0/100 [00:00<?, ?it/s]"
      ]
     },
     "metadata": {},
     "output_type": "display_data"
    },
    {
     "name": "stdout",
     "output_type": "stream",
     "text": [
      "completed cg_nas smlprob cma 1337 (66000, 9) 1.5393576622009277 secs\n",
      "working on /usr/WS2/bolet1/ruby-benchmarks/exploreGlobalOptimizations/logs/cg_nas-smlprob/cma-3827\n"
     ]
    },
    {
     "data": {
      "application/vnd.jupyter.widget-view+json": {
       "model_id": "472148cebe9c4ddeb0f3bc2a6e37b0ae",
       "version_major": 2,
       "version_minor": 0
      },
      "text/plain": [
       "  0%|          | 0/100 [00:00<?, ?it/s]"
      ]
     },
     "metadata": {},
     "output_type": "display_data"
    },
    {
     "name": "stdout",
     "output_type": "stream",
     "text": [
      "completed cg_nas smlprob cma 3827 (66000, 9) 1.6301097869873047 secs\n",
      "working on /usr/WS2/bolet1/ruby-benchmarks/exploreGlobalOptimizations/logs/cg_nas-smlprob/cma-9999\n"
     ]
    },
    {
     "data": {
      "application/vnd.jupyter.widget-view+json": {
       "model_id": "d018beec775847f4910168ec587badfd",
       "version_major": 2,
       "version_minor": 0
      },
      "text/plain": [
       "  0%|          | 0/100 [00:00<?, ?it/s]"
      ]
     },
     "metadata": {},
     "output_type": "display_data"
    },
    {
     "name": "stdout",
     "output_type": "stream",
     "text": [
      "completed cg_nas smlprob cma 9999 (66000, 9) 1.747375249862671 secs\n",
      "working on /usr/WS2/bolet1/ruby-benchmarks/exploreGlobalOptimizations/logs/cg_nas-smlprob/cma-4873\n"
     ]
    },
    {
     "data": {
      "application/vnd.jupyter.widget-view+json": {
       "model_id": "ac7871eb11fd4c279f798f0ae588f6b7",
       "version_major": 2,
       "version_minor": 0
      },
      "text/plain": [
       "  0%|          | 0/100 [00:00<?, ?it/s]"
      ]
     },
     "metadata": {},
     "output_type": "display_data"
    },
    {
     "name": "stdout",
     "output_type": "stream",
     "text": [
      "completed cg_nas smlprob cma 4873 (66000, 9) 1.7197210788726807 secs\n",
      "working on /usr/WS2/bolet1/ruby-benchmarks/exploreGlobalOptimizations/logs/cg_nas-medprob/cma-1337\n"
     ]
    },
    {
     "data": {
      "application/vnd.jupyter.widget-view+json": {
       "model_id": "30809d486e76445b8b9c3710e0267898",
       "version_major": 2,
       "version_minor": 0
      },
      "text/plain": [
       "  0%|          | 0/100 [00:00<?, ?it/s]"
      ]
     },
     "metadata": {},
     "output_type": "display_data"
    },
    {
     "name": "stdout",
     "output_type": "stream",
     "text": [
      "completed cg_nas medprob cma 1337 (66000, 9) 1.9707207679748535 secs\n",
      "working on /usr/WS2/bolet1/ruby-benchmarks/exploreGlobalOptimizations/logs/cg_nas-medprob/cma-3827\n"
     ]
    },
    {
     "data": {
      "application/vnd.jupyter.widget-view+json": {
       "model_id": "aabc39ce5e4e42f096601708b224018f",
       "version_major": 2,
       "version_minor": 0
      },
      "text/plain": [
       "  0%|          | 0/100 [00:00<?, ?it/s]"
      ]
     },
     "metadata": {},
     "output_type": "display_data"
    },
    {
     "name": "stdout",
     "output_type": "stream",
     "text": [
      "completed cg_nas medprob cma 3827 (66000, 9) 2.110016107559204 secs\n",
      "working on /usr/WS2/bolet1/ruby-benchmarks/exploreGlobalOptimizations/logs/cg_nas-medprob/cma-9999\n"
     ]
    },
    {
     "data": {
      "application/vnd.jupyter.widget-view+json": {
       "model_id": "ecf46b6994ee4b51976a561e21826253",
       "version_major": 2,
       "version_minor": 0
      },
      "text/plain": [
       "  0%|          | 0/100 [00:00<?, ?it/s]"
      ]
     },
     "metadata": {},
     "output_type": "display_data"
    },
    {
     "name": "stdout",
     "output_type": "stream",
     "text": [
      "completed cg_nas medprob cma 9999 (66000, 9) 1.547760009765625 secs\n",
      "working on /usr/WS2/bolet1/ruby-benchmarks/exploreGlobalOptimizations/logs/cg_nas-medprob/cma-4873\n"
     ]
    },
    {
     "data": {
      "application/vnd.jupyter.widget-view+json": {
       "model_id": "f527666159bd4787b74cfa171b2117c5",
       "version_major": 2,
       "version_minor": 0
      },
      "text/plain": [
       "  0%|          | 0/100 [00:00<?, ?it/s]"
      ]
     },
     "metadata": {},
     "output_type": "display_data"
    },
    {
     "name": "stdout",
     "output_type": "stream",
     "text": [
      "completed cg_nas medprob cma 4873 (66000, 9) 1.805804967880249 secs\n",
      "working on /usr/WS2/bolet1/ruby-benchmarks/exploreGlobalOptimizations/logs/cg_nas-lrgprob/cma-1337\n"
     ]
    },
    {
     "data": {
      "application/vnd.jupyter.widget-view+json": {
       "model_id": "1438763cbfec48f6a38fcfbbd5337ed4",
       "version_major": 2,
       "version_minor": 0
      },
      "text/plain": [
       "  0%|          | 0/100 [00:00<?, ?it/s]"
      ]
     },
     "metadata": {},
     "output_type": "display_data"
    },
    {
     "name": "stdout",
     "output_type": "stream",
     "text": [
      "completed cg_nas lrgprob cma 1337 (66000, 9) 1.8366174697875977 secs\n",
      "working on /usr/WS2/bolet1/ruby-benchmarks/exploreGlobalOptimizations/logs/cg_nas-lrgprob/cma-3827\n"
     ]
    },
    {
     "data": {
      "application/vnd.jupyter.widget-view+json": {
       "model_id": "0ecb72730c0b4cef8bff1b19ee09a354",
       "version_major": 2,
       "version_minor": 0
      },
      "text/plain": [
       "  0%|          | 0/100 [00:00<?, ?it/s]"
      ]
     },
     "metadata": {},
     "output_type": "display_data"
    },
    {
     "name": "stdout",
     "output_type": "stream",
     "text": [
      "completed cg_nas lrgprob cma 3827 (66000, 9) 1.8387458324432373 secs\n",
      "working on /usr/WS2/bolet1/ruby-benchmarks/exploreGlobalOptimizations/logs/cg_nas-lrgprob/cma-9999\n"
     ]
    },
    {
     "data": {
      "application/vnd.jupyter.widget-view+json": {
       "model_id": "cdc4ffd1537b4e61940a4804a8ea27fc",
       "version_major": 2,
       "version_minor": 0
      },
      "text/plain": [
       "  0%|          | 0/100 [00:00<?, ?it/s]"
      ]
     },
     "metadata": {},
     "output_type": "display_data"
    },
    {
     "name": "stdout",
     "output_type": "stream",
     "text": [
      "completed cg_nas lrgprob cma 9999 (66000, 9) 1.9623982906341553 secs\n",
      "working on /usr/WS2/bolet1/ruby-benchmarks/exploreGlobalOptimizations/logs/cg_nas-lrgprob/cma-4873\n"
     ]
    },
    {
     "data": {
      "application/vnd.jupyter.widget-view+json": {
       "model_id": "8842a2b005f343f2a21f8c4b366fd0b7",
       "version_major": 2,
       "version_minor": 0
      },
      "text/plain": [
       "  0%|          | 0/100 [00:00<?, ?it/s]"
      ]
     },
     "metadata": {},
     "output_type": "display_data"
    },
    {
     "name": "stdout",
     "output_type": "stream",
     "text": [
      "completed cg_nas lrgprob cma 4873 (66000, 9) 2.245626211166382 secs\n",
      "\n",
      "\n",
      " wrote: /usr/WS2/bolet1/ruby-benchmarks/exploreGlobalOptimizations/databases/ruby-cg_nas-cma-GO_Data.csv \n",
      "\n",
      "\n",
      "working on /usr/WS2/bolet1/ruby-benchmarks/exploreGlobalOptimizations/logs/ft_nas-smlprob/cma-1337\n"
     ]
    },
    {
     "data": {
      "application/vnd.jupyter.widget-view+json": {
       "model_id": "9c56fb19b1084e2ba9022d0e0a8c3b41",
       "version_major": 2,
       "version_minor": 0
      },
      "text/plain": [
       "  0%|          | 0/100 [00:00<?, ?it/s]"
      ]
     },
     "metadata": {},
     "output_type": "display_data"
    },
    {
     "name": "stdout",
     "output_type": "stream",
     "text": [
      "completed ft_nas smlprob cma 1337 (66000, 9) 1.9760429859161377 secs\n",
      "working on /usr/WS2/bolet1/ruby-benchmarks/exploreGlobalOptimizations/logs/ft_nas-smlprob/cma-3827\n"
     ]
    },
    {
     "data": {
      "application/vnd.jupyter.widget-view+json": {
       "model_id": "2af54f339d8c405fad6503eab087f7c8",
       "version_major": 2,
       "version_minor": 0
      },
      "text/plain": [
       "  0%|          | 0/100 [00:00<?, ?it/s]"
      ]
     },
     "metadata": {},
     "output_type": "display_data"
    },
    {
     "name": "stdout",
     "output_type": "stream",
     "text": [
      "completed ft_nas smlprob cma 3827 (66000, 9) 1.888946533203125 secs\n",
      "working on /usr/WS2/bolet1/ruby-benchmarks/exploreGlobalOptimizations/logs/ft_nas-smlprob/cma-9999\n"
     ]
    },
    {
     "data": {
      "application/vnd.jupyter.widget-view+json": {
       "model_id": "65c96b3342a4436aae404245611cb508",
       "version_major": 2,
       "version_minor": 0
      },
      "text/plain": [
       "  0%|          | 0/100 [00:00<?, ?it/s]"
      ]
     },
     "metadata": {},
     "output_type": "display_data"
    },
    {
     "name": "stdout",
     "output_type": "stream",
     "text": [
      "completed ft_nas smlprob cma 9999 (66000, 9) 2.6534855365753174 secs\n",
      "working on /usr/WS2/bolet1/ruby-benchmarks/exploreGlobalOptimizations/logs/ft_nas-smlprob/cma-4873\n"
     ]
    },
    {
     "data": {
      "application/vnd.jupyter.widget-view+json": {
       "model_id": "738c1a9a7cba4f3c93ce880d44db8d47",
       "version_major": 2,
       "version_minor": 0
      },
      "text/plain": [
       "  0%|          | 0/100 [00:00<?, ?it/s]"
      ]
     },
     "metadata": {},
     "output_type": "display_data"
    },
    {
     "name": "stdout",
     "output_type": "stream",
     "text": [
      "completed ft_nas smlprob cma 4873 (66000, 9) 3.4423210620880127 secs\n",
      "working on /usr/WS2/bolet1/ruby-benchmarks/exploreGlobalOptimizations/logs/ft_nas-medprob/cma-1337\n"
     ]
    },
    {
     "data": {
      "application/vnd.jupyter.widget-view+json": {
       "model_id": "21ab6f66eccc4a81a63b944cda374a57",
       "version_major": 2,
       "version_minor": 0
      },
      "text/plain": [
       "  0%|          | 0/100 [00:00<?, ?it/s]"
      ]
     },
     "metadata": {},
     "output_type": "display_data"
    },
    {
     "name": "stdout",
     "output_type": "stream",
     "text": [
      "completed ft_nas medprob cma 1337 (66000, 9) 1.7393255233764648 secs\n",
      "working on /usr/WS2/bolet1/ruby-benchmarks/exploreGlobalOptimizations/logs/ft_nas-medprob/cma-3827\n"
     ]
    },
    {
     "data": {
      "application/vnd.jupyter.widget-view+json": {
       "model_id": "70f93c29699d4307bdc5d7c3db7bf4a0",
       "version_major": 2,
       "version_minor": 0
      },
      "text/plain": [
       "  0%|          | 0/100 [00:00<?, ?it/s]"
      ]
     },
     "metadata": {},
     "output_type": "display_data"
    },
    {
     "name": "stdout",
     "output_type": "stream",
     "text": [
      "completed ft_nas medprob cma 3827 (66000, 9) 1.5890140533447266 secs\n",
      "working on /usr/WS2/bolet1/ruby-benchmarks/exploreGlobalOptimizations/logs/ft_nas-medprob/cma-9999\n"
     ]
    },
    {
     "data": {
      "application/vnd.jupyter.widget-view+json": {
       "model_id": "436a137b9b454c6e9fc0109c866a2642",
       "version_major": 2,
       "version_minor": 0
      },
      "text/plain": [
       "  0%|          | 0/100 [00:00<?, ?it/s]"
      ]
     },
     "metadata": {},
     "output_type": "display_data"
    },
    {
     "name": "stdout",
     "output_type": "stream",
     "text": [
      "completed ft_nas medprob cma 9999 (66000, 9) 1.7401373386383057 secs\n",
      "working on /usr/WS2/bolet1/ruby-benchmarks/exploreGlobalOptimizations/logs/ft_nas-medprob/cma-4873\n"
     ]
    },
    {
     "data": {
      "application/vnd.jupyter.widget-view+json": {
       "model_id": "b4f7de29782a49538953237f6d3b3f47",
       "version_major": 2,
       "version_minor": 0
      },
      "text/plain": [
       "  0%|          | 0/100 [00:00<?, ?it/s]"
      ]
     },
     "metadata": {},
     "output_type": "display_data"
    },
    {
     "name": "stdout",
     "output_type": "stream",
     "text": [
      "completed ft_nas medprob cma 4873 (66000, 9) 2.843838691711426 secs\n",
      "working on /usr/WS2/bolet1/ruby-benchmarks/exploreGlobalOptimizations/logs/ft_nas-lrgprob/cma-1337\n"
     ]
    },
    {
     "data": {
      "application/vnd.jupyter.widget-view+json": {
       "model_id": "1376722182e3478b9c92d74f1f874507",
       "version_major": 2,
       "version_minor": 0
      },
      "text/plain": [
       "  0%|          | 0/100 [00:00<?, ?it/s]"
      ]
     },
     "metadata": {},
     "output_type": "display_data"
    },
    {
     "name": "stdout",
     "output_type": "stream",
     "text": [
      "completed ft_nas lrgprob cma 1337 (66000, 9) 5.127718925476074 secs\n",
      "working on /usr/WS2/bolet1/ruby-benchmarks/exploreGlobalOptimizations/logs/ft_nas-lrgprob/cma-3827\n"
     ]
    },
    {
     "data": {
      "application/vnd.jupyter.widget-view+json": {
       "model_id": "0a8dca671134455e98c964fada74358b",
       "version_major": 2,
       "version_minor": 0
      },
      "text/plain": [
       "  0%|          | 0/100 [00:00<?, ?it/s]"
      ]
     },
     "metadata": {},
     "output_type": "display_data"
    },
    {
     "name": "stdout",
     "output_type": "stream",
     "text": [
      "completed ft_nas lrgprob cma 3827 (66000, 9) 2.876788377761841 secs\n",
      "working on /usr/WS2/bolet1/ruby-benchmarks/exploreGlobalOptimizations/logs/ft_nas-lrgprob/cma-9999\n"
     ]
    },
    {
     "data": {
      "application/vnd.jupyter.widget-view+json": {
       "model_id": "cda8269bc72346cda0c770091bee9f83",
       "version_major": 2,
       "version_minor": 0
      },
      "text/plain": [
       "  0%|          | 0/100 [00:00<?, ?it/s]"
      ]
     },
     "metadata": {},
     "output_type": "display_data"
    },
    {
     "name": "stdout",
     "output_type": "stream",
     "text": [
      "completed ft_nas lrgprob cma 9999 (66000, 9) 3.244483470916748 secs\n",
      "working on /usr/WS2/bolet1/ruby-benchmarks/exploreGlobalOptimizations/logs/ft_nas-lrgprob/cma-4873\n"
     ]
    },
    {
     "data": {
      "application/vnd.jupyter.widget-view+json": {
       "model_id": "0a7fbafdba9e46a0bbcda24dc9b3f7d8",
       "version_major": 2,
       "version_minor": 0
      },
      "text/plain": [
       "  0%|          | 0/100 [00:00<?, ?it/s]"
      ]
     },
     "metadata": {},
     "output_type": "display_data"
    },
    {
     "name": "stdout",
     "output_type": "stream",
     "text": [
      "completed ft_nas lrgprob cma 4873 (66000, 9) 2.111440420150757 secs\n",
      "\n",
      "\n",
      " wrote: /usr/WS2/bolet1/ruby-benchmarks/exploreGlobalOptimizations/databases/ruby-ft_nas-cma-GO_Data.csv \n",
      "\n",
      "\n",
      "working on /usr/WS2/bolet1/ruby-benchmarks/exploreGlobalOptimizations/logs/cfd_rodinia-smlprob/cma-1337\n"
     ]
    },
    {
     "data": {
      "application/vnd.jupyter.widget-view+json": {
       "model_id": "786c577627664d40b39b22c1f3c7e0fe",
       "version_major": 2,
       "version_minor": 0
      },
      "text/plain": [
       "  0%|          | 0/100 [00:00<?, ?it/s]"
      ]
     },
     "metadata": {},
     "output_type": "display_data"
    },
    {
     "name": "stdout",
     "output_type": "stream",
     "text": [
      "completed cfd_rodinia smlprob cma 1337 (66000, 9) 0.2626533508300781 secs\n",
      "working on /usr/WS2/bolet1/ruby-benchmarks/exploreGlobalOptimizations/logs/cfd_rodinia-smlprob/cma-3827\n"
     ]
    },
    {
     "data": {
      "application/vnd.jupyter.widget-view+json": {
       "model_id": "8afb43cf8b264a44b52385f0231346b9",
       "version_major": 2,
       "version_minor": 0
      },
      "text/plain": [
       "  0%|          | 0/100 [00:00<?, ?it/s]"
      ]
     },
     "metadata": {},
     "output_type": "display_data"
    },
    {
     "name": "stdout",
     "output_type": "stream",
     "text": [
      "completed cfd_rodinia smlprob cma 3827 (66000, 9) 0.26586246490478516 secs\n",
      "working on /usr/WS2/bolet1/ruby-benchmarks/exploreGlobalOptimizations/logs/cfd_rodinia-smlprob/cma-9999\n"
     ]
    },
    {
     "data": {
      "application/vnd.jupyter.widget-view+json": {
       "model_id": "1180c7108c874c1ca9f01d6261c65633",
       "version_major": 2,
       "version_minor": 0
      },
      "text/plain": [
       "  0%|          | 0/100 [00:00<?, ?it/s]"
      ]
     },
     "metadata": {},
     "output_type": "display_data"
    },
    {
     "name": "stdout",
     "output_type": "stream",
     "text": [
      "completed cfd_rodinia smlprob cma 9999 (66000, 9) 1.9438769817352295 secs\n",
      "working on /usr/WS2/bolet1/ruby-benchmarks/exploreGlobalOptimizations/logs/cfd_rodinia-smlprob/cma-4873\n"
     ]
    },
    {
     "data": {
      "application/vnd.jupyter.widget-view+json": {
       "model_id": "647e48f4eb86464f95bd95c73e62441a",
       "version_major": 2,
       "version_minor": 0
      },
      "text/plain": [
       "  0%|          | 0/100 [00:00<?, ?it/s]"
      ]
     },
     "metadata": {},
     "output_type": "display_data"
    },
    {
     "name": "stdout",
     "output_type": "stream",
     "text": [
      "completed cfd_rodinia smlprob cma 4873 (66000, 9) 0.25066351890563965 secs\n",
      "working on /usr/WS2/bolet1/ruby-benchmarks/exploreGlobalOptimizations/logs/cfd_rodinia-medprob/cma-1337\n"
     ]
    },
    {
     "data": {
      "application/vnd.jupyter.widget-view+json": {
       "model_id": "c0091f3eee03478087fa26fbca189866",
       "version_major": 2,
       "version_minor": 0
      },
      "text/plain": [
       "  0%|          | 0/100 [00:00<?, ?it/s]"
      ]
     },
     "metadata": {},
     "output_type": "display_data"
    },
    {
     "name": "stdout",
     "output_type": "stream",
     "text": [
      "completed cfd_rodinia medprob cma 1337 (66000, 9) 1.8582568168640137 secs\n",
      "working on /usr/WS2/bolet1/ruby-benchmarks/exploreGlobalOptimizations/logs/cfd_rodinia-medprob/cma-3827\n"
     ]
    },
    {
     "data": {
      "application/vnd.jupyter.widget-view+json": {
       "model_id": "668d745a45944fe88efd62f8cbe8208d",
       "version_major": 2,
       "version_minor": 0
      },
      "text/plain": [
       "  0%|          | 0/100 [00:00<?, ?it/s]"
      ]
     },
     "metadata": {},
     "output_type": "display_data"
    },
    {
     "name": "stdout",
     "output_type": "stream",
     "text": [
      "completed cfd_rodinia medprob cma 3827 (66000, 9) 0.27194857597351074 secs\n",
      "working on /usr/WS2/bolet1/ruby-benchmarks/exploreGlobalOptimizations/logs/cfd_rodinia-medprob/cma-9999\n"
     ]
    },
    {
     "data": {
      "application/vnd.jupyter.widget-view+json": {
       "model_id": "b40d2311853a415db972f63217d243b4",
       "version_major": 2,
       "version_minor": 0
      },
      "text/plain": [
       "  0%|          | 0/100 [00:00<?, ?it/s]"
      ]
     },
     "metadata": {},
     "output_type": "display_data"
    },
    {
     "name": "stdout",
     "output_type": "stream",
     "text": [
      "completed cfd_rodinia medprob cma 9999 (66000, 9) 2.9292590618133545 secs\n",
      "working on /usr/WS2/bolet1/ruby-benchmarks/exploreGlobalOptimizations/logs/cfd_rodinia-medprob/cma-4873\n"
     ]
    },
    {
     "data": {
      "application/vnd.jupyter.widget-view+json": {
       "model_id": "8f5a0e521eab43079ee96f60db2c3719",
       "version_major": 2,
       "version_minor": 0
      },
      "text/plain": [
       "  0%|          | 0/100 [00:00<?, ?it/s]"
      ]
     },
     "metadata": {},
     "output_type": "display_data"
    },
    {
     "name": "stdout",
     "output_type": "stream",
     "text": [
      "completed cfd_rodinia medprob cma 4873 (66000, 9) 0.25418758392333984 secs\n",
      "working on /usr/WS2/bolet1/ruby-benchmarks/exploreGlobalOptimizations/logs/cfd_rodinia-lrgprob/cma-1337\n"
     ]
    },
    {
     "data": {
      "application/vnd.jupyter.widget-view+json": {
       "model_id": "8d8eeb49fa254905a8cf5233243743af",
       "version_major": 2,
       "version_minor": 0
      },
      "text/plain": [
       "  0%|          | 0/100 [00:00<?, ?it/s]"
      ]
     },
     "metadata": {},
     "output_type": "display_data"
    },
    {
     "name": "stdout",
     "output_type": "stream",
     "text": [
      "completed cfd_rodinia lrgprob cma 1337 (66000, 9) 1.5977518558502197 secs\n",
      "working on /usr/WS2/bolet1/ruby-benchmarks/exploreGlobalOptimizations/logs/cfd_rodinia-lrgprob/cma-3827\n"
     ]
    },
    {
     "data": {
      "application/vnd.jupyter.widget-view+json": {
       "model_id": "0a8a6ca5abdb4df28088a90c4b256257",
       "version_major": 2,
       "version_minor": 0
      },
      "text/plain": [
       "  0%|          | 0/100 [00:00<?, ?it/s]"
      ]
     },
     "metadata": {},
     "output_type": "display_data"
    },
    {
     "name": "stdout",
     "output_type": "stream",
     "text": [
      "completed cfd_rodinia lrgprob cma 3827 (66000, 9) 1.7862129211425781 secs\n",
      "working on /usr/WS2/bolet1/ruby-benchmarks/exploreGlobalOptimizations/logs/cfd_rodinia-lrgprob/cma-9999\n"
     ]
    },
    {
     "data": {
      "application/vnd.jupyter.widget-view+json": {
       "model_id": "661e032dd1904b9bae6e8fc0035e89da",
       "version_major": 2,
       "version_minor": 0
      },
      "text/plain": [
       "  0%|          | 0/100 [00:00<?, ?it/s]"
      ]
     },
     "metadata": {},
     "output_type": "display_data"
    },
    {
     "name": "stdout",
     "output_type": "stream",
     "text": [
      "completed cfd_rodinia lrgprob cma 9999 (66000, 9) 0.2573075294494629 secs\n",
      "working on /usr/WS2/bolet1/ruby-benchmarks/exploreGlobalOptimizations/logs/cfd_rodinia-lrgprob/cma-4873\n"
     ]
    },
    {
     "data": {
      "application/vnd.jupyter.widget-view+json": {
       "model_id": "7318febed86f4463b4b4ba2fd442832b",
       "version_major": 2,
       "version_minor": 0
      },
      "text/plain": [
       "  0%|          | 0/100 [00:00<?, ?it/s]"
      ]
     },
     "metadata": {},
     "output_type": "display_data"
    },
    {
     "name": "stdout",
     "output_type": "stream",
     "text": [
      "completed cfd_rodinia lrgprob cma 4873 (66000, 9) 1.681885004043579 secs\n",
      "\n",
      "\n",
      " wrote: /usr/WS2/bolet1/ruby-benchmarks/exploreGlobalOptimizations/databases/ruby-cfd_rodinia-cma-GO_Data.csv \n",
      "\n",
      "\n",
      "working on /usr/WS2/bolet1/ruby-benchmarks/exploreGlobalOptimizations/logs/hpcg-smlprob/cma-1337\n"
     ]
    },
    {
     "data": {
      "application/vnd.jupyter.widget-view+json": {
       "model_id": "98b9390c64bc4abd8e5da5b74dd1fb83",
       "version_major": 2,
       "version_minor": 0
      },
      "text/plain": [
       "  0%|          | 0/100 [00:00<?, ?it/s]"
      ]
     },
     "metadata": {},
     "output_type": "display_data"
    },
    {
     "name": "stdout",
     "output_type": "stream",
     "text": [
      "completed hpcg smlprob cma 1337 (66000, 9) 2.1426901817321777 secs\n",
      "working on /usr/WS2/bolet1/ruby-benchmarks/exploreGlobalOptimizations/logs/hpcg-smlprob/cma-3827\n"
     ]
    },
    {
     "data": {
      "application/vnd.jupyter.widget-view+json": {
       "model_id": "74e84902140041be8b8501dca910fc8f",
       "version_major": 2,
       "version_minor": 0
      },
      "text/plain": [
       "  0%|          | 0/100 [00:00<?, ?it/s]"
      ]
     },
     "metadata": {},
     "output_type": "display_data"
    },
    {
     "name": "stdout",
     "output_type": "stream",
     "text": [
      "completed hpcg smlprob cma 3827 (66000, 9) 2.5799217224121094 secs\n",
      "working on /usr/WS2/bolet1/ruby-benchmarks/exploreGlobalOptimizations/logs/hpcg-smlprob/cma-9999\n"
     ]
    },
    {
     "data": {
      "application/vnd.jupyter.widget-view+json": {
       "model_id": "143ad9343f3946c984d24a8ba989cf86",
       "version_major": 2,
       "version_minor": 0
      },
      "text/plain": [
       "  0%|          | 0/100 [00:00<?, ?it/s]"
      ]
     },
     "metadata": {},
     "output_type": "display_data"
    },
    {
     "name": "stdout",
     "output_type": "stream",
     "text": [
      "completed hpcg smlprob cma 9999 (66000, 9) 2.7062485218048096 secs\n",
      "working on /usr/WS2/bolet1/ruby-benchmarks/exploreGlobalOptimizations/logs/hpcg-smlprob/cma-4873\n"
     ]
    },
    {
     "data": {
      "application/vnd.jupyter.widget-view+json": {
       "model_id": "fd62ffa28e494421ae31e5b4b650299c",
       "version_major": 2,
       "version_minor": 0
      },
      "text/plain": [
       "  0%|          | 0/100 [00:00<?, ?it/s]"
      ]
     },
     "metadata": {},
     "output_type": "display_data"
    },
    {
     "name": "stdout",
     "output_type": "stream",
     "text": [
      "completed hpcg smlprob cma 4873 (66000, 9) 1.7169570922851562 secs\n",
      "working on /usr/WS2/bolet1/ruby-benchmarks/exploreGlobalOptimizations/logs/hpcg-medprob/cma-1337\n"
     ]
    },
    {
     "data": {
      "application/vnd.jupyter.widget-view+json": {
       "model_id": "64d63d3663e74aeaa59aea71454e3d09",
       "version_major": 2,
       "version_minor": 0
      },
      "text/plain": [
       "  0%|          | 0/100 [00:00<?, ?it/s]"
      ]
     },
     "metadata": {},
     "output_type": "display_data"
    },
    {
     "name": "stdout",
     "output_type": "stream",
     "text": [
      "completed hpcg medprob cma 1337 (66000, 9) 1.6918153762817383 secs\n",
      "working on /usr/WS2/bolet1/ruby-benchmarks/exploreGlobalOptimizations/logs/hpcg-medprob/cma-3827\n"
     ]
    },
    {
     "data": {
      "application/vnd.jupyter.widget-view+json": {
       "model_id": "53b6ec25cd8142c0a9efab82a9a671ec",
       "version_major": 2,
       "version_minor": 0
      },
      "text/plain": [
       "  0%|          | 0/100 [00:00<?, ?it/s]"
      ]
     },
     "metadata": {},
     "output_type": "display_data"
    },
    {
     "name": "stdout",
     "output_type": "stream",
     "text": [
      "completed hpcg medprob cma 3827 (66000, 9) 0.27921247482299805 secs\n",
      "working on /usr/WS2/bolet1/ruby-benchmarks/exploreGlobalOptimizations/logs/hpcg-medprob/cma-9999\n"
     ]
    },
    {
     "data": {
      "application/vnd.jupyter.widget-view+json": {
       "model_id": "b311d9e07d98455f80d2bbfbc0660311",
       "version_major": 2,
       "version_minor": 0
      },
      "text/plain": [
       "  0%|          | 0/100 [00:00<?, ?it/s]"
      ]
     },
     "metadata": {},
     "output_type": "display_data"
    },
    {
     "name": "stdout",
     "output_type": "stream",
     "text": [
      "completed hpcg medprob cma 9999 (66000, 9) 1.4921822547912598 secs\n",
      "working on /usr/WS2/bolet1/ruby-benchmarks/exploreGlobalOptimizations/logs/hpcg-medprob/cma-4873\n"
     ]
    },
    {
     "data": {
      "application/vnd.jupyter.widget-view+json": {
       "model_id": "1defb325bcc042989f4b5721f845c89f",
       "version_major": 2,
       "version_minor": 0
      },
      "text/plain": [
       "  0%|          | 0/100 [00:00<?, ?it/s]"
      ]
     },
     "metadata": {},
     "output_type": "display_data"
    },
    {
     "name": "stdout",
     "output_type": "stream",
     "text": [
      "completed hpcg medprob cma 4873 (66000, 9) 0.32205843925476074 secs\n",
      "working on /usr/WS2/bolet1/ruby-benchmarks/exploreGlobalOptimizations/logs/hpcg-lrgprob/cma-1337\n"
     ]
    },
    {
     "data": {
      "application/vnd.jupyter.widget-view+json": {
       "model_id": "c113653588324b389be779cd37130039",
       "version_major": 2,
       "version_minor": 0
      },
      "text/plain": [
       "  0%|          | 0/100 [00:00<?, ?it/s]"
      ]
     },
     "metadata": {},
     "output_type": "display_data"
    },
    {
     "name": "stdout",
     "output_type": "stream",
     "text": [
      "completed hpcg lrgprob cma 1337 (66000, 9) 1.765415906906128 secs\n",
      "working on /usr/WS2/bolet1/ruby-benchmarks/exploreGlobalOptimizations/logs/hpcg-lrgprob/cma-3827\n"
     ]
    },
    {
     "data": {
      "application/vnd.jupyter.widget-view+json": {
       "model_id": "02bfe360cd2145aabcd9c27ec28aa157",
       "version_major": 2,
       "version_minor": 0
      },
      "text/plain": [
       "  0%|          | 0/100 [00:00<?, ?it/s]"
      ]
     },
     "metadata": {},
     "output_type": "display_data"
    },
    {
     "name": "stdout",
     "output_type": "stream",
     "text": [
      "completed hpcg lrgprob cma 3827 (66000, 9) 0.35924363136291504 secs\n",
      "working on /usr/WS2/bolet1/ruby-benchmarks/exploreGlobalOptimizations/logs/hpcg-lrgprob/cma-9999\n"
     ]
    },
    {
     "data": {
      "application/vnd.jupyter.widget-view+json": {
       "model_id": "064cf1db4b224ce6b2df3ad68e4c464a",
       "version_major": 2,
       "version_minor": 0
      },
      "text/plain": [
       "  0%|          | 0/100 [00:00<?, ?it/s]"
      ]
     },
     "metadata": {},
     "output_type": "display_data"
    },
    {
     "name": "stdout",
     "output_type": "stream",
     "text": [
      "completed hpcg lrgprob cma 9999 (66000, 9) 1.3344478607177734 secs\n",
      "working on /usr/WS2/bolet1/ruby-benchmarks/exploreGlobalOptimizations/logs/hpcg-lrgprob/cma-4873\n"
     ]
    },
    {
     "data": {
      "application/vnd.jupyter.widget-view+json": {
       "model_id": "9980cde8a5794b79aae6ee420b8b41ee",
       "version_major": 2,
       "version_minor": 0
      },
      "text/plain": [
       "  0%|          | 0/100 [00:00<?, ?it/s]"
      ]
     },
     "metadata": {},
     "output_type": "display_data"
    },
    {
     "name": "stdout",
     "output_type": "stream",
     "text": [
      "completed hpcg lrgprob cma 4873 (66000, 9) 1.7312798500061035 secs\n",
      "\n",
      "\n",
      " wrote: /usr/WS2/bolet1/ruby-benchmarks/exploreGlobalOptimizations/databases/ruby-hpcg-cma-GO_Data.csv \n",
      "\n",
      "\n",
      "working on /usr/WS2/bolet1/ruby-benchmarks/exploreGlobalOptimizations/logs/lulesh-smlprob/cma-1337\n"
     ]
    },
    {
     "data": {
      "application/vnd.jupyter.widget-view+json": {
       "model_id": "e865a7db25e84659b82eb4b2f9fca630",
       "version_major": 2,
       "version_minor": 0
      },
      "text/plain": [
       "  0%|          | 0/100 [00:00<?, ?it/s]"
      ]
     },
     "metadata": {},
     "output_type": "display_data"
    },
    {
     "name": "stdout",
     "output_type": "stream",
     "text": [
      "completed lulesh smlprob cma 1337 (66000, 9) 1.9587271213531494 secs\n",
      "working on /usr/WS2/bolet1/ruby-benchmarks/exploreGlobalOptimizations/logs/lulesh-smlprob/cma-3827\n"
     ]
    },
    {
     "data": {
      "application/vnd.jupyter.widget-view+json": {
       "model_id": "4781c61647cc4ce0b901cdae093a9b38",
       "version_major": 2,
       "version_minor": 0
      },
      "text/plain": [
       "  0%|          | 0/100 [00:00<?, ?it/s]"
      ]
     },
     "metadata": {},
     "output_type": "display_data"
    },
    {
     "name": "stdout",
     "output_type": "stream",
     "text": [
      "completed lulesh smlprob cma 3827 (66000, 9) 1.8567547798156738 secs\n",
      "working on /usr/WS2/bolet1/ruby-benchmarks/exploreGlobalOptimizations/logs/lulesh-smlprob/cma-9999\n"
     ]
    },
    {
     "data": {
      "application/vnd.jupyter.widget-view+json": {
       "model_id": "d6287ddf5f9c41aeafb801b44a063254",
       "version_major": 2,
       "version_minor": 0
      },
      "text/plain": [
       "  0%|          | 0/100 [00:00<?, ?it/s]"
      ]
     },
     "metadata": {},
     "output_type": "display_data"
    },
    {
     "name": "stdout",
     "output_type": "stream",
     "text": [
      "completed lulesh smlprob cma 9999 (66000, 9) 1.409820795059204 secs\n",
      "working on /usr/WS2/bolet1/ruby-benchmarks/exploreGlobalOptimizations/logs/lulesh-smlprob/cma-4873\n"
     ]
    },
    {
     "data": {
      "application/vnd.jupyter.widget-view+json": {
       "model_id": "a7899f4e4cd44bdebc3d26ba017c05c5",
       "version_major": 2,
       "version_minor": 0
      },
      "text/plain": [
       "  0%|          | 0/100 [00:00<?, ?it/s]"
      ]
     },
     "metadata": {},
     "output_type": "display_data"
    },
    {
     "name": "stdout",
     "output_type": "stream",
     "text": [
      "completed lulesh smlprob cma 4873 (66000, 9) 1.704773187637329 secs\n",
      "working on /usr/WS2/bolet1/ruby-benchmarks/exploreGlobalOptimizations/logs/lulesh-medprob/cma-1337\n"
     ]
    },
    {
     "data": {
      "application/vnd.jupyter.widget-view+json": {
       "model_id": "f499f3007004437a820eaf92bc1c57ca",
       "version_major": 2,
       "version_minor": 0
      },
      "text/plain": [
       "  0%|          | 0/100 [00:00<?, ?it/s]"
      ]
     },
     "metadata": {},
     "output_type": "display_data"
    },
    {
     "name": "stdout",
     "output_type": "stream",
     "text": [
      "completed lulesh medprob cma 1337 (66000, 9) 1.72751784324646 secs\n",
      "working on /usr/WS2/bolet1/ruby-benchmarks/exploreGlobalOptimizations/logs/lulesh-medprob/cma-3827\n"
     ]
    },
    {
     "data": {
      "application/vnd.jupyter.widget-view+json": {
       "model_id": "dabf497b3c2a49b9933ea8277ec7def9",
       "version_major": 2,
       "version_minor": 0
      },
      "text/plain": [
       "  0%|          | 0/100 [00:00<?, ?it/s]"
      ]
     },
     "metadata": {},
     "output_type": "display_data"
    },
    {
     "name": "stdout",
     "output_type": "stream",
     "text": [
      "completed lulesh medprob cma 3827 (66000, 9) 0.2745063304901123 secs\n",
      "working on /usr/WS2/bolet1/ruby-benchmarks/exploreGlobalOptimizations/logs/lulesh-medprob/cma-9999\n"
     ]
    },
    {
     "data": {
      "application/vnd.jupyter.widget-view+json": {
       "model_id": "c7085fb4e7be4e1890dcb3694d79bc02",
       "version_major": 2,
       "version_minor": 0
      },
      "text/plain": [
       "  0%|          | 0/100 [00:00<?, ?it/s]"
      ]
     },
     "metadata": {},
     "output_type": "display_data"
    },
    {
     "name": "stdout",
     "output_type": "stream",
     "text": [
      "completed lulesh medprob cma 9999 (66000, 9) 0.2846062183380127 secs\n",
      "working on /usr/WS2/bolet1/ruby-benchmarks/exploreGlobalOptimizations/logs/lulesh-medprob/cma-4873\n"
     ]
    },
    {
     "data": {
      "application/vnd.jupyter.widget-view+json": {
       "model_id": "49fe9d5273474078a822a6527b2d0558",
       "version_major": 2,
       "version_minor": 0
      },
      "text/plain": [
       "  0%|          | 0/100 [00:00<?, ?it/s]"
      ]
     },
     "metadata": {},
     "output_type": "display_data"
    },
    {
     "name": "stdout",
     "output_type": "stream",
     "text": [
      "completed lulesh medprob cma 4873 (66000, 9) 1.3860406875610352 secs\n",
      "working on /usr/WS2/bolet1/ruby-benchmarks/exploreGlobalOptimizations/logs/lulesh-lrgprob/cma-1337\n"
     ]
    },
    {
     "data": {
      "application/vnd.jupyter.widget-view+json": {
       "model_id": "0f0ec7acf24148c28d0181555fe19e31",
       "version_major": 2,
       "version_minor": 0
      },
      "text/plain": [
       "  0%|          | 0/100 [00:00<?, ?it/s]"
      ]
     },
     "metadata": {},
     "output_type": "display_data"
    },
    {
     "name": "stdout",
     "output_type": "stream",
     "text": [
      "completed lulesh lrgprob cma 1337 (66000, 9) 1.9030115604400635 secs\n",
      "working on /usr/WS2/bolet1/ruby-benchmarks/exploreGlobalOptimizations/logs/lulesh-lrgprob/cma-3827\n"
     ]
    },
    {
     "data": {
      "application/vnd.jupyter.widget-view+json": {
       "model_id": "141ccde64e0e4b0f9aa2b0d16e4000ed",
       "version_major": 2,
       "version_minor": 0
      },
      "text/plain": [
       "  0%|          | 0/100 [00:00<?, ?it/s]"
      ]
     },
     "metadata": {},
     "output_type": "display_data"
    },
    {
     "name": "stdout",
     "output_type": "stream",
     "text": [
      "completed lulesh lrgprob cma 3827 (66000, 9) 0.29111552238464355 secs\n",
      "working on /usr/WS2/bolet1/ruby-benchmarks/exploreGlobalOptimizations/logs/lulesh-lrgprob/cma-9999\n"
     ]
    },
    {
     "data": {
      "application/vnd.jupyter.widget-view+json": {
       "model_id": "b5a49c9fc3614a2b82d720da99e6924f",
       "version_major": 2,
       "version_minor": 0
      },
      "text/plain": [
       "  0%|          | 0/100 [00:00<?, ?it/s]"
      ]
     },
     "metadata": {},
     "output_type": "display_data"
    },
    {
     "name": "stdout",
     "output_type": "stream",
     "text": [
      "completed lulesh lrgprob cma 9999 (66000, 9) 0.29796457290649414 secs\n",
      "working on /usr/WS2/bolet1/ruby-benchmarks/exploreGlobalOptimizations/logs/lulesh-lrgprob/cma-4873\n"
     ]
    },
    {
     "data": {
      "application/vnd.jupyter.widget-view+json": {
       "model_id": "f617d25ed9564d4a92b2da9eec69200b",
       "version_major": 2,
       "version_minor": 0
      },
      "text/plain": [
       "  0%|          | 0/100 [00:00<?, ?it/s]"
      ]
     },
     "metadata": {},
     "output_type": "display_data"
    },
    {
     "name": "stdout",
     "output_type": "stream",
     "text": [
      "completed lulesh lrgprob cma 4873 (66000, 9) 1.7170586585998535 secs\n",
      "\n",
      "\n",
      " wrote: /usr/WS2/bolet1/ruby-benchmarks/exploreGlobalOptimizations/databases/ruby-lulesh-cma-GO_Data.csv \n",
      "\n",
      "\n",
      "working on /usr/WS2/bolet1/ruby-benchmarks/exploreGlobalOptimizations/logs/bt_nas-smlprob/pso-1337\n"
     ]
    },
    {
     "data": {
      "application/vnd.jupyter.widget-view+json": {
       "model_id": "9bfacba3ed4f46bb9d8094bb1ec10c38",
       "version_major": 2,
       "version_minor": 0
      },
      "text/plain": [
       "  0%|          | 0/1250 [00:00<?, ?it/s]"
      ]
     },
     "metadata": {},
     "output_type": "display_data"
    },
    {
     "name": "stdout",
     "output_type": "stream",
     "text": [
      "completed bt_nas smlprob pso 1337 (825000, 11) 41.19499325752258 secs\n",
      "working on /usr/WS2/bolet1/ruby-benchmarks/exploreGlobalOptimizations/logs/bt_nas-smlprob/pso-3827\n"
     ]
    },
    {
     "data": {
      "application/vnd.jupyter.widget-view+json": {
       "model_id": "cc9adb9c3f1c4ed8b592eb9d5b7119d5",
       "version_major": 2,
       "version_minor": 0
      },
      "text/plain": [
       "  0%|          | 0/1250 [00:00<?, ?it/s]"
      ]
     },
     "metadata": {},
     "output_type": "display_data"
    },
    {
     "name": "stdout",
     "output_type": "stream",
     "text": [
      "completed bt_nas smlprob pso 3827 (825000, 11) 20.360018253326416 secs\n",
      "working on /usr/WS2/bolet1/ruby-benchmarks/exploreGlobalOptimizations/logs/bt_nas-smlprob/pso-9999\n"
     ]
    },
    {
     "data": {
      "application/vnd.jupyter.widget-view+json": {
       "model_id": "d76cb824d1304f0082604ad59cb71f3e",
       "version_major": 2,
       "version_minor": 0
      },
      "text/plain": [
       "  0%|          | 0/1250 [00:00<?, ?it/s]"
      ]
     },
     "metadata": {},
     "output_type": "display_data"
    },
    {
     "name": "stdout",
     "output_type": "stream",
     "text": [
      "completed bt_nas smlprob pso 9999 (825000, 11) 22.37347412109375 secs\n",
      "working on /usr/WS2/bolet1/ruby-benchmarks/exploreGlobalOptimizations/logs/bt_nas-smlprob/pso-4873\n"
     ]
    },
    {
     "data": {
      "application/vnd.jupyter.widget-view+json": {
       "model_id": "dc475c7d12ba43dda3d7f1c8c5b74b97",
       "version_major": 2,
       "version_minor": 0
      },
      "text/plain": [
       "  0%|          | 0/1250 [00:00<?, ?it/s]"
      ]
     },
     "metadata": {},
     "output_type": "display_data"
    },
    {
     "name": "stdout",
     "output_type": "stream",
     "text": [
      "completed bt_nas smlprob pso 4873 (825000, 11) 4.618098497390747 secs\n",
      "working on /usr/WS2/bolet1/ruby-benchmarks/exploreGlobalOptimizations/logs/bt_nas-medprob/pso-1337\n"
     ]
    },
    {
     "data": {
      "application/vnd.jupyter.widget-view+json": {
       "model_id": "fd90243036c34b1abdf541bc7dc2ffd0",
       "version_major": 2,
       "version_minor": 0
      },
      "text/plain": [
       "  0%|          | 0/1250 [00:00<?, ?it/s]"
      ]
     },
     "metadata": {},
     "output_type": "display_data"
    },
    {
     "name": "stdout",
     "output_type": "stream",
     "text": [
      "completed bt_nas medprob pso 1337 (825000, 11) 3.7556374073028564 secs\n",
      "working on /usr/WS2/bolet1/ruby-benchmarks/exploreGlobalOptimizations/logs/bt_nas-medprob/pso-3827\n"
     ]
    },
    {
     "data": {
      "application/vnd.jupyter.widget-view+json": {
       "model_id": "b31056c807de4e999c209803b5b936c8",
       "version_major": 2,
       "version_minor": 0
      },
      "text/plain": [
       "  0%|          | 0/1250 [00:00<?, ?it/s]"
      ]
     },
     "metadata": {},
     "output_type": "display_data"
    },
    {
     "name": "stdout",
     "output_type": "stream",
     "text": [
      "completed bt_nas medprob pso 3827 (825000, 11) 24.142601490020752 secs\n",
      "working on /usr/WS2/bolet1/ruby-benchmarks/exploreGlobalOptimizations/logs/bt_nas-medprob/pso-9999\n"
     ]
    },
    {
     "data": {
      "application/vnd.jupyter.widget-view+json": {
       "model_id": "62a1465a88af4ef9bc8398282991cdc2",
       "version_major": 2,
       "version_minor": 0
      },
      "text/plain": [
       "  0%|          | 0/1250 [00:00<?, ?it/s]"
      ]
     },
     "metadata": {},
     "output_type": "display_data"
    },
    {
     "name": "stdout",
     "output_type": "stream",
     "text": [
      "completed bt_nas medprob pso 9999 (825000, 11) 3.8488502502441406 secs\n",
      "working on /usr/WS2/bolet1/ruby-benchmarks/exploreGlobalOptimizations/logs/bt_nas-medprob/pso-4873\n"
     ]
    },
    {
     "data": {
      "application/vnd.jupyter.widget-view+json": {
       "model_id": "cfb81ea1953c43a8aaabed71857d6408",
       "version_major": 2,
       "version_minor": 0
      },
      "text/plain": [
       "  0%|          | 0/1250 [00:00<?, ?it/s]"
      ]
     },
     "metadata": {},
     "output_type": "display_data"
    },
    {
     "name": "stdout",
     "output_type": "stream",
     "text": [
      "completed bt_nas medprob pso 4873 (825000, 11) 23.4304416179657 secs\n",
      "working on /usr/WS2/bolet1/ruby-benchmarks/exploreGlobalOptimizations/logs/bt_nas-lrgprob/pso-1337\n"
     ]
    },
    {
     "data": {
      "application/vnd.jupyter.widget-view+json": {
       "model_id": "186cbe6ce74e4f7f81debdb291b96606",
       "version_major": 2,
       "version_minor": 0
      },
      "text/plain": [
       "  0%|          | 0/1250 [00:00<?, ?it/s]"
      ]
     },
     "metadata": {},
     "output_type": "display_data"
    },
    {
     "name": "stdout",
     "output_type": "stream",
     "text": [
      "completed bt_nas lrgprob pso 1337 (825000, 11) 4.949198007583618 secs\n",
      "working on /usr/WS2/bolet1/ruby-benchmarks/exploreGlobalOptimizations/logs/bt_nas-lrgprob/pso-3827\n"
     ]
    },
    {
     "data": {
      "application/vnd.jupyter.widget-view+json": {
       "model_id": "d66ce3b5be53486dad3e0c661fb76e90",
       "version_major": 2,
       "version_minor": 0
      },
      "text/plain": [
       "  0%|          | 0/1250 [00:00<?, ?it/s]"
      ]
     },
     "metadata": {},
     "output_type": "display_data"
    },
    {
     "name": "stdout",
     "output_type": "stream",
     "text": [
      "completed bt_nas lrgprob pso 3827 (825000, 11) 30.700918674468994 secs\n",
      "working on /usr/WS2/bolet1/ruby-benchmarks/exploreGlobalOptimizations/logs/bt_nas-lrgprob/pso-9999\n"
     ]
    },
    {
     "data": {
      "application/vnd.jupyter.widget-view+json": {
       "model_id": "1d135f9aec6649ec8613b1fad86d3d3e",
       "version_major": 2,
       "version_minor": 0
      },
      "text/plain": [
       "  0%|          | 0/1250 [00:00<?, ?it/s]"
      ]
     },
     "metadata": {},
     "output_type": "display_data"
    },
    {
     "name": "stdout",
     "output_type": "stream",
     "text": [
      "completed bt_nas lrgprob pso 9999 (825000, 11) 3.9332001209259033 secs\n",
      "working on /usr/WS2/bolet1/ruby-benchmarks/exploreGlobalOptimizations/logs/bt_nas-lrgprob/pso-4873\n"
     ]
    },
    {
     "data": {
      "application/vnd.jupyter.widget-view+json": {
       "model_id": "80863bcc50ba4eb7b08f25ee474af473",
       "version_major": 2,
       "version_minor": 0
      },
      "text/plain": [
       "  0%|          | 0/1250 [00:00<?, ?it/s]"
      ]
     },
     "metadata": {},
     "output_type": "display_data"
    },
    {
     "name": "stdout",
     "output_type": "stream",
     "text": [
      "completed bt_nas lrgprob pso 4873 (825000, 11) 5.350497245788574 secs\n",
      "\n",
      "\n",
      " wrote: /usr/WS2/bolet1/ruby-benchmarks/exploreGlobalOptimizations/databases/ruby-bt_nas-pso-GO_Data.csv \n",
      "\n",
      "\n",
      "working on /usr/WS2/bolet1/ruby-benchmarks/exploreGlobalOptimizations/logs/cg_nas-smlprob/pso-1337\n"
     ]
    },
    {
     "data": {
      "application/vnd.jupyter.widget-view+json": {
       "model_id": "3f306b394ca34e2c86d75fc865b89543",
       "version_major": 2,
       "version_minor": 0
      },
      "text/plain": [
       "  0%|          | 0/1250 [00:00<?, ?it/s]"
      ]
     },
     "metadata": {},
     "output_type": "display_data"
    },
    {
     "name": "stdout",
     "output_type": "stream",
     "text": [
      "completed cg_nas smlprob pso 1337 (825000, 11) 20.2723286151886 secs\n",
      "working on /usr/WS2/bolet1/ruby-benchmarks/exploreGlobalOptimizations/logs/cg_nas-smlprob/pso-3827\n"
     ]
    },
    {
     "data": {
      "application/vnd.jupyter.widget-view+json": {
       "model_id": "6cd270acaba24dcfb72235c063f86b35",
       "version_major": 2,
       "version_minor": 0
      },
      "text/plain": [
       "  0%|          | 0/1250 [00:00<?, ?it/s]"
      ]
     },
     "metadata": {},
     "output_type": "display_data"
    },
    {
     "name": "stdout",
     "output_type": "stream",
     "text": [
      "completed cg_nas smlprob pso 3827 (825000, 11) 4.446866750717163 secs\n",
      "working on /usr/WS2/bolet1/ruby-benchmarks/exploreGlobalOptimizations/logs/cg_nas-smlprob/pso-9999\n"
     ]
    },
    {
     "data": {
      "application/vnd.jupyter.widget-view+json": {
       "model_id": "065198bd6f444d118c067abe9201162c",
       "version_major": 2,
       "version_minor": 0
      },
      "text/plain": [
       "  0%|          | 0/1250 [00:00<?, ?it/s]"
      ]
     },
     "metadata": {},
     "output_type": "display_data"
    },
    {
     "name": "stdout",
     "output_type": "stream",
     "text": [
      "completed cg_nas smlprob pso 9999 (825000, 11) 21.068251371383667 secs\n",
      "working on /usr/WS2/bolet1/ruby-benchmarks/exploreGlobalOptimizations/logs/cg_nas-smlprob/pso-4873\n"
     ]
    },
    {
     "data": {
      "application/vnd.jupyter.widget-view+json": {
       "model_id": "6042cc99d62b4598b023d413e8a1f7cd",
       "version_major": 2,
       "version_minor": 0
      },
      "text/plain": [
       "  0%|          | 0/1250 [00:00<?, ?it/s]"
      ]
     },
     "metadata": {},
     "output_type": "display_data"
    },
    {
     "name": "stdout",
     "output_type": "stream",
     "text": [
      "completed cg_nas smlprob pso 4873 (825000, 11) 46.556230306625366 secs\n",
      "working on /usr/WS2/bolet1/ruby-benchmarks/exploreGlobalOptimizations/logs/cg_nas-medprob/pso-1337\n"
     ]
    },
    {
     "data": {
      "application/vnd.jupyter.widget-view+json": {
       "model_id": "d7c6bcdd81394f7280de7f1b29da9a01",
       "version_major": 2,
       "version_minor": 0
      },
      "text/plain": [
       "  0%|          | 0/1250 [00:00<?, ?it/s]"
      ]
     },
     "metadata": {},
     "output_type": "display_data"
    },
    {
     "name": "stdout",
     "output_type": "stream",
     "text": [
      "completed cg_nas medprob pso 1337 (825000, 11) 4.048987627029419 secs\n",
      "working on /usr/WS2/bolet1/ruby-benchmarks/exploreGlobalOptimizations/logs/cg_nas-medprob/pso-3827\n"
     ]
    },
    {
     "data": {
      "application/vnd.jupyter.widget-view+json": {
       "model_id": "237d71a2fb444554aad62d165ba27ef9",
       "version_major": 2,
       "version_minor": 0
      },
      "text/plain": [
       "  0%|          | 0/1250 [00:00<?, ?it/s]"
      ]
     },
     "metadata": {},
     "output_type": "display_data"
    },
    {
     "name": "stdout",
     "output_type": "stream",
     "text": [
      "completed cg_nas medprob pso 3827 (825000, 11) 27.676677942276 secs\n",
      "working on /usr/WS2/bolet1/ruby-benchmarks/exploreGlobalOptimizations/logs/cg_nas-medprob/pso-9999\n"
     ]
    },
    {
     "data": {
      "application/vnd.jupyter.widget-view+json": {
       "model_id": "8622a861d50343b3890dc934585bcc87",
       "version_major": 2,
       "version_minor": 0
      },
      "text/plain": [
       "  0%|          | 0/1250 [00:00<?, ?it/s]"
      ]
     },
     "metadata": {},
     "output_type": "display_data"
    },
    {
     "name": "stdout",
     "output_type": "stream",
     "text": [
      "completed cg_nas medprob pso 9999 (825000, 11) 26.82828974723816 secs\n",
      "working on /usr/WS2/bolet1/ruby-benchmarks/exploreGlobalOptimizations/logs/cg_nas-medprob/pso-4873\n"
     ]
    },
    {
     "data": {
      "application/vnd.jupyter.widget-view+json": {
       "model_id": "939653f1fed14cdd8193cfa6f8063aea",
       "version_major": 2,
       "version_minor": 0
      },
      "text/plain": [
       "  0%|          | 0/1250 [00:00<?, ?it/s]"
      ]
     },
     "metadata": {},
     "output_type": "display_data"
    },
    {
     "name": "stdout",
     "output_type": "stream",
     "text": [
      "completed cg_nas medprob pso 4873 (825000, 11) 34.95246243476868 secs\n",
      "working on /usr/WS2/bolet1/ruby-benchmarks/exploreGlobalOptimizations/logs/cg_nas-lrgprob/pso-1337\n"
     ]
    },
    {
     "data": {
      "application/vnd.jupyter.widget-view+json": {
       "model_id": "815a91ef9c854acc8ab719707aa7ccd1",
       "version_major": 2,
       "version_minor": 0
      },
      "text/plain": [
       "  0%|          | 0/1250 [00:00<?, ?it/s]"
      ]
     },
     "metadata": {},
     "output_type": "display_data"
    },
    {
     "name": "stdout",
     "output_type": "stream",
     "text": [
      "completed cg_nas lrgprob pso 1337 (825000, 11) 23.462750911712646 secs\n",
      "working on /usr/WS2/bolet1/ruby-benchmarks/exploreGlobalOptimizations/logs/cg_nas-lrgprob/pso-3827\n"
     ]
    },
    {
     "data": {
      "application/vnd.jupyter.widget-view+json": {
       "model_id": "1d9f302ed42d414986f95eec4e4a5cee",
       "version_major": 2,
       "version_minor": 0
      },
      "text/plain": [
       "  0%|          | 0/1250 [00:00<?, ?it/s]"
      ]
     },
     "metadata": {},
     "output_type": "display_data"
    },
    {
     "name": "stdout",
     "output_type": "stream",
     "text": [
      "completed cg_nas lrgprob pso 3827 (825000, 11) 26.151659727096558 secs\n",
      "working on /usr/WS2/bolet1/ruby-benchmarks/exploreGlobalOptimizations/logs/cg_nas-lrgprob/pso-9999\n"
     ]
    },
    {
     "data": {
      "application/vnd.jupyter.widget-view+json": {
       "model_id": "681580fbc1464abca808b8e723da1f19",
       "version_major": 2,
       "version_minor": 0
      },
      "text/plain": [
       "  0%|          | 0/1250 [00:00<?, ?it/s]"
      ]
     },
     "metadata": {},
     "output_type": "display_data"
    },
    {
     "name": "stdout",
     "output_type": "stream",
     "text": [
      "completed cg_nas lrgprob pso 9999 (825000, 11) 27.611035346984863 secs\n",
      "working on /usr/WS2/bolet1/ruby-benchmarks/exploreGlobalOptimizations/logs/cg_nas-lrgprob/pso-4873\n"
     ]
    },
    {
     "data": {
      "application/vnd.jupyter.widget-view+json": {
       "model_id": "f23b185cefab4ad7acb6d4cb8e935315",
       "version_major": 2,
       "version_minor": 0
      },
      "text/plain": [
       "  0%|          | 0/1250 [00:00<?, ?it/s]"
      ]
     },
     "metadata": {},
     "output_type": "display_data"
    },
    {
     "name": "stdout",
     "output_type": "stream",
     "text": [
      "completed cg_nas lrgprob pso 4873 (825000, 11) 9.256170749664307 secs\n",
      "\n",
      "\n",
      " wrote: /usr/WS2/bolet1/ruby-benchmarks/exploreGlobalOptimizations/databases/ruby-cg_nas-pso-GO_Data.csv \n",
      "\n",
      "\n",
      "working on /usr/WS2/bolet1/ruby-benchmarks/exploreGlobalOptimizations/logs/ft_nas-smlprob/pso-1337\n"
     ]
    },
    {
     "data": {
      "application/vnd.jupyter.widget-view+json": {
       "model_id": "12c55fbaadef482996104a5f1f635290",
       "version_major": 2,
       "version_minor": 0
      },
      "text/plain": [
       "  0%|          | 0/1250 [00:00<?, ?it/s]"
      ]
     },
     "metadata": {},
     "output_type": "display_data"
    },
    {
     "name": "stdout",
     "output_type": "stream",
     "text": [
      "completed ft_nas smlprob pso 1337 (825000, 11) 3.958914279937744 secs\n",
      "working on /usr/WS2/bolet1/ruby-benchmarks/exploreGlobalOptimizations/logs/ft_nas-smlprob/pso-3827\n"
     ]
    },
    {
     "data": {
      "application/vnd.jupyter.widget-view+json": {
       "model_id": "03db15687df945888b69d027c5507562",
       "version_major": 2,
       "version_minor": 0
      },
      "text/plain": [
       "  0%|          | 0/1250 [00:00<?, ?it/s]"
      ]
     },
     "metadata": {},
     "output_type": "display_data"
    },
    {
     "name": "stdout",
     "output_type": "stream",
     "text": [
      "completed ft_nas smlprob pso 3827 (825000, 11) 29.719693660736084 secs\n",
      "working on /usr/WS2/bolet1/ruby-benchmarks/exploreGlobalOptimizations/logs/ft_nas-smlprob/pso-9999\n"
     ]
    },
    {
     "data": {
      "application/vnd.jupyter.widget-view+json": {
       "model_id": "27cb99f8f26b4ba1bab49dfd6609427c",
       "version_major": 2,
       "version_minor": 0
      },
      "text/plain": [
       "  0%|          | 0/1250 [00:00<?, ?it/s]"
      ]
     },
     "metadata": {},
     "output_type": "display_data"
    },
    {
     "name": "stdout",
     "output_type": "stream",
     "text": [
      "completed ft_nas smlprob pso 9999 (825000, 11) 25.16420578956604 secs\n",
      "working on /usr/WS2/bolet1/ruby-benchmarks/exploreGlobalOptimizations/logs/ft_nas-smlprob/pso-4873\n"
     ]
    },
    {
     "data": {
      "application/vnd.jupyter.widget-view+json": {
       "model_id": "c0626ca5368f4afd80eae576d94466b5",
       "version_major": 2,
       "version_minor": 0
      },
      "text/plain": [
       "  0%|          | 0/1250 [00:00<?, ?it/s]"
      ]
     },
     "metadata": {},
     "output_type": "display_data"
    },
    {
     "name": "stdout",
     "output_type": "stream",
     "text": [
      "completed ft_nas smlprob pso 4873 (825000, 11) 4.6569929122924805 secs\n",
      "working on /usr/WS2/bolet1/ruby-benchmarks/exploreGlobalOptimizations/logs/ft_nas-medprob/pso-1337\n"
     ]
    },
    {
     "data": {
      "application/vnd.jupyter.widget-view+json": {
       "model_id": "3ae77f432a5c4f18ac95b405f18527df",
       "version_major": 2,
       "version_minor": 0
      },
      "text/plain": [
       "  0%|          | 0/1250 [00:00<?, ?it/s]"
      ]
     },
     "metadata": {},
     "output_type": "display_data"
    },
    {
     "name": "stdout",
     "output_type": "stream",
     "text": [
      "completed ft_nas medprob pso 1337 (825000, 11) 22.96350884437561 secs\n",
      "working on /usr/WS2/bolet1/ruby-benchmarks/exploreGlobalOptimizations/logs/ft_nas-medprob/pso-3827\n"
     ]
    },
    {
     "data": {
      "application/vnd.jupyter.widget-view+json": {
       "model_id": "e3e599083a624e2cac1ec42aeedcdbc3",
       "version_major": 2,
       "version_minor": 0
      },
      "text/plain": [
       "  0%|          | 0/1250 [00:00<?, ?it/s]"
      ]
     },
     "metadata": {},
     "output_type": "display_data"
    },
    {
     "name": "stdout",
     "output_type": "stream",
     "text": [
      "completed ft_nas medprob pso 3827 (825000, 11) 24.54476308822632 secs\n",
      "working on /usr/WS2/bolet1/ruby-benchmarks/exploreGlobalOptimizations/logs/ft_nas-medprob/pso-9999\n"
     ]
    },
    {
     "data": {
      "application/vnd.jupyter.widget-view+json": {
       "model_id": "57501c9bd72b4acf9fe8149909c7ffdf",
       "version_major": 2,
       "version_minor": 0
      },
      "text/plain": [
       "  0%|          | 0/1250 [00:00<?, ?it/s]"
      ]
     },
     "metadata": {},
     "output_type": "display_data"
    },
    {
     "name": "stdout",
     "output_type": "stream",
     "text": [
      "completed ft_nas medprob pso 9999 (825000, 11) 27.248806953430176 secs\n",
      "working on /usr/WS2/bolet1/ruby-benchmarks/exploreGlobalOptimizations/logs/ft_nas-medprob/pso-4873\n"
     ]
    },
    {
     "data": {
      "application/vnd.jupyter.widget-view+json": {
       "model_id": "83156f63f96d484bb7104555ac9d310a",
       "version_major": 2,
       "version_minor": 0
      },
      "text/plain": [
       "  0%|          | 0/1250 [00:00<?, ?it/s]"
      ]
     },
     "metadata": {},
     "output_type": "display_data"
    },
    {
     "name": "stdout",
     "output_type": "stream",
     "text": [
      "completed ft_nas medprob pso 4873 (825000, 11) 6.000735282897949 secs\n",
      "working on /usr/WS2/bolet1/ruby-benchmarks/exploreGlobalOptimizations/logs/ft_nas-lrgprob/pso-1337\n"
     ]
    },
    {
     "data": {
      "application/vnd.jupyter.widget-view+json": {
       "model_id": "3759a89c4be243b3ac42a7593f4b23f5",
       "version_major": 2,
       "version_minor": 0
      },
      "text/plain": [
       "  0%|          | 0/1250 [00:00<?, ?it/s]"
      ]
     },
     "metadata": {},
     "output_type": "display_data"
    },
    {
     "name": "stdout",
     "output_type": "stream",
     "text": [
      "completed ft_nas lrgprob pso 1337 (825000, 11) 45.65705943107605 secs\n",
      "working on /usr/WS2/bolet1/ruby-benchmarks/exploreGlobalOptimizations/logs/ft_nas-lrgprob/pso-3827\n"
     ]
    },
    {
     "data": {
      "application/vnd.jupyter.widget-view+json": {
       "model_id": "2f319268be31410da57361abf84e843f",
       "version_major": 2,
       "version_minor": 0
      },
      "text/plain": [
       "  0%|          | 0/1250 [00:00<?, ?it/s]"
      ]
     },
     "metadata": {},
     "output_type": "display_data"
    },
    {
     "name": "stdout",
     "output_type": "stream",
     "text": [
      "completed ft_nas lrgprob pso 3827 (825000, 11) 3.60786771774292 secs\n",
      "working on /usr/WS2/bolet1/ruby-benchmarks/exploreGlobalOptimizations/logs/ft_nas-lrgprob/pso-9999\n"
     ]
    },
    {
     "data": {
      "application/vnd.jupyter.widget-view+json": {
       "model_id": "54a0fddfdaf4424db452c3e3ba54c3fe",
       "version_major": 2,
       "version_minor": 0
      },
      "text/plain": [
       "  0%|          | 0/1250 [00:00<?, ?it/s]"
      ]
     },
     "metadata": {},
     "output_type": "display_data"
    },
    {
     "name": "stdout",
     "output_type": "stream",
     "text": [
      "completed ft_nas lrgprob pso 9999 (825000, 11) 46.43014669418335 secs\n",
      "working on /usr/WS2/bolet1/ruby-benchmarks/exploreGlobalOptimizations/logs/ft_nas-lrgprob/pso-4873\n"
     ]
    },
    {
     "data": {
      "application/vnd.jupyter.widget-view+json": {
       "model_id": "4c0fadda6ca44332857b3c0b49340ed1",
       "version_major": 2,
       "version_minor": 0
      },
      "text/plain": [
       "  0%|          | 0/1250 [00:00<?, ?it/s]"
      ]
     },
     "metadata": {},
     "output_type": "display_data"
    },
    {
     "name": "stdout",
     "output_type": "stream",
     "text": [
      "completed ft_nas lrgprob pso 4873 (825000, 11) 158.61891674995422 secs\n",
      "\n",
      "\n",
      " wrote: /usr/WS2/bolet1/ruby-benchmarks/exploreGlobalOptimizations/databases/ruby-ft_nas-pso-GO_Data.csv \n",
      "\n",
      "\n",
      "working on /usr/WS2/bolet1/ruby-benchmarks/exploreGlobalOptimizations/logs/cfd_rodinia-smlprob/pso-1337\n"
     ]
    },
    {
     "data": {
      "application/vnd.jupyter.widget-view+json": {
       "model_id": "4466375b773e40dc95e39c5458e0dc14",
       "version_major": 2,
       "version_minor": 0
      },
      "text/plain": [
       "  0%|          | 0/1250 [00:00<?, ?it/s]"
      ]
     },
     "metadata": {},
     "output_type": "display_data"
    },
    {
     "name": "stdout",
     "output_type": "stream",
     "text": [
      "completed cfd_rodinia smlprob pso 1337 (825000, 11) 4.138667106628418 secs\n",
      "working on /usr/WS2/bolet1/ruby-benchmarks/exploreGlobalOptimizations/logs/cfd_rodinia-smlprob/pso-3827\n"
     ]
    },
    {
     "data": {
      "application/vnd.jupyter.widget-view+json": {
       "model_id": "0a2633273fab49ceabbbe99162efa17c",
       "version_major": 2,
       "version_minor": 0
      },
      "text/plain": [
       "  0%|          | 0/1250 [00:00<?, ?it/s]"
      ]
     },
     "metadata": {},
     "output_type": "display_data"
    },
    {
     "name": "stdout",
     "output_type": "stream",
     "text": [
      "completed cfd_rodinia smlprob pso 3827 (825000, 11) 150.54590892791748 secs\n",
      "working on /usr/WS2/bolet1/ruby-benchmarks/exploreGlobalOptimizations/logs/cfd_rodinia-smlprob/pso-9999\n"
     ]
    },
    {
     "data": {
      "application/vnd.jupyter.widget-view+json": {
       "model_id": "24bc5d10feb040b9a5c622c078a77cf7",
       "version_major": 2,
       "version_minor": 0
      },
      "text/plain": [
       "  0%|          | 0/1250 [00:00<?, ?it/s]"
      ]
     },
     "metadata": {},
     "output_type": "display_data"
    },
    {
     "name": "stdout",
     "output_type": "stream",
     "text": [
      "completed cfd_rodinia smlprob pso 9999 (825000, 11) 47.34120154380798 secs\n",
      "working on /usr/WS2/bolet1/ruby-benchmarks/exploreGlobalOptimizations/logs/cfd_rodinia-smlprob/pso-4873\n"
     ]
    },
    {
     "data": {
      "application/vnd.jupyter.widget-view+json": {
       "model_id": "5c2a3a23b1014a05a125f7fbdb3b1a86",
       "version_major": 2,
       "version_minor": 0
      },
      "text/plain": [
       "  0%|          | 0/1250 [00:00<?, ?it/s]"
      ]
     },
     "metadata": {},
     "output_type": "display_data"
    },
    {
     "name": "stdout",
     "output_type": "stream",
     "text": [
      "completed cfd_rodinia smlprob pso 4873 (825000, 11) 36.163898229599 secs\n",
      "working on /usr/WS2/bolet1/ruby-benchmarks/exploreGlobalOptimizations/logs/cfd_rodinia-medprob/pso-1337\n"
     ]
    },
    {
     "data": {
      "application/vnd.jupyter.widget-view+json": {
       "model_id": "155cfc5a784041c099da10035c9b6643",
       "version_major": 2,
       "version_minor": 0
      },
      "text/plain": [
       "  0%|          | 0/1250 [00:00<?, ?it/s]"
      ]
     },
     "metadata": {},
     "output_type": "display_data"
    },
    {
     "name": "stdout",
     "output_type": "stream",
     "text": [
      "completed cfd_rodinia medprob pso 1337 (825000, 11) 37.200414419174194 secs\n",
      "working on /usr/WS2/bolet1/ruby-benchmarks/exploreGlobalOptimizations/logs/cfd_rodinia-medprob/pso-3827\n"
     ]
    },
    {
     "data": {
      "application/vnd.jupyter.widget-view+json": {
       "model_id": "440e1cb40e0a46ef9bf18febf591a2ab",
       "version_major": 2,
       "version_minor": 0
      },
      "text/plain": [
       "  0%|          | 0/1250 [00:00<?, ?it/s]"
      ]
     },
     "metadata": {},
     "output_type": "display_data"
    },
    {
     "name": "stdout",
     "output_type": "stream",
     "text": [
      "completed cfd_rodinia medprob pso 3827 (825000, 11) 36.85242414474487 secs\n",
      "working on /usr/WS2/bolet1/ruby-benchmarks/exploreGlobalOptimizations/logs/cfd_rodinia-medprob/pso-9999\n"
     ]
    },
    {
     "data": {
      "application/vnd.jupyter.widget-view+json": {
       "model_id": "7b794bec0365495e9ff8cd35c42d1ba6",
       "version_major": 2,
       "version_minor": 0
      },
      "text/plain": [
       "  0%|          | 0/1250 [00:00<?, ?it/s]"
      ]
     },
     "metadata": {},
     "output_type": "display_data"
    },
    {
     "name": "stdout",
     "output_type": "stream",
     "text": [
      "completed cfd_rodinia medprob pso 9999 (825000, 11) 52.697322607040405 secs\n",
      "working on /usr/WS2/bolet1/ruby-benchmarks/exploreGlobalOptimizations/logs/cfd_rodinia-medprob/pso-4873\n"
     ]
    },
    {
     "data": {
      "application/vnd.jupyter.widget-view+json": {
       "model_id": "3ac46f20546949598f2d85d5d0a541e6",
       "version_major": 2,
       "version_minor": 0
      },
      "text/plain": [
       "  0%|          | 0/1250 [00:00<?, ?it/s]"
      ]
     },
     "metadata": {},
     "output_type": "display_data"
    },
    {
     "name": "stdout",
     "output_type": "stream",
     "text": [
      "completed cfd_rodinia medprob pso 4873 (825000, 11) 18.717018365859985 secs\n",
      "working on /usr/WS2/bolet1/ruby-benchmarks/exploreGlobalOptimizations/logs/cfd_rodinia-lrgprob/pso-1337\n"
     ]
    },
    {
     "data": {
      "application/vnd.jupyter.widget-view+json": {
       "model_id": "9262673d806e49eebe05ce791a2c3e59",
       "version_major": 2,
       "version_minor": 0
      },
      "text/plain": [
       "  0%|          | 0/1250 [00:00<?, ?it/s]"
      ]
     },
     "metadata": {},
     "output_type": "display_data"
    },
    {
     "name": "stdout",
     "output_type": "stream",
     "text": [
      "completed cfd_rodinia lrgprob pso 1337 (825000, 11) 27.16905689239502 secs\n",
      "working on /usr/WS2/bolet1/ruby-benchmarks/exploreGlobalOptimizations/logs/cfd_rodinia-lrgprob/pso-3827\n"
     ]
    },
    {
     "data": {
      "application/vnd.jupyter.widget-view+json": {
       "model_id": "a6267383e9cf49c1bed188b72bc966b8",
       "version_major": 2,
       "version_minor": 0
      },
      "text/plain": [
       "  0%|          | 0/1250 [00:00<?, ?it/s]"
      ]
     },
     "metadata": {},
     "output_type": "display_data"
    },
    {
     "name": "stdout",
     "output_type": "stream",
     "text": [
      "completed cfd_rodinia lrgprob pso 3827 (825000, 11) 28.11229681968689 secs\n",
      "working on /usr/WS2/bolet1/ruby-benchmarks/exploreGlobalOptimizations/logs/cfd_rodinia-lrgprob/pso-9999\n"
     ]
    },
    {
     "data": {
      "application/vnd.jupyter.widget-view+json": {
       "model_id": "81f620a6a6ac450597e4293617f82c3f",
       "version_major": 2,
       "version_minor": 0
      },
      "text/plain": [
       "  0%|          | 0/1250 [00:00<?, ?it/s]"
      ]
     },
     "metadata": {},
     "output_type": "display_data"
    },
    {
     "name": "stdout",
     "output_type": "stream",
     "text": [
      "completed cfd_rodinia lrgprob pso 9999 (825000, 11) 14.249850273132324 secs\n",
      "working on /usr/WS2/bolet1/ruby-benchmarks/exploreGlobalOptimizations/logs/cfd_rodinia-lrgprob/pso-4873\n"
     ]
    },
    {
     "data": {
      "application/vnd.jupyter.widget-view+json": {
       "model_id": "831027929c284f78aec9fd4c25bbe7c1",
       "version_major": 2,
       "version_minor": 0
      },
      "text/plain": [
       "  0%|          | 0/1250 [00:00<?, ?it/s]"
      ]
     },
     "metadata": {},
     "output_type": "display_data"
    },
    {
     "name": "stdout",
     "output_type": "stream",
     "text": [
      "completed cfd_rodinia lrgprob pso 4873 (825000, 11) 27.818472862243652 secs\n",
      "\n",
      "\n",
      " wrote: /usr/WS2/bolet1/ruby-benchmarks/exploreGlobalOptimizations/databases/ruby-cfd_rodinia-pso-GO_Data.csv \n",
      "\n",
      "\n",
      "working on /usr/WS2/bolet1/ruby-benchmarks/exploreGlobalOptimizations/logs/hpcg-smlprob/pso-1337\n"
     ]
    },
    {
     "data": {
      "application/vnd.jupyter.widget-view+json": {
       "model_id": "2d51263eaf5a43f897c43e1e3e024126",
       "version_major": 2,
       "version_minor": 0
      },
      "text/plain": [
       "  0%|          | 0/1250 [00:00<?, ?it/s]"
      ]
     },
     "metadata": {},
     "output_type": "display_data"
    },
    {
     "name": "stdout",
     "output_type": "stream",
     "text": [
      "completed hpcg smlprob pso 1337 (825000, 11) 24.06682562828064 secs\n",
      "working on /usr/WS2/bolet1/ruby-benchmarks/exploreGlobalOptimizations/logs/hpcg-smlprob/pso-3827\n"
     ]
    },
    {
     "data": {
      "application/vnd.jupyter.widget-view+json": {
       "model_id": "773b7df1e13c4ca7830b538f7c3cf225",
       "version_major": 2,
       "version_minor": 0
      },
      "text/plain": [
       "  0%|          | 0/1250 [00:00<?, ?it/s]"
      ]
     },
     "metadata": {},
     "output_type": "display_data"
    },
    {
     "name": "stdout",
     "output_type": "stream",
     "text": [
      "completed hpcg smlprob pso 3827 (825000, 11) 24.35308074951172 secs\n",
      "working on /usr/WS2/bolet1/ruby-benchmarks/exploreGlobalOptimizations/logs/hpcg-smlprob/pso-9999\n"
     ]
    },
    {
     "data": {
      "application/vnd.jupyter.widget-view+json": {
       "model_id": "7e9898eed01e45c0bf4bb5055d95ec10",
       "version_major": 2,
       "version_minor": 0
      },
      "text/plain": [
       "  0%|          | 0/1250 [00:00<?, ?it/s]"
      ]
     },
     "metadata": {},
     "output_type": "display_data"
    },
    {
     "name": "stdout",
     "output_type": "stream",
     "text": [
      "completed hpcg smlprob pso 9999 (825000, 11) 23.67692995071411 secs\n",
      "working on /usr/WS2/bolet1/ruby-benchmarks/exploreGlobalOptimizations/logs/hpcg-smlprob/pso-4873\n"
     ]
    },
    {
     "data": {
      "application/vnd.jupyter.widget-view+json": {
       "model_id": "959f07f27603439ca993da703746bff7",
       "version_major": 2,
       "version_minor": 0
      },
      "text/plain": [
       "  0%|          | 0/1250 [00:00<?, ?it/s]"
      ]
     },
     "metadata": {},
     "output_type": "display_data"
    },
    {
     "name": "stdout",
     "output_type": "stream",
     "text": [
      "completed hpcg smlprob pso 4873 (825000, 11) 24.235214948654175 secs\n",
      "working on /usr/WS2/bolet1/ruby-benchmarks/exploreGlobalOptimizations/logs/hpcg-medprob/pso-1337\n"
     ]
    },
    {
     "data": {
      "application/vnd.jupyter.widget-view+json": {
       "model_id": "a73b138e25ce47cca96e0bafbee792f4",
       "version_major": 2,
       "version_minor": 0
      },
      "text/plain": [
       "  0%|          | 0/1250 [00:00<?, ?it/s]"
      ]
     },
     "metadata": {},
     "output_type": "display_data"
    },
    {
     "name": "stdout",
     "output_type": "stream",
     "text": [
      "completed hpcg medprob pso 1337 (825000, 11) 24.293686866760254 secs\n",
      "working on /usr/WS2/bolet1/ruby-benchmarks/exploreGlobalOptimizations/logs/hpcg-medprob/pso-3827\n"
     ]
    },
    {
     "data": {
      "application/vnd.jupyter.widget-view+json": {
       "model_id": "152f31a92a414658bf571d7154737a4e",
       "version_major": 2,
       "version_minor": 0
      },
      "text/plain": [
       "  0%|          | 0/1250 [00:00<?, ?it/s]"
      ]
     },
     "metadata": {},
     "output_type": "display_data"
    },
    {
     "name": "stdout",
     "output_type": "stream",
     "text": [
      "completed hpcg medprob pso 3827 (825000, 11) 23.66775894165039 secs\n",
      "working on /usr/WS2/bolet1/ruby-benchmarks/exploreGlobalOptimizations/logs/hpcg-medprob/pso-9999\n"
     ]
    },
    {
     "data": {
      "application/vnd.jupyter.widget-view+json": {
       "model_id": "69c05372bb7d4e7bba3587f687be0fad",
       "version_major": 2,
       "version_minor": 0
      },
      "text/plain": [
       "  0%|          | 0/1250 [00:00<?, ?it/s]"
      ]
     },
     "metadata": {},
     "output_type": "display_data"
    },
    {
     "name": "stdout",
     "output_type": "stream",
     "text": [
      "completed hpcg medprob pso 9999 (825000, 11) 9.421699047088623 secs\n",
      "working on /usr/WS2/bolet1/ruby-benchmarks/exploreGlobalOptimizations/logs/hpcg-medprob/pso-4873\n"
     ]
    },
    {
     "data": {
      "application/vnd.jupyter.widget-view+json": {
       "model_id": "7407cf4fdf404c908cd6878c93d774e3",
       "version_major": 2,
       "version_minor": 0
      },
      "text/plain": [
       "  0%|          | 0/1250 [00:00<?, ?it/s]"
      ]
     },
     "metadata": {},
     "output_type": "display_data"
    },
    {
     "name": "stdout",
     "output_type": "stream",
     "text": [
      "completed hpcg medprob pso 4873 (825000, 11) 10.362507343292236 secs\n",
      "working on /usr/WS2/bolet1/ruby-benchmarks/exploreGlobalOptimizations/logs/hpcg-lrgprob/pso-1337\n"
     ]
    },
    {
     "data": {
      "application/vnd.jupyter.widget-view+json": {
       "model_id": "47f04b5387e74fb4870c729b5c3fdaae",
       "version_major": 2,
       "version_minor": 0
      },
      "text/plain": [
       "  0%|          | 0/1250 [00:00<?, ?it/s]"
      ]
     },
     "metadata": {},
     "output_type": "display_data"
    },
    {
     "name": "stdout",
     "output_type": "stream",
     "text": [
      "completed hpcg lrgprob pso 1337 (825000, 11) 23.958956003189087 secs\n",
      "working on /usr/WS2/bolet1/ruby-benchmarks/exploreGlobalOptimizations/logs/hpcg-lrgprob/pso-3827\n"
     ]
    },
    {
     "data": {
      "application/vnd.jupyter.widget-view+json": {
       "model_id": "1ef18f7c58bb4e3b872ee458170e1003",
       "version_major": 2,
       "version_minor": 0
      },
      "text/plain": [
       "  0%|          | 0/1250 [00:00<?, ?it/s]"
      ]
     },
     "metadata": {},
     "output_type": "display_data"
    },
    {
     "name": "stdout",
     "output_type": "stream",
     "text": [
      "completed hpcg lrgprob pso 3827 (825000, 11) 23.457910299301147 secs\n",
      "working on /usr/WS2/bolet1/ruby-benchmarks/exploreGlobalOptimizations/logs/hpcg-lrgprob/pso-9999\n"
     ]
    },
    {
     "data": {
      "application/vnd.jupyter.widget-view+json": {
       "model_id": "4b529907e7e04aa9a1283ce08a90a2ba",
       "version_major": 2,
       "version_minor": 0
      },
      "text/plain": [
       "  0%|          | 0/1250 [00:00<?, ?it/s]"
      ]
     },
     "metadata": {},
     "output_type": "display_data"
    },
    {
     "name": "stdout",
     "output_type": "stream",
     "text": [
      "completed hpcg lrgprob pso 9999 (825000, 11) 5.43184232711792 secs\n",
      "working on /usr/WS2/bolet1/ruby-benchmarks/exploreGlobalOptimizations/logs/hpcg-lrgprob/pso-4873\n"
     ]
    },
    {
     "data": {
      "application/vnd.jupyter.widget-view+json": {
       "model_id": "3ab263b6eee84c10997c454f39974d96",
       "version_major": 2,
       "version_minor": 0
      },
      "text/plain": [
       "  0%|          | 0/1250 [00:00<?, ?it/s]"
      ]
     },
     "metadata": {},
     "output_type": "display_data"
    },
    {
     "name": "stdout",
     "output_type": "stream",
     "text": [
      "completed hpcg lrgprob pso 4873 (825000, 11) 25.186784267425537 secs\n",
      "\n",
      "\n",
      " wrote: /usr/WS2/bolet1/ruby-benchmarks/exploreGlobalOptimizations/databases/ruby-hpcg-pso-GO_Data.csv \n",
      "\n",
      "\n",
      "working on /usr/WS2/bolet1/ruby-benchmarks/exploreGlobalOptimizations/logs/lulesh-smlprob/pso-1337\n"
     ]
    },
    {
     "data": {
      "application/vnd.jupyter.widget-view+json": {
       "model_id": "f80cb8e1e41a49dbbda6d8244244d5e2",
       "version_major": 2,
       "version_minor": 0
      },
      "text/plain": [
       "  0%|          | 0/1250 [00:00<?, ?it/s]"
      ]
     },
     "metadata": {},
     "output_type": "display_data"
    },
    {
     "name": "stdout",
     "output_type": "stream",
     "text": [
      "completed lulesh smlprob pso 1337 (825000, 11) 26.811754941940308 secs\n",
      "working on /usr/WS2/bolet1/ruby-benchmarks/exploreGlobalOptimizations/logs/lulesh-smlprob/pso-3827\n"
     ]
    },
    {
     "data": {
      "application/vnd.jupyter.widget-view+json": {
       "model_id": "4140f2009fa346548a9f1c771fc065a2",
       "version_major": 2,
       "version_minor": 0
      },
      "text/plain": [
       "  0%|          | 0/1250 [00:00<?, ?it/s]"
      ]
     },
     "metadata": {},
     "output_type": "display_data"
    },
    {
     "name": "stdout",
     "output_type": "stream",
     "text": [
      "completed lulesh smlprob pso 3827 (825000, 11) 23.252872943878174 secs\n",
      "working on /usr/WS2/bolet1/ruby-benchmarks/exploreGlobalOptimizations/logs/lulesh-smlprob/pso-9999\n"
     ]
    },
    {
     "data": {
      "application/vnd.jupyter.widget-view+json": {
       "model_id": "9d7f4bbf953a44d0955c3fba7ed502d2",
       "version_major": 2,
       "version_minor": 0
      },
      "text/plain": [
       "  0%|          | 0/1250 [00:00<?, ?it/s]"
      ]
     },
     "metadata": {},
     "output_type": "display_data"
    },
    {
     "name": "stdout",
     "output_type": "stream",
     "text": [
      "completed lulesh smlprob pso 9999 (825000, 11) 27.666605472564697 secs\n",
      "working on /usr/WS2/bolet1/ruby-benchmarks/exploreGlobalOptimizations/logs/lulesh-smlprob/pso-4873\n"
     ]
    },
    {
     "data": {
      "application/vnd.jupyter.widget-view+json": {
       "model_id": "6f7ece3e9af941858bc0089aa43c9334",
       "version_major": 2,
       "version_minor": 0
      },
      "text/plain": [
       "  0%|          | 0/1250 [00:00<?, ?it/s]"
      ]
     },
     "metadata": {},
     "output_type": "display_data"
    },
    {
     "name": "stdout",
     "output_type": "stream",
     "text": [
      "completed lulesh smlprob pso 4873 (825000, 11) 4.863725662231445 secs\n",
      "working on /usr/WS2/bolet1/ruby-benchmarks/exploreGlobalOptimizations/logs/lulesh-medprob/pso-1337\n"
     ]
    },
    {
     "data": {
      "application/vnd.jupyter.widget-view+json": {
       "model_id": "42e3d2fa88c44067a3a4aa943e4fa6ee",
       "version_major": 2,
       "version_minor": 0
      },
      "text/plain": [
       "  0%|          | 0/1250 [00:00<?, ?it/s]"
      ]
     },
     "metadata": {},
     "output_type": "display_data"
    },
    {
     "name": "stdout",
     "output_type": "stream",
     "text": [
      "completed lulesh medprob pso 1337 (825000, 11) 4.692595481872559 secs\n",
      "working on /usr/WS2/bolet1/ruby-benchmarks/exploreGlobalOptimizations/logs/lulesh-medprob/pso-3827\n"
     ]
    },
    {
     "data": {
      "application/vnd.jupyter.widget-view+json": {
       "model_id": "f978f69c506e48eab61c1f70fd8f4693",
       "version_major": 2,
       "version_minor": 0
      },
      "text/plain": [
       "  0%|          | 0/1250 [00:00<?, ?it/s]"
      ]
     },
     "metadata": {},
     "output_type": "display_data"
    },
    {
     "name": "stdout",
     "output_type": "stream",
     "text": [
      "completed lulesh medprob pso 3827 (825000, 11) 13.612607955932617 secs\n",
      "working on /usr/WS2/bolet1/ruby-benchmarks/exploreGlobalOptimizations/logs/lulesh-medprob/pso-9999\n"
     ]
    },
    {
     "data": {
      "application/vnd.jupyter.widget-view+json": {
       "model_id": "c3d09dc03e4a4e85976e22abf825b1e8",
       "version_major": 2,
       "version_minor": 0
      },
      "text/plain": [
       "  0%|          | 0/1250 [00:00<?, ?it/s]"
      ]
     },
     "metadata": {},
     "output_type": "display_data"
    },
    {
     "name": "stdout",
     "output_type": "stream",
     "text": [
      "completed lulesh medprob pso 9999 (825000, 11) 9.109057664871216 secs\n",
      "working on /usr/WS2/bolet1/ruby-benchmarks/exploreGlobalOptimizations/logs/lulesh-medprob/pso-4873\n"
     ]
    },
    {
     "data": {
      "application/vnd.jupyter.widget-view+json": {
       "model_id": "2bc4bf8d816a4292afb67ddac6a3be91",
       "version_major": 2,
       "version_minor": 0
      },
      "text/plain": [
       "  0%|          | 0/1250 [00:00<?, ?it/s]"
      ]
     },
     "metadata": {},
     "output_type": "display_data"
    },
    {
     "name": "stdout",
     "output_type": "stream",
     "text": [
      "completed lulesh medprob pso 4873 (825000, 11) 4.235629081726074 secs\n",
      "working on /usr/WS2/bolet1/ruby-benchmarks/exploreGlobalOptimizations/logs/lulesh-lrgprob/pso-1337\n"
     ]
    },
    {
     "data": {
      "application/vnd.jupyter.widget-view+json": {
       "model_id": "86334c8cc36b43cf87ae6f275328de9d",
       "version_major": 2,
       "version_minor": 0
      },
      "text/plain": [
       "  0%|          | 0/1250 [00:00<?, ?it/s]"
      ]
     },
     "metadata": {},
     "output_type": "display_data"
    },
    {
     "name": "stdout",
     "output_type": "stream",
     "text": [
      "completed lulesh lrgprob pso 1337 (825000, 11) 28.81793999671936 secs\n",
      "working on /usr/WS2/bolet1/ruby-benchmarks/exploreGlobalOptimizations/logs/lulesh-lrgprob/pso-3827\n"
     ]
    },
    {
     "data": {
      "application/vnd.jupyter.widget-view+json": {
       "model_id": "33cf747896d6422bb8ae228421d82a80",
       "version_major": 2,
       "version_minor": 0
      },
      "text/plain": [
       "  0%|          | 0/1250 [00:00<?, ?it/s]"
      ]
     },
     "metadata": {},
     "output_type": "display_data"
    },
    {
     "name": "stdout",
     "output_type": "stream",
     "text": [
      "completed lulesh lrgprob pso 3827 (825000, 11) 33.53775477409363 secs\n",
      "working on /usr/WS2/bolet1/ruby-benchmarks/exploreGlobalOptimizations/logs/lulesh-lrgprob/pso-9999\n"
     ]
    },
    {
     "data": {
      "application/vnd.jupyter.widget-view+json": {
       "model_id": "014524adaba34b659233ebaa8fb6f4ad",
       "version_major": 2,
       "version_minor": 0
      },
      "text/plain": [
       "  0%|          | 0/1250 [00:00<?, ?it/s]"
      ]
     },
     "metadata": {},
     "output_type": "display_data"
    },
    {
     "name": "stdout",
     "output_type": "stream",
     "text": [
      "completed lulesh lrgprob pso 9999 (825000, 11) 4.184720516204834 secs\n",
      "working on /usr/WS2/bolet1/ruby-benchmarks/exploreGlobalOptimizations/logs/lulesh-lrgprob/pso-4873\n"
     ]
    },
    {
     "data": {
      "application/vnd.jupyter.widget-view+json": {
       "model_id": "baa2e042abcd48bc94a22feea5b191b7",
       "version_major": 2,
       "version_minor": 0
      },
      "text/plain": [
       "  0%|          | 0/1250 [00:00<?, ?it/s]"
      ]
     },
     "metadata": {},
     "output_type": "display_data"
    },
    {
     "name": "stdout",
     "output_type": "stream",
     "text": [
      "completed lulesh lrgprob pso 4873 (825000, 11) 29.011868953704834 secs\n",
      "\n",
      "\n",
      " wrote: /usr/WS2/bolet1/ruby-benchmarks/exploreGlobalOptimizations/databases/ruby-lulesh-pso-GO_Data.csv \n",
      "\n",
      "\n",
      "working on /usr/WS2/bolet1/ruby-benchmarks/exploreGlobalOptimizations/logs/bt_nas-smlprob/bo-1337\n"
     ]
    },
    {
     "data": {
      "application/vnd.jupyter.widget-view+json": {
       "model_id": "da9ae8534bac4f479c529fa5490ceb0d",
       "version_major": 2,
       "version_minor": 0
      },
      "text/plain": [
       "  0%|          | 0/1297 [00:00<?, ?it/s]"
      ]
     },
     "metadata": {},
     "output_type": "display_data"
    },
    {
     "name": "stdout",
     "output_type": "stream",
     "text": [
      "completed bt_nas smlprob bo 1337 (856020, 12) 14.567534685134888 secs\n",
      "working on /usr/WS2/bolet1/ruby-benchmarks/exploreGlobalOptimizations/logs/bt_nas-smlprob/bo-3827\n"
     ]
    },
    {
     "data": {
      "application/vnd.jupyter.widget-view+json": {
       "model_id": "1e241ace634347038d133c272948206e",
       "version_major": 2,
       "version_minor": 0
      },
      "text/plain": [
       "  0%|          | 0/1250 [00:00<?, ?it/s]"
      ]
     },
     "metadata": {},
     "output_type": "display_data"
    },
    {
     "name": "stdout",
     "output_type": "stream",
     "text": [
      "completed bt_nas smlprob bo 3827 (825000, 12) 9.414941310882568 secs\n",
      "working on /usr/WS2/bolet1/ruby-benchmarks/exploreGlobalOptimizations/logs/bt_nas-smlprob/bo-9999\n"
     ]
    },
    {
     "data": {
      "application/vnd.jupyter.widget-view+json": {
       "model_id": "e82b53376e0f4f2288708d9aebe21480",
       "version_major": 2,
       "version_minor": 0
      },
      "text/plain": [
       "  0%|          | 0/1172 [00:00<?, ?it/s]"
      ]
     },
     "metadata": {},
     "output_type": "display_data"
    },
    {
     "name": "stdout",
     "output_type": "stream",
     "text": [
      "completed bt_nas smlprob bo 9999 (773520, 12) 40.365123987197876 secs\n",
      "working on /usr/WS2/bolet1/ruby-benchmarks/exploreGlobalOptimizations/logs/bt_nas-smlprob/bo-4873\n"
     ]
    },
    {
     "data": {
      "application/vnd.jupyter.widget-view+json": {
       "model_id": "4f2b81d759174e8a8765a0e34011f863",
       "version_major": 2,
       "version_minor": 0
      },
      "text/plain": [
       "  0%|          | 0/1097 [00:00<?, ?it/s]"
      ]
     },
     "metadata": {},
     "output_type": "display_data"
    },
    {
     "name": "stdout",
     "output_type": "stream",
     "text": [
      "completed bt_nas smlprob bo 4873 (724020, 12) 29.56774067878723 secs\n",
      "working on /usr/WS2/bolet1/ruby-benchmarks/exploreGlobalOptimizations/logs/bt_nas-medprob/bo-1337\n"
     ]
    },
    {
     "data": {
      "application/vnd.jupyter.widget-view+json": {
       "model_id": "d5d7efa36e8945e2bb195716cf4154a0",
       "version_major": 2,
       "version_minor": 0
      },
      "text/plain": [
       "  0%|          | 0/1261 [00:00<?, ?it/s]"
      ]
     },
     "metadata": {},
     "output_type": "display_data"
    },
    {
     "name": "stdout",
     "output_type": "stream",
     "text": [
      "completed bt_nas medprob bo 1337 (832260, 12) 13.605384826660156 secs\n",
      "working on /usr/WS2/bolet1/ruby-benchmarks/exploreGlobalOptimizations/logs/bt_nas-medprob/bo-3827\n"
     ]
    },
    {
     "data": {
      "application/vnd.jupyter.widget-view+json": {
       "model_id": "721e3bbbbdaf48d8aae94701b30b5a78",
       "version_major": 2,
       "version_minor": 0
      },
      "text/plain": [
       "  0%|          | 0/1192 [00:00<?, ?it/s]"
      ]
     },
     "metadata": {},
     "output_type": "display_data"
    },
    {
     "name": "stdout",
     "output_type": "stream",
     "text": [
      "completed bt_nas medprob bo 3827 (786720, 12) 14.239239931106567 secs\n",
      "working on /usr/WS2/bolet1/ruby-benchmarks/exploreGlobalOptimizations/logs/bt_nas-medprob/bo-9999\n"
     ]
    },
    {
     "data": {
      "application/vnd.jupyter.widget-view+json": {
       "model_id": "98e0a771366143aba2d8e2adc3f57258",
       "version_major": 2,
       "version_minor": 0
      },
      "text/plain": [
       "  0%|          | 0/1248 [00:00<?, ?it/s]"
      ]
     },
     "metadata": {},
     "output_type": "display_data"
    },
    {
     "name": "stdout",
     "output_type": "stream",
     "text": [
      "completed bt_nas medprob bo 9999 (823680, 12) 16.20442223548889 secs\n",
      "working on /usr/WS2/bolet1/ruby-benchmarks/exploreGlobalOptimizations/logs/bt_nas-medprob/bo-4873\n"
     ]
    },
    {
     "data": {
      "application/vnd.jupyter.widget-view+json": {
       "model_id": "18715c0aa35b438686cfd53136b48eaf",
       "version_major": 2,
       "version_minor": 0
      },
      "text/plain": [
       "  0%|          | 0/1179 [00:00<?, ?it/s]"
      ]
     },
     "metadata": {},
     "output_type": "display_data"
    },
    {
     "name": "stdout",
     "output_type": "stream",
     "text": [
      "completed bt_nas medprob bo 4873 (778140, 12) 10.795119047164917 secs\n",
      "working on /usr/WS2/bolet1/ruby-benchmarks/exploreGlobalOptimizations/logs/bt_nas-lrgprob/bo-1337\n"
     ]
    },
    {
     "data": {
      "application/vnd.jupyter.widget-view+json": {
       "model_id": "59d81ea4274e4d64bd7f14e39a957dcd",
       "version_major": 2,
       "version_minor": 0
      },
      "text/plain": [
       "  0%|          | 0/1313 [00:00<?, ?it/s]"
      ]
     },
     "metadata": {},
     "output_type": "display_data"
    },
    {
     "name": "stdout",
     "output_type": "stream",
     "text": [
      "completed bt_nas lrgprob bo 1337 (866580, 12) 14.4913170337677 secs\n",
      "working on /usr/WS2/bolet1/ruby-benchmarks/exploreGlobalOptimizations/logs/bt_nas-lrgprob/bo-3827\n"
     ]
    },
    {
     "data": {
      "application/vnd.jupyter.widget-view+json": {
       "model_id": "8a5160445a124046abcfffd8fc237544",
       "version_major": 2,
       "version_minor": 0
      },
      "text/plain": [
       "  0%|          | 0/1185 [00:00<?, ?it/s]"
      ]
     },
     "metadata": {},
     "output_type": "display_data"
    },
    {
     "name": "stdout",
     "output_type": "stream",
     "text": [
      "completed bt_nas lrgprob bo 3827 (782100, 12) 28.727312564849854 secs\n",
      "working on /usr/WS2/bolet1/ruby-benchmarks/exploreGlobalOptimizations/logs/bt_nas-lrgprob/bo-9999\n"
     ]
    },
    {
     "data": {
      "application/vnd.jupyter.widget-view+json": {
       "model_id": "ae345ad8b0b1445a8551d9c3ba092648",
       "version_major": 2,
       "version_minor": 0
      },
      "text/plain": [
       "  0%|          | 0/1154 [00:00<?, ?it/s]"
      ]
     },
     "metadata": {},
     "output_type": "display_data"
    },
    {
     "name": "stdout",
     "output_type": "stream",
     "text": [
      "completed bt_nas lrgprob bo 9999 (761640, 12) 15.501038074493408 secs\n",
      "working on /usr/WS2/bolet1/ruby-benchmarks/exploreGlobalOptimizations/logs/bt_nas-lrgprob/bo-4873\n"
     ]
    },
    {
     "data": {
      "application/vnd.jupyter.widget-view+json": {
       "model_id": "c117c20bc7984f47878f43522095667d",
       "version_major": 2,
       "version_minor": 0
      },
      "text/plain": [
       "  0%|          | 0/1188 [00:00<?, ?it/s]"
      ]
     },
     "metadata": {},
     "output_type": "display_data"
    },
    {
     "name": "stdout",
     "output_type": "stream",
     "text": [
      "completed bt_nas lrgprob bo 4873 (784080, 12) 23.257052183151245 secs\n",
      "\n",
      "\n",
      " wrote: /usr/WS2/bolet1/ruby-benchmarks/exploreGlobalOptimizations/databases/ruby-bt_nas-bo-GO_Data.csv \n",
      "\n",
      "\n",
      "working on /usr/WS2/bolet1/ruby-benchmarks/exploreGlobalOptimizations/logs/cg_nas-smlprob/bo-1337\n"
     ]
    },
    {
     "data": {
      "application/vnd.jupyter.widget-view+json": {
       "model_id": "d34af596d6284e92a4d51be6b534250c",
       "version_major": 2,
       "version_minor": 0
      },
      "text/plain": [
       "  0%|          | 0/1305 [00:00<?, ?it/s]"
      ]
     },
     "metadata": {},
     "output_type": "display_data"
    },
    {
     "name": "stdout",
     "output_type": "stream",
     "text": [
      "completed cg_nas smlprob bo 1337 (861300, 12) 15.204736709594727 secs\n",
      "working on /usr/WS2/bolet1/ruby-benchmarks/exploreGlobalOptimizations/logs/cg_nas-smlprob/bo-3827\n"
     ]
    },
    {
     "data": {
      "application/vnd.jupyter.widget-view+json": {
       "model_id": "89933212998b4333bc65ce20b2f68432",
       "version_major": 2,
       "version_minor": 0
      },
      "text/plain": [
       "  0%|          | 0/1246 [00:00<?, ?it/s]"
      ]
     },
     "metadata": {},
     "output_type": "display_data"
    },
    {
     "name": "stdout",
     "output_type": "stream",
     "text": [
      "completed cg_nas smlprob bo 3827 (822360, 12) 30.79837203025818 secs\n",
      "working on /usr/WS2/bolet1/ruby-benchmarks/exploreGlobalOptimizations/logs/cg_nas-smlprob/bo-9999\n"
     ]
    },
    {
     "data": {
      "application/vnd.jupyter.widget-view+json": {
       "model_id": "ff53a037a7ae448686d9375360c00db6",
       "version_major": 2,
       "version_minor": 0
      },
      "text/plain": [
       "  0%|          | 0/1216 [00:00<?, ?it/s]"
      ]
     },
     "metadata": {},
     "output_type": "display_data"
    },
    {
     "name": "stdout",
     "output_type": "stream",
     "text": [
      "completed cg_nas smlprob bo 9999 (802560, 12) 13.450648784637451 secs\n",
      "working on /usr/WS2/bolet1/ruby-benchmarks/exploreGlobalOptimizations/logs/cg_nas-smlprob/bo-4873\n"
     ]
    },
    {
     "data": {
      "application/vnd.jupyter.widget-view+json": {
       "model_id": "e58e4bda2cf847de994c13a7cf5a08b2",
       "version_major": 2,
       "version_minor": 0
      },
      "text/plain": [
       "  0%|          | 0/1180 [00:00<?, ?it/s]"
      ]
     },
     "metadata": {},
     "output_type": "display_data"
    },
    {
     "name": "stdout",
     "output_type": "stream",
     "text": [
      "completed cg_nas smlprob bo 4873 (778800, 12) 15.571996450424194 secs\n",
      "working on /usr/WS2/bolet1/ruby-benchmarks/exploreGlobalOptimizations/logs/cg_nas-medprob/bo-1337\n"
     ]
    },
    {
     "data": {
      "application/vnd.jupyter.widget-view+json": {
       "model_id": "05efe7f4b8024cdeb8aaea146ca6b5c7",
       "version_major": 2,
       "version_minor": 0
      },
      "text/plain": [
       "  0%|          | 0/1261 [00:00<?, ?it/s]"
      ]
     },
     "metadata": {},
     "output_type": "display_data"
    },
    {
     "name": "stdout",
     "output_type": "stream",
     "text": [
      "completed cg_nas medprob bo 1337 (832260, 12) 23.15353298187256 secs\n",
      "working on /usr/WS2/bolet1/ruby-benchmarks/exploreGlobalOptimizations/logs/cg_nas-medprob/bo-3827\n"
     ]
    },
    {
     "data": {
      "application/vnd.jupyter.widget-view+json": {
       "model_id": "d2a3c76d6b1541e6a990e7e4e7a0bcea",
       "version_major": 2,
       "version_minor": 0
      },
      "text/plain": [
       "  0%|          | 0/1249 [00:00<?, ?it/s]"
      ]
     },
     "metadata": {},
     "output_type": "display_data"
    },
    {
     "name": "stdout",
     "output_type": "stream",
     "text": [
      "completed cg_nas medprob bo 3827 (824340, 12) 32.47732853889465 secs\n",
      "working on /usr/WS2/bolet1/ruby-benchmarks/exploreGlobalOptimizations/logs/cg_nas-medprob/bo-9999\n"
     ]
    },
    {
     "data": {
      "application/vnd.jupyter.widget-view+json": {
       "model_id": "f6af029b60fa4466ab18cde392dc2956",
       "version_major": 2,
       "version_minor": 0
      },
      "text/plain": [
       "  0%|          | 0/1227 [00:00<?, ?it/s]"
      ]
     },
     "metadata": {},
     "output_type": "display_data"
    },
    {
     "name": "stdout",
     "output_type": "stream",
     "text": [
      "completed cg_nas medprob bo 9999 (809820, 12) 12.933401346206665 secs\n",
      "working on /usr/WS2/bolet1/ruby-benchmarks/exploreGlobalOptimizations/logs/cg_nas-medprob/bo-4873\n"
     ]
    },
    {
     "data": {
      "application/vnd.jupyter.widget-view+json": {
       "model_id": "d65790c2847c45549c76a249ad5c7637",
       "version_major": 2,
       "version_minor": 0
      },
      "text/plain": [
       "  0%|          | 0/1168 [00:00<?, ?it/s]"
      ]
     },
     "metadata": {},
     "output_type": "display_data"
    },
    {
     "name": "stdout",
     "output_type": "stream",
     "text": [
      "completed cg_nas medprob bo 4873 (770880, 12) 33.70731282234192 secs\n",
      "working on /usr/WS2/bolet1/ruby-benchmarks/exploreGlobalOptimizations/logs/cg_nas-lrgprob/bo-1337\n"
     ]
    },
    {
     "data": {
      "application/vnd.jupyter.widget-view+json": {
       "model_id": "088369d265a84493b7c3d78d9cf9943c",
       "version_major": 2,
       "version_minor": 0
      },
      "text/plain": [
       "  0%|          | 0/1255 [00:00<?, ?it/s]"
      ]
     },
     "metadata": {},
     "output_type": "display_data"
    },
    {
     "name": "stdout",
     "output_type": "stream",
     "text": [
      "completed cg_nas lrgprob bo 1337 (828300, 12) 14.719196319580078 secs\n",
      "working on /usr/WS2/bolet1/ruby-benchmarks/exploreGlobalOptimizations/logs/cg_nas-lrgprob/bo-3827\n"
     ]
    },
    {
     "data": {
      "application/vnd.jupyter.widget-view+json": {
       "model_id": "b0c613b2659347b99268aa4f86924e1b",
       "version_major": 2,
       "version_minor": 0
      },
      "text/plain": [
       "  0%|          | 0/1239 [00:00<?, ?it/s]"
      ]
     },
     "metadata": {},
     "output_type": "display_data"
    },
    {
     "name": "stdout",
     "output_type": "stream",
     "text": [
      "completed cg_nas lrgprob bo 3827 (817740, 12) 21.69043254852295 secs\n",
      "working on /usr/WS2/bolet1/ruby-benchmarks/exploreGlobalOptimizations/logs/cg_nas-lrgprob/bo-9999\n"
     ]
    },
    {
     "data": {
      "application/vnd.jupyter.widget-view+json": {
       "model_id": "108554a577fa46e5beb94838ad52c070",
       "version_major": 2,
       "version_minor": 0
      },
      "text/plain": [
       "  0%|          | 0/1117 [00:00<?, ?it/s]"
      ]
     },
     "metadata": {},
     "output_type": "display_data"
    },
    {
     "name": "stdout",
     "output_type": "stream",
     "text": [
      "completed cg_nas lrgprob bo 9999 (737220, 12) 26.188984394073486 secs\n",
      "working on /usr/WS2/bolet1/ruby-benchmarks/exploreGlobalOptimizations/logs/cg_nas-lrgprob/bo-4873\n"
     ]
    },
    {
     "data": {
      "application/vnd.jupyter.widget-view+json": {
       "model_id": "65ce593d4f39408a96fd87fa89ad3ec5",
       "version_major": 2,
       "version_minor": 0
      },
      "text/plain": [
       "  0%|          | 0/1163 [00:00<?, ?it/s]"
      ]
     },
     "metadata": {},
     "output_type": "display_data"
    },
    {
     "name": "stdout",
     "output_type": "stream",
     "text": [
      "completed cg_nas lrgprob bo 4873 (767580, 12) 19.426408767700195 secs\n",
      "\n",
      "\n",
      " wrote: /usr/WS2/bolet1/ruby-benchmarks/exploreGlobalOptimizations/databases/ruby-cg_nas-bo-GO_Data.csv \n",
      "\n",
      "\n",
      "working on /usr/WS2/bolet1/ruby-benchmarks/exploreGlobalOptimizations/logs/ft_nas-smlprob/bo-1337\n"
     ]
    },
    {
     "data": {
      "application/vnd.jupyter.widget-view+json": {
       "model_id": "97d7b925a644485e925b019d2021e87a",
       "version_major": 2,
       "version_minor": 0
      },
      "text/plain": [
       "  0%|          | 0/1249 [00:00<?, ?it/s]"
      ]
     },
     "metadata": {},
     "output_type": "display_data"
    },
    {
     "name": "stdout",
     "output_type": "stream",
     "text": [
      "completed ft_nas smlprob bo 1337 (824340, 12) 13.696589946746826 secs\n",
      "working on /usr/WS2/bolet1/ruby-benchmarks/exploreGlobalOptimizations/logs/ft_nas-smlprob/bo-3827\n"
     ]
    },
    {
     "data": {
      "application/vnd.jupyter.widget-view+json": {
       "model_id": "a122670d986a465fb8f024a315de86c9",
       "version_major": 2,
       "version_minor": 0
      },
      "text/plain": [
       "  0%|          | 0/1166 [00:00<?, ?it/s]"
      ]
     },
     "metadata": {},
     "output_type": "display_data"
    },
    {
     "name": "stdout",
     "output_type": "stream",
     "text": [
      "completed ft_nas smlprob bo 3827 (769560, 12) 13.042717218399048 secs\n",
      "working on /usr/WS2/bolet1/ruby-benchmarks/exploreGlobalOptimizations/logs/ft_nas-smlprob/bo-9999\n"
     ]
    },
    {
     "data": {
      "application/vnd.jupyter.widget-view+json": {
       "model_id": "9d9c298cbdd04d40a6f7146748f53e7a",
       "version_major": 2,
       "version_minor": 0
      },
      "text/plain": [
       "  0%|          | 0/1206 [00:00<?, ?it/s]"
      ]
     },
     "metadata": {},
     "output_type": "display_data"
    },
    {
     "name": "stdout",
     "output_type": "stream",
     "text": [
      "completed ft_nas smlprob bo 9999 (795960, 12) 13.582685232162476 secs\n",
      "working on /usr/WS2/bolet1/ruby-benchmarks/exploreGlobalOptimizations/logs/ft_nas-smlprob/bo-4873\n"
     ]
    },
    {
     "data": {
      "application/vnd.jupyter.widget-view+json": {
       "model_id": "685c139b49bd4fee94d98bf5f6b88ece",
       "version_major": 2,
       "version_minor": 0
      },
      "text/plain": [
       "  0%|          | 0/1126 [00:00<?, ?it/s]"
      ]
     },
     "metadata": {},
     "output_type": "display_data"
    },
    {
     "name": "stdout",
     "output_type": "stream",
     "text": [
      "completed ft_nas smlprob bo 4873 (743160, 12) 24.676779985427856 secs\n",
      "working on /usr/WS2/bolet1/ruby-benchmarks/exploreGlobalOptimizations/logs/ft_nas-medprob/bo-1337\n"
     ]
    },
    {
     "data": {
      "application/vnd.jupyter.widget-view+json": {
       "model_id": "680273b873b24d4ebdf0f3ff1a77db9d",
       "version_major": 2,
       "version_minor": 0
      },
      "text/plain": [
       "  0%|          | 0/1256 [00:00<?, ?it/s]"
      ]
     },
     "metadata": {},
     "output_type": "display_data"
    },
    {
     "name": "stdout",
     "output_type": "stream",
     "text": [
      "completed ft_nas medprob bo 1337 (828960, 12) 24.51532006263733 secs\n",
      "working on /usr/WS2/bolet1/ruby-benchmarks/exploreGlobalOptimizations/logs/ft_nas-medprob/bo-3827\n"
     ]
    },
    {
     "data": {
      "application/vnd.jupyter.widget-view+json": {
       "model_id": "6827a23c1917414eb09e7bbd05fba994",
       "version_major": 2,
       "version_minor": 0
      },
      "text/plain": [
       "  0%|          | 0/1211 [00:00<?, ?it/s]"
      ]
     },
     "metadata": {},
     "output_type": "display_data"
    },
    {
     "name": "stdout",
     "output_type": "stream",
     "text": [
      "completed ft_nas medprob bo 3827 (799260, 12) 20.725630283355713 secs\n",
      "working on /usr/WS2/bolet1/ruby-benchmarks/exploreGlobalOptimizations/logs/ft_nas-medprob/bo-9999\n"
     ]
    },
    {
     "data": {
      "application/vnd.jupyter.widget-view+json": {
       "model_id": "60d121ebce904189b30934d7e303a6ab",
       "version_major": 2,
       "version_minor": 0
      },
      "text/plain": [
       "  0%|          | 0/1166 [00:00<?, ?it/s]"
      ]
     },
     "metadata": {},
     "output_type": "display_data"
    },
    {
     "name": "stdout",
     "output_type": "stream",
     "text": [
      "completed ft_nas medprob bo 9999 (769560, 12) 29.049216747283936 secs\n",
      "working on /usr/WS2/bolet1/ruby-benchmarks/exploreGlobalOptimizations/logs/ft_nas-medprob/bo-4873\n"
     ]
    },
    {
     "data": {
      "application/vnd.jupyter.widget-view+json": {
       "model_id": "1d2646309fea4287bc877afe7592af90",
       "version_major": 2,
       "version_minor": 0
      },
      "text/plain": [
       "  0%|          | 0/1206 [00:00<?, ?it/s]"
      ]
     },
     "metadata": {},
     "output_type": "display_data"
    },
    {
     "name": "stdout",
     "output_type": "stream",
     "text": [
      "completed ft_nas medprob bo 4873 (795960, 12) 9.731247186660767 secs\n",
      "working on /usr/WS2/bolet1/ruby-benchmarks/exploreGlobalOptimizations/logs/ft_nas-lrgprob/bo-1337\n"
     ]
    },
    {
     "data": {
      "application/vnd.jupyter.widget-view+json": {
       "model_id": "64055510737e408ba3f7487d7c834817",
       "version_major": 2,
       "version_minor": 0
      },
      "text/plain": [
       "  0%|          | 0/1290 [00:00<?, ?it/s]"
      ]
     },
     "metadata": {},
     "output_type": "display_data"
    },
    {
     "name": "stdout",
     "output_type": "stream",
     "text": [
      "completed ft_nas lrgprob bo 1337 (851400, 12) 32.95579528808594 secs\n",
      "working on /usr/WS2/bolet1/ruby-benchmarks/exploreGlobalOptimizations/logs/ft_nas-lrgprob/bo-3827\n"
     ]
    },
    {
     "data": {
      "application/vnd.jupyter.widget-view+json": {
       "model_id": "d0e880502e094220b3c3b6935cb1fdb5",
       "version_major": 2,
       "version_minor": 0
      },
      "text/plain": [
       "  0%|          | 0/1295 [00:00<?, ?it/s]"
      ]
     },
     "metadata": {},
     "output_type": "display_data"
    },
    {
     "name": "stdout",
     "output_type": "stream",
     "text": [
      "completed ft_nas lrgprob bo 3827 (854700, 12) 22.110504865646362 secs\n",
      "working on /usr/WS2/bolet1/ruby-benchmarks/exploreGlobalOptimizations/logs/ft_nas-lrgprob/bo-9999\n"
     ]
    },
    {
     "data": {
      "application/vnd.jupyter.widget-view+json": {
       "model_id": "72faab3840864f0cb325248823af5f12",
       "version_major": 2,
       "version_minor": 0
      },
      "text/plain": [
       "  0%|          | 0/1129 [00:00<?, ?it/s]"
      ]
     },
     "metadata": {},
     "output_type": "display_data"
    },
    {
     "name": "stdout",
     "output_type": "stream",
     "text": [
      "completed ft_nas lrgprob bo 9999 (745140, 12) 19.71692657470703 secs\n",
      "working on /usr/WS2/bolet1/ruby-benchmarks/exploreGlobalOptimizations/logs/ft_nas-lrgprob/bo-4873\n"
     ]
    },
    {
     "data": {
      "application/vnd.jupyter.widget-view+json": {
       "model_id": "1e552d912d384eaa939af074d0824689",
       "version_major": 2,
       "version_minor": 0
      },
      "text/plain": [
       "  0%|          | 0/1154 [00:00<?, ?it/s]"
      ]
     },
     "metadata": {},
     "output_type": "display_data"
    },
    {
     "name": "stdout",
     "output_type": "stream",
     "text": [
      "completed ft_nas lrgprob bo 4873 (761640, 12) 26.637010097503662 secs\n",
      "\n",
      "\n",
      " wrote: /usr/WS2/bolet1/ruby-benchmarks/exploreGlobalOptimizations/databases/ruby-ft_nas-bo-GO_Data.csv \n",
      "\n",
      "\n",
      "working on /usr/WS2/bolet1/ruby-benchmarks/exploreGlobalOptimizations/logs/cfd_rodinia-smlprob/bo-1337\n"
     ]
    },
    {
     "data": {
      "application/vnd.jupyter.widget-view+json": {
       "model_id": "b7b76c8323e94889bf9edf217d1322c0",
       "version_major": 2,
       "version_minor": 0
      },
      "text/plain": [
       "  0%|          | 0/1256 [00:00<?, ?it/s]"
      ]
     },
     "metadata": {},
     "output_type": "display_data"
    },
    {
     "name": "stdout",
     "output_type": "stream",
     "text": [
      "completed cfd_rodinia smlprob bo 1337 (828960, 12) 15.84115743637085 secs\n",
      "working on /usr/WS2/bolet1/ruby-benchmarks/exploreGlobalOptimizations/logs/cfd_rodinia-smlprob/bo-3827\n"
     ]
    },
    {
     "data": {
      "application/vnd.jupyter.widget-view+json": {
       "model_id": "8696e603ab684b7a8e8d73d5bd3a531a",
       "version_major": 2,
       "version_minor": 0
      },
      "text/plain": [
       "  0%|          | 0/1260 [00:00<?, ?it/s]"
      ]
     },
     "metadata": {},
     "output_type": "display_data"
    },
    {
     "name": "stdout",
     "output_type": "stream",
     "text": [
      "completed cfd_rodinia smlprob bo 3827 (831600, 12) 19.362237453460693 secs\n",
      "working on /usr/WS2/bolet1/ruby-benchmarks/exploreGlobalOptimizations/logs/cfd_rodinia-smlprob/bo-9999\n"
     ]
    },
    {
     "data": {
      "application/vnd.jupyter.widget-view+json": {
       "model_id": "b7f13f2ebbd14ad48304591e6b0ab999",
       "version_major": 2,
       "version_minor": 0
      },
      "text/plain": [
       "  0%|          | 0/1186 [00:00<?, ?it/s]"
      ]
     },
     "metadata": {},
     "output_type": "display_data"
    },
    {
     "name": "stdout",
     "output_type": "stream",
     "text": [
      "completed cfd_rodinia smlprob bo 9999 (782760, 12) 26.134163856506348 secs\n",
      "working on /usr/WS2/bolet1/ruby-benchmarks/exploreGlobalOptimizations/logs/cfd_rodinia-smlprob/bo-4873\n"
     ]
    },
    {
     "data": {
      "application/vnd.jupyter.widget-view+json": {
       "model_id": "be4b635c0f3a490090e0b9f9c4e5cf19",
       "version_major": 2,
       "version_minor": 0
      },
      "text/plain": [
       "  0%|          | 0/1141 [00:00<?, ?it/s]"
      ]
     },
     "metadata": {},
     "output_type": "display_data"
    },
    {
     "name": "stdout",
     "output_type": "stream",
     "text": [
      "completed cfd_rodinia smlprob bo 4873 (753060, 12) 22.262949228286743 secs\n",
      "working on /usr/WS2/bolet1/ruby-benchmarks/exploreGlobalOptimizations/logs/cfd_rodinia-medprob/bo-1337\n"
     ]
    },
    {
     "data": {
      "application/vnd.jupyter.widget-view+json": {
       "model_id": "94b147aa4ead4f9b9164ba4a076499cf",
       "version_major": 2,
       "version_minor": 0
      },
      "text/plain": [
       "  0%|          | 0/1272 [00:00<?, ?it/s]"
      ]
     },
     "metadata": {},
     "output_type": "display_data"
    },
    {
     "name": "stdout",
     "output_type": "stream",
     "text": [
      "completed cfd_rodinia medprob bo 1337 (839520, 12) 7.296918630599976 secs\n",
      "working on /usr/WS2/bolet1/ruby-benchmarks/exploreGlobalOptimizations/logs/cfd_rodinia-medprob/bo-3827\n"
     ]
    },
    {
     "data": {
      "application/vnd.jupyter.widget-view+json": {
       "model_id": "0428a518115f4e1b9fede282dc55b539",
       "version_major": 2,
       "version_minor": 0
      },
      "text/plain": [
       "  0%|          | 0/1291 [00:00<?, ?it/s]"
      ]
     },
     "metadata": {},
     "output_type": "display_data"
    },
    {
     "name": "stdout",
     "output_type": "stream",
     "text": [
      "completed cfd_rodinia medprob bo 3827 (852060, 12) 30.441985845565796 secs\n",
      "working on /usr/WS2/bolet1/ruby-benchmarks/exploreGlobalOptimizations/logs/cfd_rodinia-medprob/bo-9999\n"
     ]
    },
    {
     "data": {
      "application/vnd.jupyter.widget-view+json": {
       "model_id": "9ccd8401974145fca6870dd102d7a2a3",
       "version_major": 2,
       "version_minor": 0
      },
      "text/plain": [
       "  0%|          | 0/1172 [00:00<?, ?it/s]"
      ]
     },
     "metadata": {},
     "output_type": "display_data"
    },
    {
     "name": "stdout",
     "output_type": "stream",
     "text": [
      "completed cfd_rodinia medprob bo 9999 (773520, 12) 8.689708232879639 secs\n",
      "working on /usr/WS2/bolet1/ruby-benchmarks/exploreGlobalOptimizations/logs/cfd_rodinia-medprob/bo-4873\n"
     ]
    },
    {
     "data": {
      "application/vnd.jupyter.widget-view+json": {
       "model_id": "0702539355d247e18b59b74960bf9668",
       "version_major": 2,
       "version_minor": 0
      },
      "text/plain": [
       "  0%|          | 0/1215 [00:00<?, ?it/s]"
      ]
     },
     "metadata": {},
     "output_type": "display_data"
    },
    {
     "name": "stdout",
     "output_type": "stream",
     "text": [
      "completed cfd_rodinia medprob bo 4873 (801900, 12) 17.174718141555786 secs\n",
      "working on /usr/WS2/bolet1/ruby-benchmarks/exploreGlobalOptimizations/logs/cfd_rodinia-lrgprob/bo-1337\n"
     ]
    },
    {
     "data": {
      "application/vnd.jupyter.widget-view+json": {
       "model_id": "bf25f92fd61c49909d79ea2588b59ede",
       "version_major": 2,
       "version_minor": 0
      },
      "text/plain": [
       "  0%|          | 0/1241 [00:00<?, ?it/s]"
      ]
     },
     "metadata": {},
     "output_type": "display_data"
    },
    {
     "name": "stdout",
     "output_type": "stream",
     "text": [
      "completed cfd_rodinia lrgprob bo 1337 (819060, 12) 25.056116580963135 secs\n",
      "working on /usr/WS2/bolet1/ruby-benchmarks/exploreGlobalOptimizations/logs/cfd_rodinia-lrgprob/bo-3827\n"
     ]
    },
    {
     "data": {
      "application/vnd.jupyter.widget-view+json": {
       "model_id": "949619c1538848a09870e6f86b9b383a",
       "version_major": 2,
       "version_minor": 0
      },
      "text/plain": [
       "  0%|          | 0/1258 [00:00<?, ?it/s]"
      ]
     },
     "metadata": {},
     "output_type": "display_data"
    },
    {
     "name": "stdout",
     "output_type": "stream",
     "text": [
      "completed cfd_rodinia lrgprob bo 3827 (830280, 12) 16.634387969970703 secs\n",
      "working on /usr/WS2/bolet1/ruby-benchmarks/exploreGlobalOptimizations/logs/cfd_rodinia-lrgprob/bo-9999\n"
     ]
    },
    {
     "data": {
      "application/vnd.jupyter.widget-view+json": {
       "model_id": "5a8e21d3f6674c5a8fec8c89d5aa19d6",
       "version_major": 2,
       "version_minor": 0
      },
      "text/plain": [
       "  0%|          | 0/1174 [00:00<?, ?it/s]"
      ]
     },
     "metadata": {},
     "output_type": "display_data"
    },
    {
     "name": "stdout",
     "output_type": "stream",
     "text": [
      "completed cfd_rodinia lrgprob bo 9999 (774840, 12) 24.369609117507935 secs\n",
      "working on /usr/WS2/bolet1/ruby-benchmarks/exploreGlobalOptimizations/logs/cfd_rodinia-lrgprob/bo-4873\n"
     ]
    },
    {
     "data": {
      "application/vnd.jupyter.widget-view+json": {
       "model_id": "190b55f435d14f2993a5f21440329fb9",
       "version_major": 2,
       "version_minor": 0
      },
      "text/plain": [
       "  0%|          | 0/1179 [00:00<?, ?it/s]"
      ]
     },
     "metadata": {},
     "output_type": "display_data"
    },
    {
     "name": "stdout",
     "output_type": "stream",
     "text": [
      "completed cfd_rodinia lrgprob bo 4873 (778140, 12) 13.895195722579956 secs\n",
      "\n",
      "\n",
      " wrote: /usr/WS2/bolet1/ruby-benchmarks/exploreGlobalOptimizations/databases/ruby-cfd_rodinia-bo-GO_Data.csv \n",
      "\n",
      "\n",
      "working on /usr/WS2/bolet1/ruby-benchmarks/exploreGlobalOptimizations/logs/hpcg-smlprob/bo-1337\n"
     ]
    },
    {
     "data": {
      "application/vnd.jupyter.widget-view+json": {
       "model_id": "6c92ed62c96e49a6a3dab48a85e0f8e0",
       "version_major": 2,
       "version_minor": 0
      },
      "text/plain": [
       "  0%|          | 0/1249 [00:00<?, ?it/s]"
      ]
     },
     "metadata": {},
     "output_type": "display_data"
    },
    {
     "name": "stdout",
     "output_type": "stream",
     "text": [
      "completed hpcg smlprob bo 1337 (824340, 12) 13.846266508102417 secs\n",
      "working on /usr/WS2/bolet1/ruby-benchmarks/exploreGlobalOptimizations/logs/hpcg-smlprob/bo-3827\n"
     ]
    },
    {
     "data": {
      "application/vnd.jupyter.widget-view+json": {
       "model_id": "9f4cbe6d5e7a4841bd69dc5cfab5cc2d",
       "version_major": 2,
       "version_minor": 0
      },
      "text/plain": [
       "  0%|          | 0/1226 [00:00<?, ?it/s]"
      ]
     },
     "metadata": {},
     "output_type": "display_data"
    },
    {
     "name": "stdout",
     "output_type": "stream",
     "text": [
      "completed hpcg smlprob bo 3827 (809160, 12) 10.688458442687988 secs\n",
      "working on /usr/WS2/bolet1/ruby-benchmarks/exploreGlobalOptimizations/logs/hpcg-smlprob/bo-9999\n"
     ]
    },
    {
     "data": {
      "application/vnd.jupyter.widget-view+json": {
       "model_id": "78d2c18d869b45db95849536b9e3d3d2",
       "version_major": 2,
       "version_minor": 0
      },
      "text/plain": [
       "  0%|          | 0/1148 [00:00<?, ?it/s]"
      ]
     },
     "metadata": {},
     "output_type": "display_data"
    },
    {
     "name": "stdout",
     "output_type": "stream",
     "text": [
      "completed hpcg smlprob bo 9999 (757680, 12) 12.783565521240234 secs\n",
      "working on /usr/WS2/bolet1/ruby-benchmarks/exploreGlobalOptimizations/logs/hpcg-smlprob/bo-4873\n"
     ]
    },
    {
     "data": {
      "application/vnd.jupyter.widget-view+json": {
       "model_id": "de75dbefbde347c5a46a36a64b3a847e",
       "version_major": 2,
       "version_minor": 0
      },
      "text/plain": [
       "  0%|          | 0/1143 [00:00<?, ?it/s]"
      ]
     },
     "metadata": {},
     "output_type": "display_data"
    },
    {
     "name": "stdout",
     "output_type": "stream",
     "text": [
      "completed hpcg smlprob bo 4873 (754380, 12) 13.792314052581787 secs\n",
      "working on /usr/WS2/bolet1/ruby-benchmarks/exploreGlobalOptimizations/logs/hpcg-medprob/bo-1337\n"
     ]
    },
    {
     "data": {
      "application/vnd.jupyter.widget-view+json": {
       "model_id": "f87938bb38014679b7b25a93d75443ae",
       "version_major": 2,
       "version_minor": 0
      },
      "text/plain": [
       "  0%|          | 0/1269 [00:00<?, ?it/s]"
      ]
     },
     "metadata": {},
     "output_type": "display_data"
    },
    {
     "name": "stdout",
     "output_type": "stream",
     "text": [
      "completed hpcg medprob bo 1337 (837540, 12) 10.500424861907959 secs\n",
      "working on /usr/WS2/bolet1/ruby-benchmarks/exploreGlobalOptimizations/logs/hpcg-medprob/bo-3827\n"
     ]
    },
    {
     "data": {
      "application/vnd.jupyter.widget-view+json": {
       "model_id": "cb2f311f4a6448b9a2ba250a6b91a5e8",
       "version_major": 2,
       "version_minor": 0
      },
      "text/plain": [
       "  0%|          | 0/1276 [00:00<?, ?it/s]"
      ]
     },
     "metadata": {},
     "output_type": "display_data"
    },
    {
     "name": "stdout",
     "output_type": "stream",
     "text": [
      "completed hpcg medprob bo 3827 (842160, 12) 26.807417154312134 secs\n",
      "working on /usr/WS2/bolet1/ruby-benchmarks/exploreGlobalOptimizations/logs/hpcg-medprob/bo-9999\n"
     ]
    },
    {
     "data": {
      "application/vnd.jupyter.widget-view+json": {
       "model_id": "e10bca1bcdea49dca61ef00fad23f002",
       "version_major": 2,
       "version_minor": 0
      },
      "text/plain": [
       "  0%|          | 0/1160 [00:00<?, ?it/s]"
      ]
     },
     "metadata": {},
     "output_type": "display_data"
    },
    {
     "name": "stdout",
     "output_type": "stream",
     "text": [
      "completed hpcg medprob bo 9999 (765600, 12) 12.188419818878174 secs\n",
      "working on /usr/WS2/bolet1/ruby-benchmarks/exploreGlobalOptimizations/logs/hpcg-medprob/bo-4873\n"
     ]
    },
    {
     "data": {
      "application/vnd.jupyter.widget-view+json": {
       "model_id": "a09da3db505a48eda65bdb780f833a38",
       "version_major": 2,
       "version_minor": 0
      },
      "text/plain": [
       "  0%|          | 0/1166 [00:00<?, ?it/s]"
      ]
     },
     "metadata": {},
     "output_type": "display_data"
    },
    {
     "name": "stdout",
     "output_type": "stream",
     "text": [
      "completed hpcg medprob bo 4873 (769560, 12) 12.81436538696289 secs\n",
      "working on /usr/WS2/bolet1/ruby-benchmarks/exploreGlobalOptimizations/logs/hpcg-lrgprob/bo-1337\n"
     ]
    },
    {
     "data": {
      "application/vnd.jupyter.widget-view+json": {
       "model_id": "0e7a31d049dd45fa8f3b53a773176ded",
       "version_major": 2,
       "version_minor": 0
      },
      "text/plain": [
       "  0%|          | 0/1192 [00:00<?, ?it/s]"
      ]
     },
     "metadata": {},
     "output_type": "display_data"
    },
    {
     "name": "stdout",
     "output_type": "stream",
     "text": [
      "completed hpcg lrgprob bo 1337 (786720, 12) 26.09846067428589 secs\n",
      "working on /usr/WS2/bolet1/ruby-benchmarks/exploreGlobalOptimizations/logs/hpcg-lrgprob/bo-3827\n"
     ]
    },
    {
     "data": {
      "application/vnd.jupyter.widget-view+json": {
       "model_id": "c02526a425584c61b9dac554ddd2f35d",
       "version_major": 2,
       "version_minor": 0
      },
      "text/plain": [
       "  0%|          | 0/1246 [00:00<?, ?it/s]"
      ]
     },
     "metadata": {},
     "output_type": "display_data"
    },
    {
     "name": "stdout",
     "output_type": "stream",
     "text": [
      "completed hpcg lrgprob bo 3827 (822360, 12) 26.28696084022522 secs\n",
      "working on /usr/WS2/bolet1/ruby-benchmarks/exploreGlobalOptimizations/logs/hpcg-lrgprob/bo-9999\n"
     ]
    },
    {
     "data": {
      "application/vnd.jupyter.widget-view+json": {
       "model_id": "5bc617ef05864ed997f14acacaaa6af3",
       "version_major": 2,
       "version_minor": 0
      },
      "text/plain": [
       "  0%|          | 0/1134 [00:00<?, ?it/s]"
      ]
     },
     "metadata": {},
     "output_type": "display_data"
    },
    {
     "name": "stdout",
     "output_type": "stream",
     "text": [
      "completed hpcg lrgprob bo 9999 (748440, 12) 12.06756329536438 secs\n",
      "working on /usr/WS2/bolet1/ruby-benchmarks/exploreGlobalOptimizations/logs/hpcg-lrgprob/bo-4873\n"
     ]
    },
    {
     "data": {
      "application/vnd.jupyter.widget-view+json": {
       "model_id": "ff267bfbf52e4a7590556cbd0a046bf3",
       "version_major": 2,
       "version_minor": 0
      },
      "text/plain": [
       "  0%|          | 0/1142 [00:00<?, ?it/s]"
      ]
     },
     "metadata": {},
     "output_type": "display_data"
    },
    {
     "name": "stdout",
     "output_type": "stream",
     "text": [
      "completed hpcg lrgprob bo 4873 (753720, 12) 9.518937826156616 secs\n",
      "\n",
      "\n",
      " wrote: /usr/WS2/bolet1/ruby-benchmarks/exploreGlobalOptimizations/databases/ruby-hpcg-bo-GO_Data.csv \n",
      "\n",
      "\n",
      "working on /usr/WS2/bolet1/ruby-benchmarks/exploreGlobalOptimizations/logs/lulesh-smlprob/bo-1337\n"
     ]
    },
    {
     "data": {
      "application/vnd.jupyter.widget-view+json": {
       "model_id": "f209988e232748ea97dae86451730202",
       "version_major": 2,
       "version_minor": 0
      },
      "text/plain": [
       "  0%|          | 0/1281 [00:00<?, ?it/s]"
      ]
     },
     "metadata": {},
     "output_type": "display_data"
    },
    {
     "name": "stdout",
     "output_type": "stream",
     "text": [
      "completed lulesh smlprob bo 1337 (845460, 12) 25.004400968551636 secs\n",
      "working on /usr/WS2/bolet1/ruby-benchmarks/exploreGlobalOptimizations/logs/lulesh-smlprob/bo-3827\n"
     ]
    },
    {
     "data": {
      "application/vnd.jupyter.widget-view+json": {
       "model_id": "c78631ae2bbf46d0b440731c965a2e7a",
       "version_major": 2,
       "version_minor": 0
      },
      "text/plain": [
       "  0%|          | 0/1273 [00:00<?, ?it/s]"
      ]
     },
     "metadata": {},
     "output_type": "display_data"
    },
    {
     "name": "stdout",
     "output_type": "stream",
     "text": [
      "completed lulesh smlprob bo 3827 (840180, 12) 26.321606159210205 secs\n",
      "working on /usr/WS2/bolet1/ruby-benchmarks/exploreGlobalOptimizations/logs/lulesh-smlprob/bo-9999\n"
     ]
    },
    {
     "data": {
      "application/vnd.jupyter.widget-view+json": {
       "model_id": "9c024882103a421fae3c1e39fb3923f9",
       "version_major": 2,
       "version_minor": 0
      },
      "text/plain": [
       "  0%|          | 0/1165 [00:00<?, ?it/s]"
      ]
     },
     "metadata": {},
     "output_type": "display_data"
    },
    {
     "name": "stdout",
     "output_type": "stream",
     "text": [
      "completed lulesh smlprob bo 9999 (768900, 12) 19.4032986164093 secs\n",
      "working on /usr/WS2/bolet1/ruby-benchmarks/exploreGlobalOptimizations/logs/lulesh-smlprob/bo-4873\n"
     ]
    },
    {
     "data": {
      "application/vnd.jupyter.widget-view+json": {
       "model_id": "6cdf78fd87974877ab6175e4829a9238",
       "version_major": 2,
       "version_minor": 0
      },
      "text/plain": [
       "  0%|          | 0/1224 [00:00<?, ?it/s]"
      ]
     },
     "metadata": {},
     "output_type": "display_data"
    },
    {
     "name": "stdout",
     "output_type": "stream",
     "text": [
      "completed lulesh smlprob bo 4873 (807840, 12) 19.37324857711792 secs\n",
      "working on /usr/WS2/bolet1/ruby-benchmarks/exploreGlobalOptimizations/logs/lulesh-medprob/bo-1337\n"
     ]
    },
    {
     "data": {
      "application/vnd.jupyter.widget-view+json": {
       "model_id": "40a0263275004ba883b96a264f21524d",
       "version_major": 2,
       "version_minor": 0
      },
      "text/plain": [
       "  0%|          | 0/1284 [00:00<?, ?it/s]"
      ]
     },
     "metadata": {},
     "output_type": "display_data"
    },
    {
     "name": "stdout",
     "output_type": "stream",
     "text": [
      "completed lulesh medprob bo 1337 (847440, 12) 11.939614534378052 secs\n",
      "working on /usr/WS2/bolet1/ruby-benchmarks/exploreGlobalOptimizations/logs/lulesh-medprob/bo-3827\n"
     ]
    },
    {
     "data": {
      "application/vnd.jupyter.widget-view+json": {
       "model_id": "e7631056f73443908181d836490217d6",
       "version_major": 2,
       "version_minor": 0
      },
      "text/plain": [
       "  0%|          | 0/1294 [00:00<?, ?it/s]"
      ]
     },
     "metadata": {},
     "output_type": "display_data"
    },
    {
     "name": "stdout",
     "output_type": "stream",
     "text": [
      "completed lulesh medprob bo 3827 (854040, 12) 12.850830316543579 secs\n",
      "working on /usr/WS2/bolet1/ruby-benchmarks/exploreGlobalOptimizations/logs/lulesh-medprob/bo-9999\n"
     ]
    },
    {
     "data": {
      "application/vnd.jupyter.widget-view+json": {
       "model_id": "0ed7b93c68274585bbfa2654066dd4b6",
       "version_major": 2,
       "version_minor": 0
      },
      "text/plain": [
       "  0%|          | 0/1161 [00:00<?, ?it/s]"
      ]
     },
     "metadata": {},
     "output_type": "display_data"
    },
    {
     "name": "stdout",
     "output_type": "stream",
     "text": [
      "completed lulesh medprob bo 9999 (766260, 12) 18.5709331035614 secs\n",
      "working on /usr/WS2/bolet1/ruby-benchmarks/exploreGlobalOptimizations/logs/lulesh-medprob/bo-4873\n"
     ]
    },
    {
     "data": {
      "application/vnd.jupyter.widget-view+json": {
       "model_id": "5bdc27c5307f42598d0d0d201cb756df",
       "version_major": 2,
       "version_minor": 0
      },
      "text/plain": [
       "  0%|          | 0/1228 [00:00<?, ?it/s]"
      ]
     },
     "metadata": {},
     "output_type": "display_data"
    },
    {
     "name": "stdout",
     "output_type": "stream",
     "text": [
      "completed lulesh medprob bo 4873 (810480, 12) 9.728686809539795 secs\n",
      "working on /usr/WS2/bolet1/ruby-benchmarks/exploreGlobalOptimizations/logs/lulesh-lrgprob/bo-1337\n"
     ]
    },
    {
     "data": {
      "application/vnd.jupyter.widget-view+json": {
       "model_id": "cee9d5529cd542e089e53f3b0e3f93fd",
       "version_major": 2,
       "version_minor": 0
      },
      "text/plain": [
       "  0%|          | 0/1266 [00:00<?, ?it/s]"
      ]
     },
     "metadata": {},
     "output_type": "display_data"
    },
    {
     "name": "stdout",
     "output_type": "stream",
     "text": [
      "completed lulesh lrgprob bo 1337 (835560, 12) 25.460391998291016 secs\n",
      "working on /usr/WS2/bolet1/ruby-benchmarks/exploreGlobalOptimizations/logs/lulesh-lrgprob/bo-3827\n"
     ]
    },
    {
     "data": {
      "application/vnd.jupyter.widget-view+json": {
       "model_id": "b841b3eff2e34754ad495fb18fd49507",
       "version_major": 2,
       "version_minor": 0
      },
      "text/plain": [
       "  0%|          | 0/1276 [00:00<?, ?it/s]"
      ]
     },
     "metadata": {},
     "output_type": "display_data"
    },
    {
     "name": "stdout",
     "output_type": "stream",
     "text": [
      "completed lulesh lrgprob bo 3827 (842160, 12) 28.256351470947266 secs\n",
      "working on /usr/WS2/bolet1/ruby-benchmarks/exploreGlobalOptimizations/logs/lulesh-lrgprob/bo-9999\n"
     ]
    },
    {
     "data": {
      "application/vnd.jupyter.widget-view+json": {
       "model_id": "2619d3e272d54a5ca0e2fa151c0abf53",
       "version_major": 2,
       "version_minor": 0
      },
      "text/plain": [
       "  0%|          | 0/1130 [00:00<?, ?it/s]"
      ]
     },
     "metadata": {},
     "output_type": "display_data"
    },
    {
     "name": "stdout",
     "output_type": "stream",
     "text": [
      "completed lulesh lrgprob bo 9999 (745800, 12) 20.993917226791382 secs\n",
      "working on /usr/WS2/bolet1/ruby-benchmarks/exploreGlobalOptimizations/logs/lulesh-lrgprob/bo-4873\n"
     ]
    },
    {
     "data": {
      "application/vnd.jupyter.widget-view+json": {
       "model_id": "25afbb470eaf49c39654f07bd6a38746",
       "version_major": 2,
       "version_minor": 0
      },
      "text/plain": [
       "  0%|          | 0/1218 [00:00<?, ?it/s]"
      ]
     },
     "metadata": {},
     "output_type": "display_data"
    },
    {
     "name": "stdout",
     "output_type": "stream",
     "text": [
      "completed lulesh lrgprob bo 4873 (803880, 12) 13.420930862426758 secs\n",
      "\n",
      "\n",
      " wrote: /usr/WS2/bolet1/ruby-benchmarks/exploreGlobalOptimizations/databases/ruby-lulesh-bo-GO_Data.csv \n",
      "\n",
      "\n"
     ]
    }
   ],
   "source": [
    "preprocessAllLogs()"
   ]
  }
 ],
 "metadata": {
  "kernelspec": {
   "display_name": "python3.10.8-gregvirtenv",
   "language": "python",
   "name": "python3"
  },
  "language_info": {
   "codemirror_mode": {
    "name": "ipython",
    "version": 3
   },
   "file_extension": ".py",
   "mimetype": "text/x-python",
   "name": "python",
   "nbconvert_exporter": "python",
   "pygments_lexer": "ipython3",
   "version": "3.10.8"
  },
  "orig_nbformat": 4
 },
 "nbformat": 4,
 "nbformat_minor": 2
}
