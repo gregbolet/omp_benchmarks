{
 "cells": [
  {
   "cell_type": "code",
   "execution_count": 8,
   "metadata": {},
   "outputs": [],
   "source": [
    "import pandas as pd\n",
    "import numpy as np\n",
    "from benchmarks import *\n",
    "import glob\n",
    "import os, sys\n",
    "import seaborn as sns\n",
    "import matplotlib.pyplot as plt\n",
    "import re\n",
    "import time\n",
    "from tqdm.notebook import tqdm"
   ]
  },
  {
   "cell_type": "code",
   "execution_count": 9,
   "metadata": {},
   "outputs": [
    {
     "name": "stdout",
     "output_type": "stream",
     "text": [
      "ruby /usr/WS2/bolet1/ruby-benchmarks/exploreGlobalOptimizations\n"
     ]
    }
   ],
   "source": [
    "MACHINE = 'lassen' if 'lassen' in ROOT_DIR else 'ruby'\n",
    "print(MACHINE, ROOT_DIR)\n",
    "prognames = list(progs.keys())\n",
    "probsizes = ['smlprob', 'medprob', 'lrgprob']\n",
    "\n",
    "logsDir = ROOT_DIR+'/logs'\n",
    "\n",
    "goMethods=['cma', 'pso', 'bo']\n",
    "seeds = [1337, 3827, 9999, 4873]"
   ]
  },
  {
   "cell_type": "code",
   "execution_count": 10,
   "metadata": {},
   "outputs": [],
   "source": [
    "def getHypersFromFilename(filename):\n",
    "\n",
    "\t# cut the path out if it has a path, and remove the .csv extension\n",
    "\tfilename = os.path.splitext(os.path.basename(filename))[0]\n",
    "\n",
    "\tif '-BO-' in filename:\n",
    "\t\tif '-ucb-' in filename:\n",
    "\t\t\tfilename = filename[filename.find('-ucb-')+5:]\n",
    "\t\t\tfound = re.findall(r'(?:k)(.*)(?:-kd)(.*)(?:-kdd)(.*)(?:--DONE)',filename)[0]\n",
    "\t\t\tk = float(found[0])\n",
    "\t\t\tkd = float(found[1])\n",
    "\t\t\tkdd = int(found[2])\n",
    "\t\t\treturn {'utilFnct':'ucb', 'kappa':k, 'kappa_decay':kd, 'kappa_decay_delay':kdd}\n",
    "\t\t\n",
    "\t\telif '-ei-' in filename:\n",
    "\t\t\tfilename = filename[filename.find('-ei-')+4:]\n",
    "\t\t\tfound = re.findall(r'(?:xi)(.*)(?:--DONE)',filename)[0]\n",
    "\t\t\txi = float(found)\n",
    "\t\t\treturn {'utilFnct':'ei', 'xi':xi}\n",
    "\t\t\n",
    "\t\telif '-poi-' in filename:\n",
    "\t\t\tfilename = filename[filename.find('-poi-')+5:]\n",
    "\t\t\tfound = re.findall(r'(?:xi)(.*)(?:--DONE)',filename)[0]\n",
    "\t\t\txi = float(found)\n",
    "\t\t\treturn {'utilFnct':'poi', 'xi':xi}\n",
    "\n",
    "\telif '-PSO-' in filename:\n",
    "\t\t\tfilename = filename[filename.find('-PSO-')+5:]\n",
    "\t\t\tfound = re.findall(r'(?:pop)(.*)(?:-w)(.*)(?:-c1)(.*)(?:-c2)(.*)(?:--DONE)',filename)[0]\n",
    "\t\t\tpop = int(found[0])\n",
    "\t\t\tw = float(found[1])\n",
    "\t\t\tc1 = float(found[2])\n",
    "\t\t\tc2 = float(found[3])\n",
    "\t\t\treturn {'popsize':pop, 'w':w, 'c1':c1, 'c2':c2}\n",
    "\t\n",
    "\telif '-CMA-' in filename:\n",
    "\t\t\tfilename = filename[filename.find('-CMA-')+5:]\n",
    "\t\t\tfound = re.findall(r'(?:sigma)(.*)(?:-pop)(.*)(?:-popdecay)(.*)(?:--DONE)',filename)[0]\n",
    "\t\t\tsigma = float(found[0])\n",
    "\t\t\tpop = int(found[1])\n",
    "\t\t\tpd = float(found[2])\n",
    "\t\t\t#return {'method':'cma', 'sigma':sigma, 'popsize':pop, 'popdecay':pd}\n",
    "\t\t\t# excluded popdecay in experiments\n",
    "\t\t\treturn {'sigma':sigma, 'popsize':pop}\n",
    "\t\n",
    "\telse:\n",
    "\t\tprint('no GO method in filename...')\n",
    "\t\traise ValueError('Failed to provide a string path with a GO Method')\n",
    "\t\treturn\n"
   ]
  },
  {
   "cell_type": "code",
   "execution_count": 11,
   "metadata": {},
   "outputs": [],
   "source": [
    "def getData(progname, probsize, method, seed):\n",
    "\tmainDF = pd.DataFrame(columns=['progname', 'probsize', 'method', 'seed'])\n",
    "\tstartTime = time.time()\n",
    "\n",
    "\tdir = logsDir+f'/{progname}-{probsize}/{method}-{seed}'\n",
    "\tprint('working on', dir)\n",
    "\t# check that the directory exists\n",
    "\t# grab the completed data\n",
    "\tcsvs = glob.glob(dir+'/*DONE.csv')\n",
    "\n",
    "\t# read in each of the dataframe, then contatenate them all at once\n",
    "\treadin = []\n",
    "\tfor csv in tqdm(csvs):\n",
    "\t\t# extract the hyperparam values from the filename\n",
    "\t\thypers = getHypersFromFilename(csv)\n",
    "\t\ttoadd = pd.read_csv(csv, usecols=['globalSample', 'optimXtime', 'xtime'])\n",
    "\n",
    "\t\t# add the extra columns\n",
    "\t\tfor hyper,val in hypers.items():\n",
    "\t\t\ttoadd[hyper] = val\n",
    "\n",
    "\t\treadin += [toadd]\n",
    "\n",
    "\tmainDF = pd.concat([mainDF]+readin, ignore_index=True)\n",
    "\n",
    "\tmainDF['progname'] = progname\n",
    "\tmainDF['probsize'] = probsize\n",
    "\tmainDF['method'] = method\n",
    "\tmainDF['seed'] = seed \n",
    "\n",
    "\tprint('completed', progname, probsize, method, seed, mainDF.shape, (time.time() - startTime), 'secs')\t\t\n",
    "\treturn mainDF"
   ]
  },
  {
   "cell_type": "code",
   "execution_count": 12,
   "metadata": {},
   "outputs": [],
   "source": [
    "dbFile = f'{MACHINE}-fullExploreDataset.csv'\n",
    "xtimeDB = pd.read_csv(ROOT_DIR+'/databases/'+dbFile)\n",
    "\n",
    "def getMinMaxXtimeForProg(progname, probsize):\n",
    "\tdf = xtimeDB[(xtimeDB['progname'] == progname) & \n",
    "\t\t\t\t\t\t\t (xtimeDB['probsize'] == probsize)]['xtime']\n",
    "\treturn (df.min(), df.max())\n",
    "\n",
    "# 0 will mean close to maxXtime\n",
    "# 1 will mean close to minXtime\n",
    "def convertXtimesToPercent(df, minXtime, maxXtime):\n",
    "\tnormed = (df['xtime']-minXtime)/(maxXtime-minXtime)\n",
    "\n",
    "\t# if any values are larger than 1, we need to cap them\n",
    "\t# this only happens if the max is smaller than an xtime (like when we baseline normalize)\n",
    "\tnormed = normed.apply(lambda x: 1.0 if x > 1.0 else x)\n",
    "\n",
    "\tdf['xtime'] = 1 - normed\n",
    "\treturn\n"
   ]
  },
  {
   "cell_type": "code",
   "execution_count": 13,
   "metadata": {},
   "outputs": [],
   "source": [
    "def preprocessAllLogs(minMaxNorm=False, speedupNorm=False):\n",
    "\n",
    "\tassert not (minMaxNorm & speedupNorm)\n",
    "\n",
    "\tfor method in goMethods:\n",
    "\t\tfor progname in prognames:\n",
    "\t\t\t# gather all the data\n",
    "\t\t\ttoJoin = []\n",
    "\t\t\tfor probsize in probsizes:\n",
    "\t\t\t\tminXtime, maxXtime = getMinMaxXtimeForProg(progname, probsize)\n",
    "\t\t\t\tfor seed in seeds:\n",
    "\t\t\t\t\tdf = getData(progname, probsize, method, seed)\n",
    "\n",
    "\t\t\t\t\t# if there's no data\n",
    "\t\t\t\t\tif df.shape[0] == 0:\n",
    "\t\t\t\t\t\tcontinue\n",
    "\n",
    "\t\t\t\t\tif minMaxNorm:\n",
    "\t\t\t\t\t\tconvertXtimesToPercent(df, minXtime, maxXtime)\n",
    "\n",
    "\t\t\t\t\telif speedupNorm:\n",
    "\t\t\t\t\t\tnumthreads = 112 if MACHINE in 'ruby' else 160\n",
    "\t\t\t\t\t\tbaseline = xtimeDB[(xtimeDB['progname'] == progname)\n",
    "\t\t\t\t\t\t\t\t\t\t\t\t\t\t & (xtimeDB['probsize'] == probsize)\n",
    "\t\t\t\t\t\t\t\t\t\t\t\t\t\t & (xtimeDB['OMP_NUM_THREADS'] == numthreads) \n",
    "\t\t\t\t\t\t\t\t\t\t\t\t\t\t & (xtimeDB['OMP_PROC_BIND'] == 'close')\n",
    "\t\t\t\t\t\t\t\t\t\t\t\t\t\t & (xtimeDB['OMP_PLACES'] == 'threads')\n",
    "\t\t\t\t\t\t\t\t\t\t\t\t\t\t & (xtimeDB['OMP_SCHEDULE'] == 'static')]\n",
    "\t\t\t\t\t\tassert baseline.shape[0] == 1\n",
    "\t\t\t\t\t\tbaselineVal = baseline['xtime'].iat[0]\n",
    "\t\t\t\t\t\tdf.loc[:,'xtime'] = baselineVal/df['xtime']\n",
    "\n",
    "\t\t\t\t\ttoJoin += [df]\n",
    "\n",
    "\n",
    "\t\t\t# if there's no data to join\n",
    "\t\t\tif len(toJoin) == 0:\n",
    "\t\t\t\tcontinue\n",
    "\n",
    "\t\t\tfullDF = pd.concat(toJoin, ignore_index=True)\n",
    "\n",
    "\t\t\t# let's save the dataframe for future re-use\n",
    "\t\t\tif minMaxNorm:\n",
    "\t\t\t\tfilename = ROOT_DIR+'/databases/'+f'{MACHINE}-{progname}-{method}-GO_Data-minMaxNorm.csv'\n",
    "\t\t\telif speedupNorm:\n",
    "\t\t\t\tfilename = ROOT_DIR+'/databases/'+f'{MACHINE}-{progname}-{method}-GO_Data-baselineNorm.csv'\n",
    "\t\t\telse:\n",
    "\t\t\t\tfilename = ROOT_DIR+'/databases/'+f'{MACHINE}-{progname}-{method}-GO_Data-rawXtimes.csv'\n",
    "\t\t\tprint('\\n\\n wrote:', filename, '\\n\\n')\n",
    "\t\t\tfullDF.to_csv(filename, index=False)\n",
    "\treturn"
   ]
  },
  {
   "cell_type": "code",
   "execution_count": 14,
   "metadata": {},
   "outputs": [
    {
     "name": "stdout",
     "output_type": "stream",
     "text": [
      "working on /usr/WS2/bolet1/ruby-benchmarks/exploreGlobalOptimizations/logs/bt_nas-smlprob/cma-1337\n"
     ]
    },
    {
     "data": {
      "application/vnd.jupyter.widget-view+json": {
       "model_id": "e71db7b1a6474eaa8ed472c504e34b6d",
       "version_major": 2,
       "version_minor": 0
      },
      "text/plain": [
       "  0%|          | 0/100 [00:00<?, ?it/s]"
      ]
     },
     "metadata": {},
     "output_type": "display_data"
    },
    {
     "name": "stdout",
     "output_type": "stream",
     "text": [
      "completed bt_nas smlprob cma 1337 (30000, 9) 0.3736722469329834 secs\n",
      "working on /usr/WS2/bolet1/ruby-benchmarks/exploreGlobalOptimizations/logs/bt_nas-smlprob/cma-3827\n"
     ]
    },
    {
     "data": {
      "application/vnd.jupyter.widget-view+json": {
       "model_id": "f5bf38db52db4831aea27816f7685914",
       "version_major": 2,
       "version_minor": 0
      },
      "text/plain": [
       "  0%|          | 0/100 [00:00<?, ?it/s]"
      ]
     },
     "metadata": {},
     "output_type": "display_data"
    },
    {
     "name": "stdout",
     "output_type": "stream",
     "text": [
      "completed bt_nas smlprob cma 3827 (30000, 9) 0.3418903350830078 secs\n",
      "working on /usr/WS2/bolet1/ruby-benchmarks/exploreGlobalOptimizations/logs/bt_nas-smlprob/cma-9999\n"
     ]
    },
    {
     "data": {
      "application/vnd.jupyter.widget-view+json": {
       "model_id": "302af6055265486694f04a20f259697d",
       "version_major": 2,
       "version_minor": 0
      },
      "text/plain": [
       "  0%|          | 0/100 [00:00<?, ?it/s]"
      ]
     },
     "metadata": {},
     "output_type": "display_data"
    },
    {
     "name": "stdout",
     "output_type": "stream",
     "text": [
      "completed bt_nas smlprob cma 9999 (30000, 9) 0.3422060012817383 secs\n",
      "working on /usr/WS2/bolet1/ruby-benchmarks/exploreGlobalOptimizations/logs/bt_nas-smlprob/cma-4873\n"
     ]
    },
    {
     "data": {
      "application/vnd.jupyter.widget-view+json": {
       "model_id": "1af8f3b973cd44f2beb9bd674ccc8ea4",
       "version_major": 2,
       "version_minor": 0
      },
      "text/plain": [
       "  0%|          | 0/100 [00:00<?, ?it/s]"
      ]
     },
     "metadata": {},
     "output_type": "display_data"
    },
    {
     "name": "stdout",
     "output_type": "stream",
     "text": [
      "completed bt_nas smlprob cma 4873 (30000, 9) 0.38165855407714844 secs\n",
      "working on /usr/WS2/bolet1/ruby-benchmarks/exploreGlobalOptimizations/logs/bt_nas-medprob/cma-1337\n"
     ]
    },
    {
     "data": {
      "application/vnd.jupyter.widget-view+json": {
       "model_id": "c6100922f60d4d5d81e3272948f8d493",
       "version_major": 2,
       "version_minor": 0
      },
      "text/plain": [
       "  0%|          | 0/100 [00:00<?, ?it/s]"
      ]
     },
     "metadata": {},
     "output_type": "display_data"
    },
    {
     "name": "stdout",
     "output_type": "stream",
     "text": [
      "completed bt_nas medprob cma 1337 (30000, 9) 0.39226770401000977 secs\n",
      "working on /usr/WS2/bolet1/ruby-benchmarks/exploreGlobalOptimizations/logs/bt_nas-medprob/cma-3827\n"
     ]
    },
    {
     "data": {
      "application/vnd.jupyter.widget-view+json": {
       "model_id": "8df9682210a1455faf167201b1b0020f",
       "version_major": 2,
       "version_minor": 0
      },
      "text/plain": [
       "  0%|          | 0/100 [00:00<?, ?it/s]"
      ]
     },
     "metadata": {},
     "output_type": "display_data"
    },
    {
     "name": "stdout",
     "output_type": "stream",
     "text": [
      "completed bt_nas medprob cma 3827 (30000, 9) 0.33913254737854004 secs\n",
      "working on /usr/WS2/bolet1/ruby-benchmarks/exploreGlobalOptimizations/logs/bt_nas-medprob/cma-9999\n"
     ]
    },
    {
     "data": {
      "application/vnd.jupyter.widget-view+json": {
       "model_id": "a9c01e52937d404f93bc5044c91b68c4",
       "version_major": 2,
       "version_minor": 0
      },
      "text/plain": [
       "  0%|          | 0/100 [00:00<?, ?it/s]"
      ]
     },
     "metadata": {},
     "output_type": "display_data"
    },
    {
     "name": "stdout",
     "output_type": "stream",
     "text": [
      "completed bt_nas medprob cma 9999 (30000, 9) 0.3251960277557373 secs\n",
      "working on /usr/WS2/bolet1/ruby-benchmarks/exploreGlobalOptimizations/logs/bt_nas-medprob/cma-4873\n"
     ]
    },
    {
     "data": {
      "application/vnd.jupyter.widget-view+json": {
       "model_id": "adaa025700ad41f684ccd020094967f0",
       "version_major": 2,
       "version_minor": 0
      },
      "text/plain": [
       "  0%|          | 0/100 [00:00<?, ?it/s]"
      ]
     },
     "metadata": {},
     "output_type": "display_data"
    },
    {
     "name": "stdout",
     "output_type": "stream",
     "text": [
      "completed bt_nas medprob cma 4873 (30000, 9) 0.3139829635620117 secs\n",
      "working on /usr/WS2/bolet1/ruby-benchmarks/exploreGlobalOptimizations/logs/bt_nas-lrgprob/cma-1337\n"
     ]
    },
    {
     "data": {
      "application/vnd.jupyter.widget-view+json": {
       "model_id": "8409ec6ba70943d4b207f5a4ea6e1198",
       "version_major": 2,
       "version_minor": 0
      },
      "text/plain": [
       "  0%|          | 0/100 [00:00<?, ?it/s]"
      ]
     },
     "metadata": {},
     "output_type": "display_data"
    },
    {
     "name": "stdout",
     "output_type": "stream",
     "text": [
      "completed bt_nas lrgprob cma 1337 (30000, 9) 0.32257723808288574 secs\n",
      "working on /usr/WS2/bolet1/ruby-benchmarks/exploreGlobalOptimizations/logs/bt_nas-lrgprob/cma-3827\n"
     ]
    },
    {
     "data": {
      "application/vnd.jupyter.widget-view+json": {
       "model_id": "b5878a5347404b53ae7d56f782dcc5b3",
       "version_major": 2,
       "version_minor": 0
      },
      "text/plain": [
       "  0%|          | 0/100 [00:00<?, ?it/s]"
      ]
     },
     "metadata": {},
     "output_type": "display_data"
    },
    {
     "name": "stdout",
     "output_type": "stream",
     "text": [
      "completed bt_nas lrgprob cma 3827 (30000, 9) 0.3200850486755371 secs\n",
      "working on /usr/WS2/bolet1/ruby-benchmarks/exploreGlobalOptimizations/logs/bt_nas-lrgprob/cma-9999\n"
     ]
    },
    {
     "data": {
      "application/vnd.jupyter.widget-view+json": {
       "model_id": "a1916b78a12a4709b7e90d593b614560",
       "version_major": 2,
       "version_minor": 0
      },
      "text/plain": [
       "  0%|          | 0/100 [00:00<?, ?it/s]"
      ]
     },
     "metadata": {},
     "output_type": "display_data"
    },
    {
     "name": "stdout",
     "output_type": "stream",
     "text": [
      "completed bt_nas lrgprob cma 9999 (30000, 9) 0.3302924633026123 secs\n",
      "working on /usr/WS2/bolet1/ruby-benchmarks/exploreGlobalOptimizations/logs/bt_nas-lrgprob/cma-4873\n"
     ]
    },
    {
     "data": {
      "application/vnd.jupyter.widget-view+json": {
       "model_id": "a58c1903817447a4a5786046e9706850",
       "version_major": 2,
       "version_minor": 0
      },
      "text/plain": [
       "  0%|          | 0/100 [00:00<?, ?it/s]"
      ]
     },
     "metadata": {},
     "output_type": "display_data"
    },
    {
     "name": "stdout",
     "output_type": "stream",
     "text": [
      "completed bt_nas lrgprob cma 4873 (30000, 9) 0.30716657638549805 secs\n",
      "\n",
      "\n",
      " wrote: /usr/WS2/bolet1/ruby-benchmarks/exploreGlobalOptimizations/databases/ruby-bt_nas-cma-GO_Data-baselineNorm.csv \n",
      "\n",
      "\n",
      "working on /usr/WS2/bolet1/ruby-benchmarks/exploreGlobalOptimizations/logs/ft_nas-smlprob/cma-1337\n"
     ]
    },
    {
     "data": {
      "application/vnd.jupyter.widget-view+json": {
       "model_id": "fd5c598437c242939f9928c489e27028",
       "version_major": 2,
       "version_minor": 0
      },
      "text/plain": [
       "  0%|          | 0/100 [00:00<?, ?it/s]"
      ]
     },
     "metadata": {},
     "output_type": "display_data"
    },
    {
     "name": "stdout",
     "output_type": "stream",
     "text": [
      "completed ft_nas smlprob cma 1337 (30000, 9) 0.41112828254699707 secs\n",
      "working on /usr/WS2/bolet1/ruby-benchmarks/exploreGlobalOptimizations/logs/ft_nas-smlprob/cma-3827\n"
     ]
    },
    {
     "data": {
      "application/vnd.jupyter.widget-view+json": {
       "model_id": "bff66844d307434dbb1cc45b58c768fa",
       "version_major": 2,
       "version_minor": 0
      },
      "text/plain": [
       "  0%|          | 0/100 [00:00<?, ?it/s]"
      ]
     },
     "metadata": {},
     "output_type": "display_data"
    },
    {
     "name": "stdout",
     "output_type": "stream",
     "text": [
      "completed ft_nas smlprob cma 3827 (30000, 9) 0.3263673782348633 secs\n",
      "working on /usr/WS2/bolet1/ruby-benchmarks/exploreGlobalOptimizations/logs/ft_nas-smlprob/cma-9999\n"
     ]
    },
    {
     "data": {
      "application/vnd.jupyter.widget-view+json": {
       "model_id": "108b567718ec4ddaa25af49534854f45",
       "version_major": 2,
       "version_minor": 0
      },
      "text/plain": [
       "  0%|          | 0/100 [00:00<?, ?it/s]"
      ]
     },
     "metadata": {},
     "output_type": "display_data"
    },
    {
     "name": "stdout",
     "output_type": "stream",
     "text": [
      "completed ft_nas smlprob cma 9999 (30000, 9) 0.33144593238830566 secs\n",
      "working on /usr/WS2/bolet1/ruby-benchmarks/exploreGlobalOptimizations/logs/ft_nas-smlprob/cma-4873\n"
     ]
    },
    {
     "data": {
      "application/vnd.jupyter.widget-view+json": {
       "model_id": "84455bfc26bc4729b7b0c87f46b931d8",
       "version_major": 2,
       "version_minor": 0
      },
      "text/plain": [
       "  0%|          | 0/100 [00:00<?, ?it/s]"
      ]
     },
     "metadata": {},
     "output_type": "display_data"
    },
    {
     "name": "stdout",
     "output_type": "stream",
     "text": [
      "completed ft_nas smlprob cma 4873 (30000, 9) 0.36012983322143555 secs\n",
      "working on /usr/WS2/bolet1/ruby-benchmarks/exploreGlobalOptimizations/logs/ft_nas-medprob/cma-1337\n"
     ]
    },
    {
     "data": {
      "application/vnd.jupyter.widget-view+json": {
       "model_id": "71feb0546df64b95861c38ce2a0f8c49",
       "version_major": 2,
       "version_minor": 0
      },
      "text/plain": [
       "  0%|          | 0/100 [00:00<?, ?it/s]"
      ]
     },
     "metadata": {},
     "output_type": "display_data"
    },
    {
     "name": "stdout",
     "output_type": "stream",
     "text": [
      "completed ft_nas medprob cma 1337 (30000, 9) 0.3396260738372803 secs\n",
      "working on /usr/WS2/bolet1/ruby-benchmarks/exploreGlobalOptimizations/logs/ft_nas-medprob/cma-3827\n"
     ]
    },
    {
     "data": {
      "application/vnd.jupyter.widget-view+json": {
       "model_id": "6f5231c188bd4d38be96fdf3d6ebc66f",
       "version_major": 2,
       "version_minor": 0
      },
      "text/plain": [
       "  0%|          | 0/100 [00:00<?, ?it/s]"
      ]
     },
     "metadata": {},
     "output_type": "display_data"
    },
    {
     "name": "stdout",
     "output_type": "stream",
     "text": [
      "completed ft_nas medprob cma 3827 (30000, 9) 0.30376434326171875 secs\n",
      "working on /usr/WS2/bolet1/ruby-benchmarks/exploreGlobalOptimizations/logs/ft_nas-medprob/cma-9999\n"
     ]
    },
    {
     "data": {
      "application/vnd.jupyter.widget-view+json": {
       "model_id": "9d728be9d58c4aaa93e6ae7f832d8120",
       "version_major": 2,
       "version_minor": 0
      },
      "text/plain": [
       "  0%|          | 0/100 [00:00<?, ?it/s]"
      ]
     },
     "metadata": {},
     "output_type": "display_data"
    },
    {
     "name": "stdout",
     "output_type": "stream",
     "text": [
      "completed ft_nas medprob cma 9999 (30000, 9) 0.3013575077056885 secs\n",
      "working on /usr/WS2/bolet1/ruby-benchmarks/exploreGlobalOptimizations/logs/ft_nas-medprob/cma-4873\n"
     ]
    },
    {
     "data": {
      "application/vnd.jupyter.widget-view+json": {
       "model_id": "a9402b30157842b4b630ba401eea082e",
       "version_major": 2,
       "version_minor": 0
      },
      "text/plain": [
       "  0%|          | 0/100 [00:00<?, ?it/s]"
      ]
     },
     "metadata": {},
     "output_type": "display_data"
    },
    {
     "name": "stdout",
     "output_type": "stream",
     "text": [
      "completed ft_nas medprob cma 4873 (30000, 9) 0.32805824279785156 secs\n",
      "working on /usr/WS2/bolet1/ruby-benchmarks/exploreGlobalOptimizations/logs/ft_nas-lrgprob/cma-1337\n"
     ]
    },
    {
     "data": {
      "application/vnd.jupyter.widget-view+json": {
       "model_id": "cb7790a1aff24e33a1426b3921b7f5f1",
       "version_major": 2,
       "version_minor": 0
      },
      "text/plain": [
       "  0%|          | 0/100 [00:00<?, ?it/s]"
      ]
     },
     "metadata": {},
     "output_type": "display_data"
    },
    {
     "name": "stdout",
     "output_type": "stream",
     "text": [
      "completed ft_nas lrgprob cma 1337 (30000, 9) 0.3992447853088379 secs\n",
      "working on /usr/WS2/bolet1/ruby-benchmarks/exploreGlobalOptimizations/logs/ft_nas-lrgprob/cma-3827\n"
     ]
    },
    {
     "data": {
      "application/vnd.jupyter.widget-view+json": {
       "model_id": "6a87eaed25a245c994c143357ac61bd6",
       "version_major": 2,
       "version_minor": 0
      },
      "text/plain": [
       "  0%|          | 0/100 [00:00<?, ?it/s]"
      ]
     },
     "metadata": {},
     "output_type": "display_data"
    },
    {
     "name": "stdout",
     "output_type": "stream",
     "text": [
      "completed ft_nas lrgprob cma 3827 (30000, 9) 0.3310575485229492 secs\n",
      "working on /usr/WS2/bolet1/ruby-benchmarks/exploreGlobalOptimizations/logs/ft_nas-lrgprob/cma-9999\n"
     ]
    },
    {
     "data": {
      "application/vnd.jupyter.widget-view+json": {
       "model_id": "6e9987d2c7264b48b0d6853226893846",
       "version_major": 2,
       "version_minor": 0
      },
      "text/plain": [
       "  0%|          | 0/100 [00:00<?, ?it/s]"
      ]
     },
     "metadata": {},
     "output_type": "display_data"
    },
    {
     "name": "stdout",
     "output_type": "stream",
     "text": [
      "completed ft_nas lrgprob cma 9999 (30000, 9) 0.34102654457092285 secs\n",
      "working on /usr/WS2/bolet1/ruby-benchmarks/exploreGlobalOptimizations/logs/ft_nas-lrgprob/cma-4873\n"
     ]
    },
    {
     "data": {
      "application/vnd.jupyter.widget-view+json": {
       "model_id": "1d4fdc91743746c9b59b02f37acb9c0c",
       "version_major": 2,
       "version_minor": 0
      },
      "text/plain": [
       "  0%|          | 0/100 [00:00<?, ?it/s]"
      ]
     },
     "metadata": {},
     "output_type": "display_data"
    },
    {
     "name": "stdout",
     "output_type": "stream",
     "text": [
      "completed ft_nas lrgprob cma 4873 (30000, 9) 0.32222723960876465 secs\n",
      "\n",
      "\n",
      " wrote: /usr/WS2/bolet1/ruby-benchmarks/exploreGlobalOptimizations/databases/ruby-ft_nas-cma-GO_Data-baselineNorm.csv \n",
      "\n",
      "\n",
      "working on /usr/WS2/bolet1/ruby-benchmarks/exploreGlobalOptimizations/logs/hpcg-smlprob/cma-1337\n"
     ]
    },
    {
     "data": {
      "application/vnd.jupyter.widget-view+json": {
       "model_id": "b0d432ea3ebc4696b74d5d6bb6d17de4",
       "version_major": 2,
       "version_minor": 0
      },
      "text/plain": [
       "  0%|          | 0/100 [00:00<?, ?it/s]"
      ]
     },
     "metadata": {},
     "output_type": "display_data"
    },
    {
     "name": "stdout",
     "output_type": "stream",
     "text": [
      "completed hpcg smlprob cma 1337 (30000, 9) 0.3481454849243164 secs\n",
      "working on /usr/WS2/bolet1/ruby-benchmarks/exploreGlobalOptimizations/logs/hpcg-smlprob/cma-3827\n"
     ]
    },
    {
     "data": {
      "application/vnd.jupyter.widget-view+json": {
       "model_id": "4ed5fa0db5074236aea855ae99bc55a2",
       "version_major": 2,
       "version_minor": 0
      },
      "text/plain": [
       "  0%|          | 0/100 [00:00<?, ?it/s]"
      ]
     },
     "metadata": {},
     "output_type": "display_data"
    },
    {
     "name": "stdout",
     "output_type": "stream",
     "text": [
      "completed hpcg smlprob cma 3827 (30000, 9) 0.36417055130004883 secs\n",
      "working on /usr/WS2/bolet1/ruby-benchmarks/exploreGlobalOptimizations/logs/hpcg-smlprob/cma-9999\n"
     ]
    },
    {
     "data": {
      "application/vnd.jupyter.widget-view+json": {
       "model_id": "60775b00f487473cba4c71dfcfeebb38",
       "version_major": 2,
       "version_minor": 0
      },
      "text/plain": [
       "  0%|          | 0/100 [00:00<?, ?it/s]"
      ]
     },
     "metadata": {},
     "output_type": "display_data"
    },
    {
     "name": "stdout",
     "output_type": "stream",
     "text": [
      "completed hpcg smlprob cma 9999 (30000, 9) 0.3339650630950928 secs\n",
      "working on /usr/WS2/bolet1/ruby-benchmarks/exploreGlobalOptimizations/logs/hpcg-smlprob/cma-4873\n"
     ]
    },
    {
     "data": {
      "application/vnd.jupyter.widget-view+json": {
       "model_id": "c43fa7f0c4bb48a59095862da031a15b",
       "version_major": 2,
       "version_minor": 0
      },
      "text/plain": [
       "  0%|          | 0/100 [00:00<?, ?it/s]"
      ]
     },
     "metadata": {},
     "output_type": "display_data"
    },
    {
     "name": "stdout",
     "output_type": "stream",
     "text": [
      "completed hpcg smlprob cma 4873 (30000, 9) 0.33366894721984863 secs\n",
      "working on /usr/WS2/bolet1/ruby-benchmarks/exploreGlobalOptimizations/logs/hpcg-medprob/cma-1337\n"
     ]
    },
    {
     "data": {
      "application/vnd.jupyter.widget-view+json": {
       "model_id": "54fba9a7a5684cf1a2a0a828467626f9",
       "version_major": 2,
       "version_minor": 0
      },
      "text/plain": [
       "  0%|          | 0/100 [00:00<?, ?it/s]"
      ]
     },
     "metadata": {},
     "output_type": "display_data"
    },
    {
     "name": "stdout",
     "output_type": "stream",
     "text": [
      "completed hpcg medprob cma 1337 (30000, 9) 0.40210723876953125 secs\n",
      "working on /usr/WS2/bolet1/ruby-benchmarks/exploreGlobalOptimizations/logs/hpcg-medprob/cma-3827\n"
     ]
    },
    {
     "data": {
      "application/vnd.jupyter.widget-view+json": {
       "model_id": "ecbe5e2ffc8c4d4393708c7b36b7f6b7",
       "version_major": 2,
       "version_minor": 0
      },
      "text/plain": [
       "  0%|          | 0/100 [00:00<?, ?it/s]"
      ]
     },
     "metadata": {},
     "output_type": "display_data"
    },
    {
     "name": "stdout",
     "output_type": "stream",
     "text": [
      "completed hpcg medprob cma 3827 (30000, 9) 0.322739839553833 secs\n",
      "working on /usr/WS2/bolet1/ruby-benchmarks/exploreGlobalOptimizations/logs/hpcg-medprob/cma-9999\n"
     ]
    },
    {
     "data": {
      "application/vnd.jupyter.widget-view+json": {
       "model_id": "735080fb902d4fd182c87e67659abe51",
       "version_major": 2,
       "version_minor": 0
      },
      "text/plain": [
       "  0%|          | 0/100 [00:00<?, ?it/s]"
      ]
     },
     "metadata": {},
     "output_type": "display_data"
    },
    {
     "name": "stdout",
     "output_type": "stream",
     "text": [
      "completed hpcg medprob cma 9999 (30000, 9) 0.8018643856048584 secs\n",
      "working on /usr/WS2/bolet1/ruby-benchmarks/exploreGlobalOptimizations/logs/hpcg-medprob/cma-4873\n"
     ]
    },
    {
     "data": {
      "application/vnd.jupyter.widget-view+json": {
       "model_id": "88433f05267042c49ae634862c26bd41",
       "version_major": 2,
       "version_minor": 0
      },
      "text/plain": [
       "  0%|          | 0/100 [00:00<?, ?it/s]"
      ]
     },
     "metadata": {},
     "output_type": "display_data"
    },
    {
     "name": "stdout",
     "output_type": "stream",
     "text": [
      "completed hpcg medprob cma 4873 (30000, 9) 0.3360896110534668 secs\n",
      "working on /usr/WS2/bolet1/ruby-benchmarks/exploreGlobalOptimizations/logs/hpcg-lrgprob/cma-1337\n"
     ]
    },
    {
     "data": {
      "application/vnd.jupyter.widget-view+json": {
       "model_id": "d8d2e0f6216849728104ee53f0e54eb1",
       "version_major": 2,
       "version_minor": 0
      },
      "text/plain": [
       "  0%|          | 0/100 [00:00<?, ?it/s]"
      ]
     },
     "metadata": {},
     "output_type": "display_data"
    },
    {
     "name": "stdout",
     "output_type": "stream",
     "text": [
      "completed hpcg lrgprob cma 1337 (30000, 9) 0.3746311664581299 secs\n",
      "working on /usr/WS2/bolet1/ruby-benchmarks/exploreGlobalOptimizations/logs/hpcg-lrgprob/cma-3827\n"
     ]
    },
    {
     "data": {
      "application/vnd.jupyter.widget-view+json": {
       "model_id": "bb87b3826bdb44dcb7fa36845d8e3001",
       "version_major": 2,
       "version_minor": 0
      },
      "text/plain": [
       "  0%|          | 0/100 [00:00<?, ?it/s]"
      ]
     },
     "metadata": {},
     "output_type": "display_data"
    },
    {
     "name": "stdout",
     "output_type": "stream",
     "text": [
      "completed hpcg lrgprob cma 3827 (30000, 9) 0.3163166046142578 secs\n",
      "working on /usr/WS2/bolet1/ruby-benchmarks/exploreGlobalOptimizations/logs/hpcg-lrgprob/cma-9999\n"
     ]
    },
    {
     "data": {
      "application/vnd.jupyter.widget-view+json": {
       "model_id": "eb4c550c6a8443f696b6879685f8e7ba",
       "version_major": 2,
       "version_minor": 0
      },
      "text/plain": [
       "  0%|          | 0/100 [00:00<?, ?it/s]"
      ]
     },
     "metadata": {},
     "output_type": "display_data"
    },
    {
     "name": "stdout",
     "output_type": "stream",
     "text": [
      "completed hpcg lrgprob cma 9999 (30000, 9) 0.3449826240539551 secs\n",
      "working on /usr/WS2/bolet1/ruby-benchmarks/exploreGlobalOptimizations/logs/hpcg-lrgprob/cma-4873\n"
     ]
    },
    {
     "data": {
      "application/vnd.jupyter.widget-view+json": {
       "model_id": "423ca7923ef64c6b8701eb627ca5a9c0",
       "version_major": 2,
       "version_minor": 0
      },
      "text/plain": [
       "  0%|          | 0/100 [00:00<?, ?it/s]"
      ]
     },
     "metadata": {},
     "output_type": "display_data"
    },
    {
     "name": "stdout",
     "output_type": "stream",
     "text": [
      "completed hpcg lrgprob cma 4873 (30000, 9) 0.4062321186065674 secs\n",
      "\n",
      "\n",
      " wrote: /usr/WS2/bolet1/ruby-benchmarks/exploreGlobalOptimizations/databases/ruby-hpcg-cma-GO_Data-baselineNorm.csv \n",
      "\n",
      "\n",
      "working on /usr/WS2/bolet1/ruby-benchmarks/exploreGlobalOptimizations/logs/lulesh-smlprob/cma-1337\n"
     ]
    },
    {
     "data": {
      "application/vnd.jupyter.widget-view+json": {
       "model_id": "9bb2130bd01f4d28a3df04a5f47445e2",
       "version_major": 2,
       "version_minor": 0
      },
      "text/plain": [
       "  0%|          | 0/100 [00:00<?, ?it/s]"
      ]
     },
     "metadata": {},
     "output_type": "display_data"
    },
    {
     "name": "stdout",
     "output_type": "stream",
     "text": [
      "completed lulesh smlprob cma 1337 (30000, 9) 0.33489418029785156 secs\n",
      "working on /usr/WS2/bolet1/ruby-benchmarks/exploreGlobalOptimizations/logs/lulesh-smlprob/cma-3827\n"
     ]
    },
    {
     "data": {
      "application/vnd.jupyter.widget-view+json": {
       "model_id": "198a968f33914f549aaac0693c5819f0",
       "version_major": 2,
       "version_minor": 0
      },
      "text/plain": [
       "  0%|          | 0/100 [00:00<?, ?it/s]"
      ]
     },
     "metadata": {},
     "output_type": "display_data"
    },
    {
     "name": "stdout",
     "output_type": "stream",
     "text": [
      "completed lulesh smlprob cma 3827 (30000, 9) 0.32993507385253906 secs\n",
      "working on /usr/WS2/bolet1/ruby-benchmarks/exploreGlobalOptimizations/logs/lulesh-smlprob/cma-9999\n"
     ]
    },
    {
     "data": {
      "application/vnd.jupyter.widget-view+json": {
       "model_id": "bd669f1dbdbb400d8dae362364123918",
       "version_major": 2,
       "version_minor": 0
      },
      "text/plain": [
       "  0%|          | 0/100 [00:00<?, ?it/s]"
      ]
     },
     "metadata": {},
     "output_type": "display_data"
    },
    {
     "name": "stdout",
     "output_type": "stream",
     "text": [
      "completed lulesh smlprob cma 9999 (30000, 9) 0.34207940101623535 secs\n",
      "working on /usr/WS2/bolet1/ruby-benchmarks/exploreGlobalOptimizations/logs/lulesh-smlprob/cma-4873\n"
     ]
    },
    {
     "data": {
      "application/vnd.jupyter.widget-view+json": {
       "model_id": "08efa68cd7664dd8816632c76c680064",
       "version_major": 2,
       "version_minor": 0
      },
      "text/plain": [
       "  0%|          | 0/100 [00:00<?, ?it/s]"
      ]
     },
     "metadata": {},
     "output_type": "display_data"
    },
    {
     "name": "stdout",
     "output_type": "stream",
     "text": [
      "completed lulesh smlprob cma 4873 (30000, 9) 0.33788609504699707 secs\n",
      "working on /usr/WS2/bolet1/ruby-benchmarks/exploreGlobalOptimizations/logs/lulesh-medprob/cma-1337\n"
     ]
    },
    {
     "data": {
      "application/vnd.jupyter.widget-view+json": {
       "model_id": "841ccd60a8c0436e922d6ed76e0a03ee",
       "version_major": 2,
       "version_minor": 0
      },
      "text/plain": [
       "  0%|          | 0/100 [00:00<?, ?it/s]"
      ]
     },
     "metadata": {},
     "output_type": "display_data"
    },
    {
     "name": "stdout",
     "output_type": "stream",
     "text": [
      "completed lulesh medprob cma 1337 (30000, 9) 0.3475961685180664 secs\n",
      "working on /usr/WS2/bolet1/ruby-benchmarks/exploreGlobalOptimizations/logs/lulesh-medprob/cma-3827\n"
     ]
    },
    {
     "data": {
      "application/vnd.jupyter.widget-view+json": {
       "model_id": "8ad35dea45c9424e90842b48a4523abf",
       "version_major": 2,
       "version_minor": 0
      },
      "text/plain": [
       "  0%|          | 0/100 [00:00<?, ?it/s]"
      ]
     },
     "metadata": {},
     "output_type": "display_data"
    },
    {
     "name": "stdout",
     "output_type": "stream",
     "text": [
      "completed lulesh medprob cma 3827 (30000, 9) 0.351351261138916 secs\n",
      "working on /usr/WS2/bolet1/ruby-benchmarks/exploreGlobalOptimizations/logs/lulesh-medprob/cma-9999\n"
     ]
    },
    {
     "data": {
      "application/vnd.jupyter.widget-view+json": {
       "model_id": "5a4a38c0b95640968358cc8b0fdf774f",
       "version_major": 2,
       "version_minor": 0
      },
      "text/plain": [
       "  0%|          | 0/100 [00:00<?, ?it/s]"
      ]
     },
     "metadata": {},
     "output_type": "display_data"
    },
    {
     "name": "stdout",
     "output_type": "stream",
     "text": [
      "completed lulesh medprob cma 9999 (30000, 9) 0.31795787811279297 secs\n",
      "working on /usr/WS2/bolet1/ruby-benchmarks/exploreGlobalOptimizations/logs/lulesh-medprob/cma-4873\n"
     ]
    },
    {
     "data": {
      "application/vnd.jupyter.widget-view+json": {
       "model_id": "29d35bae635d4afda02a7507df5a5174",
       "version_major": 2,
       "version_minor": 0
      },
      "text/plain": [
       "  0%|          | 0/100 [00:00<?, ?it/s]"
      ]
     },
     "metadata": {},
     "output_type": "display_data"
    },
    {
     "name": "stdout",
     "output_type": "stream",
     "text": [
      "completed lulesh medprob cma 4873 (30000, 9) 0.3983273506164551 secs\n",
      "working on /usr/WS2/bolet1/ruby-benchmarks/exploreGlobalOptimizations/logs/lulesh-lrgprob/cma-1337\n"
     ]
    },
    {
     "data": {
      "application/vnd.jupyter.widget-view+json": {
       "model_id": "1427b8a4c93b4626bc4972bdb0e0d5fb",
       "version_major": 2,
       "version_minor": 0
      },
      "text/plain": [
       "  0%|          | 0/100 [00:00<?, ?it/s]"
      ]
     },
     "metadata": {},
     "output_type": "display_data"
    },
    {
     "name": "stdout",
     "output_type": "stream",
     "text": [
      "completed lulesh lrgprob cma 1337 (30000, 9) 0.346513032913208 secs\n",
      "working on /usr/WS2/bolet1/ruby-benchmarks/exploreGlobalOptimizations/logs/lulesh-lrgprob/cma-3827\n"
     ]
    },
    {
     "data": {
      "application/vnd.jupyter.widget-view+json": {
       "model_id": "881e0c7aae7d43748c1e5b323be34902",
       "version_major": 2,
       "version_minor": 0
      },
      "text/plain": [
       "  0%|          | 0/100 [00:00<?, ?it/s]"
      ]
     },
     "metadata": {},
     "output_type": "display_data"
    },
    {
     "name": "stdout",
     "output_type": "stream",
     "text": [
      "completed lulesh lrgprob cma 3827 (30000, 9) 0.3483154773712158 secs\n",
      "working on /usr/WS2/bolet1/ruby-benchmarks/exploreGlobalOptimizations/logs/lulesh-lrgprob/cma-9999\n"
     ]
    },
    {
     "data": {
      "application/vnd.jupyter.widget-view+json": {
       "model_id": "d2fdd2d5b145436e9cadc79cbc4a83fa",
       "version_major": 2,
       "version_minor": 0
      },
      "text/plain": [
       "  0%|          | 0/100 [00:00<?, ?it/s]"
      ]
     },
     "metadata": {},
     "output_type": "display_data"
    },
    {
     "name": "stdout",
     "output_type": "stream",
     "text": [
      "completed lulesh lrgprob cma 9999 (30000, 9) 0.35136914253234863 secs\n",
      "working on /usr/WS2/bolet1/ruby-benchmarks/exploreGlobalOptimizations/logs/lulesh-lrgprob/cma-4873\n"
     ]
    },
    {
     "data": {
      "application/vnd.jupyter.widget-view+json": {
       "model_id": "f51db7531b3d453b8d2252d86fcfa60f",
       "version_major": 2,
       "version_minor": 0
      },
      "text/plain": [
       "  0%|          | 0/100 [00:00<?, ?it/s]"
      ]
     },
     "metadata": {},
     "output_type": "display_data"
    },
    {
     "name": "stdout",
     "output_type": "stream",
     "text": [
      "completed lulesh lrgprob cma 4873 (30000, 9) 0.355013370513916 secs\n",
      "\n",
      "\n",
      " wrote: /usr/WS2/bolet1/ruby-benchmarks/exploreGlobalOptimizations/databases/ruby-lulesh-cma-GO_Data-baselineNorm.csv \n",
      "\n",
      "\n",
      "working on /usr/WS2/bolet1/ruby-benchmarks/exploreGlobalOptimizations/logs/bt_nas-smlprob/pso-1337\n"
     ]
    },
    {
     "data": {
      "application/vnd.jupyter.widget-view+json": {
       "model_id": "c90389eda92d4f2586cd987d37f6f932",
       "version_major": 2,
       "version_minor": 0
      },
      "text/plain": [
       "  0%|          | 0/1250 [00:00<?, ?it/s]"
      ]
     },
     "metadata": {},
     "output_type": "display_data"
    },
    {
     "name": "stdout",
     "output_type": "stream",
     "text": [
      "completed bt_nas smlprob pso 1337 (375000, 11) 4.8456871509552 secs\n",
      "working on /usr/WS2/bolet1/ruby-benchmarks/exploreGlobalOptimizations/logs/bt_nas-smlprob/pso-3827\n"
     ]
    },
    {
     "data": {
      "application/vnd.jupyter.widget-view+json": {
       "model_id": "e1e45a9a1ea6464883f1e4257039963b",
       "version_major": 2,
       "version_minor": 0
      },
      "text/plain": [
       "  0%|          | 0/1250 [00:00<?, ?it/s]"
      ]
     },
     "metadata": {},
     "output_type": "display_data"
    },
    {
     "name": "stdout",
     "output_type": "stream",
     "text": [
      "completed bt_nas smlprob pso 3827 (375000, 11) 4.558546304702759 secs\n",
      "working on /usr/WS2/bolet1/ruby-benchmarks/exploreGlobalOptimizations/logs/bt_nas-smlprob/pso-9999\n"
     ]
    },
    {
     "data": {
      "application/vnd.jupyter.widget-view+json": {
       "model_id": "4305ec54f3ac4198a9d45019394f9720",
       "version_major": 2,
       "version_minor": 0
      },
      "text/plain": [
       "  0%|          | 0/1250 [00:00<?, ?it/s]"
      ]
     },
     "metadata": {},
     "output_type": "display_data"
    },
    {
     "name": "stdout",
     "output_type": "stream",
     "text": [
      "completed bt_nas smlprob pso 9999 (375000, 11) 4.220106601715088 secs\n",
      "working on /usr/WS2/bolet1/ruby-benchmarks/exploreGlobalOptimizations/logs/bt_nas-smlprob/pso-4873\n"
     ]
    },
    {
     "data": {
      "application/vnd.jupyter.widget-view+json": {
       "model_id": "09b9893cc7454aa0809bee82b36fca09",
       "version_major": 2,
       "version_minor": 0
      },
      "text/plain": [
       "  0%|          | 0/1250 [00:00<?, ?it/s]"
      ]
     },
     "metadata": {},
     "output_type": "display_data"
    },
    {
     "name": "stdout",
     "output_type": "stream",
     "text": [
      "completed bt_nas smlprob pso 4873 (375000, 11) 4.536127328872681 secs\n",
      "working on /usr/WS2/bolet1/ruby-benchmarks/exploreGlobalOptimizations/logs/bt_nas-medprob/pso-1337\n"
     ]
    },
    {
     "data": {
      "application/vnd.jupyter.widget-view+json": {
       "model_id": "c0f9f24e3361498e8f0bb15018c18f50",
       "version_major": 2,
       "version_minor": 0
      },
      "text/plain": [
       "  0%|          | 0/1250 [00:00<?, ?it/s]"
      ]
     },
     "metadata": {},
     "output_type": "display_data"
    },
    {
     "name": "stdout",
     "output_type": "stream",
     "text": [
      "completed bt_nas medprob pso 1337 (375000, 11) 4.186321496963501 secs\n",
      "working on /usr/WS2/bolet1/ruby-benchmarks/exploreGlobalOptimizations/logs/bt_nas-medprob/pso-3827\n"
     ]
    },
    {
     "data": {
      "application/vnd.jupyter.widget-view+json": {
       "model_id": "9640c5ab5b2444c8b8fef4224acb02d1",
       "version_major": 2,
       "version_minor": 0
      },
      "text/plain": [
       "  0%|          | 0/1250 [00:00<?, ?it/s]"
      ]
     },
     "metadata": {},
     "output_type": "display_data"
    },
    {
     "name": "stdout",
     "output_type": "stream",
     "text": [
      "completed bt_nas medprob pso 3827 (375000, 11) 4.701923608779907 secs\n",
      "working on /usr/WS2/bolet1/ruby-benchmarks/exploreGlobalOptimizations/logs/bt_nas-medprob/pso-9999\n"
     ]
    },
    {
     "data": {
      "application/vnd.jupyter.widget-view+json": {
       "model_id": "4f2e461f2d5642cebe3351153df2d046",
       "version_major": 2,
       "version_minor": 0
      },
      "text/plain": [
       "  0%|          | 0/1250 [00:00<?, ?it/s]"
      ]
     },
     "metadata": {},
     "output_type": "display_data"
    },
    {
     "name": "stdout",
     "output_type": "stream",
     "text": [
      "completed bt_nas medprob pso 9999 (375000, 11) 4.613934755325317 secs\n",
      "working on /usr/WS2/bolet1/ruby-benchmarks/exploreGlobalOptimizations/logs/bt_nas-medprob/pso-4873\n"
     ]
    },
    {
     "data": {
      "application/vnd.jupyter.widget-view+json": {
       "model_id": "dd4c26bfa30e4dbab38bc308149d5212",
       "version_major": 2,
       "version_minor": 0
      },
      "text/plain": [
       "  0%|          | 0/1250 [00:00<?, ?it/s]"
      ]
     },
     "metadata": {},
     "output_type": "display_data"
    },
    {
     "name": "stdout",
     "output_type": "stream",
     "text": [
      "completed bt_nas medprob pso 4873 (375000, 11) 4.628165006637573 secs\n",
      "working on /usr/WS2/bolet1/ruby-benchmarks/exploreGlobalOptimizations/logs/bt_nas-lrgprob/pso-1337\n"
     ]
    },
    {
     "data": {
      "application/vnd.jupyter.widget-view+json": {
       "model_id": "f63d86e59f094d698048e95cc06181ab",
       "version_major": 2,
       "version_minor": 0
      },
      "text/plain": [
       "  0%|          | 0/1250 [00:00<?, ?it/s]"
      ]
     },
     "metadata": {},
     "output_type": "display_data"
    },
    {
     "name": "stdout",
     "output_type": "stream",
     "text": [
      "completed bt_nas lrgprob pso 1337 (375000, 11) 4.54431939125061 secs\n",
      "working on /usr/WS2/bolet1/ruby-benchmarks/exploreGlobalOptimizations/logs/bt_nas-lrgprob/pso-3827\n"
     ]
    },
    {
     "data": {
      "application/vnd.jupyter.widget-view+json": {
       "model_id": "543f1278d44b49a8bcbb9572e3dd20fc",
       "version_major": 2,
       "version_minor": 0
      },
      "text/plain": [
       "  0%|          | 0/1250 [00:00<?, ?it/s]"
      ]
     },
     "metadata": {},
     "output_type": "display_data"
    },
    {
     "name": "stdout",
     "output_type": "stream",
     "text": [
      "completed bt_nas lrgprob pso 3827 (375000, 11) 4.532984972000122 secs\n",
      "working on /usr/WS2/bolet1/ruby-benchmarks/exploreGlobalOptimizations/logs/bt_nas-lrgprob/pso-9999\n"
     ]
    },
    {
     "data": {
      "application/vnd.jupyter.widget-view+json": {
       "model_id": "c1553ffc76ce4a1f9645382df337fd20",
       "version_major": 2,
       "version_minor": 0
      },
      "text/plain": [
       "  0%|          | 0/1250 [00:00<?, ?it/s]"
      ]
     },
     "metadata": {},
     "output_type": "display_data"
    },
    {
     "name": "stdout",
     "output_type": "stream",
     "text": [
      "completed bt_nas lrgprob pso 9999 (375000, 11) 7.7499613761901855 secs\n",
      "working on /usr/WS2/bolet1/ruby-benchmarks/exploreGlobalOptimizations/logs/bt_nas-lrgprob/pso-4873\n"
     ]
    },
    {
     "data": {
      "application/vnd.jupyter.widget-view+json": {
       "model_id": "5d4bc49446e44ea585493e38d763af01",
       "version_major": 2,
       "version_minor": 0
      },
      "text/plain": [
       "  0%|          | 0/1250 [00:00<?, ?it/s]"
      ]
     },
     "metadata": {},
     "output_type": "display_data"
    },
    {
     "name": "stdout",
     "output_type": "stream",
     "text": [
      "completed bt_nas lrgprob pso 4873 (375000, 11) 4.64424467086792 secs\n",
      "\n",
      "\n",
      " wrote: /usr/WS2/bolet1/ruby-benchmarks/exploreGlobalOptimizations/databases/ruby-bt_nas-pso-GO_Data-baselineNorm.csv \n",
      "\n",
      "\n",
      "working on /usr/WS2/bolet1/ruby-benchmarks/exploreGlobalOptimizations/logs/ft_nas-smlprob/pso-1337\n"
     ]
    },
    {
     "data": {
      "application/vnd.jupyter.widget-view+json": {
       "model_id": "896584321a53416e9c09189fe9659d8f",
       "version_major": 2,
       "version_minor": 0
      },
      "text/plain": [
       "  0%|          | 0/1250 [00:00<?, ?it/s]"
      ]
     },
     "metadata": {},
     "output_type": "display_data"
    },
    {
     "name": "stdout",
     "output_type": "stream",
     "text": [
      "completed ft_nas smlprob pso 1337 (375000, 11) 4.471812963485718 secs\n",
      "working on /usr/WS2/bolet1/ruby-benchmarks/exploreGlobalOptimizations/logs/ft_nas-smlprob/pso-3827\n"
     ]
    },
    {
     "data": {
      "application/vnd.jupyter.widget-view+json": {
       "model_id": "18a79a7b59094239873fc6d5ab6c4a32",
       "version_major": 2,
       "version_minor": 0
      },
      "text/plain": [
       "  0%|          | 0/1250 [00:00<?, ?it/s]"
      ]
     },
     "metadata": {},
     "output_type": "display_data"
    },
    {
     "name": "stdout",
     "output_type": "stream",
     "text": [
      "completed ft_nas smlprob pso 3827 (375000, 11) 4.663914203643799 secs\n",
      "working on /usr/WS2/bolet1/ruby-benchmarks/exploreGlobalOptimizations/logs/ft_nas-smlprob/pso-9999\n"
     ]
    },
    {
     "data": {
      "application/vnd.jupyter.widget-view+json": {
       "model_id": "71b5bbdd25514d22aaa835922782610d",
       "version_major": 2,
       "version_minor": 0
      },
      "text/plain": [
       "  0%|          | 0/1250 [00:00<?, ?it/s]"
      ]
     },
     "metadata": {},
     "output_type": "display_data"
    },
    {
     "name": "stdout",
     "output_type": "stream",
     "text": [
      "completed ft_nas smlprob pso 9999 (375000, 11) 4.643415927886963 secs\n",
      "working on /usr/WS2/bolet1/ruby-benchmarks/exploreGlobalOptimizations/logs/ft_nas-smlprob/pso-4873\n"
     ]
    },
    {
     "data": {
      "application/vnd.jupyter.widget-view+json": {
       "model_id": "255c9b09600b4e5fa64246737c9a1aad",
       "version_major": 2,
       "version_minor": 0
      },
      "text/plain": [
       "  0%|          | 0/1250 [00:00<?, ?it/s]"
      ]
     },
     "metadata": {},
     "output_type": "display_data"
    },
    {
     "name": "stdout",
     "output_type": "stream",
     "text": [
      "completed ft_nas smlprob pso 4873 (375000, 11) 4.616624355316162 secs\n",
      "working on /usr/WS2/bolet1/ruby-benchmarks/exploreGlobalOptimizations/logs/ft_nas-medprob/pso-1337\n"
     ]
    },
    {
     "data": {
      "application/vnd.jupyter.widget-view+json": {
       "model_id": "3e5b648f3b1a4d81886e8c978f3a88c3",
       "version_major": 2,
       "version_minor": 0
      },
      "text/plain": [
       "  0%|          | 0/1250 [00:00<?, ?it/s]"
      ]
     },
     "metadata": {},
     "output_type": "display_data"
    },
    {
     "name": "stdout",
     "output_type": "stream",
     "text": [
      "completed ft_nas medprob pso 1337 (375000, 11) 4.644096612930298 secs\n",
      "working on /usr/WS2/bolet1/ruby-benchmarks/exploreGlobalOptimizations/logs/ft_nas-medprob/pso-3827\n"
     ]
    },
    {
     "data": {
      "application/vnd.jupyter.widget-view+json": {
       "model_id": "898d2976671b42d28fe6b3ede8cd0c92",
       "version_major": 2,
       "version_minor": 0
      },
      "text/plain": [
       "  0%|          | 0/1250 [00:00<?, ?it/s]"
      ]
     },
     "metadata": {},
     "output_type": "display_data"
    },
    {
     "name": "stdout",
     "output_type": "stream",
     "text": [
      "completed ft_nas medprob pso 3827 (375000, 11) 4.308966159820557 secs\n",
      "working on /usr/WS2/bolet1/ruby-benchmarks/exploreGlobalOptimizations/logs/ft_nas-medprob/pso-9999\n"
     ]
    },
    {
     "data": {
      "application/vnd.jupyter.widget-view+json": {
       "model_id": "7dc74d223c554704905db0a55d7abec3",
       "version_major": 2,
       "version_minor": 0
      },
      "text/plain": [
       "  0%|          | 0/1250 [00:00<?, ?it/s]"
      ]
     },
     "metadata": {},
     "output_type": "display_data"
    },
    {
     "name": "stdout",
     "output_type": "stream",
     "text": [
      "completed ft_nas medprob pso 9999 (375000, 11) 4.788541316986084 secs\n",
      "working on /usr/WS2/bolet1/ruby-benchmarks/exploreGlobalOptimizations/logs/ft_nas-medprob/pso-4873\n"
     ]
    },
    {
     "data": {
      "application/vnd.jupyter.widget-view+json": {
       "model_id": "d124e91f49b14ced843f0640bb45475f",
       "version_major": 2,
       "version_minor": 0
      },
      "text/plain": [
       "  0%|          | 0/1250 [00:00<?, ?it/s]"
      ]
     },
     "metadata": {},
     "output_type": "display_data"
    },
    {
     "name": "stdout",
     "output_type": "stream",
     "text": [
      "completed ft_nas medprob pso 4873 (375000, 11) 4.309088230133057 secs\n",
      "working on /usr/WS2/bolet1/ruby-benchmarks/exploreGlobalOptimizations/logs/ft_nas-lrgprob/pso-1337\n"
     ]
    },
    {
     "data": {
      "application/vnd.jupyter.widget-view+json": {
       "model_id": "e15826add10e4ed4bdbcc3722370adef",
       "version_major": 2,
       "version_minor": 0
      },
      "text/plain": [
       "  0%|          | 0/1250 [00:00<?, ?it/s]"
      ]
     },
     "metadata": {},
     "output_type": "display_data"
    },
    {
     "name": "stdout",
     "output_type": "stream",
     "text": [
      "completed ft_nas lrgprob pso 1337 (375000, 11) 4.690564155578613 secs\n",
      "working on /usr/WS2/bolet1/ruby-benchmarks/exploreGlobalOptimizations/logs/ft_nas-lrgprob/pso-3827\n"
     ]
    },
    {
     "data": {
      "application/vnd.jupyter.widget-view+json": {
       "model_id": "90f0907c5543436bbfc38c41420e28de",
       "version_major": 2,
       "version_minor": 0
      },
      "text/plain": [
       "  0%|          | 0/1250 [00:00<?, ?it/s]"
      ]
     },
     "metadata": {},
     "output_type": "display_data"
    },
    {
     "name": "stdout",
     "output_type": "stream",
     "text": [
      "completed ft_nas lrgprob pso 3827 (375000, 11) 5.547624111175537 secs\n",
      "working on /usr/WS2/bolet1/ruby-benchmarks/exploreGlobalOptimizations/logs/ft_nas-lrgprob/pso-9999\n"
     ]
    },
    {
     "data": {
      "application/vnd.jupyter.widget-view+json": {
       "model_id": "7ead0d80c90e43c7b1feda7e6d43ca34",
       "version_major": 2,
       "version_minor": 0
      },
      "text/plain": [
       "  0%|          | 0/1250 [00:00<?, ?it/s]"
      ]
     },
     "metadata": {},
     "output_type": "display_data"
    },
    {
     "name": "stdout",
     "output_type": "stream",
     "text": [
      "completed ft_nas lrgprob pso 9999 (375000, 11) 5.1469221115112305 secs\n",
      "working on /usr/WS2/bolet1/ruby-benchmarks/exploreGlobalOptimizations/logs/ft_nas-lrgprob/pso-4873\n"
     ]
    },
    {
     "data": {
      "application/vnd.jupyter.widget-view+json": {
       "model_id": "6c86d093b8ca479c84fb6906438bb474",
       "version_major": 2,
       "version_minor": 0
      },
      "text/plain": [
       "  0%|          | 0/1250 [00:00<?, ?it/s]"
      ]
     },
     "metadata": {},
     "output_type": "display_data"
    },
    {
     "name": "stdout",
     "output_type": "stream",
     "text": [
      "completed ft_nas lrgprob pso 4873 (375000, 11) 4.518704414367676 secs\n",
      "\n",
      "\n",
      " wrote: /usr/WS2/bolet1/ruby-benchmarks/exploreGlobalOptimizations/databases/ruby-ft_nas-pso-GO_Data-baselineNorm.csv \n",
      "\n",
      "\n",
      "working on /usr/WS2/bolet1/ruby-benchmarks/exploreGlobalOptimizations/logs/hpcg-smlprob/pso-1337\n"
     ]
    },
    {
     "data": {
      "application/vnd.jupyter.widget-view+json": {
       "model_id": "0b5abc4abf044a72a802daf0da2f677c",
       "version_major": 2,
       "version_minor": 0
      },
      "text/plain": [
       "  0%|          | 0/1250 [00:00<?, ?it/s]"
      ]
     },
     "metadata": {},
     "output_type": "display_data"
    },
    {
     "name": "stdout",
     "output_type": "stream",
     "text": [
      "completed hpcg smlprob pso 1337 (375000, 11) 5.4731385707855225 secs\n",
      "working on /usr/WS2/bolet1/ruby-benchmarks/exploreGlobalOptimizations/logs/hpcg-smlprob/pso-3827\n"
     ]
    },
    {
     "data": {
      "application/vnd.jupyter.widget-view+json": {
       "model_id": "e140053c422d431ba8643b8784a9ba48",
       "version_major": 2,
       "version_minor": 0
      },
      "text/plain": [
       "  0%|          | 0/1250 [00:00<?, ?it/s]"
      ]
     },
     "metadata": {},
     "output_type": "display_data"
    },
    {
     "name": "stdout",
     "output_type": "stream",
     "text": [
      "completed hpcg smlprob pso 3827 (375000, 11) 4.969338893890381 secs\n",
      "working on /usr/WS2/bolet1/ruby-benchmarks/exploreGlobalOptimizations/logs/hpcg-smlprob/pso-9999\n"
     ]
    },
    {
     "data": {
      "application/vnd.jupyter.widget-view+json": {
       "model_id": "5953d717851443109d5633e5334d340b",
       "version_major": 2,
       "version_minor": 0
      },
      "text/plain": [
       "  0%|          | 0/1250 [00:00<?, ?it/s]"
      ]
     },
     "metadata": {},
     "output_type": "display_data"
    },
    {
     "name": "stdout",
     "output_type": "stream",
     "text": [
      "completed hpcg smlprob pso 9999 (375000, 11) 4.990606784820557 secs\n",
      "working on /usr/WS2/bolet1/ruby-benchmarks/exploreGlobalOptimizations/logs/hpcg-smlprob/pso-4873\n"
     ]
    },
    {
     "data": {
      "application/vnd.jupyter.widget-view+json": {
       "model_id": "b84695b8ce144a50917a81f30f95dc45",
       "version_major": 2,
       "version_minor": 0
      },
      "text/plain": [
       "  0%|          | 0/1250 [00:00<?, ?it/s]"
      ]
     },
     "metadata": {},
     "output_type": "display_data"
    },
    {
     "name": "stdout",
     "output_type": "stream",
     "text": [
      "completed hpcg smlprob pso 4873 (375000, 11) 5.197247505187988 secs\n",
      "working on /usr/WS2/bolet1/ruby-benchmarks/exploreGlobalOptimizations/logs/hpcg-medprob/pso-1337\n"
     ]
    },
    {
     "data": {
      "application/vnd.jupyter.widget-view+json": {
       "model_id": "d79ac26fe66843b9b0002f673e69b59f",
       "version_major": 2,
       "version_minor": 0
      },
      "text/plain": [
       "  0%|          | 0/1250 [00:00<?, ?it/s]"
      ]
     },
     "metadata": {},
     "output_type": "display_data"
    },
    {
     "name": "stdout",
     "output_type": "stream",
     "text": [
      "completed hpcg medprob pso 1337 (375000, 11) 5.230921506881714 secs\n",
      "working on /usr/WS2/bolet1/ruby-benchmarks/exploreGlobalOptimizations/logs/hpcg-medprob/pso-3827\n"
     ]
    },
    {
     "data": {
      "application/vnd.jupyter.widget-view+json": {
       "model_id": "bdf3a85f45d04dc3a08e37c30b7be069",
       "version_major": 2,
       "version_minor": 0
      },
      "text/plain": [
       "  0%|          | 0/1250 [00:00<?, ?it/s]"
      ]
     },
     "metadata": {},
     "output_type": "display_data"
    },
    {
     "name": "stdout",
     "output_type": "stream",
     "text": [
      "completed hpcg medprob pso 3827 (375000, 11) 5.601452589035034 secs\n",
      "working on /usr/WS2/bolet1/ruby-benchmarks/exploreGlobalOptimizations/logs/hpcg-medprob/pso-9999\n"
     ]
    },
    {
     "data": {
      "application/vnd.jupyter.widget-view+json": {
       "model_id": "f1aab719317e4819aad7bd0a06285e45",
       "version_major": 2,
       "version_minor": 0
      },
      "text/plain": [
       "  0%|          | 0/1250 [00:00<?, ?it/s]"
      ]
     },
     "metadata": {},
     "output_type": "display_data"
    },
    {
     "name": "stdout",
     "output_type": "stream",
     "text": [
      "completed hpcg medprob pso 9999 (375000, 11) 5.1395885944366455 secs\n",
      "working on /usr/WS2/bolet1/ruby-benchmarks/exploreGlobalOptimizations/logs/hpcg-medprob/pso-4873\n"
     ]
    },
    {
     "data": {
      "application/vnd.jupyter.widget-view+json": {
       "model_id": "b9f59e6939f3477982e966b1ad8f75c7",
       "version_major": 2,
       "version_minor": 0
      },
      "text/plain": [
       "  0%|          | 0/1250 [00:00<?, ?it/s]"
      ]
     },
     "metadata": {},
     "output_type": "display_data"
    },
    {
     "name": "stdout",
     "output_type": "stream",
     "text": [
      "completed hpcg medprob pso 4873 (375000, 11) 4.99762749671936 secs\n",
      "working on /usr/WS2/bolet1/ruby-benchmarks/exploreGlobalOptimizations/logs/hpcg-lrgprob/pso-1337\n"
     ]
    },
    {
     "data": {
      "application/vnd.jupyter.widget-view+json": {
       "model_id": "d1c09ad12a04459d97ce1a181a91fcfa",
       "version_major": 2,
       "version_minor": 0
      },
      "text/plain": [
       "  0%|          | 0/1250 [00:00<?, ?it/s]"
      ]
     },
     "metadata": {},
     "output_type": "display_data"
    },
    {
     "name": "stdout",
     "output_type": "stream",
     "text": [
      "completed hpcg lrgprob pso 1337 (375000, 11) 4.43660569190979 secs\n",
      "working on /usr/WS2/bolet1/ruby-benchmarks/exploreGlobalOptimizations/logs/hpcg-lrgprob/pso-3827\n"
     ]
    },
    {
     "data": {
      "application/vnd.jupyter.widget-view+json": {
       "model_id": "98ddd6ccb2bf461aba5838ff93d464b4",
       "version_major": 2,
       "version_minor": 0
      },
      "text/plain": [
       "  0%|          | 0/1250 [00:00<?, ?it/s]"
      ]
     },
     "metadata": {},
     "output_type": "display_data"
    },
    {
     "name": "stdout",
     "output_type": "stream",
     "text": [
      "completed hpcg lrgprob pso 3827 (375000, 11) 5.105939865112305 secs\n",
      "working on /usr/WS2/bolet1/ruby-benchmarks/exploreGlobalOptimizations/logs/hpcg-lrgprob/pso-9999\n"
     ]
    },
    {
     "data": {
      "application/vnd.jupyter.widget-view+json": {
       "model_id": "83ceb56445f9440283becc43719b13c9",
       "version_major": 2,
       "version_minor": 0
      },
      "text/plain": [
       "  0%|          | 0/1250 [00:00<?, ?it/s]"
      ]
     },
     "metadata": {},
     "output_type": "display_data"
    },
    {
     "name": "stdout",
     "output_type": "stream",
     "text": [
      "completed hpcg lrgprob pso 9999 (375000, 11) 4.613391399383545 secs\n",
      "working on /usr/WS2/bolet1/ruby-benchmarks/exploreGlobalOptimizations/logs/hpcg-lrgprob/pso-4873\n"
     ]
    },
    {
     "data": {
      "application/vnd.jupyter.widget-view+json": {
       "model_id": "ccbc7ba8641b4bba8f3a61110e7e44c4",
       "version_major": 2,
       "version_minor": 0
      },
      "text/plain": [
       "  0%|          | 0/1250 [00:00<?, ?it/s]"
      ]
     },
     "metadata": {},
     "output_type": "display_data"
    },
    {
     "name": "stdout",
     "output_type": "stream",
     "text": [
      "completed hpcg lrgprob pso 4873 (375000, 11) 5.400234699249268 secs\n",
      "\n",
      "\n",
      " wrote: /usr/WS2/bolet1/ruby-benchmarks/exploreGlobalOptimizations/databases/ruby-hpcg-pso-GO_Data-baselineNorm.csv \n",
      "\n",
      "\n",
      "working on /usr/WS2/bolet1/ruby-benchmarks/exploreGlobalOptimizations/logs/lulesh-smlprob/pso-1337\n"
     ]
    },
    {
     "data": {
      "application/vnd.jupyter.widget-view+json": {
       "model_id": "eae63d50ce3f4cb4ad4f396b911d6766",
       "version_major": 2,
       "version_minor": 0
      },
      "text/plain": [
       "  0%|          | 0/1250 [00:00<?, ?it/s]"
      ]
     },
     "metadata": {},
     "output_type": "display_data"
    },
    {
     "name": "stdout",
     "output_type": "stream",
     "text": [
      "completed lulesh smlprob pso 1337 (375000, 11) 4.815608501434326 secs\n",
      "working on /usr/WS2/bolet1/ruby-benchmarks/exploreGlobalOptimizations/logs/lulesh-smlprob/pso-3827\n"
     ]
    },
    {
     "data": {
      "application/vnd.jupyter.widget-view+json": {
       "model_id": "7ffd8308a834414dac0174964d3f3b6a",
       "version_major": 2,
       "version_minor": 0
      },
      "text/plain": [
       "  0%|          | 0/1250 [00:00<?, ?it/s]"
      ]
     },
     "metadata": {},
     "output_type": "display_data"
    },
    {
     "name": "stdout",
     "output_type": "stream",
     "text": [
      "completed lulesh smlprob pso 3827 (375000, 11) 4.629518985748291 secs\n",
      "working on /usr/WS2/bolet1/ruby-benchmarks/exploreGlobalOptimizations/logs/lulesh-smlprob/pso-9999\n"
     ]
    },
    {
     "data": {
      "application/vnd.jupyter.widget-view+json": {
       "model_id": "ced9fe234b6d4106840a0b084746dc0a",
       "version_major": 2,
       "version_minor": 0
      },
      "text/plain": [
       "  0%|          | 0/1250 [00:00<?, ?it/s]"
      ]
     },
     "metadata": {},
     "output_type": "display_data"
    },
    {
     "name": "stdout",
     "output_type": "stream",
     "text": [
      "completed lulesh smlprob pso 9999 (375000, 11) 4.469010591506958 secs\n",
      "working on /usr/WS2/bolet1/ruby-benchmarks/exploreGlobalOptimizations/logs/lulesh-smlprob/pso-4873\n"
     ]
    },
    {
     "data": {
      "application/vnd.jupyter.widget-view+json": {
       "model_id": "936beac76b1e48ba9f2903266cc4f2a6",
       "version_major": 2,
       "version_minor": 0
      },
      "text/plain": [
       "  0%|          | 0/1250 [00:00<?, ?it/s]"
      ]
     },
     "metadata": {},
     "output_type": "display_data"
    },
    {
     "name": "stdout",
     "output_type": "stream",
     "text": [
      "completed lulesh smlprob pso 4873 (375000, 11) 4.684787750244141 secs\n",
      "working on /usr/WS2/bolet1/ruby-benchmarks/exploreGlobalOptimizations/logs/lulesh-medprob/pso-1337\n"
     ]
    },
    {
     "data": {
      "application/vnd.jupyter.widget-view+json": {
       "model_id": "17ea5fb4adcf432d83aaee0e75e8bdac",
       "version_major": 2,
       "version_minor": 0
      },
      "text/plain": [
       "  0%|          | 0/1250 [00:00<?, ?it/s]"
      ]
     },
     "metadata": {},
     "output_type": "display_data"
    },
    {
     "name": "stdout",
     "output_type": "stream",
     "text": [
      "completed lulesh medprob pso 1337 (375000, 11) 4.638359069824219 secs\n",
      "working on /usr/WS2/bolet1/ruby-benchmarks/exploreGlobalOptimizations/logs/lulesh-medprob/pso-3827\n"
     ]
    },
    {
     "data": {
      "application/vnd.jupyter.widget-view+json": {
       "model_id": "96e7142d11b84faba593b6ecf9a6e9d3",
       "version_major": 2,
       "version_minor": 0
      },
      "text/plain": [
       "  0%|          | 0/1250 [00:00<?, ?it/s]"
      ]
     },
     "metadata": {},
     "output_type": "display_data"
    },
    {
     "name": "stdout",
     "output_type": "stream",
     "text": [
      "completed lulesh medprob pso 3827 (375000, 11) 4.644104242324829 secs\n",
      "working on /usr/WS2/bolet1/ruby-benchmarks/exploreGlobalOptimizations/logs/lulesh-medprob/pso-9999\n"
     ]
    },
    {
     "data": {
      "application/vnd.jupyter.widget-view+json": {
       "model_id": "2bd64f835e5d438585019337f52f47cf",
       "version_major": 2,
       "version_minor": 0
      },
      "text/plain": [
       "  0%|          | 0/1250 [00:00<?, ?it/s]"
      ]
     },
     "metadata": {},
     "output_type": "display_data"
    },
    {
     "name": "stdout",
     "output_type": "stream",
     "text": [
      "completed lulesh medprob pso 9999 (375000, 11) 4.819150686264038 secs\n",
      "working on /usr/WS2/bolet1/ruby-benchmarks/exploreGlobalOptimizations/logs/lulesh-medprob/pso-4873\n"
     ]
    },
    {
     "data": {
      "application/vnd.jupyter.widget-view+json": {
       "model_id": "6356c75161f14f4c82b0e08dbfac66be",
       "version_major": 2,
       "version_minor": 0
      },
      "text/plain": [
       "  0%|          | 0/1250 [00:00<?, ?it/s]"
      ]
     },
     "metadata": {},
     "output_type": "display_data"
    },
    {
     "name": "stdout",
     "output_type": "stream",
     "text": [
      "completed lulesh medprob pso 4873 (375000, 11) 4.350231885910034 secs\n",
      "working on /usr/WS2/bolet1/ruby-benchmarks/exploreGlobalOptimizations/logs/lulesh-lrgprob/pso-1337\n"
     ]
    },
    {
     "data": {
      "application/vnd.jupyter.widget-view+json": {
       "model_id": "632b667406be46c5983abb4abdb2a5aa",
       "version_major": 2,
       "version_minor": 0
      },
      "text/plain": [
       "  0%|          | 0/1250 [00:00<?, ?it/s]"
      ]
     },
     "metadata": {},
     "output_type": "display_data"
    },
    {
     "name": "stdout",
     "output_type": "stream",
     "text": [
      "completed lulesh lrgprob pso 1337 (375000, 11) 4.810400485992432 secs\n",
      "working on /usr/WS2/bolet1/ruby-benchmarks/exploreGlobalOptimizations/logs/lulesh-lrgprob/pso-3827\n"
     ]
    },
    {
     "data": {
      "application/vnd.jupyter.widget-view+json": {
       "model_id": "839690cc66a44ae9be790d1f5e39eb56",
       "version_major": 2,
       "version_minor": 0
      },
      "text/plain": [
       "  0%|          | 0/1250 [00:00<?, ?it/s]"
      ]
     },
     "metadata": {},
     "output_type": "display_data"
    },
    {
     "name": "stdout",
     "output_type": "stream",
     "text": [
      "completed lulesh lrgprob pso 3827 (375000, 11) 4.2242515087127686 secs\n",
      "working on /usr/WS2/bolet1/ruby-benchmarks/exploreGlobalOptimizations/logs/lulesh-lrgprob/pso-9999\n"
     ]
    },
    {
     "data": {
      "application/vnd.jupyter.widget-view+json": {
       "model_id": "42d7978171094fe3b049d35b06802c7f",
       "version_major": 2,
       "version_minor": 0
      },
      "text/plain": [
       "  0%|          | 0/1250 [00:00<?, ?it/s]"
      ]
     },
     "metadata": {},
     "output_type": "display_data"
    },
    {
     "name": "stdout",
     "output_type": "stream",
     "text": [
      "completed lulesh lrgprob pso 9999 (375000, 11) 4.910831689834595 secs\n",
      "working on /usr/WS2/bolet1/ruby-benchmarks/exploreGlobalOptimizations/logs/lulesh-lrgprob/pso-4873\n"
     ]
    },
    {
     "data": {
      "application/vnd.jupyter.widget-view+json": {
       "model_id": "850f0ddda07c42d7a38683593040d78d",
       "version_major": 2,
       "version_minor": 0
      },
      "text/plain": [
       "  0%|          | 0/1250 [00:00<?, ?it/s]"
      ]
     },
     "metadata": {},
     "output_type": "display_data"
    },
    {
     "name": "stdout",
     "output_type": "stream",
     "text": [
      "completed lulesh lrgprob pso 4873 (375000, 11) 4.201416254043579 secs\n",
      "\n",
      "\n",
      " wrote: /usr/WS2/bolet1/ruby-benchmarks/exploreGlobalOptimizations/databases/ruby-lulesh-pso-GO_Data-baselineNorm.csv \n",
      "\n",
      "\n",
      "working on /usr/WS2/bolet1/ruby-benchmarks/exploreGlobalOptimizations/logs/bt_nas-smlprob/bo-1337\n"
     ]
    },
    {
     "data": {
      "application/vnd.jupyter.widget-view+json": {
       "model_id": "df32cbc20748405985bdba8c2564a8c1",
       "version_major": 2,
       "version_minor": 0
      },
      "text/plain": [
       "  0%|          | 0/60 [00:00<?, ?it/s]"
      ]
     },
     "metadata": {},
     "output_type": "display_data"
    },
    {
     "name": "stdout",
     "output_type": "stream",
     "text": [
      "completed bt_nas smlprob bo 1337 (18000, 12) 0.26404571533203125 secs\n",
      "working on /usr/WS2/bolet1/ruby-benchmarks/exploreGlobalOptimizations/logs/bt_nas-smlprob/bo-3827\n"
     ]
    },
    {
     "data": {
      "application/vnd.jupyter.widget-view+json": {
       "model_id": "d8a56e061a364dc9a7e93bc196793b38",
       "version_major": 2,
       "version_minor": 0
      },
      "text/plain": [
       "  0%|          | 0/60 [00:00<?, ?it/s]"
      ]
     },
     "metadata": {},
     "output_type": "display_data"
    },
    {
     "name": "stdout",
     "output_type": "stream",
     "text": [
      "completed bt_nas smlprob bo 3827 (18000, 12) 0.18622922897338867 secs\n",
      "working on /usr/WS2/bolet1/ruby-benchmarks/exploreGlobalOptimizations/logs/bt_nas-smlprob/bo-9999\n"
     ]
    },
    {
     "data": {
      "application/vnd.jupyter.widget-view+json": {
       "model_id": "579b2d51cafe4cb4b081c725432d1f8a",
       "version_major": 2,
       "version_minor": 0
      },
      "text/plain": [
       "  0%|          | 0/60 [00:00<?, ?it/s]"
      ]
     },
     "metadata": {},
     "output_type": "display_data"
    },
    {
     "name": "stdout",
     "output_type": "stream",
     "text": [
      "completed bt_nas smlprob bo 9999 (18000, 12) 0.20469450950622559 secs\n",
      "working on /usr/WS2/bolet1/ruby-benchmarks/exploreGlobalOptimizations/logs/bt_nas-smlprob/bo-4873\n"
     ]
    },
    {
     "data": {
      "application/vnd.jupyter.widget-view+json": {
       "model_id": "fcf3be0c8c954fbf82089883b301ffcc",
       "version_major": 2,
       "version_minor": 0
      },
      "text/plain": [
       "  0%|          | 0/60 [00:00<?, ?it/s]"
      ]
     },
     "metadata": {},
     "output_type": "display_data"
    },
    {
     "name": "stdout",
     "output_type": "stream",
     "text": [
      "completed bt_nas smlprob bo 4873 (18000, 12) 0.20333456993103027 secs\n",
      "working on /usr/WS2/bolet1/ruby-benchmarks/exploreGlobalOptimizations/logs/bt_nas-medprob/bo-1337\n"
     ]
    },
    {
     "data": {
      "application/vnd.jupyter.widget-view+json": {
       "model_id": "1ddf8c659fb44b51abbe7679a627f76c",
       "version_major": 2,
       "version_minor": 0
      },
      "text/plain": [
       "  0%|          | 0/60 [00:00<?, ?it/s]"
      ]
     },
     "metadata": {},
     "output_type": "display_data"
    },
    {
     "name": "stdout",
     "output_type": "stream",
     "text": [
      "completed bt_nas medprob bo 1337 (18000, 12) 0.18577194213867188 secs\n",
      "working on /usr/WS2/bolet1/ruby-benchmarks/exploreGlobalOptimizations/logs/bt_nas-medprob/bo-3827\n"
     ]
    },
    {
     "data": {
      "application/vnd.jupyter.widget-view+json": {
       "model_id": "243e3835ceed4694aacbffe350ee2c4f",
       "version_major": 2,
       "version_minor": 0
      },
      "text/plain": [
       "  0%|          | 0/60 [00:00<?, ?it/s]"
      ]
     },
     "metadata": {},
     "output_type": "display_data"
    },
    {
     "name": "stdout",
     "output_type": "stream",
     "text": [
      "completed bt_nas medprob bo 3827 (18000, 12) 0.20018744468688965 secs\n",
      "working on /usr/WS2/bolet1/ruby-benchmarks/exploreGlobalOptimizations/logs/bt_nas-medprob/bo-9999\n"
     ]
    },
    {
     "data": {
      "application/vnd.jupyter.widget-view+json": {
       "model_id": "f22d9e9cabfa461f975ad67c67be57db",
       "version_major": 2,
       "version_minor": 0
      },
      "text/plain": [
       "  0%|          | 0/60 [00:00<?, ?it/s]"
      ]
     },
     "metadata": {},
     "output_type": "display_data"
    },
    {
     "name": "stdout",
     "output_type": "stream",
     "text": [
      "completed bt_nas medprob bo 9999 (18000, 12) 0.20508408546447754 secs\n",
      "working on /usr/WS2/bolet1/ruby-benchmarks/exploreGlobalOptimizations/logs/bt_nas-medprob/bo-4873\n"
     ]
    },
    {
     "data": {
      "application/vnd.jupyter.widget-view+json": {
       "model_id": "40c3f4a4a6564d438fe496f3e7faedca",
       "version_major": 2,
       "version_minor": 0
      },
      "text/plain": [
       "  0%|          | 0/60 [00:00<?, ?it/s]"
      ]
     },
     "metadata": {},
     "output_type": "display_data"
    },
    {
     "name": "stdout",
     "output_type": "stream",
     "text": [
      "completed bt_nas medprob bo 4873 (18000, 12) 0.20860552787780762 secs\n",
      "working on /usr/WS2/bolet1/ruby-benchmarks/exploreGlobalOptimizations/logs/bt_nas-lrgprob/bo-1337\n"
     ]
    },
    {
     "data": {
      "application/vnd.jupyter.widget-view+json": {
       "model_id": "d86d88caabf345f498cebf4b9c3530c4",
       "version_major": 2,
       "version_minor": 0
      },
      "text/plain": [
       "  0%|          | 0/60 [00:00<?, ?it/s]"
      ]
     },
     "metadata": {},
     "output_type": "display_data"
    },
    {
     "name": "stdout",
     "output_type": "stream",
     "text": [
      "completed bt_nas lrgprob bo 1337 (18000, 12) 0.20524120330810547 secs\n",
      "working on /usr/WS2/bolet1/ruby-benchmarks/exploreGlobalOptimizations/logs/bt_nas-lrgprob/bo-3827\n"
     ]
    },
    {
     "data": {
      "application/vnd.jupyter.widget-view+json": {
       "model_id": "2df6055fc89749b786c7d55fdc2d9aab",
       "version_major": 2,
       "version_minor": 0
      },
      "text/plain": [
       "  0%|          | 0/60 [00:00<?, ?it/s]"
      ]
     },
     "metadata": {},
     "output_type": "display_data"
    },
    {
     "name": "stdout",
     "output_type": "stream",
     "text": [
      "completed bt_nas lrgprob bo 3827 (18000, 12) 0.20706582069396973 secs\n",
      "working on /usr/WS2/bolet1/ruby-benchmarks/exploreGlobalOptimizations/logs/bt_nas-lrgprob/bo-9999\n"
     ]
    },
    {
     "data": {
      "application/vnd.jupyter.widget-view+json": {
       "model_id": "20e36007e89a4bae84501c310055ff4c",
       "version_major": 2,
       "version_minor": 0
      },
      "text/plain": [
       "  0%|          | 0/60 [00:00<?, ?it/s]"
      ]
     },
     "metadata": {},
     "output_type": "display_data"
    },
    {
     "name": "stdout",
     "output_type": "stream",
     "text": [
      "completed bt_nas lrgprob bo 9999 (18000, 12) 0.27330493927001953 secs\n",
      "working on /usr/WS2/bolet1/ruby-benchmarks/exploreGlobalOptimizations/logs/bt_nas-lrgprob/bo-4873\n"
     ]
    },
    {
     "data": {
      "application/vnd.jupyter.widget-view+json": {
       "model_id": "e22080df62344414b5f628dc2ae0dd50",
       "version_major": 2,
       "version_minor": 0
      },
      "text/plain": [
       "  0%|          | 0/60 [00:00<?, ?it/s]"
      ]
     },
     "metadata": {},
     "output_type": "display_data"
    },
    {
     "name": "stdout",
     "output_type": "stream",
     "text": [
      "completed bt_nas lrgprob bo 4873 (18000, 12) 0.20701980590820312 secs\n",
      "\n",
      "\n",
      " wrote: /usr/WS2/bolet1/ruby-benchmarks/exploreGlobalOptimizations/databases/ruby-bt_nas-bo-GO_Data-baselineNorm.csv \n",
      "\n",
      "\n",
      "working on /usr/WS2/bolet1/ruby-benchmarks/exploreGlobalOptimizations/logs/ft_nas-smlprob/bo-1337\n"
     ]
    },
    {
     "data": {
      "application/vnd.jupyter.widget-view+json": {
       "model_id": "5a0e5131dc0d4bcb984305970cd81ab0",
       "version_major": 2,
       "version_minor": 0
      },
      "text/plain": [
       "  0%|          | 0/60 [00:00<?, ?it/s]"
      ]
     },
     "metadata": {},
     "output_type": "display_data"
    },
    {
     "name": "stdout",
     "output_type": "stream",
     "text": [
      "completed ft_nas smlprob bo 1337 (18000, 12) 0.2258312702178955 secs\n",
      "working on /usr/WS2/bolet1/ruby-benchmarks/exploreGlobalOptimizations/logs/ft_nas-smlprob/bo-3827\n"
     ]
    },
    {
     "data": {
      "application/vnd.jupyter.widget-view+json": {
       "model_id": "266e386e59fb4ff8854666260f8b3c27",
       "version_major": 2,
       "version_minor": 0
      },
      "text/plain": [
       "  0%|          | 0/60 [00:00<?, ?it/s]"
      ]
     },
     "metadata": {},
     "output_type": "display_data"
    },
    {
     "name": "stdout",
     "output_type": "stream",
     "text": [
      "completed ft_nas smlprob bo 3827 (18000, 12) 0.21919584274291992 secs\n",
      "working on /usr/WS2/bolet1/ruby-benchmarks/exploreGlobalOptimizations/logs/ft_nas-smlprob/bo-9999\n"
     ]
    },
    {
     "data": {
      "application/vnd.jupyter.widget-view+json": {
       "model_id": "07420d9776904d66a8e424f21efcac95",
       "version_major": 2,
       "version_minor": 0
      },
      "text/plain": [
       "  0%|          | 0/60 [00:00<?, ?it/s]"
      ]
     },
     "metadata": {},
     "output_type": "display_data"
    },
    {
     "name": "stdout",
     "output_type": "stream",
     "text": [
      "completed ft_nas smlprob bo 9999 (18000, 12) 0.22644877433776855 secs\n",
      "working on /usr/WS2/bolet1/ruby-benchmarks/exploreGlobalOptimizations/logs/ft_nas-smlprob/bo-4873\n"
     ]
    },
    {
     "data": {
      "application/vnd.jupyter.widget-view+json": {
       "model_id": "23fb79063d9046219e525535f6755ff8",
       "version_major": 2,
       "version_minor": 0
      },
      "text/plain": [
       "  0%|          | 0/60 [00:00<?, ?it/s]"
      ]
     },
     "metadata": {},
     "output_type": "display_data"
    },
    {
     "name": "stdout",
     "output_type": "stream",
     "text": [
      "completed ft_nas smlprob bo 4873 (18000, 12) 0.21019506454467773 secs\n",
      "working on /usr/WS2/bolet1/ruby-benchmarks/exploreGlobalOptimizations/logs/ft_nas-medprob/bo-1337\n"
     ]
    },
    {
     "data": {
      "application/vnd.jupyter.widget-view+json": {
       "model_id": "01aca3460a16495d87b92ab36060f18a",
       "version_major": 2,
       "version_minor": 0
      },
      "text/plain": [
       "  0%|          | 0/60 [00:00<?, ?it/s]"
      ]
     },
     "metadata": {},
     "output_type": "display_data"
    },
    {
     "name": "stdout",
     "output_type": "stream",
     "text": [
      "completed ft_nas medprob bo 1337 (18000, 12) 0.2106466293334961 secs\n",
      "working on /usr/WS2/bolet1/ruby-benchmarks/exploreGlobalOptimizations/logs/ft_nas-medprob/bo-3827\n"
     ]
    },
    {
     "data": {
      "application/vnd.jupyter.widget-view+json": {
       "model_id": "8c4649807dbf4775bdaacd5494562f4a",
       "version_major": 2,
       "version_minor": 0
      },
      "text/plain": [
       "  0%|          | 0/60 [00:00<?, ?it/s]"
      ]
     },
     "metadata": {},
     "output_type": "display_data"
    },
    {
     "name": "stdout",
     "output_type": "stream",
     "text": [
      "completed ft_nas medprob bo 3827 (18000, 12) 0.22072863578796387 secs\n",
      "working on /usr/WS2/bolet1/ruby-benchmarks/exploreGlobalOptimizations/logs/ft_nas-medprob/bo-9999\n"
     ]
    },
    {
     "data": {
      "application/vnd.jupyter.widget-view+json": {
       "model_id": "b96a5e654e824135b8bab9a23e9d3138",
       "version_major": 2,
       "version_minor": 0
      },
      "text/plain": [
       "  0%|          | 0/60 [00:00<?, ?it/s]"
      ]
     },
     "metadata": {},
     "output_type": "display_data"
    },
    {
     "name": "stdout",
     "output_type": "stream",
     "text": [
      "completed ft_nas medprob bo 9999 (18000, 12) 0.19912147521972656 secs\n",
      "working on /usr/WS2/bolet1/ruby-benchmarks/exploreGlobalOptimizations/logs/ft_nas-medprob/bo-4873\n"
     ]
    },
    {
     "data": {
      "application/vnd.jupyter.widget-view+json": {
       "model_id": "2fd9bca8f59c4d179760e0f219d15fed",
       "version_major": 2,
       "version_minor": 0
      },
      "text/plain": [
       "  0%|          | 0/60 [00:00<?, ?it/s]"
      ]
     },
     "metadata": {},
     "output_type": "display_data"
    },
    {
     "name": "stdout",
     "output_type": "stream",
     "text": [
      "completed ft_nas medprob bo 4873 (18000, 12) 0.20910954475402832 secs\n",
      "working on /usr/WS2/bolet1/ruby-benchmarks/exploreGlobalOptimizations/logs/ft_nas-lrgprob/bo-1337\n"
     ]
    },
    {
     "data": {
      "application/vnd.jupyter.widget-view+json": {
       "model_id": "1196c39c3024401c944e6f409755bddf",
       "version_major": 2,
       "version_minor": 0
      },
      "text/plain": [
       "  0%|          | 0/60 [00:00<?, ?it/s]"
      ]
     },
     "metadata": {},
     "output_type": "display_data"
    },
    {
     "name": "stdout",
     "output_type": "stream",
     "text": [
      "completed ft_nas lrgprob bo 1337 (18000, 12) 0.21022915840148926 secs\n",
      "working on /usr/WS2/bolet1/ruby-benchmarks/exploreGlobalOptimizations/logs/ft_nas-lrgprob/bo-3827\n"
     ]
    },
    {
     "data": {
      "application/vnd.jupyter.widget-view+json": {
       "model_id": "98e64f63758a485daeabfc2dd1c9e05e",
       "version_major": 2,
       "version_minor": 0
      },
      "text/plain": [
       "  0%|          | 0/60 [00:00<?, ?it/s]"
      ]
     },
     "metadata": {},
     "output_type": "display_data"
    },
    {
     "name": "stdout",
     "output_type": "stream",
     "text": [
      "completed ft_nas lrgprob bo 3827 (18000, 12) 0.21301579475402832 secs\n",
      "working on /usr/WS2/bolet1/ruby-benchmarks/exploreGlobalOptimizations/logs/ft_nas-lrgprob/bo-9999\n"
     ]
    },
    {
     "data": {
      "application/vnd.jupyter.widget-view+json": {
       "model_id": "f8ddcc13869e4b8abb8c73974ed25d67",
       "version_major": 2,
       "version_minor": 0
      },
      "text/plain": [
       "  0%|          | 0/60 [00:00<?, ?it/s]"
      ]
     },
     "metadata": {},
     "output_type": "display_data"
    },
    {
     "name": "stdout",
     "output_type": "stream",
     "text": [
      "completed ft_nas lrgprob bo 9999 (18000, 12) 0.27256035804748535 secs\n",
      "working on /usr/WS2/bolet1/ruby-benchmarks/exploreGlobalOptimizations/logs/ft_nas-lrgprob/bo-4873\n"
     ]
    },
    {
     "data": {
      "application/vnd.jupyter.widget-view+json": {
       "model_id": "f62d04dd28964512bc765772280ed193",
       "version_major": 2,
       "version_minor": 0
      },
      "text/plain": [
       "  0%|          | 0/60 [00:00<?, ?it/s]"
      ]
     },
     "metadata": {},
     "output_type": "display_data"
    },
    {
     "name": "stdout",
     "output_type": "stream",
     "text": [
      "completed ft_nas lrgprob bo 4873 (18000, 12) 0.21100974082946777 secs\n",
      "\n",
      "\n",
      " wrote: /usr/WS2/bolet1/ruby-benchmarks/exploreGlobalOptimizations/databases/ruby-ft_nas-bo-GO_Data-baselineNorm.csv \n",
      "\n",
      "\n",
      "working on /usr/WS2/bolet1/ruby-benchmarks/exploreGlobalOptimizations/logs/hpcg-smlprob/bo-1337\n"
     ]
    },
    {
     "data": {
      "application/vnd.jupyter.widget-view+json": {
       "model_id": "91c19755b0724fd6910e0c6317e00611",
       "version_major": 2,
       "version_minor": 0
      },
      "text/plain": [
       "  0%|          | 0/60 [00:00<?, ?it/s]"
      ]
     },
     "metadata": {},
     "output_type": "display_data"
    },
    {
     "name": "stdout",
     "output_type": "stream",
     "text": [
      "completed hpcg smlprob bo 1337 (18000, 12) 0.2155911922454834 secs\n",
      "working on /usr/WS2/bolet1/ruby-benchmarks/exploreGlobalOptimizations/logs/hpcg-smlprob/bo-3827\n"
     ]
    },
    {
     "data": {
      "application/vnd.jupyter.widget-view+json": {
       "model_id": "4c148fa7aab6429884582304acb9cf0f",
       "version_major": 2,
       "version_minor": 0
      },
      "text/plain": [
       "  0%|          | 0/60 [00:00<?, ?it/s]"
      ]
     },
     "metadata": {},
     "output_type": "display_data"
    },
    {
     "name": "stdout",
     "output_type": "stream",
     "text": [
      "completed hpcg smlprob bo 3827 (18000, 12) 0.20962977409362793 secs\n",
      "working on /usr/WS2/bolet1/ruby-benchmarks/exploreGlobalOptimizations/logs/hpcg-smlprob/bo-9999\n"
     ]
    },
    {
     "data": {
      "application/vnd.jupyter.widget-view+json": {
       "model_id": "cca7b1a23702460d8d4e480ae4520c3c",
       "version_major": 2,
       "version_minor": 0
      },
      "text/plain": [
       "  0%|          | 0/60 [00:00<?, ?it/s]"
      ]
     },
     "metadata": {},
     "output_type": "display_data"
    },
    {
     "name": "stdout",
     "output_type": "stream",
     "text": [
      "completed hpcg smlprob bo 9999 (18000, 12) 0.24145293235778809 secs\n",
      "working on /usr/WS2/bolet1/ruby-benchmarks/exploreGlobalOptimizations/logs/hpcg-smlprob/bo-4873\n"
     ]
    },
    {
     "data": {
      "application/vnd.jupyter.widget-view+json": {
       "model_id": "ba6856f459ac45c8a4dc731686a54689",
       "version_major": 2,
       "version_minor": 0
      },
      "text/plain": [
       "  0%|          | 0/60 [00:00<?, ?it/s]"
      ]
     },
     "metadata": {},
     "output_type": "display_data"
    },
    {
     "name": "stdout",
     "output_type": "stream",
     "text": [
      "completed hpcg smlprob bo 4873 (18000, 12) 0.21149849891662598 secs\n",
      "working on /usr/WS2/bolet1/ruby-benchmarks/exploreGlobalOptimizations/logs/hpcg-medprob/bo-1337\n"
     ]
    },
    {
     "data": {
      "application/vnd.jupyter.widget-view+json": {
       "model_id": "b7fc39f9c28f4666bdacebd44e01ed51",
       "version_major": 2,
       "version_minor": 0
      },
      "text/plain": [
       "  0%|          | 0/60 [00:00<?, ?it/s]"
      ]
     },
     "metadata": {},
     "output_type": "display_data"
    },
    {
     "name": "stdout",
     "output_type": "stream",
     "text": [
      "completed hpcg medprob bo 1337 (18000, 12) 0.20698094367980957 secs\n",
      "working on /usr/WS2/bolet1/ruby-benchmarks/exploreGlobalOptimizations/logs/hpcg-medprob/bo-3827\n"
     ]
    },
    {
     "data": {
      "application/vnd.jupyter.widget-view+json": {
       "model_id": "0abdcc71168647a4801f47e313c3082d",
       "version_major": 2,
       "version_minor": 0
      },
      "text/plain": [
       "  0%|          | 0/60 [00:00<?, ?it/s]"
      ]
     },
     "metadata": {},
     "output_type": "display_data"
    },
    {
     "name": "stdout",
     "output_type": "stream",
     "text": [
      "completed hpcg medprob bo 3827 (18000, 12) 0.22487592697143555 secs\n",
      "working on /usr/WS2/bolet1/ruby-benchmarks/exploreGlobalOptimizations/logs/hpcg-medprob/bo-9999\n"
     ]
    },
    {
     "data": {
      "application/vnd.jupyter.widget-view+json": {
       "model_id": "f7a59158ba4542b987dc9241e26ffa97",
       "version_major": 2,
       "version_minor": 0
      },
      "text/plain": [
       "  0%|          | 0/60 [00:00<?, ?it/s]"
      ]
     },
     "metadata": {},
     "output_type": "display_data"
    },
    {
     "name": "stdout",
     "output_type": "stream",
     "text": [
      "completed hpcg medprob bo 9999 (18000, 12) 0.22314047813415527 secs\n",
      "working on /usr/WS2/bolet1/ruby-benchmarks/exploreGlobalOptimizations/logs/hpcg-medprob/bo-4873\n"
     ]
    },
    {
     "data": {
      "application/vnd.jupyter.widget-view+json": {
       "model_id": "2beebf616e3c4969924a32a3b57bc91c",
       "version_major": 2,
       "version_minor": 0
      },
      "text/plain": [
       "  0%|          | 0/60 [00:00<?, ?it/s]"
      ]
     },
     "metadata": {},
     "output_type": "display_data"
    },
    {
     "name": "stdout",
     "output_type": "stream",
     "text": [
      "completed hpcg medprob bo 4873 (18000, 12) 0.2784137725830078 secs\n",
      "working on /usr/WS2/bolet1/ruby-benchmarks/exploreGlobalOptimizations/logs/hpcg-lrgprob/bo-1337\n"
     ]
    },
    {
     "data": {
      "application/vnd.jupyter.widget-view+json": {
       "model_id": "6dcb3996e5d54264996d916cddae07b5",
       "version_major": 2,
       "version_minor": 0
      },
      "text/plain": [
       "  0%|          | 0/60 [00:00<?, ?it/s]"
      ]
     },
     "metadata": {},
     "output_type": "display_data"
    },
    {
     "name": "stdout",
     "output_type": "stream",
     "text": [
      "completed hpcg lrgprob bo 1337 (18000, 12) 0.209716796875 secs\n",
      "working on /usr/WS2/bolet1/ruby-benchmarks/exploreGlobalOptimizations/logs/hpcg-lrgprob/bo-3827\n"
     ]
    },
    {
     "data": {
      "application/vnd.jupyter.widget-view+json": {
       "model_id": "864e9507bfb34a7a84624adf3291deeb",
       "version_major": 2,
       "version_minor": 0
      },
      "text/plain": [
       "  0%|          | 0/60 [00:00<?, ?it/s]"
      ]
     },
     "metadata": {},
     "output_type": "display_data"
    },
    {
     "name": "stdout",
     "output_type": "stream",
     "text": [
      "completed hpcg lrgprob bo 3827 (18000, 12) 0.2199382781982422 secs\n",
      "working on /usr/WS2/bolet1/ruby-benchmarks/exploreGlobalOptimizations/logs/hpcg-lrgprob/bo-9999\n"
     ]
    },
    {
     "data": {
      "application/vnd.jupyter.widget-view+json": {
       "model_id": "d60568c84ed6482d9a356bb56d63febb",
       "version_major": 2,
       "version_minor": 0
      },
      "text/plain": [
       "  0%|          | 0/60 [00:00<?, ?it/s]"
      ]
     },
     "metadata": {},
     "output_type": "display_data"
    },
    {
     "name": "stdout",
     "output_type": "stream",
     "text": [
      "completed hpcg lrgprob bo 9999 (18000, 12) 0.20707917213439941 secs\n",
      "working on /usr/WS2/bolet1/ruby-benchmarks/exploreGlobalOptimizations/logs/hpcg-lrgprob/bo-4873\n"
     ]
    },
    {
     "data": {
      "application/vnd.jupyter.widget-view+json": {
       "model_id": "0ea91d3b03a44162ba146e0da9902fb8",
       "version_major": 2,
       "version_minor": 0
      },
      "text/plain": [
       "  0%|          | 0/60 [00:00<?, ?it/s]"
      ]
     },
     "metadata": {},
     "output_type": "display_data"
    },
    {
     "name": "stdout",
     "output_type": "stream",
     "text": [
      "completed hpcg lrgprob bo 4873 (18000, 12) 0.22259902954101562 secs\n",
      "\n",
      "\n",
      " wrote: /usr/WS2/bolet1/ruby-benchmarks/exploreGlobalOptimizations/databases/ruby-hpcg-bo-GO_Data-baselineNorm.csv \n",
      "\n",
      "\n",
      "working on /usr/WS2/bolet1/ruby-benchmarks/exploreGlobalOptimizations/logs/lulesh-smlprob/bo-1337\n"
     ]
    },
    {
     "data": {
      "application/vnd.jupyter.widget-view+json": {
       "model_id": "4d3a4b4d690f4e97939786d019f2c3c4",
       "version_major": 2,
       "version_minor": 0
      },
      "text/plain": [
       "  0%|          | 0/60 [00:00<?, ?it/s]"
      ]
     },
     "metadata": {},
     "output_type": "display_data"
    },
    {
     "name": "stdout",
     "output_type": "stream",
     "text": [
      "completed lulesh smlprob bo 1337 (18000, 12) 0.20459318161010742 secs\n",
      "working on /usr/WS2/bolet1/ruby-benchmarks/exploreGlobalOptimizations/logs/lulesh-smlprob/bo-3827\n"
     ]
    },
    {
     "data": {
      "application/vnd.jupyter.widget-view+json": {
       "model_id": "9f6194e06af44e19a67f0c866abe5841",
       "version_major": 2,
       "version_minor": 0
      },
      "text/plain": [
       "  0%|          | 0/60 [00:00<?, ?it/s]"
      ]
     },
     "metadata": {},
     "output_type": "display_data"
    },
    {
     "name": "stdout",
     "output_type": "stream",
     "text": [
      "completed lulesh smlprob bo 3827 (18000, 12) 0.20946812629699707 secs\n",
      "working on /usr/WS2/bolet1/ruby-benchmarks/exploreGlobalOptimizations/logs/lulesh-smlprob/bo-9999\n"
     ]
    },
    {
     "data": {
      "application/vnd.jupyter.widget-view+json": {
       "model_id": "fdfb4956f2564a39a1ba3d6d806c0846",
       "version_major": 2,
       "version_minor": 0
      },
      "text/plain": [
       "  0%|          | 0/60 [00:00<?, ?it/s]"
      ]
     },
     "metadata": {},
     "output_type": "display_data"
    },
    {
     "name": "stdout",
     "output_type": "stream",
     "text": [
      "completed lulesh smlprob bo 9999 (18000, 12) 0.24309039115905762 secs\n",
      "working on /usr/WS2/bolet1/ruby-benchmarks/exploreGlobalOptimizations/logs/lulesh-smlprob/bo-4873\n"
     ]
    },
    {
     "data": {
      "application/vnd.jupyter.widget-view+json": {
       "model_id": "1fe78bad9dc54df7b38a98aa074a3fab",
       "version_major": 2,
       "version_minor": 0
      },
      "text/plain": [
       "  0%|          | 0/60 [00:00<?, ?it/s]"
      ]
     },
     "metadata": {},
     "output_type": "display_data"
    },
    {
     "name": "stdout",
     "output_type": "stream",
     "text": [
      "completed lulesh smlprob bo 4873 (18000, 12) 0.20408391952514648 secs\n",
      "working on /usr/WS2/bolet1/ruby-benchmarks/exploreGlobalOptimizations/logs/lulesh-medprob/bo-1337\n"
     ]
    },
    {
     "data": {
      "application/vnd.jupyter.widget-view+json": {
       "model_id": "68ff83e7c6e44963be3a0bf20eb3925e",
       "version_major": 2,
       "version_minor": 0
      },
      "text/plain": [
       "  0%|          | 0/60 [00:00<?, ?it/s]"
      ]
     },
     "metadata": {},
     "output_type": "display_data"
    },
    {
     "name": "stdout",
     "output_type": "stream",
     "text": [
      "completed lulesh medprob bo 1337 (18000, 12) 0.20058536529541016 secs\n",
      "working on /usr/WS2/bolet1/ruby-benchmarks/exploreGlobalOptimizations/logs/lulesh-medprob/bo-3827\n"
     ]
    },
    {
     "data": {
      "application/vnd.jupyter.widget-view+json": {
       "model_id": "54107202c6e14590842f674e5280bfdc",
       "version_major": 2,
       "version_minor": 0
      },
      "text/plain": [
       "  0%|          | 0/60 [00:00<?, ?it/s]"
      ]
     },
     "metadata": {},
     "output_type": "display_data"
    },
    {
     "name": "stdout",
     "output_type": "stream",
     "text": [
      "completed lulesh medprob bo 3827 (18000, 12) 0.2033538818359375 secs\n",
      "working on /usr/WS2/bolet1/ruby-benchmarks/exploreGlobalOptimizations/logs/lulesh-medprob/bo-9999\n"
     ]
    },
    {
     "data": {
      "application/vnd.jupyter.widget-view+json": {
       "model_id": "549c8c93577242758b2340eec250b0f8",
       "version_major": 2,
       "version_minor": 0
      },
      "text/plain": [
       "  0%|          | 0/60 [00:00<?, ?it/s]"
      ]
     },
     "metadata": {},
     "output_type": "display_data"
    },
    {
     "name": "stdout",
     "output_type": "stream",
     "text": [
      "completed lulesh medprob bo 9999 (18000, 12) 0.25542187690734863 secs\n",
      "working on /usr/WS2/bolet1/ruby-benchmarks/exploreGlobalOptimizations/logs/lulesh-medprob/bo-4873\n"
     ]
    },
    {
     "data": {
      "application/vnd.jupyter.widget-view+json": {
       "model_id": "9fec0a1fabcc4a37b8003f2e19bef246",
       "version_major": 2,
       "version_minor": 0
      },
      "text/plain": [
       "  0%|          | 0/60 [00:00<?, ?it/s]"
      ]
     },
     "metadata": {},
     "output_type": "display_data"
    },
    {
     "name": "stdout",
     "output_type": "stream",
     "text": [
      "completed lulesh medprob bo 4873 (18000, 12) 0.20050621032714844 secs\n",
      "working on /usr/WS2/bolet1/ruby-benchmarks/exploreGlobalOptimizations/logs/lulesh-lrgprob/bo-1337\n"
     ]
    },
    {
     "data": {
      "application/vnd.jupyter.widget-view+json": {
       "model_id": "9c16dd6457d144d8bb0f3f9ccce18b51",
       "version_major": 2,
       "version_minor": 0
      },
      "text/plain": [
       "  0%|          | 0/60 [00:00<?, ?it/s]"
      ]
     },
     "metadata": {},
     "output_type": "display_data"
    },
    {
     "name": "stdout",
     "output_type": "stream",
     "text": [
      "completed lulesh lrgprob bo 1337 (18000, 12) 0.20481586456298828 secs\n",
      "working on /usr/WS2/bolet1/ruby-benchmarks/exploreGlobalOptimizations/logs/lulesh-lrgprob/bo-3827\n"
     ]
    },
    {
     "data": {
      "application/vnd.jupyter.widget-view+json": {
       "model_id": "877f25137c0046549e7a8c82af743ec5",
       "version_major": 2,
       "version_minor": 0
      },
      "text/plain": [
       "  0%|          | 0/60 [00:00<?, ?it/s]"
      ]
     },
     "metadata": {},
     "output_type": "display_data"
    },
    {
     "name": "stdout",
     "output_type": "stream",
     "text": [
      "completed lulesh lrgprob bo 3827 (18000, 12) 0.20559024810791016 secs\n",
      "working on /usr/WS2/bolet1/ruby-benchmarks/exploreGlobalOptimizations/logs/lulesh-lrgprob/bo-9999\n"
     ]
    },
    {
     "data": {
      "application/vnd.jupyter.widget-view+json": {
       "model_id": "8282ee5d2273481588e9680ff75db1b8",
       "version_major": 2,
       "version_minor": 0
      },
      "text/plain": [
       "  0%|          | 0/60 [00:00<?, ?it/s]"
      ]
     },
     "metadata": {},
     "output_type": "display_data"
    },
    {
     "name": "stdout",
     "output_type": "stream",
     "text": [
      "completed lulesh lrgprob bo 9999 (18000, 12) 0.20517778396606445 secs\n",
      "working on /usr/WS2/bolet1/ruby-benchmarks/exploreGlobalOptimizations/logs/lulesh-lrgprob/bo-4873\n"
     ]
    },
    {
     "data": {
      "application/vnd.jupyter.widget-view+json": {
       "model_id": "e2c3e70707ee431db8ee7a9c9f12b5ab",
       "version_major": 2,
       "version_minor": 0
      },
      "text/plain": [
       "  0%|          | 0/60 [00:00<?, ?it/s]"
      ]
     },
     "metadata": {},
     "output_type": "display_data"
    },
    {
     "name": "stdout",
     "output_type": "stream",
     "text": [
      "completed lulesh lrgprob bo 4873 (18000, 12) 0.2111811637878418 secs\n",
      "\n",
      "\n",
      " wrote: /usr/WS2/bolet1/ruby-benchmarks/exploreGlobalOptimizations/databases/ruby-lulesh-bo-GO_Data-baselineNorm.csv \n",
      "\n",
      "\n",
      "working on /usr/WS2/bolet1/ruby-benchmarks/exploreGlobalOptimizations/logs/bt_nas-smlprob/cma-1337\n"
     ]
    },
    {
     "data": {
      "application/vnd.jupyter.widget-view+json": {
       "model_id": "8ca6f6981c4b41d7924776267f6177ab",
       "version_major": 2,
       "version_minor": 0
      },
      "text/plain": [
       "  0%|          | 0/100 [00:00<?, ?it/s]"
      ]
     },
     "metadata": {},
     "output_type": "display_data"
    },
    {
     "name": "stdout",
     "output_type": "stream",
     "text": [
      "completed bt_nas smlprob cma 1337 (30000, 9) 0.19400787353515625 secs\n",
      "working on /usr/WS2/bolet1/ruby-benchmarks/exploreGlobalOptimizations/logs/bt_nas-smlprob/cma-3827\n"
     ]
    },
    {
     "data": {
      "application/vnd.jupyter.widget-view+json": {
       "model_id": "ca097a4d6ba74ab29530bf013575247f",
       "version_major": 2,
       "version_minor": 0
      },
      "text/plain": [
       "  0%|          | 0/100 [00:00<?, ?it/s]"
      ]
     },
     "metadata": {},
     "output_type": "display_data"
    },
    {
     "name": "stdout",
     "output_type": "stream",
     "text": [
      "completed bt_nas smlprob cma 3827 (30000, 9) 0.1950218677520752 secs\n",
      "working on /usr/WS2/bolet1/ruby-benchmarks/exploreGlobalOptimizations/logs/bt_nas-smlprob/cma-9999\n"
     ]
    },
    {
     "data": {
      "application/vnd.jupyter.widget-view+json": {
       "model_id": "63009a587fec4d4a89c4e737d93c9ad3",
       "version_major": 2,
       "version_minor": 0
      },
      "text/plain": [
       "  0%|          | 0/100 [00:00<?, ?it/s]"
      ]
     },
     "metadata": {},
     "output_type": "display_data"
    },
    {
     "name": "stdout",
     "output_type": "stream",
     "text": [
      "completed bt_nas smlprob cma 9999 (30000, 9) 0.2013239860534668 secs\n",
      "working on /usr/WS2/bolet1/ruby-benchmarks/exploreGlobalOptimizations/logs/bt_nas-smlprob/cma-4873\n"
     ]
    },
    {
     "data": {
      "application/vnd.jupyter.widget-view+json": {
       "model_id": "3c7875cd52ce42a2a6d8fa3aaa40c7c2",
       "version_major": 2,
       "version_minor": 0
      },
      "text/plain": [
       "  0%|          | 0/100 [00:00<?, ?it/s]"
      ]
     },
     "metadata": {},
     "output_type": "display_data"
    },
    {
     "name": "stdout",
     "output_type": "stream",
     "text": [
      "completed bt_nas smlprob cma 4873 (30000, 9) 0.2720630168914795 secs\n",
      "working on /usr/WS2/bolet1/ruby-benchmarks/exploreGlobalOptimizations/logs/bt_nas-medprob/cma-1337\n"
     ]
    },
    {
     "data": {
      "application/vnd.jupyter.widget-view+json": {
       "model_id": "8596b6b9097a40b0a3008e3e88808c00",
       "version_major": 2,
       "version_minor": 0
      },
      "text/plain": [
       "  0%|          | 0/100 [00:00<?, ?it/s]"
      ]
     },
     "metadata": {},
     "output_type": "display_data"
    },
    {
     "name": "stdout",
     "output_type": "stream",
     "text": [
      "completed bt_nas medprob cma 1337 (30000, 9) 0.19753384590148926 secs\n",
      "working on /usr/WS2/bolet1/ruby-benchmarks/exploreGlobalOptimizations/logs/bt_nas-medprob/cma-3827\n"
     ]
    },
    {
     "data": {
      "application/vnd.jupyter.widget-view+json": {
       "model_id": "a378251d98e8481d8d7552e3ed32e75c",
       "version_major": 2,
       "version_minor": 0
      },
      "text/plain": [
       "  0%|          | 0/100 [00:00<?, ?it/s]"
      ]
     },
     "metadata": {},
     "output_type": "display_data"
    },
    {
     "name": "stdout",
     "output_type": "stream",
     "text": [
      "completed bt_nas medprob cma 3827 (30000, 9) 0.19504570960998535 secs\n",
      "working on /usr/WS2/bolet1/ruby-benchmarks/exploreGlobalOptimizations/logs/bt_nas-medprob/cma-9999\n"
     ]
    },
    {
     "data": {
      "application/vnd.jupyter.widget-view+json": {
       "model_id": "515ebbd994b348ebb48a1ec186ed7fc6",
       "version_major": 2,
       "version_minor": 0
      },
      "text/plain": [
       "  0%|          | 0/100 [00:00<?, ?it/s]"
      ]
     },
     "metadata": {},
     "output_type": "display_data"
    },
    {
     "name": "stdout",
     "output_type": "stream",
     "text": [
      "completed bt_nas medprob cma 9999 (30000, 9) 0.20050692558288574 secs\n",
      "working on /usr/WS2/bolet1/ruby-benchmarks/exploreGlobalOptimizations/logs/bt_nas-medprob/cma-4873\n"
     ]
    },
    {
     "data": {
      "application/vnd.jupyter.widget-view+json": {
       "model_id": "eb7fd85fad474a1b99af020e0e756aa6",
       "version_major": 2,
       "version_minor": 0
      },
      "text/plain": [
       "  0%|          | 0/100 [00:00<?, ?it/s]"
      ]
     },
     "metadata": {},
     "output_type": "display_data"
    },
    {
     "name": "stdout",
     "output_type": "stream",
     "text": [
      "completed bt_nas medprob cma 4873 (30000, 9) 0.18371915817260742 secs\n",
      "working on /usr/WS2/bolet1/ruby-benchmarks/exploreGlobalOptimizations/logs/bt_nas-lrgprob/cma-1337\n"
     ]
    },
    {
     "data": {
      "application/vnd.jupyter.widget-view+json": {
       "model_id": "0c374f264cbb4210881bf4fc06ae5701",
       "version_major": 2,
       "version_minor": 0
      },
      "text/plain": [
       "  0%|          | 0/100 [00:00<?, ?it/s]"
      ]
     },
     "metadata": {},
     "output_type": "display_data"
    },
    {
     "name": "stdout",
     "output_type": "stream",
     "text": [
      "completed bt_nas lrgprob cma 1337 (30000, 9) 0.19434571266174316 secs\n",
      "working on /usr/WS2/bolet1/ruby-benchmarks/exploreGlobalOptimizations/logs/bt_nas-lrgprob/cma-3827\n"
     ]
    },
    {
     "data": {
      "application/vnd.jupyter.widget-view+json": {
       "model_id": "3d83bb8c54bd4a20b84698bb2e245e42",
       "version_major": 2,
       "version_minor": 0
      },
      "text/plain": [
       "  0%|          | 0/100 [00:00<?, ?it/s]"
      ]
     },
     "metadata": {},
     "output_type": "display_data"
    },
    {
     "name": "stdout",
     "output_type": "stream",
     "text": [
      "completed bt_nas lrgprob cma 3827 (30000, 9) 0.20527029037475586 secs\n",
      "working on /usr/WS2/bolet1/ruby-benchmarks/exploreGlobalOptimizations/logs/bt_nas-lrgprob/cma-9999\n"
     ]
    },
    {
     "data": {
      "application/vnd.jupyter.widget-view+json": {
       "model_id": "c86e9c90894f40cdb6e0d27397c0bf97",
       "version_major": 2,
       "version_minor": 0
      },
      "text/plain": [
       "  0%|          | 0/100 [00:00<?, ?it/s]"
      ]
     },
     "metadata": {},
     "output_type": "display_data"
    },
    {
     "name": "stdout",
     "output_type": "stream",
     "text": [
      "completed bt_nas lrgprob cma 9999 (30000, 9) 0.21852469444274902 secs\n",
      "working on /usr/WS2/bolet1/ruby-benchmarks/exploreGlobalOptimizations/logs/bt_nas-lrgprob/cma-4873\n"
     ]
    },
    {
     "data": {
      "application/vnd.jupyter.widget-view+json": {
       "model_id": "dc967a9062be408b9be185470caafdcf",
       "version_major": 2,
       "version_minor": 0
      },
      "text/plain": [
       "  0%|          | 0/100 [00:00<?, ?it/s]"
      ]
     },
     "metadata": {},
     "output_type": "display_data"
    },
    {
     "name": "stdout",
     "output_type": "stream",
     "text": [
      "completed bt_nas lrgprob cma 4873 (30000, 9) 0.2508695125579834 secs\n",
      "\n",
      "\n",
      " wrote: /usr/WS2/bolet1/ruby-benchmarks/exploreGlobalOptimizations/databases/ruby-bt_nas-cma-GO_Data-minMaxNorm.csv \n",
      "\n",
      "\n",
      "working on /usr/WS2/bolet1/ruby-benchmarks/exploreGlobalOptimizations/logs/ft_nas-smlprob/cma-1337\n"
     ]
    },
    {
     "data": {
      "application/vnd.jupyter.widget-view+json": {
       "model_id": "2b8999fd3d384419850843c0f6f5e29b",
       "version_major": 2,
       "version_minor": 0
      },
      "text/plain": [
       "  0%|          | 0/100 [00:00<?, ?it/s]"
      ]
     },
     "metadata": {},
     "output_type": "display_data"
    },
    {
     "name": "stdout",
     "output_type": "stream",
     "text": [
      "completed ft_nas smlprob cma 1337 (30000, 9) 0.19867157936096191 secs\n",
      "working on /usr/WS2/bolet1/ruby-benchmarks/exploreGlobalOptimizations/logs/ft_nas-smlprob/cma-3827\n"
     ]
    },
    {
     "data": {
      "application/vnd.jupyter.widget-view+json": {
       "model_id": "caeeffc83dac4d038ecb3d5bb25f38f3",
       "version_major": 2,
       "version_minor": 0
      },
      "text/plain": [
       "  0%|          | 0/100 [00:00<?, ?it/s]"
      ]
     },
     "metadata": {},
     "output_type": "display_data"
    },
    {
     "name": "stdout",
     "output_type": "stream",
     "text": [
      "completed ft_nas smlprob cma 3827 (30000, 9) 0.19861888885498047 secs\n",
      "working on /usr/WS2/bolet1/ruby-benchmarks/exploreGlobalOptimizations/logs/ft_nas-smlprob/cma-9999\n"
     ]
    },
    {
     "data": {
      "application/vnd.jupyter.widget-view+json": {
       "model_id": "c7e926f8a3fb48059436af9023115a5b",
       "version_major": 2,
       "version_minor": 0
      },
      "text/plain": [
       "  0%|          | 0/100 [00:00<?, ?it/s]"
      ]
     },
     "metadata": {},
     "output_type": "display_data"
    },
    {
     "name": "stdout",
     "output_type": "stream",
     "text": [
      "completed ft_nas smlprob cma 9999 (30000, 9) 0.1954362392425537 secs\n",
      "working on /usr/WS2/bolet1/ruby-benchmarks/exploreGlobalOptimizations/logs/ft_nas-smlprob/cma-4873\n"
     ]
    },
    {
     "data": {
      "application/vnd.jupyter.widget-view+json": {
       "model_id": "7465ad4129824541a3f7e32aa3d1467f",
       "version_major": 2,
       "version_minor": 0
      },
      "text/plain": [
       "  0%|          | 0/100 [00:00<?, ?it/s]"
      ]
     },
     "metadata": {},
     "output_type": "display_data"
    },
    {
     "name": "stdout",
     "output_type": "stream",
     "text": [
      "completed ft_nas smlprob cma 4873 (30000, 9) 0.19631743431091309 secs\n",
      "working on /usr/WS2/bolet1/ruby-benchmarks/exploreGlobalOptimizations/logs/ft_nas-medprob/cma-1337\n"
     ]
    },
    {
     "data": {
      "application/vnd.jupyter.widget-view+json": {
       "model_id": "fd87c04a4c4f4e46a6dd6b5639b9f15d",
       "version_major": 2,
       "version_minor": 0
      },
      "text/plain": [
       "  0%|          | 0/100 [00:00<?, ?it/s]"
      ]
     },
     "metadata": {},
     "output_type": "display_data"
    },
    {
     "name": "stdout",
     "output_type": "stream",
     "text": [
      "completed ft_nas medprob cma 1337 (30000, 9) 0.19587016105651855 secs\n",
      "working on /usr/WS2/bolet1/ruby-benchmarks/exploreGlobalOptimizations/logs/ft_nas-medprob/cma-3827\n"
     ]
    },
    {
     "data": {
      "application/vnd.jupyter.widget-view+json": {
       "model_id": "1e122b4c6ff94529b4429acef60aee12",
       "version_major": 2,
       "version_minor": 0
      },
      "text/plain": [
       "  0%|          | 0/100 [00:00<?, ?it/s]"
      ]
     },
     "metadata": {},
     "output_type": "display_data"
    },
    {
     "name": "stdout",
     "output_type": "stream",
     "text": [
      "completed ft_nas medprob cma 3827 (30000, 9) 0.19137096405029297 secs\n",
      "working on /usr/WS2/bolet1/ruby-benchmarks/exploreGlobalOptimizations/logs/ft_nas-medprob/cma-9999\n"
     ]
    },
    {
     "data": {
      "application/vnd.jupyter.widget-view+json": {
       "model_id": "4092dbb800c2469b9a4f181413346d84",
       "version_major": 2,
       "version_minor": 0
      },
      "text/plain": [
       "  0%|          | 0/100 [00:00<?, ?it/s]"
      ]
     },
     "metadata": {},
     "output_type": "display_data"
    },
    {
     "name": "stdout",
     "output_type": "stream",
     "text": [
      "completed ft_nas medprob cma 9999 (30000, 9) 0.2556755542755127 secs\n",
      "working on /usr/WS2/bolet1/ruby-benchmarks/exploreGlobalOptimizations/logs/ft_nas-medprob/cma-4873\n"
     ]
    },
    {
     "data": {
      "application/vnd.jupyter.widget-view+json": {
       "model_id": "be98370616c34298b7b1e4dda1764f10",
       "version_major": 2,
       "version_minor": 0
      },
      "text/plain": [
       "  0%|          | 0/100 [00:00<?, ?it/s]"
      ]
     },
     "metadata": {},
     "output_type": "display_data"
    },
    {
     "name": "stdout",
     "output_type": "stream",
     "text": [
      "completed ft_nas medprob cma 4873 (30000, 9) 0.19830060005187988 secs\n",
      "working on /usr/WS2/bolet1/ruby-benchmarks/exploreGlobalOptimizations/logs/ft_nas-lrgprob/cma-1337\n"
     ]
    },
    {
     "data": {
      "application/vnd.jupyter.widget-view+json": {
       "model_id": "629cecbfc88e48dfb0a398287d952592",
       "version_major": 2,
       "version_minor": 0
      },
      "text/plain": [
       "  0%|          | 0/100 [00:00<?, ?it/s]"
      ]
     },
     "metadata": {},
     "output_type": "display_data"
    },
    {
     "name": "stdout",
     "output_type": "stream",
     "text": [
      "completed ft_nas lrgprob cma 1337 (30000, 9) 0.19465398788452148 secs\n",
      "working on /usr/WS2/bolet1/ruby-benchmarks/exploreGlobalOptimizations/logs/ft_nas-lrgprob/cma-3827\n"
     ]
    },
    {
     "data": {
      "application/vnd.jupyter.widget-view+json": {
       "model_id": "a9335c2dc8ea4a68a6c264b9746cd90b",
       "version_major": 2,
       "version_minor": 0
      },
      "text/plain": [
       "  0%|          | 0/100 [00:00<?, ?it/s]"
      ]
     },
     "metadata": {},
     "output_type": "display_data"
    },
    {
     "name": "stdout",
     "output_type": "stream",
     "text": [
      "completed ft_nas lrgprob cma 3827 (30000, 9) 0.19400668144226074 secs\n",
      "working on /usr/WS2/bolet1/ruby-benchmarks/exploreGlobalOptimizations/logs/ft_nas-lrgprob/cma-9999\n"
     ]
    },
    {
     "data": {
      "application/vnd.jupyter.widget-view+json": {
       "model_id": "5c7ba1fab69c408bb2c04fbaccdd2279",
       "version_major": 2,
       "version_minor": 0
      },
      "text/plain": [
       "  0%|          | 0/100 [00:00<?, ?it/s]"
      ]
     },
     "metadata": {},
     "output_type": "display_data"
    },
    {
     "name": "stdout",
     "output_type": "stream",
     "text": [
      "completed ft_nas lrgprob cma 9999 (30000, 9) 0.19456052780151367 secs\n",
      "working on /usr/WS2/bolet1/ruby-benchmarks/exploreGlobalOptimizations/logs/ft_nas-lrgprob/cma-4873\n"
     ]
    },
    {
     "data": {
      "application/vnd.jupyter.widget-view+json": {
       "model_id": "7911d2cdde704a7f8023ba329958a143",
       "version_major": 2,
       "version_minor": 0
      },
      "text/plain": [
       "  0%|          | 0/100 [00:00<?, ?it/s]"
      ]
     },
     "metadata": {},
     "output_type": "display_data"
    },
    {
     "name": "stdout",
     "output_type": "stream",
     "text": [
      "completed ft_nas lrgprob cma 4873 (30000, 9) 0.19481110572814941 secs\n",
      "\n",
      "\n",
      " wrote: /usr/WS2/bolet1/ruby-benchmarks/exploreGlobalOptimizations/databases/ruby-ft_nas-cma-GO_Data-minMaxNorm.csv \n",
      "\n",
      "\n",
      "working on /usr/WS2/bolet1/ruby-benchmarks/exploreGlobalOptimizations/logs/hpcg-smlprob/cma-1337\n"
     ]
    },
    {
     "data": {
      "application/vnd.jupyter.widget-view+json": {
       "model_id": "bcd12a03f13141c695dc5ed774eec9be",
       "version_major": 2,
       "version_minor": 0
      },
      "text/plain": [
       "  0%|          | 0/100 [00:00<?, ?it/s]"
      ]
     },
     "metadata": {},
     "output_type": "display_data"
    },
    {
     "name": "stdout",
     "output_type": "stream",
     "text": [
      "completed hpcg smlprob cma 1337 (30000, 9) 0.19517278671264648 secs\n",
      "working on /usr/WS2/bolet1/ruby-benchmarks/exploreGlobalOptimizations/logs/hpcg-smlprob/cma-3827\n"
     ]
    },
    {
     "data": {
      "application/vnd.jupyter.widget-view+json": {
       "model_id": "8519904a93ca450f872e2a447c3d8f23",
       "version_major": 2,
       "version_minor": 0
      },
      "text/plain": [
       "  0%|          | 0/100 [00:00<?, ?it/s]"
      ]
     },
     "metadata": {},
     "output_type": "display_data"
    },
    {
     "name": "stdout",
     "output_type": "stream",
     "text": [
      "completed hpcg smlprob cma 3827 (30000, 9) 0.2615172863006592 secs\n",
      "working on /usr/WS2/bolet1/ruby-benchmarks/exploreGlobalOptimizations/logs/hpcg-smlprob/cma-9999\n"
     ]
    },
    {
     "data": {
      "application/vnd.jupyter.widget-view+json": {
       "model_id": "d9b6e702ee904a9f94d206c5d2368acc",
       "version_major": 2,
       "version_minor": 0
      },
      "text/plain": [
       "  0%|          | 0/100 [00:00<?, ?it/s]"
      ]
     },
     "metadata": {},
     "output_type": "display_data"
    },
    {
     "name": "stdout",
     "output_type": "stream",
     "text": [
      "completed hpcg smlprob cma 9999 (30000, 9) 0.19550323486328125 secs\n",
      "working on /usr/WS2/bolet1/ruby-benchmarks/exploreGlobalOptimizations/logs/hpcg-smlprob/cma-4873\n"
     ]
    },
    {
     "data": {
      "application/vnd.jupyter.widget-view+json": {
       "model_id": "a9f410c030364f0d9976a0d5c647906a",
       "version_major": 2,
       "version_minor": 0
      },
      "text/plain": [
       "  0%|          | 0/100 [00:00<?, ?it/s]"
      ]
     },
     "metadata": {},
     "output_type": "display_data"
    },
    {
     "name": "stdout",
     "output_type": "stream",
     "text": [
      "completed hpcg smlprob cma 4873 (30000, 9) 0.19559049606323242 secs\n",
      "working on /usr/WS2/bolet1/ruby-benchmarks/exploreGlobalOptimizations/logs/hpcg-medprob/cma-1337\n"
     ]
    },
    {
     "data": {
      "application/vnd.jupyter.widget-view+json": {
       "model_id": "ce25392f76064defb6dfcaac46d1b39a",
       "version_major": 2,
       "version_minor": 0
      },
      "text/plain": [
       "  0%|          | 0/100 [00:00<?, ?it/s]"
      ]
     },
     "metadata": {},
     "output_type": "display_data"
    },
    {
     "name": "stdout",
     "output_type": "stream",
     "text": [
      "completed hpcg medprob cma 1337 (30000, 9) 0.20585417747497559 secs\n",
      "working on /usr/WS2/bolet1/ruby-benchmarks/exploreGlobalOptimizations/logs/hpcg-medprob/cma-3827\n"
     ]
    },
    {
     "data": {
      "application/vnd.jupyter.widget-view+json": {
       "model_id": "2bf33a27b182456fad38766b179fbe03",
       "version_major": 2,
       "version_minor": 0
      },
      "text/plain": [
       "  0%|          | 0/100 [00:00<?, ?it/s]"
      ]
     },
     "metadata": {},
     "output_type": "display_data"
    },
    {
     "name": "stdout",
     "output_type": "stream",
     "text": [
      "completed hpcg medprob cma 3827 (30000, 9) 0.19867944717407227 secs\n",
      "working on /usr/WS2/bolet1/ruby-benchmarks/exploreGlobalOptimizations/logs/hpcg-medprob/cma-9999\n"
     ]
    },
    {
     "data": {
      "application/vnd.jupyter.widget-view+json": {
       "model_id": "690b9d5f887b4186ba726374f445ee34",
       "version_major": 2,
       "version_minor": 0
      },
      "text/plain": [
       "  0%|          | 0/100 [00:00<?, ?it/s]"
      ]
     },
     "metadata": {},
     "output_type": "display_data"
    },
    {
     "name": "stdout",
     "output_type": "stream",
     "text": [
      "completed hpcg medprob cma 9999 (30000, 9) 0.20139575004577637 secs\n",
      "working on /usr/WS2/bolet1/ruby-benchmarks/exploreGlobalOptimizations/logs/hpcg-medprob/cma-4873\n"
     ]
    },
    {
     "data": {
      "application/vnd.jupyter.widget-view+json": {
       "model_id": "227afa5b3cbc4cdb83195f0ddab63be6",
       "version_major": 2,
       "version_minor": 0
      },
      "text/plain": [
       "  0%|          | 0/100 [00:00<?, ?it/s]"
      ]
     },
     "metadata": {},
     "output_type": "display_data"
    },
    {
     "name": "stdout",
     "output_type": "stream",
     "text": [
      "completed hpcg medprob cma 4873 (30000, 9) 0.20573878288269043 secs\n",
      "working on /usr/WS2/bolet1/ruby-benchmarks/exploreGlobalOptimizations/logs/hpcg-lrgprob/cma-1337\n"
     ]
    },
    {
     "data": {
      "application/vnd.jupyter.widget-view+json": {
       "model_id": "70ea406a4d6b46cb9536814700a4ca76",
       "version_major": 2,
       "version_minor": 0
      },
      "text/plain": [
       "  0%|          | 0/100 [00:00<?, ?it/s]"
      ]
     },
     "metadata": {},
     "output_type": "display_data"
    },
    {
     "name": "stdout",
     "output_type": "stream",
     "text": [
      "completed hpcg lrgprob cma 1337 (30000, 9) 0.20482373237609863 secs\n",
      "working on /usr/WS2/bolet1/ruby-benchmarks/exploreGlobalOptimizations/logs/hpcg-lrgprob/cma-3827\n"
     ]
    },
    {
     "data": {
      "application/vnd.jupyter.widget-view+json": {
       "model_id": "2572581545894263a8afc988231a1608",
       "version_major": 2,
       "version_minor": 0
      },
      "text/plain": [
       "  0%|          | 0/100 [00:00<?, ?it/s]"
      ]
     },
     "metadata": {},
     "output_type": "display_data"
    },
    {
     "name": "stdout",
     "output_type": "stream",
     "text": [
      "completed hpcg lrgprob cma 3827 (30000, 9) 0.26855039596557617 secs\n",
      "working on /usr/WS2/bolet1/ruby-benchmarks/exploreGlobalOptimizations/logs/hpcg-lrgprob/cma-9999\n"
     ]
    },
    {
     "data": {
      "application/vnd.jupyter.widget-view+json": {
       "model_id": "716f1d4814a3421395cd5b958a5e0cd1",
       "version_major": 2,
       "version_minor": 0
      },
      "text/plain": [
       "  0%|          | 0/100 [00:00<?, ?it/s]"
      ]
     },
     "metadata": {},
     "output_type": "display_data"
    },
    {
     "name": "stdout",
     "output_type": "stream",
     "text": [
      "completed hpcg lrgprob cma 9999 (30000, 9) 0.20528149604797363 secs\n",
      "working on /usr/WS2/bolet1/ruby-benchmarks/exploreGlobalOptimizations/logs/hpcg-lrgprob/cma-4873\n"
     ]
    },
    {
     "data": {
      "application/vnd.jupyter.widget-view+json": {
       "model_id": "e6c5da2e78c746efb5f341ee93727fe6",
       "version_major": 2,
       "version_minor": 0
      },
      "text/plain": [
       "  0%|          | 0/100 [00:00<?, ?it/s]"
      ]
     },
     "metadata": {},
     "output_type": "display_data"
    },
    {
     "name": "stdout",
     "output_type": "stream",
     "text": [
      "completed hpcg lrgprob cma 4873 (30000, 9) 0.20305871963500977 secs\n",
      "\n",
      "\n",
      " wrote: /usr/WS2/bolet1/ruby-benchmarks/exploreGlobalOptimizations/databases/ruby-hpcg-cma-GO_Data-minMaxNorm.csv \n",
      "\n",
      "\n",
      "working on /usr/WS2/bolet1/ruby-benchmarks/exploreGlobalOptimizations/logs/lulesh-smlprob/cma-1337\n"
     ]
    },
    {
     "data": {
      "application/vnd.jupyter.widget-view+json": {
       "model_id": "17eb7a7108ab4c6ebf722d3f06a7c296",
       "version_major": 2,
       "version_minor": 0
      },
      "text/plain": [
       "  0%|          | 0/100 [00:00<?, ?it/s]"
      ]
     },
     "metadata": {},
     "output_type": "display_data"
    },
    {
     "name": "stdout",
     "output_type": "stream",
     "text": [
      "completed lulesh smlprob cma 1337 (30000, 9) 0.21493816375732422 secs\n",
      "working on /usr/WS2/bolet1/ruby-benchmarks/exploreGlobalOptimizations/logs/lulesh-smlprob/cma-3827\n"
     ]
    },
    {
     "data": {
      "application/vnd.jupyter.widget-view+json": {
       "model_id": "c2d42fb347154ac5ae8f28051270ffbd",
       "version_major": 2,
       "version_minor": 0
      },
      "text/plain": [
       "  0%|          | 0/100 [00:00<?, ?it/s]"
      ]
     },
     "metadata": {},
     "output_type": "display_data"
    },
    {
     "name": "stdout",
     "output_type": "stream",
     "text": [
      "completed lulesh smlprob cma 3827 (30000, 9) 0.21748042106628418 secs\n",
      "working on /usr/WS2/bolet1/ruby-benchmarks/exploreGlobalOptimizations/logs/lulesh-smlprob/cma-9999\n"
     ]
    },
    {
     "data": {
      "application/vnd.jupyter.widget-view+json": {
       "model_id": "288f78d38399441fa0a5006776c49a1c",
       "version_major": 2,
       "version_minor": 0
      },
      "text/plain": [
       "  0%|          | 0/100 [00:00<?, ?it/s]"
      ]
     },
     "metadata": {},
     "output_type": "display_data"
    },
    {
     "name": "stdout",
     "output_type": "stream",
     "text": [
      "completed lulesh smlprob cma 9999 (30000, 9) 0.21125340461730957 secs\n",
      "working on /usr/WS2/bolet1/ruby-benchmarks/exploreGlobalOptimizations/logs/lulesh-smlprob/cma-4873\n"
     ]
    },
    {
     "data": {
      "application/vnd.jupyter.widget-view+json": {
       "model_id": "c8fe7704a41743848ad8bb4e2da78623",
       "version_major": 2,
       "version_minor": 0
      },
      "text/plain": [
       "  0%|          | 0/100 [00:00<?, ?it/s]"
      ]
     },
     "metadata": {},
     "output_type": "display_data"
    },
    {
     "name": "stdout",
     "output_type": "stream",
     "text": [
      "completed lulesh smlprob cma 4873 (30000, 9) 0.22045254707336426 secs\n",
      "working on /usr/WS2/bolet1/ruby-benchmarks/exploreGlobalOptimizations/logs/lulesh-medprob/cma-1337\n"
     ]
    },
    {
     "data": {
      "application/vnd.jupyter.widget-view+json": {
       "model_id": "b8028a2726a141d38ac6ebf42997e9d7",
       "version_major": 2,
       "version_minor": 0
      },
      "text/plain": [
       "  0%|          | 0/100 [00:00<?, ?it/s]"
      ]
     },
     "metadata": {},
     "output_type": "display_data"
    },
    {
     "name": "stdout",
     "output_type": "stream",
     "text": [
      "completed lulesh medprob cma 1337 (30000, 9) 0.2943103313446045 secs\n",
      "working on /usr/WS2/bolet1/ruby-benchmarks/exploreGlobalOptimizations/logs/lulesh-medprob/cma-3827\n"
     ]
    },
    {
     "data": {
      "application/vnd.jupyter.widget-view+json": {
       "model_id": "0a49b31c8dd34ca2bb1a5afc5ce00e92",
       "version_major": 2,
       "version_minor": 0
      },
      "text/plain": [
       "  0%|          | 0/100 [00:00<?, ?it/s]"
      ]
     },
     "metadata": {},
     "output_type": "display_data"
    },
    {
     "name": "stdout",
     "output_type": "stream",
     "text": [
      "completed lulesh medprob cma 3827 (30000, 9) 0.22575902938842773 secs\n",
      "working on /usr/WS2/bolet1/ruby-benchmarks/exploreGlobalOptimizations/logs/lulesh-medprob/cma-9999\n"
     ]
    },
    {
     "data": {
      "application/vnd.jupyter.widget-view+json": {
       "model_id": "561240038c254839b7967ddf78ddb147",
       "version_major": 2,
       "version_minor": 0
      },
      "text/plain": [
       "  0%|          | 0/100 [00:00<?, ?it/s]"
      ]
     },
     "metadata": {},
     "output_type": "display_data"
    },
    {
     "name": "stdout",
     "output_type": "stream",
     "text": [
      "completed lulesh medprob cma 9999 (30000, 9) 0.20874333381652832 secs\n",
      "working on /usr/WS2/bolet1/ruby-benchmarks/exploreGlobalOptimizations/logs/lulesh-medprob/cma-4873\n"
     ]
    },
    {
     "data": {
      "application/vnd.jupyter.widget-view+json": {
       "model_id": "5b37e32e7a634a079f222cef6b0e8f8b",
       "version_major": 2,
       "version_minor": 0
      },
      "text/plain": [
       "  0%|          | 0/100 [00:00<?, ?it/s]"
      ]
     },
     "metadata": {},
     "output_type": "display_data"
    },
    {
     "name": "stdout",
     "output_type": "stream",
     "text": [
      "completed lulesh medprob cma 4873 (30000, 9) 0.22334527969360352 secs\n",
      "working on /usr/WS2/bolet1/ruby-benchmarks/exploreGlobalOptimizations/logs/lulesh-lrgprob/cma-1337\n"
     ]
    },
    {
     "data": {
      "application/vnd.jupyter.widget-view+json": {
       "model_id": "9a2a6bd0f02c44f9a133fc20aa1b0c6e",
       "version_major": 2,
       "version_minor": 0
      },
      "text/plain": [
       "  0%|          | 0/100 [00:00<?, ?it/s]"
      ]
     },
     "metadata": {},
     "output_type": "display_data"
    },
    {
     "name": "stdout",
     "output_type": "stream",
     "text": [
      "completed lulesh lrgprob cma 1337 (30000, 9) 0.22057723999023438 secs\n",
      "working on /usr/WS2/bolet1/ruby-benchmarks/exploreGlobalOptimizations/logs/lulesh-lrgprob/cma-3827\n"
     ]
    },
    {
     "data": {
      "application/vnd.jupyter.widget-view+json": {
       "model_id": "e45f62ab00ff4fb6803f101758a01a36",
       "version_major": 2,
       "version_minor": 0
      },
      "text/plain": [
       "  0%|          | 0/100 [00:00<?, ?it/s]"
      ]
     },
     "metadata": {},
     "output_type": "display_data"
    },
    {
     "name": "stdout",
     "output_type": "stream",
     "text": [
      "completed lulesh lrgprob cma 3827 (30000, 9) 0.225022554397583 secs\n",
      "working on /usr/WS2/bolet1/ruby-benchmarks/exploreGlobalOptimizations/logs/lulesh-lrgprob/cma-9999\n"
     ]
    },
    {
     "data": {
      "application/vnd.jupyter.widget-view+json": {
       "model_id": "b4b318df5d984799be7a33bf665c0cc7",
       "version_major": 2,
       "version_minor": 0
      },
      "text/plain": [
       "  0%|          | 0/100 [00:00<?, ?it/s]"
      ]
     },
     "metadata": {},
     "output_type": "display_data"
    },
    {
     "name": "stdout",
     "output_type": "stream",
     "text": [
      "completed lulesh lrgprob cma 9999 (30000, 9) 0.22321629524230957 secs\n",
      "working on /usr/WS2/bolet1/ruby-benchmarks/exploreGlobalOptimizations/logs/lulesh-lrgprob/cma-4873\n"
     ]
    },
    {
     "data": {
      "application/vnd.jupyter.widget-view+json": {
       "model_id": "c7b0ab4234d4414b8e6f7e5086f7a335",
       "version_major": 2,
       "version_minor": 0
      },
      "text/plain": [
       "  0%|          | 0/100 [00:00<?, ?it/s]"
      ]
     },
     "metadata": {},
     "output_type": "display_data"
    },
    {
     "name": "stdout",
     "output_type": "stream",
     "text": [
      "completed lulesh lrgprob cma 4873 (30000, 9) 0.285611629486084 secs\n",
      "\n",
      "\n",
      " wrote: /usr/WS2/bolet1/ruby-benchmarks/exploreGlobalOptimizations/databases/ruby-lulesh-cma-GO_Data-minMaxNorm.csv \n",
      "\n",
      "\n",
      "working on /usr/WS2/bolet1/ruby-benchmarks/exploreGlobalOptimizations/logs/bt_nas-smlprob/pso-1337\n"
     ]
    },
    {
     "data": {
      "application/vnd.jupyter.widget-view+json": {
       "model_id": "a8c9114a0cae4c328b87691cade34355",
       "version_major": 2,
       "version_minor": 0
      },
      "text/plain": [
       "  0%|          | 0/1250 [00:00<?, ?it/s]"
      ]
     },
     "metadata": {},
     "output_type": "display_data"
    },
    {
     "name": "stdout",
     "output_type": "stream",
     "text": [
      "completed bt_nas smlprob pso 1337 (375000, 11) 3.147184133529663 secs\n",
      "working on /usr/WS2/bolet1/ruby-benchmarks/exploreGlobalOptimizations/logs/bt_nas-smlprob/pso-3827\n"
     ]
    },
    {
     "data": {
      "application/vnd.jupyter.widget-view+json": {
       "model_id": "dcdcb10d139444dbbe6872e4600245f5",
       "version_major": 2,
       "version_minor": 0
      },
      "text/plain": [
       "  0%|          | 0/1250 [00:00<?, ?it/s]"
      ]
     },
     "metadata": {},
     "output_type": "display_data"
    },
    {
     "name": "stdout",
     "output_type": "stream",
     "text": [
      "completed bt_nas smlprob pso 3827 (375000, 11) 3.375247001647949 secs\n",
      "working on /usr/WS2/bolet1/ruby-benchmarks/exploreGlobalOptimizations/logs/bt_nas-smlprob/pso-9999\n"
     ]
    },
    {
     "data": {
      "application/vnd.jupyter.widget-view+json": {
       "model_id": "09e3367bf51d45a3b5101769b210947e",
       "version_major": 2,
       "version_minor": 0
      },
      "text/plain": [
       "  0%|          | 0/1250 [00:00<?, ?it/s]"
      ]
     },
     "metadata": {},
     "output_type": "display_data"
    },
    {
     "name": "stdout",
     "output_type": "stream",
     "text": [
      "completed bt_nas smlprob pso 9999 (375000, 11) 3.0400378704071045 secs\n",
      "working on /usr/WS2/bolet1/ruby-benchmarks/exploreGlobalOptimizations/logs/bt_nas-smlprob/pso-4873\n"
     ]
    },
    {
     "data": {
      "application/vnd.jupyter.widget-view+json": {
       "model_id": "e7a57d44688345bfa4e60fc0738aaded",
       "version_major": 2,
       "version_minor": 0
      },
      "text/plain": [
       "  0%|          | 0/1250 [00:00<?, ?it/s]"
      ]
     },
     "metadata": {},
     "output_type": "display_data"
    },
    {
     "name": "stdout",
     "output_type": "stream",
     "text": [
      "completed bt_nas smlprob pso 4873 (375000, 11) 3.25209641456604 secs\n",
      "working on /usr/WS2/bolet1/ruby-benchmarks/exploreGlobalOptimizations/logs/bt_nas-medprob/pso-1337\n"
     ]
    },
    {
     "data": {
      "application/vnd.jupyter.widget-view+json": {
       "model_id": "243e0db06ae3484ebaf1da85ab9c6197",
       "version_major": 2,
       "version_minor": 0
      },
      "text/plain": [
       "  0%|          | 0/1250 [00:00<?, ?it/s]"
      ]
     },
     "metadata": {},
     "output_type": "display_data"
    },
    {
     "name": "stdout",
     "output_type": "stream",
     "text": [
      "completed bt_nas medprob pso 1337 (375000, 11) 3.1704959869384766 secs\n",
      "working on /usr/WS2/bolet1/ruby-benchmarks/exploreGlobalOptimizations/logs/bt_nas-medprob/pso-3827\n"
     ]
    },
    {
     "data": {
      "application/vnd.jupyter.widget-view+json": {
       "model_id": "ef2a007994544d7ba2cdc93bd873131e",
       "version_major": 2,
       "version_minor": 0
      },
      "text/plain": [
       "  0%|          | 0/1250 [00:00<?, ?it/s]"
      ]
     },
     "metadata": {},
     "output_type": "display_data"
    },
    {
     "name": "stdout",
     "output_type": "stream",
     "text": [
      "completed bt_nas medprob pso 3827 (375000, 11) 3.3292486667633057 secs\n",
      "working on /usr/WS2/bolet1/ruby-benchmarks/exploreGlobalOptimizations/logs/bt_nas-medprob/pso-9999\n"
     ]
    },
    {
     "data": {
      "application/vnd.jupyter.widget-view+json": {
       "model_id": "d8f1c508d3c54d6d88f483b97f3c0053",
       "version_major": 2,
       "version_minor": 0
      },
      "text/plain": [
       "  0%|          | 0/1250 [00:00<?, ?it/s]"
      ]
     },
     "metadata": {},
     "output_type": "display_data"
    },
    {
     "name": "stdout",
     "output_type": "stream",
     "text": [
      "completed bt_nas medprob pso 9999 (375000, 11) 3.2352166175842285 secs\n",
      "working on /usr/WS2/bolet1/ruby-benchmarks/exploreGlobalOptimizations/logs/bt_nas-medprob/pso-4873\n"
     ]
    },
    {
     "data": {
      "application/vnd.jupyter.widget-view+json": {
       "model_id": "57510cbb805c4dc78009e295c6ddbbbb",
       "version_major": 2,
       "version_minor": 0
      },
      "text/plain": [
       "  0%|          | 0/1250 [00:00<?, ?it/s]"
      ]
     },
     "metadata": {},
     "output_type": "display_data"
    },
    {
     "name": "stdout",
     "output_type": "stream",
     "text": [
      "completed bt_nas medprob pso 4873 (375000, 11) 3.0382027626037598 secs\n",
      "working on /usr/WS2/bolet1/ruby-benchmarks/exploreGlobalOptimizations/logs/bt_nas-lrgprob/pso-1337\n"
     ]
    },
    {
     "data": {
      "application/vnd.jupyter.widget-view+json": {
       "model_id": "6e5d353af1754576933dbfc6459bed44",
       "version_major": 2,
       "version_minor": 0
      },
      "text/plain": [
       "  0%|          | 0/1250 [00:00<?, ?it/s]"
      ]
     },
     "metadata": {},
     "output_type": "display_data"
    },
    {
     "name": "stdout",
     "output_type": "stream",
     "text": [
      "completed bt_nas lrgprob pso 1337 (375000, 11) 3.0695881843566895 secs\n",
      "working on /usr/WS2/bolet1/ruby-benchmarks/exploreGlobalOptimizations/logs/bt_nas-lrgprob/pso-3827\n"
     ]
    },
    {
     "data": {
      "application/vnd.jupyter.widget-view+json": {
       "model_id": "1f7b9f352ce34255add6d2e3dee25666",
       "version_major": 2,
       "version_minor": 0
      },
      "text/plain": [
       "  0%|          | 0/1250 [00:00<?, ?it/s]"
      ]
     },
     "metadata": {},
     "output_type": "display_data"
    },
    {
     "name": "stdout",
     "output_type": "stream",
     "text": [
      "completed bt_nas lrgprob pso 3827 (375000, 11) 3.184448480606079 secs\n",
      "working on /usr/WS2/bolet1/ruby-benchmarks/exploreGlobalOptimizations/logs/bt_nas-lrgprob/pso-9999\n"
     ]
    },
    {
     "data": {
      "application/vnd.jupyter.widget-view+json": {
       "model_id": "af08823ed7cf4bffa005419a3e37b9f5",
       "version_major": 2,
       "version_minor": 0
      },
      "text/plain": [
       "  0%|          | 0/1250 [00:00<?, ?it/s]"
      ]
     },
     "metadata": {},
     "output_type": "display_data"
    },
    {
     "name": "stdout",
     "output_type": "stream",
     "text": [
      "completed bt_nas lrgprob pso 9999 (375000, 11) 4.606020450592041 secs\n",
      "working on /usr/WS2/bolet1/ruby-benchmarks/exploreGlobalOptimizations/logs/bt_nas-lrgprob/pso-4873\n"
     ]
    },
    {
     "data": {
      "application/vnd.jupyter.widget-view+json": {
       "model_id": "b4bb04e3bebb429d974d315a94880ce5",
       "version_major": 2,
       "version_minor": 0
      },
      "text/plain": [
       "  0%|          | 0/1250 [00:00<?, ?it/s]"
      ]
     },
     "metadata": {},
     "output_type": "display_data"
    },
    {
     "name": "stdout",
     "output_type": "stream",
     "text": [
      "completed bt_nas lrgprob pso 4873 (375000, 11) 3.107699394226074 secs\n",
      "\n",
      "\n",
      " wrote: /usr/WS2/bolet1/ruby-benchmarks/exploreGlobalOptimizations/databases/ruby-bt_nas-pso-GO_Data-minMaxNorm.csv \n",
      "\n",
      "\n",
      "working on /usr/WS2/bolet1/ruby-benchmarks/exploreGlobalOptimizations/logs/ft_nas-smlprob/pso-1337\n"
     ]
    },
    {
     "data": {
      "application/vnd.jupyter.widget-view+json": {
       "model_id": "1f42ae959bfc498197d528f23eb66dd6",
       "version_major": 2,
       "version_minor": 0
      },
      "text/plain": [
       "  0%|          | 0/1250 [00:00<?, ?it/s]"
      ]
     },
     "metadata": {},
     "output_type": "display_data"
    },
    {
     "name": "stdout",
     "output_type": "stream",
     "text": [
      "completed ft_nas smlprob pso 1337 (375000, 11) 3.0621657371520996 secs\n",
      "working on /usr/WS2/bolet1/ruby-benchmarks/exploreGlobalOptimizations/logs/ft_nas-smlprob/pso-3827\n"
     ]
    },
    {
     "data": {
      "application/vnd.jupyter.widget-view+json": {
       "model_id": "49755e56b806420f9d2ff4fe8ad48e54",
       "version_major": 2,
       "version_minor": 0
      },
      "text/plain": [
       "  0%|          | 0/1250 [00:00<?, ?it/s]"
      ]
     },
     "metadata": {},
     "output_type": "display_data"
    },
    {
     "name": "stdout",
     "output_type": "stream",
     "text": [
      "completed ft_nas smlprob pso 3827 (375000, 11) 3.054591417312622 secs\n",
      "working on /usr/WS2/bolet1/ruby-benchmarks/exploreGlobalOptimizations/logs/ft_nas-smlprob/pso-9999\n"
     ]
    },
    {
     "data": {
      "application/vnd.jupyter.widget-view+json": {
       "model_id": "a5f78729efa548978394db65da6db895",
       "version_major": 2,
       "version_minor": 0
      },
      "text/plain": [
       "  0%|          | 0/1250 [00:00<?, ?it/s]"
      ]
     },
     "metadata": {},
     "output_type": "display_data"
    },
    {
     "name": "stdout",
     "output_type": "stream",
     "text": [
      "completed ft_nas smlprob pso 9999 (375000, 11) 3.069413423538208 secs\n",
      "working on /usr/WS2/bolet1/ruby-benchmarks/exploreGlobalOptimizations/logs/ft_nas-smlprob/pso-4873\n"
     ]
    },
    {
     "data": {
      "application/vnd.jupyter.widget-view+json": {
       "model_id": "9f5b09a2c7d34c6f8f021d5c72842818",
       "version_major": 2,
       "version_minor": 0
      },
      "text/plain": [
       "  0%|          | 0/1250 [00:00<?, ?it/s]"
      ]
     },
     "metadata": {},
     "output_type": "display_data"
    },
    {
     "name": "stdout",
     "output_type": "stream",
     "text": [
      "completed ft_nas smlprob pso 4873 (375000, 11) 2.865978479385376 secs\n",
      "working on /usr/WS2/bolet1/ruby-benchmarks/exploreGlobalOptimizations/logs/ft_nas-medprob/pso-1337\n"
     ]
    },
    {
     "data": {
      "application/vnd.jupyter.widget-view+json": {
       "model_id": "cc5bdce4a53d44fa8ee8ef8c4ef3c41f",
       "version_major": 2,
       "version_minor": 0
      },
      "text/plain": [
       "  0%|          | 0/1250 [00:00<?, ?it/s]"
      ]
     },
     "metadata": {},
     "output_type": "display_data"
    },
    {
     "name": "stdout",
     "output_type": "stream",
     "text": [
      "completed ft_nas medprob pso 1337 (375000, 11) 2.8931515216827393 secs\n",
      "working on /usr/WS2/bolet1/ruby-benchmarks/exploreGlobalOptimizations/logs/ft_nas-medprob/pso-3827\n"
     ]
    },
    {
     "data": {
      "application/vnd.jupyter.widget-view+json": {
       "model_id": "7ce46e3b225244be96b1efc7c1925804",
       "version_major": 2,
       "version_minor": 0
      },
      "text/plain": [
       "  0%|          | 0/1250 [00:00<?, ?it/s]"
      ]
     },
     "metadata": {},
     "output_type": "display_data"
    },
    {
     "name": "stdout",
     "output_type": "stream",
     "text": [
      "completed ft_nas medprob pso 3827 (375000, 11) 2.930687665939331 secs\n",
      "working on /usr/WS2/bolet1/ruby-benchmarks/exploreGlobalOptimizations/logs/ft_nas-medprob/pso-9999\n"
     ]
    },
    {
     "data": {
      "application/vnd.jupyter.widget-view+json": {
       "model_id": "f66d3fc75de34aa59f916a1c89cab7aa",
       "version_major": 2,
       "version_minor": 0
      },
      "text/plain": [
       "  0%|          | 0/1250 [00:00<?, ?it/s]"
      ]
     },
     "metadata": {},
     "output_type": "display_data"
    },
    {
     "name": "stdout",
     "output_type": "stream",
     "text": [
      "completed ft_nas medprob pso 9999 (375000, 11) 2.8948445320129395 secs\n",
      "working on /usr/WS2/bolet1/ruby-benchmarks/exploreGlobalOptimizations/logs/ft_nas-medprob/pso-4873\n"
     ]
    },
    {
     "data": {
      "application/vnd.jupyter.widget-view+json": {
       "model_id": "bb3a481a187445f494db9dfb00dab765",
       "version_major": 2,
       "version_minor": 0
      },
      "text/plain": [
       "  0%|          | 0/1250 [00:00<?, ?it/s]"
      ]
     },
     "metadata": {},
     "output_type": "display_data"
    },
    {
     "name": "stdout",
     "output_type": "stream",
     "text": [
      "completed ft_nas medprob pso 4873 (375000, 11) 2.9090259075164795 secs\n",
      "working on /usr/WS2/bolet1/ruby-benchmarks/exploreGlobalOptimizations/logs/ft_nas-lrgprob/pso-1337\n"
     ]
    },
    {
     "data": {
      "application/vnd.jupyter.widget-view+json": {
       "model_id": "b397596025c24425816f19e8d6d01aad",
       "version_major": 2,
       "version_minor": 0
      },
      "text/plain": [
       "  0%|          | 0/1250 [00:00<?, ?it/s]"
      ]
     },
     "metadata": {},
     "output_type": "display_data"
    },
    {
     "name": "stdout",
     "output_type": "stream",
     "text": [
      "completed ft_nas lrgprob pso 1337 (375000, 11) 3.134488105773926 secs\n",
      "working on /usr/WS2/bolet1/ruby-benchmarks/exploreGlobalOptimizations/logs/ft_nas-lrgprob/pso-3827\n"
     ]
    },
    {
     "data": {
      "application/vnd.jupyter.widget-view+json": {
       "model_id": "616f1bc8255f419494c492e715235001",
       "version_major": 2,
       "version_minor": 0
      },
      "text/plain": [
       "  0%|          | 0/1250 [00:00<?, ?it/s]"
      ]
     },
     "metadata": {},
     "output_type": "display_data"
    },
    {
     "name": "stdout",
     "output_type": "stream",
     "text": [
      "completed ft_nas lrgprob pso 3827 (375000, 11) 2.9974441528320312 secs\n",
      "working on /usr/WS2/bolet1/ruby-benchmarks/exploreGlobalOptimizations/logs/ft_nas-lrgprob/pso-9999\n"
     ]
    },
    {
     "data": {
      "application/vnd.jupyter.widget-view+json": {
       "model_id": "dc7a21c3179f4ab1aa664fd13c69d500",
       "version_major": 2,
       "version_minor": 0
      },
      "text/plain": [
       "  0%|          | 0/1250 [00:00<?, ?it/s]"
      ]
     },
     "metadata": {},
     "output_type": "display_data"
    },
    {
     "name": "stdout",
     "output_type": "stream",
     "text": [
      "completed ft_nas lrgprob pso 9999 (375000, 11) 2.999511480331421 secs\n",
      "working on /usr/WS2/bolet1/ruby-benchmarks/exploreGlobalOptimizations/logs/ft_nas-lrgprob/pso-4873\n"
     ]
    },
    {
     "data": {
      "application/vnd.jupyter.widget-view+json": {
       "model_id": "d8d8f58552f54106913de2882ea94458",
       "version_major": 2,
       "version_minor": 0
      },
      "text/plain": [
       "  0%|          | 0/1250 [00:00<?, ?it/s]"
      ]
     },
     "metadata": {},
     "output_type": "display_data"
    },
    {
     "name": "stdout",
     "output_type": "stream",
     "text": [
      "completed ft_nas lrgprob pso 4873 (375000, 11) 2.9427900314331055 secs\n",
      "\n",
      "\n",
      " wrote: /usr/WS2/bolet1/ruby-benchmarks/exploreGlobalOptimizations/databases/ruby-ft_nas-pso-GO_Data-minMaxNorm.csv \n",
      "\n",
      "\n",
      "working on /usr/WS2/bolet1/ruby-benchmarks/exploreGlobalOptimizations/logs/hpcg-smlprob/pso-1337\n"
     ]
    },
    {
     "data": {
      "application/vnd.jupyter.widget-view+json": {
       "model_id": "eaaff58b01f44154aa7b2e83de88ae92",
       "version_major": 2,
       "version_minor": 0
      },
      "text/plain": [
       "  0%|          | 0/1250 [00:00<?, ?it/s]"
      ]
     },
     "metadata": {},
     "output_type": "display_data"
    },
    {
     "name": "stdout",
     "output_type": "stream",
     "text": [
      "completed hpcg smlprob pso 1337 (375000, 11) 2.9848501682281494 secs\n",
      "working on /usr/WS2/bolet1/ruby-benchmarks/exploreGlobalOptimizations/logs/hpcg-smlprob/pso-3827\n"
     ]
    },
    {
     "data": {
      "application/vnd.jupyter.widget-view+json": {
       "model_id": "325e0bf1759e44db9ca2530d322f3afa",
       "version_major": 2,
       "version_minor": 0
      },
      "text/plain": [
       "  0%|          | 0/1250 [00:00<?, ?it/s]"
      ]
     },
     "metadata": {},
     "output_type": "display_data"
    },
    {
     "name": "stdout",
     "output_type": "stream",
     "text": [
      "completed hpcg smlprob pso 3827 (375000, 11) 3.049614191055298 secs\n",
      "working on /usr/WS2/bolet1/ruby-benchmarks/exploreGlobalOptimizations/logs/hpcg-smlprob/pso-9999\n"
     ]
    },
    {
     "data": {
      "application/vnd.jupyter.widget-view+json": {
       "model_id": "87a196d04f274101aa55e2baf0d2545f",
       "version_major": 2,
       "version_minor": 0
      },
      "text/plain": [
       "  0%|          | 0/1250 [00:00<?, ?it/s]"
      ]
     },
     "metadata": {},
     "output_type": "display_data"
    },
    {
     "name": "stdout",
     "output_type": "stream",
     "text": [
      "completed hpcg smlprob pso 9999 (375000, 11) 3.015446186065674 secs\n",
      "working on /usr/WS2/bolet1/ruby-benchmarks/exploreGlobalOptimizations/logs/hpcg-smlprob/pso-4873\n"
     ]
    },
    {
     "data": {
      "application/vnd.jupyter.widget-view+json": {
       "model_id": "52ec26808f504eb782b76dfa62766bf9",
       "version_major": 2,
       "version_minor": 0
      },
      "text/plain": [
       "  0%|          | 0/1250 [00:00<?, ?it/s]"
      ]
     },
     "metadata": {},
     "output_type": "display_data"
    },
    {
     "name": "stdout",
     "output_type": "stream",
     "text": [
      "completed hpcg smlprob pso 4873 (375000, 11) 3.058283805847168 secs\n",
      "working on /usr/WS2/bolet1/ruby-benchmarks/exploreGlobalOptimizations/logs/hpcg-medprob/pso-1337\n"
     ]
    },
    {
     "data": {
      "application/vnd.jupyter.widget-view+json": {
       "model_id": "89e760cad6b744e0980a099f979d4979",
       "version_major": 2,
       "version_minor": 0
      },
      "text/plain": [
       "  0%|          | 0/1250 [00:00<?, ?it/s]"
      ]
     },
     "metadata": {},
     "output_type": "display_data"
    },
    {
     "name": "stdout",
     "output_type": "stream",
     "text": [
      "completed hpcg medprob pso 1337 (375000, 11) 3.172778367996216 secs\n",
      "working on /usr/WS2/bolet1/ruby-benchmarks/exploreGlobalOptimizations/logs/hpcg-medprob/pso-3827\n"
     ]
    },
    {
     "data": {
      "application/vnd.jupyter.widget-view+json": {
       "model_id": "0263dab94f354dfd862f9fad8c8477d3",
       "version_major": 2,
       "version_minor": 0
      },
      "text/plain": [
       "  0%|          | 0/1250 [00:00<?, ?it/s]"
      ]
     },
     "metadata": {},
     "output_type": "display_data"
    },
    {
     "name": "stdout",
     "output_type": "stream",
     "text": [
      "completed hpcg medprob pso 3827 (375000, 11) 2.9344820976257324 secs\n",
      "working on /usr/WS2/bolet1/ruby-benchmarks/exploreGlobalOptimizations/logs/hpcg-medprob/pso-9999\n"
     ]
    },
    {
     "data": {
      "application/vnd.jupyter.widget-view+json": {
       "model_id": "d224a68de66d46b4a0ee06cb6f32cce9",
       "version_major": 2,
       "version_minor": 0
      },
      "text/plain": [
       "  0%|          | 0/1250 [00:00<?, ?it/s]"
      ]
     },
     "metadata": {},
     "output_type": "display_data"
    },
    {
     "name": "stdout",
     "output_type": "stream",
     "text": [
      "completed hpcg medprob pso 9999 (375000, 11) 3.0252060890197754 secs\n",
      "working on /usr/WS2/bolet1/ruby-benchmarks/exploreGlobalOptimizations/logs/hpcg-medprob/pso-4873\n"
     ]
    },
    {
     "data": {
      "application/vnd.jupyter.widget-view+json": {
       "model_id": "ca5ef46667284e16a6c947cbd0e8e0f7",
       "version_major": 2,
       "version_minor": 0
      },
      "text/plain": [
       "  0%|          | 0/1250 [00:00<?, ?it/s]"
      ]
     },
     "metadata": {},
     "output_type": "display_data"
    },
    {
     "name": "stdout",
     "output_type": "stream",
     "text": [
      "completed hpcg medprob pso 4873 (375000, 11) 3.0542070865631104 secs\n",
      "working on /usr/WS2/bolet1/ruby-benchmarks/exploreGlobalOptimizations/logs/hpcg-lrgprob/pso-1337\n"
     ]
    },
    {
     "data": {
      "application/vnd.jupyter.widget-view+json": {
       "model_id": "f06b364d5b044797a0696cb81e2b7032",
       "version_major": 2,
       "version_minor": 0
      },
      "text/plain": [
       "  0%|          | 0/1250 [00:00<?, ?it/s]"
      ]
     },
     "metadata": {},
     "output_type": "display_data"
    },
    {
     "name": "stdout",
     "output_type": "stream",
     "text": [
      "completed hpcg lrgprob pso 1337 (375000, 11) 2.882314682006836 secs\n",
      "working on /usr/WS2/bolet1/ruby-benchmarks/exploreGlobalOptimizations/logs/hpcg-lrgprob/pso-3827\n"
     ]
    },
    {
     "data": {
      "application/vnd.jupyter.widget-view+json": {
       "model_id": "53f1c03a81a74394b1d15704f4f8a405",
       "version_major": 2,
       "version_minor": 0
      },
      "text/plain": [
       "  0%|          | 0/1250 [00:00<?, ?it/s]"
      ]
     },
     "metadata": {},
     "output_type": "display_data"
    },
    {
     "name": "stdout",
     "output_type": "stream",
     "text": [
      "completed hpcg lrgprob pso 3827 (375000, 11) 2.9045331478118896 secs\n",
      "working on /usr/WS2/bolet1/ruby-benchmarks/exploreGlobalOptimizations/logs/hpcg-lrgprob/pso-9999\n"
     ]
    },
    {
     "data": {
      "application/vnd.jupyter.widget-view+json": {
       "model_id": "513f8e61fb7c49ccbacd3509d47f4d65",
       "version_major": 2,
       "version_minor": 0
      },
      "text/plain": [
       "  0%|          | 0/1250 [00:00<?, ?it/s]"
      ]
     },
     "metadata": {},
     "output_type": "display_data"
    },
    {
     "name": "stdout",
     "output_type": "stream",
     "text": [
      "completed hpcg lrgprob pso 9999 (375000, 11) 2.8018712997436523 secs\n",
      "working on /usr/WS2/bolet1/ruby-benchmarks/exploreGlobalOptimizations/logs/hpcg-lrgprob/pso-4873\n"
     ]
    },
    {
     "data": {
      "application/vnd.jupyter.widget-view+json": {
       "model_id": "0b6f1a25115e4681a653da2f562efbaf",
       "version_major": 2,
       "version_minor": 0
      },
      "text/plain": [
       "  0%|          | 0/1250 [00:00<?, ?it/s]"
      ]
     },
     "metadata": {},
     "output_type": "display_data"
    },
    {
     "name": "stdout",
     "output_type": "stream",
     "text": [
      "completed hpcg lrgprob pso 4873 (375000, 11) 2.980102062225342 secs\n",
      "\n",
      "\n",
      " wrote: /usr/WS2/bolet1/ruby-benchmarks/exploreGlobalOptimizations/databases/ruby-hpcg-pso-GO_Data-minMaxNorm.csv \n",
      "\n",
      "\n",
      "working on /usr/WS2/bolet1/ruby-benchmarks/exploreGlobalOptimizations/logs/lulesh-smlprob/pso-1337\n"
     ]
    },
    {
     "data": {
      "application/vnd.jupyter.widget-view+json": {
       "model_id": "acd5d64ce8e24f0585f789e49d996c54",
       "version_major": 2,
       "version_minor": 0
      },
      "text/plain": [
       "  0%|          | 0/1250 [00:00<?, ?it/s]"
      ]
     },
     "metadata": {},
     "output_type": "display_data"
    },
    {
     "name": "stdout",
     "output_type": "stream",
     "text": [
      "completed lulesh smlprob pso 1337 (375000, 11) 2.9747445583343506 secs\n",
      "working on /usr/WS2/bolet1/ruby-benchmarks/exploreGlobalOptimizations/logs/lulesh-smlprob/pso-3827\n"
     ]
    },
    {
     "data": {
      "application/vnd.jupyter.widget-view+json": {
       "model_id": "99551b8ee22248d5a4590a0959f3b3b2",
       "version_major": 2,
       "version_minor": 0
      },
      "text/plain": [
       "  0%|          | 0/1250 [00:00<?, ?it/s]"
      ]
     },
     "metadata": {},
     "output_type": "display_data"
    },
    {
     "name": "stdout",
     "output_type": "stream",
     "text": [
      "completed lulesh smlprob pso 3827 (375000, 11) 3.1966466903686523 secs\n",
      "working on /usr/WS2/bolet1/ruby-benchmarks/exploreGlobalOptimizations/logs/lulesh-smlprob/pso-9999\n"
     ]
    },
    {
     "data": {
      "application/vnd.jupyter.widget-view+json": {
       "model_id": "5eb27bb9f73a40c48460852b59d606dc",
       "version_major": 2,
       "version_minor": 0
      },
      "text/plain": [
       "  0%|          | 0/1250 [00:00<?, ?it/s]"
      ]
     },
     "metadata": {},
     "output_type": "display_data"
    },
    {
     "name": "stdout",
     "output_type": "stream",
     "text": [
      "completed lulesh smlprob pso 9999 (375000, 11) 2.864842176437378 secs\n",
      "working on /usr/WS2/bolet1/ruby-benchmarks/exploreGlobalOptimizations/logs/lulesh-smlprob/pso-4873\n"
     ]
    },
    {
     "data": {
      "application/vnd.jupyter.widget-view+json": {
       "model_id": "2ab450e1089f456590f43bb25e7f5214",
       "version_major": 2,
       "version_minor": 0
      },
      "text/plain": [
       "  0%|          | 0/1250 [00:00<?, ?it/s]"
      ]
     },
     "metadata": {},
     "output_type": "display_data"
    },
    {
     "name": "stdout",
     "output_type": "stream",
     "text": [
      "completed lulesh smlprob pso 4873 (375000, 11) 3.169682264328003 secs\n",
      "working on /usr/WS2/bolet1/ruby-benchmarks/exploreGlobalOptimizations/logs/lulesh-medprob/pso-1337\n"
     ]
    },
    {
     "data": {
      "application/vnd.jupyter.widget-view+json": {
       "model_id": "4077a9c9314f42a28bc2744122a97e8f",
       "version_major": 2,
       "version_minor": 0
      },
      "text/plain": [
       "  0%|          | 0/1250 [00:00<?, ?it/s]"
      ]
     },
     "metadata": {},
     "output_type": "display_data"
    },
    {
     "name": "stdout",
     "output_type": "stream",
     "text": [
      "completed lulesh medprob pso 1337 (375000, 11) 3.0656070709228516 secs\n",
      "working on /usr/WS2/bolet1/ruby-benchmarks/exploreGlobalOptimizations/logs/lulesh-medprob/pso-3827\n"
     ]
    },
    {
     "data": {
      "application/vnd.jupyter.widget-view+json": {
       "model_id": "7e367195c0de461286b3c61fb51387a2",
       "version_major": 2,
       "version_minor": 0
      },
      "text/plain": [
       "  0%|          | 0/1250 [00:00<?, ?it/s]"
      ]
     },
     "metadata": {},
     "output_type": "display_data"
    },
    {
     "name": "stdout",
     "output_type": "stream",
     "text": [
      "completed lulesh medprob pso 3827 (375000, 11) 3.0799477100372314 secs\n",
      "working on /usr/WS2/bolet1/ruby-benchmarks/exploreGlobalOptimizations/logs/lulesh-medprob/pso-9999\n"
     ]
    },
    {
     "data": {
      "application/vnd.jupyter.widget-view+json": {
       "model_id": "18696628c48444dfbf6c1ef69b648b90",
       "version_major": 2,
       "version_minor": 0
      },
      "text/plain": [
       "  0%|          | 0/1250 [00:00<?, ?it/s]"
      ]
     },
     "metadata": {},
     "output_type": "display_data"
    },
    {
     "name": "stdout",
     "output_type": "stream",
     "text": [
      "completed lulesh medprob pso 9999 (375000, 11) 3.0997672080993652 secs\n",
      "working on /usr/WS2/bolet1/ruby-benchmarks/exploreGlobalOptimizations/logs/lulesh-medprob/pso-4873\n"
     ]
    },
    {
     "data": {
      "application/vnd.jupyter.widget-view+json": {
       "model_id": "df3e2b58a0f749718e219df9e32fef45",
       "version_major": 2,
       "version_minor": 0
      },
      "text/plain": [
       "  0%|          | 0/1250 [00:00<?, ?it/s]"
      ]
     },
     "metadata": {},
     "output_type": "display_data"
    },
    {
     "name": "stdout",
     "output_type": "stream",
     "text": [
      "completed lulesh medprob pso 4873 (375000, 11) 3.039701223373413 secs\n",
      "working on /usr/WS2/bolet1/ruby-benchmarks/exploreGlobalOptimizations/logs/lulesh-lrgprob/pso-1337\n"
     ]
    },
    {
     "data": {
      "application/vnd.jupyter.widget-view+json": {
       "model_id": "303cf311cc0e46da9d6bcda0c328896c",
       "version_major": 2,
       "version_minor": 0
      },
      "text/plain": [
       "  0%|          | 0/1250 [00:00<?, ?it/s]"
      ]
     },
     "metadata": {},
     "output_type": "display_data"
    },
    {
     "name": "stdout",
     "output_type": "stream",
     "text": [
      "completed lulesh lrgprob pso 1337 (375000, 11) 3.232896566390991 secs\n",
      "working on /usr/WS2/bolet1/ruby-benchmarks/exploreGlobalOptimizations/logs/lulesh-lrgprob/pso-3827\n"
     ]
    },
    {
     "data": {
      "application/vnd.jupyter.widget-view+json": {
       "model_id": "cf9e36a030ad4f3897a6e1a9937051b2",
       "version_major": 2,
       "version_minor": 0
      },
      "text/plain": [
       "  0%|          | 0/1250 [00:00<?, ?it/s]"
      ]
     },
     "metadata": {},
     "output_type": "display_data"
    },
    {
     "name": "stdout",
     "output_type": "stream",
     "text": [
      "completed lulesh lrgprob pso 3827 (375000, 11) 2.9101803302764893 secs\n",
      "working on /usr/WS2/bolet1/ruby-benchmarks/exploreGlobalOptimizations/logs/lulesh-lrgprob/pso-9999\n"
     ]
    },
    {
     "data": {
      "application/vnd.jupyter.widget-view+json": {
       "model_id": "d50766960a11489b902b71dbf78ac542",
       "version_major": 2,
       "version_minor": 0
      },
      "text/plain": [
       "  0%|          | 0/1250 [00:00<?, ?it/s]"
      ]
     },
     "metadata": {},
     "output_type": "display_data"
    },
    {
     "name": "stdout",
     "output_type": "stream",
     "text": [
      "completed lulesh lrgprob pso 9999 (375000, 11) 2.8867170810699463 secs\n",
      "working on /usr/WS2/bolet1/ruby-benchmarks/exploreGlobalOptimizations/logs/lulesh-lrgprob/pso-4873\n"
     ]
    },
    {
     "data": {
      "application/vnd.jupyter.widget-view+json": {
       "model_id": "15428b1703e74312b1688c794470824d",
       "version_major": 2,
       "version_minor": 0
      },
      "text/plain": [
       "  0%|          | 0/1250 [00:00<?, ?it/s]"
      ]
     },
     "metadata": {},
     "output_type": "display_data"
    },
    {
     "name": "stdout",
     "output_type": "stream",
     "text": [
      "completed lulesh lrgprob pso 4873 (375000, 11) 2.980762243270874 secs\n",
      "\n",
      "\n",
      " wrote: /usr/WS2/bolet1/ruby-benchmarks/exploreGlobalOptimizations/databases/ruby-lulesh-pso-GO_Data-minMaxNorm.csv \n",
      "\n",
      "\n",
      "working on /usr/WS2/bolet1/ruby-benchmarks/exploreGlobalOptimizations/logs/bt_nas-smlprob/bo-1337\n"
     ]
    },
    {
     "data": {
      "application/vnd.jupyter.widget-view+json": {
       "model_id": "3433bcaffc0f4aa8b057a50fdbda8f9d",
       "version_major": 2,
       "version_minor": 0
      },
      "text/plain": [
       "  0%|          | 0/60 [00:00<?, ?it/s]"
      ]
     },
     "metadata": {},
     "output_type": "display_data"
    },
    {
     "name": "stdout",
     "output_type": "stream",
     "text": [
      "completed bt_nas smlprob bo 1337 (18000, 12) 0.13737750053405762 secs\n",
      "working on /usr/WS2/bolet1/ruby-benchmarks/exploreGlobalOptimizations/logs/bt_nas-smlprob/bo-3827\n"
     ]
    },
    {
     "data": {
      "application/vnd.jupyter.widget-view+json": {
       "model_id": "e15001ac3bf8495d9d6052c3637e7acd",
       "version_major": 2,
       "version_minor": 0
      },
      "text/plain": [
       "  0%|          | 0/60 [00:00<?, ?it/s]"
      ]
     },
     "metadata": {},
     "output_type": "display_data"
    },
    {
     "name": "stdout",
     "output_type": "stream",
     "text": [
      "completed bt_nas smlprob bo 3827 (18000, 12) 0.13142085075378418 secs\n",
      "working on /usr/WS2/bolet1/ruby-benchmarks/exploreGlobalOptimizations/logs/bt_nas-smlprob/bo-9999\n"
     ]
    },
    {
     "data": {
      "application/vnd.jupyter.widget-view+json": {
       "model_id": "5efd74dfb2414aeeb262e80b833a7e57",
       "version_major": 2,
       "version_minor": 0
      },
      "text/plain": [
       "  0%|          | 0/60 [00:00<?, ?it/s]"
      ]
     },
     "metadata": {},
     "output_type": "display_data"
    },
    {
     "name": "stdout",
     "output_type": "stream",
     "text": [
      "completed bt_nas smlprob bo 9999 (18000, 12) 0.13559603691101074 secs\n",
      "working on /usr/WS2/bolet1/ruby-benchmarks/exploreGlobalOptimizations/logs/bt_nas-smlprob/bo-4873\n"
     ]
    },
    {
     "data": {
      "application/vnd.jupyter.widget-view+json": {
       "model_id": "004e4a3d1ae645489f5fb55249b3ea26",
       "version_major": 2,
       "version_minor": 0
      },
      "text/plain": [
       "  0%|          | 0/60 [00:00<?, ?it/s]"
      ]
     },
     "metadata": {},
     "output_type": "display_data"
    },
    {
     "name": "stdout",
     "output_type": "stream",
     "text": [
      "completed bt_nas smlprob bo 4873 (18000, 12) 0.13872075080871582 secs\n",
      "working on /usr/WS2/bolet1/ruby-benchmarks/exploreGlobalOptimizations/logs/bt_nas-medprob/bo-1337\n"
     ]
    },
    {
     "data": {
      "application/vnd.jupyter.widget-view+json": {
       "model_id": "a798a49b48b245ba92111dcf557807d7",
       "version_major": 2,
       "version_minor": 0
      },
      "text/plain": [
       "  0%|          | 0/60 [00:00<?, ?it/s]"
      ]
     },
     "metadata": {},
     "output_type": "display_data"
    },
    {
     "name": "stdout",
     "output_type": "stream",
     "text": [
      "completed bt_nas medprob bo 1337 (18000, 12) 0.13185787200927734 secs\n",
      "working on /usr/WS2/bolet1/ruby-benchmarks/exploreGlobalOptimizations/logs/bt_nas-medprob/bo-3827\n"
     ]
    },
    {
     "data": {
      "application/vnd.jupyter.widget-view+json": {
       "model_id": "6736cc037d2241d8bb530ab755ec26ff",
       "version_major": 2,
       "version_minor": 0
      },
      "text/plain": [
       "  0%|          | 0/60 [00:00<?, ?it/s]"
      ]
     },
     "metadata": {},
     "output_type": "display_data"
    },
    {
     "name": "stdout",
     "output_type": "stream",
     "text": [
      "completed bt_nas medprob bo 3827 (18000, 12) 0.14253544807434082 secs\n",
      "working on /usr/WS2/bolet1/ruby-benchmarks/exploreGlobalOptimizations/logs/bt_nas-medprob/bo-9999\n"
     ]
    },
    {
     "data": {
      "application/vnd.jupyter.widget-view+json": {
       "model_id": "7a2016f03366452bb02069a4058dc321",
       "version_major": 2,
       "version_minor": 0
      },
      "text/plain": [
       "  0%|          | 0/60 [00:00<?, ?it/s]"
      ]
     },
     "metadata": {},
     "output_type": "display_data"
    },
    {
     "name": "stdout",
     "output_type": "stream",
     "text": [
      "completed bt_nas medprob bo 9999 (18000, 12) 0.1395561695098877 secs\n",
      "working on /usr/WS2/bolet1/ruby-benchmarks/exploreGlobalOptimizations/logs/bt_nas-medprob/bo-4873\n"
     ]
    },
    {
     "data": {
      "application/vnd.jupyter.widget-view+json": {
       "model_id": "41164989d6d1496a94c6f9b1bc9ffb0c",
       "version_major": 2,
       "version_minor": 0
      },
      "text/plain": [
       "  0%|          | 0/60 [00:00<?, ?it/s]"
      ]
     },
     "metadata": {},
     "output_type": "display_data"
    },
    {
     "name": "stdout",
     "output_type": "stream",
     "text": [
      "completed bt_nas medprob bo 4873 (18000, 12) 0.14139437675476074 secs\n",
      "working on /usr/WS2/bolet1/ruby-benchmarks/exploreGlobalOptimizations/logs/bt_nas-lrgprob/bo-1337\n"
     ]
    },
    {
     "data": {
      "application/vnd.jupyter.widget-view+json": {
       "model_id": "0fbcac9b1d99446a87c5fe7151f09b7d",
       "version_major": 2,
       "version_minor": 0
      },
      "text/plain": [
       "  0%|          | 0/60 [00:00<?, ?it/s]"
      ]
     },
     "metadata": {},
     "output_type": "display_data"
    },
    {
     "name": "stdout",
     "output_type": "stream",
     "text": [
      "completed bt_nas lrgprob bo 1337 (18000, 12) 0.19521141052246094 secs\n",
      "working on /usr/WS2/bolet1/ruby-benchmarks/exploreGlobalOptimizations/logs/bt_nas-lrgprob/bo-3827\n"
     ]
    },
    {
     "data": {
      "application/vnd.jupyter.widget-view+json": {
       "model_id": "d4ccee885d004ecc8f01e79849e16e27",
       "version_major": 2,
       "version_minor": 0
      },
      "text/plain": [
       "  0%|          | 0/60 [00:00<?, ?it/s]"
      ]
     },
     "metadata": {},
     "output_type": "display_data"
    },
    {
     "name": "stdout",
     "output_type": "stream",
     "text": [
      "completed bt_nas lrgprob bo 3827 (18000, 12) 0.13637113571166992 secs\n",
      "working on /usr/WS2/bolet1/ruby-benchmarks/exploreGlobalOptimizations/logs/bt_nas-lrgprob/bo-9999\n"
     ]
    },
    {
     "data": {
      "application/vnd.jupyter.widget-view+json": {
       "model_id": "2e9f3d22845d4dc8b27980ce1b7835aa",
       "version_major": 2,
       "version_minor": 0
      },
      "text/plain": [
       "  0%|          | 0/60 [00:00<?, ?it/s]"
      ]
     },
     "metadata": {},
     "output_type": "display_data"
    },
    {
     "name": "stdout",
     "output_type": "stream",
     "text": [
      "completed bt_nas lrgprob bo 9999 (18000, 12) 0.13125061988830566 secs\n",
      "working on /usr/WS2/bolet1/ruby-benchmarks/exploreGlobalOptimizations/logs/bt_nas-lrgprob/bo-4873\n"
     ]
    },
    {
     "data": {
      "application/vnd.jupyter.widget-view+json": {
       "model_id": "b36822e35f894f6cadf351fb17ffce38",
       "version_major": 2,
       "version_minor": 0
      },
      "text/plain": [
       "  0%|          | 0/60 [00:00<?, ?it/s]"
      ]
     },
     "metadata": {},
     "output_type": "display_data"
    },
    {
     "name": "stdout",
     "output_type": "stream",
     "text": [
      "completed bt_nas lrgprob bo 4873 (18000, 12) 0.13726139068603516 secs\n",
      "\n",
      "\n",
      " wrote: /usr/WS2/bolet1/ruby-benchmarks/exploreGlobalOptimizations/databases/ruby-bt_nas-bo-GO_Data-minMaxNorm.csv \n",
      "\n",
      "\n",
      "working on /usr/WS2/bolet1/ruby-benchmarks/exploreGlobalOptimizations/logs/ft_nas-smlprob/bo-1337\n"
     ]
    },
    {
     "data": {
      "application/vnd.jupyter.widget-view+json": {
       "model_id": "542cb51d3da346859bb037075cefbf0d",
       "version_major": 2,
       "version_minor": 0
      },
      "text/plain": [
       "  0%|          | 0/60 [00:00<?, ?it/s]"
      ]
     },
     "metadata": {},
     "output_type": "display_data"
    },
    {
     "name": "stdout",
     "output_type": "stream",
     "text": [
      "completed ft_nas smlprob bo 1337 (18000, 12) 0.14098000526428223 secs\n",
      "working on /usr/WS2/bolet1/ruby-benchmarks/exploreGlobalOptimizations/logs/ft_nas-smlprob/bo-3827\n"
     ]
    },
    {
     "data": {
      "application/vnd.jupyter.widget-view+json": {
       "model_id": "26d015eef8be4850bda840a6749a21f6",
       "version_major": 2,
       "version_minor": 0
      },
      "text/plain": [
       "  0%|          | 0/60 [00:00<?, ?it/s]"
      ]
     },
     "metadata": {},
     "output_type": "display_data"
    },
    {
     "name": "stdout",
     "output_type": "stream",
     "text": [
      "completed ft_nas smlprob bo 3827 (18000, 12) 0.13927721977233887 secs\n",
      "working on /usr/WS2/bolet1/ruby-benchmarks/exploreGlobalOptimizations/logs/ft_nas-smlprob/bo-9999\n"
     ]
    },
    {
     "data": {
      "application/vnd.jupyter.widget-view+json": {
       "model_id": "0917c05577424be0b5e0eb9ae37b2fd2",
       "version_major": 2,
       "version_minor": 0
      },
      "text/plain": [
       "  0%|          | 0/60 [00:00<?, ?it/s]"
      ]
     },
     "metadata": {},
     "output_type": "display_data"
    },
    {
     "name": "stdout",
     "output_type": "stream",
     "text": [
      "completed ft_nas smlprob bo 9999 (18000, 12) 0.1381244659423828 secs\n",
      "working on /usr/WS2/bolet1/ruby-benchmarks/exploreGlobalOptimizations/logs/ft_nas-smlprob/bo-4873\n"
     ]
    },
    {
     "data": {
      "application/vnd.jupyter.widget-view+json": {
       "model_id": "2d78d89a9de04dff81df464550abe475",
       "version_major": 2,
       "version_minor": 0
      },
      "text/plain": [
       "  0%|          | 0/60 [00:00<?, ?it/s]"
      ]
     },
     "metadata": {},
     "output_type": "display_data"
    },
    {
     "name": "stdout",
     "output_type": "stream",
     "text": [
      "completed ft_nas smlprob bo 4873 (18000, 12) 0.13131213188171387 secs\n",
      "working on /usr/WS2/bolet1/ruby-benchmarks/exploreGlobalOptimizations/logs/ft_nas-medprob/bo-1337\n"
     ]
    },
    {
     "data": {
      "application/vnd.jupyter.widget-view+json": {
       "model_id": "0f64d72a87334f6ba0c33da38032aca6",
       "version_major": 2,
       "version_minor": 0
      },
      "text/plain": [
       "  0%|          | 0/60 [00:00<?, ?it/s]"
      ]
     },
     "metadata": {},
     "output_type": "display_data"
    },
    {
     "name": "stdout",
     "output_type": "stream",
     "text": [
      "completed ft_nas medprob bo 1337 (18000, 12) 0.13939929008483887 secs\n",
      "working on /usr/WS2/bolet1/ruby-benchmarks/exploreGlobalOptimizations/logs/ft_nas-medprob/bo-3827\n"
     ]
    },
    {
     "data": {
      "application/vnd.jupyter.widget-view+json": {
       "model_id": "7e61dc28372045e49a3111d40387201f",
       "version_major": 2,
       "version_minor": 0
      },
      "text/plain": [
       "  0%|          | 0/60 [00:00<?, ?it/s]"
      ]
     },
     "metadata": {},
     "output_type": "display_data"
    },
    {
     "name": "stdout",
     "output_type": "stream",
     "text": [
      "completed ft_nas medprob bo 3827 (18000, 12) 0.13898706436157227 secs\n",
      "working on /usr/WS2/bolet1/ruby-benchmarks/exploreGlobalOptimizations/logs/ft_nas-medprob/bo-9999\n"
     ]
    },
    {
     "data": {
      "application/vnd.jupyter.widget-view+json": {
       "model_id": "048c4078f6444b8b98c23e30afd45b68",
       "version_major": 2,
       "version_minor": 0
      },
      "text/plain": [
       "  0%|          | 0/60 [00:00<?, ?it/s]"
      ]
     },
     "metadata": {},
     "output_type": "display_data"
    },
    {
     "name": "stdout",
     "output_type": "stream",
     "text": [
      "completed ft_nas medprob bo 9999 (18000, 12) 0.20465922355651855 secs\n",
      "working on /usr/WS2/bolet1/ruby-benchmarks/exploreGlobalOptimizations/logs/ft_nas-medprob/bo-4873\n"
     ]
    },
    {
     "data": {
      "application/vnd.jupyter.widget-view+json": {
       "model_id": "ec3950ec01fa443caf8a66a3e57c839e",
       "version_major": 2,
       "version_minor": 0
      },
      "text/plain": [
       "  0%|          | 0/60 [00:00<?, ?it/s]"
      ]
     },
     "metadata": {},
     "output_type": "display_data"
    },
    {
     "name": "stdout",
     "output_type": "stream",
     "text": [
      "completed ft_nas medprob bo 4873 (18000, 12) 0.138474702835083 secs\n",
      "working on /usr/WS2/bolet1/ruby-benchmarks/exploreGlobalOptimizations/logs/ft_nas-lrgprob/bo-1337\n"
     ]
    },
    {
     "data": {
      "application/vnd.jupyter.widget-view+json": {
       "model_id": "0d420c26b0d447949b79c573c85c3a09",
       "version_major": 2,
       "version_minor": 0
      },
      "text/plain": [
       "  0%|          | 0/60 [00:00<?, ?it/s]"
      ]
     },
     "metadata": {},
     "output_type": "display_data"
    },
    {
     "name": "stdout",
     "output_type": "stream",
     "text": [
      "completed ft_nas lrgprob bo 1337 (18000, 12) 0.1366586685180664 secs\n",
      "working on /usr/WS2/bolet1/ruby-benchmarks/exploreGlobalOptimizations/logs/ft_nas-lrgprob/bo-3827\n"
     ]
    },
    {
     "data": {
      "application/vnd.jupyter.widget-view+json": {
       "model_id": "c2d259fd4ac84c89b28483a6e120990c",
       "version_major": 2,
       "version_minor": 0
      },
      "text/plain": [
       "  0%|          | 0/60 [00:00<?, ?it/s]"
      ]
     },
     "metadata": {},
     "output_type": "display_data"
    },
    {
     "name": "stdout",
     "output_type": "stream",
     "text": [
      "completed ft_nas lrgprob bo 3827 (18000, 12) 0.1360001564025879 secs\n",
      "working on /usr/WS2/bolet1/ruby-benchmarks/exploreGlobalOptimizations/logs/ft_nas-lrgprob/bo-9999\n"
     ]
    },
    {
     "data": {
      "application/vnd.jupyter.widget-view+json": {
       "model_id": "09262987c6904d0e8e3a02f2e4e4f7c7",
       "version_major": 2,
       "version_minor": 0
      },
      "text/plain": [
       "  0%|          | 0/60 [00:00<?, ?it/s]"
      ]
     },
     "metadata": {},
     "output_type": "display_data"
    },
    {
     "name": "stdout",
     "output_type": "stream",
     "text": [
      "completed ft_nas lrgprob bo 9999 (18000, 12) 0.13766837120056152 secs\n",
      "working on /usr/WS2/bolet1/ruby-benchmarks/exploreGlobalOptimizations/logs/ft_nas-lrgprob/bo-4873\n"
     ]
    },
    {
     "data": {
      "application/vnd.jupyter.widget-view+json": {
       "model_id": "d57dde19c27649b2b995f476a69b5064",
       "version_major": 2,
       "version_minor": 0
      },
      "text/plain": [
       "  0%|          | 0/60 [00:00<?, ?it/s]"
      ]
     },
     "metadata": {},
     "output_type": "display_data"
    },
    {
     "name": "stdout",
     "output_type": "stream",
     "text": [
      "completed ft_nas lrgprob bo 4873 (18000, 12) 0.14136314392089844 secs\n",
      "\n",
      "\n",
      " wrote: /usr/WS2/bolet1/ruby-benchmarks/exploreGlobalOptimizations/databases/ruby-ft_nas-bo-GO_Data-minMaxNorm.csv \n",
      "\n",
      "\n",
      "working on /usr/WS2/bolet1/ruby-benchmarks/exploreGlobalOptimizations/logs/hpcg-smlprob/bo-1337\n"
     ]
    },
    {
     "data": {
      "application/vnd.jupyter.widget-view+json": {
       "model_id": "aeb83d259d0b47f39113046fc62e47b5",
       "version_major": 2,
       "version_minor": 0
      },
      "text/plain": [
       "  0%|          | 0/60 [00:00<?, ?it/s]"
      ]
     },
     "metadata": {},
     "output_type": "display_data"
    },
    {
     "name": "stdout",
     "output_type": "stream",
     "text": [
      "completed hpcg smlprob bo 1337 (18000, 12) 0.14034485816955566 secs\n",
      "working on /usr/WS2/bolet1/ruby-benchmarks/exploreGlobalOptimizations/logs/hpcg-smlprob/bo-3827\n"
     ]
    },
    {
     "data": {
      "application/vnd.jupyter.widget-view+json": {
       "model_id": "8da13211ee6c4d859e6fd665f2f1fe4e",
       "version_major": 2,
       "version_minor": 0
      },
      "text/plain": [
       "  0%|          | 0/60 [00:00<?, ?it/s]"
      ]
     },
     "metadata": {},
     "output_type": "display_data"
    },
    {
     "name": "stdout",
     "output_type": "stream",
     "text": [
      "completed hpcg smlprob bo 3827 (18000, 12) 0.14208602905273438 secs\n",
      "working on /usr/WS2/bolet1/ruby-benchmarks/exploreGlobalOptimizations/logs/hpcg-smlprob/bo-9999\n"
     ]
    },
    {
     "data": {
      "application/vnd.jupyter.widget-view+json": {
       "model_id": "d356cbe7a41742dcb819cfc43f09c3e6",
       "version_major": 2,
       "version_minor": 0
      },
      "text/plain": [
       "  0%|          | 0/60 [00:00<?, ?it/s]"
      ]
     },
     "metadata": {},
     "output_type": "display_data"
    },
    {
     "name": "stdout",
     "output_type": "stream",
     "text": [
      "completed hpcg smlprob bo 9999 (18000, 12) 0.13823866844177246 secs\n",
      "working on /usr/WS2/bolet1/ruby-benchmarks/exploreGlobalOptimizations/logs/hpcg-smlprob/bo-4873\n"
     ]
    },
    {
     "data": {
      "application/vnd.jupyter.widget-view+json": {
       "model_id": "016fac379ebd4b95af3398674c21b874",
       "version_major": 2,
       "version_minor": 0
      },
      "text/plain": [
       "  0%|          | 0/60 [00:00<?, ?it/s]"
      ]
     },
     "metadata": {},
     "output_type": "display_data"
    },
    {
     "name": "stdout",
     "output_type": "stream",
     "text": [
      "completed hpcg smlprob bo 4873 (18000, 12) 0.13988280296325684 secs\n",
      "working on /usr/WS2/bolet1/ruby-benchmarks/exploreGlobalOptimizations/logs/hpcg-medprob/bo-1337\n"
     ]
    },
    {
     "data": {
      "application/vnd.jupyter.widget-view+json": {
       "model_id": "94df25553f5a4d47baeb03ce8853d96b",
       "version_major": 2,
       "version_minor": 0
      },
      "text/plain": [
       "  0%|          | 0/60 [00:00<?, ?it/s]"
      ]
     },
     "metadata": {},
     "output_type": "display_data"
    },
    {
     "name": "stdout",
     "output_type": "stream",
     "text": [
      "completed hpcg medprob bo 1337 (18000, 12) 0.2111811637878418 secs\n",
      "working on /usr/WS2/bolet1/ruby-benchmarks/exploreGlobalOptimizations/logs/hpcg-medprob/bo-3827\n"
     ]
    },
    {
     "data": {
      "application/vnd.jupyter.widget-view+json": {
       "model_id": "3182cad6e8ef470cac0375594707416b",
       "version_major": 2,
       "version_minor": 0
      },
      "text/plain": [
       "  0%|          | 0/60 [00:00<?, ?it/s]"
      ]
     },
     "metadata": {},
     "output_type": "display_data"
    },
    {
     "name": "stdout",
     "output_type": "stream",
     "text": [
      "completed hpcg medprob bo 3827 (18000, 12) 0.14171171188354492 secs\n",
      "working on /usr/WS2/bolet1/ruby-benchmarks/exploreGlobalOptimizations/logs/hpcg-medprob/bo-9999\n"
     ]
    },
    {
     "data": {
      "application/vnd.jupyter.widget-view+json": {
       "model_id": "dcfb105398a8415da7ffca702c924389",
       "version_major": 2,
       "version_minor": 0
      },
      "text/plain": [
       "  0%|          | 0/60 [00:00<?, ?it/s]"
      ]
     },
     "metadata": {},
     "output_type": "display_data"
    },
    {
     "name": "stdout",
     "output_type": "stream",
     "text": [
      "completed hpcg medprob bo 9999 (18000, 12) 0.14107823371887207 secs\n",
      "working on /usr/WS2/bolet1/ruby-benchmarks/exploreGlobalOptimizations/logs/hpcg-medprob/bo-4873\n"
     ]
    },
    {
     "data": {
      "application/vnd.jupyter.widget-view+json": {
       "model_id": "3a7751e5d2b044c29bf88454c2d694f1",
       "version_major": 2,
       "version_minor": 0
      },
      "text/plain": [
       "  0%|          | 0/60 [00:00<?, ?it/s]"
      ]
     },
     "metadata": {},
     "output_type": "display_data"
    },
    {
     "name": "stdout",
     "output_type": "stream",
     "text": [
      "completed hpcg medprob bo 4873 (18000, 12) 0.1378018856048584 secs\n",
      "working on /usr/WS2/bolet1/ruby-benchmarks/exploreGlobalOptimizations/logs/hpcg-lrgprob/bo-1337\n"
     ]
    },
    {
     "data": {
      "application/vnd.jupyter.widget-view+json": {
       "model_id": "4c94a0d547f54bbfa5ee1298df030dd3",
       "version_major": 2,
       "version_minor": 0
      },
      "text/plain": [
       "  0%|          | 0/60 [00:00<?, ?it/s]"
      ]
     },
     "metadata": {},
     "output_type": "display_data"
    },
    {
     "name": "stdout",
     "output_type": "stream",
     "text": [
      "completed hpcg lrgprob bo 1337 (18000, 12) 0.13581490516662598 secs\n",
      "working on /usr/WS2/bolet1/ruby-benchmarks/exploreGlobalOptimizations/logs/hpcg-lrgprob/bo-3827\n"
     ]
    },
    {
     "data": {
      "application/vnd.jupyter.widget-view+json": {
       "model_id": "f928c609b72442ba838df1b553890ab0",
       "version_major": 2,
       "version_minor": 0
      },
      "text/plain": [
       "  0%|          | 0/60 [00:00<?, ?it/s]"
      ]
     },
     "metadata": {},
     "output_type": "display_data"
    },
    {
     "name": "stdout",
     "output_type": "stream",
     "text": [
      "completed hpcg lrgprob bo 3827 (18000, 12) 0.13970613479614258 secs\n",
      "working on /usr/WS2/bolet1/ruby-benchmarks/exploreGlobalOptimizations/logs/hpcg-lrgprob/bo-9999\n"
     ]
    },
    {
     "data": {
      "application/vnd.jupyter.widget-view+json": {
       "model_id": "36f858adc484483988cdf9794725513e",
       "version_major": 2,
       "version_minor": 0
      },
      "text/plain": [
       "  0%|          | 0/60 [00:00<?, ?it/s]"
      ]
     },
     "metadata": {},
     "output_type": "display_data"
    },
    {
     "name": "stdout",
     "output_type": "stream",
     "text": [
      "completed hpcg lrgprob bo 9999 (18000, 12) 0.13824248313903809 secs\n",
      "working on /usr/WS2/bolet1/ruby-benchmarks/exploreGlobalOptimizations/logs/hpcg-lrgprob/bo-4873\n"
     ]
    },
    {
     "data": {
      "application/vnd.jupyter.widget-view+json": {
       "model_id": "0d133b9a4e454709b007c7ed2350cd76",
       "version_major": 2,
       "version_minor": 0
      },
      "text/plain": [
       "  0%|          | 0/60 [00:00<?, ?it/s]"
      ]
     },
     "metadata": {},
     "output_type": "display_data"
    },
    {
     "name": "stdout",
     "output_type": "stream",
     "text": [
      "completed hpcg lrgprob bo 4873 (18000, 12) 0.1398630142211914 secs\n",
      "\n",
      "\n",
      " wrote: /usr/WS2/bolet1/ruby-benchmarks/exploreGlobalOptimizations/databases/ruby-hpcg-bo-GO_Data-minMaxNorm.csv \n",
      "\n",
      "\n",
      "working on /usr/WS2/bolet1/ruby-benchmarks/exploreGlobalOptimizations/logs/lulesh-smlprob/bo-1337\n"
     ]
    },
    {
     "data": {
      "application/vnd.jupyter.widget-view+json": {
       "model_id": "c76aa02cefca4de69a06ff581082b69d",
       "version_major": 2,
       "version_minor": 0
      },
      "text/plain": [
       "  0%|          | 0/60 [00:00<?, ?it/s]"
      ]
     },
     "metadata": {},
     "output_type": "display_data"
    },
    {
     "name": "stdout",
     "output_type": "stream",
     "text": [
      "completed lulesh smlprob bo 1337 (18000, 12) 0.1381361484527588 secs\n",
      "working on /usr/WS2/bolet1/ruby-benchmarks/exploreGlobalOptimizations/logs/lulesh-smlprob/bo-3827\n"
     ]
    },
    {
     "data": {
      "application/vnd.jupyter.widget-view+json": {
       "model_id": "366f08b1a15e4e42ab394b29c53f2254",
       "version_major": 2,
       "version_minor": 0
      },
      "text/plain": [
       "  0%|          | 0/60 [00:00<?, ?it/s]"
      ]
     },
     "metadata": {},
     "output_type": "display_data"
    },
    {
     "name": "stdout",
     "output_type": "stream",
     "text": [
      "completed lulesh smlprob bo 3827 (18000, 12) 0.1466197967529297 secs\n",
      "working on /usr/WS2/bolet1/ruby-benchmarks/exploreGlobalOptimizations/logs/lulesh-smlprob/bo-9999\n"
     ]
    },
    {
     "data": {
      "application/vnd.jupyter.widget-view+json": {
       "model_id": "81d9077915cc4a0e85fe116f47e43061",
       "version_major": 2,
       "version_minor": 0
      },
      "text/plain": [
       "  0%|          | 0/60 [00:00<?, ?it/s]"
      ]
     },
     "metadata": {},
     "output_type": "display_data"
    },
    {
     "name": "stdout",
     "output_type": "stream",
     "text": [
      "completed lulesh smlprob bo 9999 (18000, 12) 0.13659977912902832 secs\n",
      "working on /usr/WS2/bolet1/ruby-benchmarks/exploreGlobalOptimizations/logs/lulesh-smlprob/bo-4873\n"
     ]
    },
    {
     "data": {
      "application/vnd.jupyter.widget-view+json": {
       "model_id": "8281f8453a3a44459c8ee4e986ee226e",
       "version_major": 2,
       "version_minor": 0
      },
      "text/plain": [
       "  0%|          | 0/60 [00:00<?, ?it/s]"
      ]
     },
     "metadata": {},
     "output_type": "display_data"
    },
    {
     "name": "stdout",
     "output_type": "stream",
     "text": [
      "completed lulesh smlprob bo 4873 (18000, 12) 0.1349468231201172 secs\n",
      "working on /usr/WS2/bolet1/ruby-benchmarks/exploreGlobalOptimizations/logs/lulesh-medprob/bo-1337\n"
     ]
    },
    {
     "data": {
      "application/vnd.jupyter.widget-view+json": {
       "model_id": "f41cfa0524234fa7818d1bc8bd85d61f",
       "version_major": 2,
       "version_minor": 0
      },
      "text/plain": [
       "  0%|          | 0/60 [00:00<?, ?it/s]"
      ]
     },
     "metadata": {},
     "output_type": "display_data"
    },
    {
     "name": "stdout",
     "output_type": "stream",
     "text": [
      "completed lulesh medprob bo 1337 (18000, 12) 0.20147132873535156 secs\n",
      "working on /usr/WS2/bolet1/ruby-benchmarks/exploreGlobalOptimizations/logs/lulesh-medprob/bo-3827\n"
     ]
    },
    {
     "data": {
      "application/vnd.jupyter.widget-view+json": {
       "model_id": "8a243126610e400bbeaab49e859cc8a9",
       "version_major": 2,
       "version_minor": 0
      },
      "text/plain": [
       "  0%|          | 0/60 [00:00<?, ?it/s]"
      ]
     },
     "metadata": {},
     "output_type": "display_data"
    },
    {
     "name": "stdout",
     "output_type": "stream",
     "text": [
      "completed lulesh medprob bo 3827 (18000, 12) 0.13033652305603027 secs\n",
      "working on /usr/WS2/bolet1/ruby-benchmarks/exploreGlobalOptimizations/logs/lulesh-medprob/bo-9999\n"
     ]
    },
    {
     "data": {
      "application/vnd.jupyter.widget-view+json": {
       "model_id": "bbb0d235741741f3933da72b16def5d7",
       "version_major": 2,
       "version_minor": 0
      },
      "text/plain": [
       "  0%|          | 0/60 [00:00<?, ?it/s]"
      ]
     },
     "metadata": {},
     "output_type": "display_data"
    },
    {
     "name": "stdout",
     "output_type": "stream",
     "text": [
      "completed lulesh medprob bo 9999 (18000, 12) 0.12184429168701172 secs\n",
      "working on /usr/WS2/bolet1/ruby-benchmarks/exploreGlobalOptimizations/logs/lulesh-medprob/bo-4873\n"
     ]
    },
    {
     "data": {
      "application/vnd.jupyter.widget-view+json": {
       "model_id": "139901e14d614d33b2ddcd8d859062a5",
       "version_major": 2,
       "version_minor": 0
      },
      "text/plain": [
       "  0%|          | 0/60 [00:00<?, ?it/s]"
      ]
     },
     "metadata": {},
     "output_type": "display_data"
    },
    {
     "name": "stdout",
     "output_type": "stream",
     "text": [
      "completed lulesh medprob bo 4873 (18000, 12) 0.12769150733947754 secs\n",
      "working on /usr/WS2/bolet1/ruby-benchmarks/exploreGlobalOptimizations/logs/lulesh-lrgprob/bo-1337\n"
     ]
    },
    {
     "data": {
      "application/vnd.jupyter.widget-view+json": {
       "model_id": "1adbeab389ac43bb985c807c90ba7c28",
       "version_major": 2,
       "version_minor": 0
      },
      "text/plain": [
       "  0%|          | 0/60 [00:00<?, ?it/s]"
      ]
     },
     "metadata": {},
     "output_type": "display_data"
    },
    {
     "name": "stdout",
     "output_type": "stream",
     "text": [
      "completed lulesh lrgprob bo 1337 (18000, 12) 0.1304023265838623 secs\n",
      "working on /usr/WS2/bolet1/ruby-benchmarks/exploreGlobalOptimizations/logs/lulesh-lrgprob/bo-3827\n"
     ]
    },
    {
     "data": {
      "application/vnd.jupyter.widget-view+json": {
       "model_id": "4ca3f3ec28cc4e39ba5df41ae7147356",
       "version_major": 2,
       "version_minor": 0
      },
      "text/plain": [
       "  0%|          | 0/60 [00:00<?, ?it/s]"
      ]
     },
     "metadata": {},
     "output_type": "display_data"
    },
    {
     "name": "stdout",
     "output_type": "stream",
     "text": [
      "completed lulesh lrgprob bo 3827 (18000, 12) 0.13631939888000488 secs\n",
      "working on /usr/WS2/bolet1/ruby-benchmarks/exploreGlobalOptimizations/logs/lulesh-lrgprob/bo-9999\n"
     ]
    },
    {
     "data": {
      "application/vnd.jupyter.widget-view+json": {
       "model_id": "c6a995cec4904ef493c79da8994413c5",
       "version_major": 2,
       "version_minor": 0
      },
      "text/plain": [
       "  0%|          | 0/60 [00:00<?, ?it/s]"
      ]
     },
     "metadata": {},
     "output_type": "display_data"
    },
    {
     "name": "stdout",
     "output_type": "stream",
     "text": [
      "completed lulesh lrgprob bo 9999 (18000, 12) 0.13308119773864746 secs\n",
      "working on /usr/WS2/bolet1/ruby-benchmarks/exploreGlobalOptimizations/logs/lulesh-lrgprob/bo-4873\n"
     ]
    },
    {
     "data": {
      "application/vnd.jupyter.widget-view+json": {
       "model_id": "2a44eac090794e3099ebe0ec19cf397f",
       "version_major": 2,
       "version_minor": 0
      },
      "text/plain": [
       "  0%|          | 0/60 [00:00<?, ?it/s]"
      ]
     },
     "metadata": {},
     "output_type": "display_data"
    },
    {
     "name": "stdout",
     "output_type": "stream",
     "text": [
      "completed lulesh lrgprob bo 4873 (18000, 12) 0.13786935806274414 secs\n",
      "\n",
      "\n",
      " wrote: /usr/WS2/bolet1/ruby-benchmarks/exploreGlobalOptimizations/databases/ruby-lulesh-bo-GO_Data-minMaxNorm.csv \n",
      "\n",
      "\n",
      "working on /usr/WS2/bolet1/ruby-benchmarks/exploreGlobalOptimizations/logs/bt_nas-smlprob/cma-1337\n"
     ]
    },
    {
     "data": {
      "application/vnd.jupyter.widget-view+json": {
       "model_id": "731b6f0d592a4a23bf4a0579e9643a5f",
       "version_major": 2,
       "version_minor": 0
      },
      "text/plain": [
       "  0%|          | 0/100 [00:00<?, ?it/s]"
      ]
     },
     "metadata": {},
     "output_type": "display_data"
    },
    {
     "name": "stdout",
     "output_type": "stream",
     "text": [
      "completed bt_nas smlprob cma 1337 (30000, 9) 0.20701956748962402 secs\n",
      "working on /usr/WS2/bolet1/ruby-benchmarks/exploreGlobalOptimizations/logs/bt_nas-smlprob/cma-3827\n"
     ]
    },
    {
     "data": {
      "application/vnd.jupyter.widget-view+json": {
       "model_id": "8c1971ef3e8e40c3a4e28e67ad2e5986",
       "version_major": 2,
       "version_minor": 0
      },
      "text/plain": [
       "  0%|          | 0/100 [00:00<?, ?it/s]"
      ]
     },
     "metadata": {},
     "output_type": "display_data"
    },
    {
     "name": "stdout",
     "output_type": "stream",
     "text": [
      "completed bt_nas smlprob cma 3827 (30000, 9) 0.20891213417053223 secs\n",
      "working on /usr/WS2/bolet1/ruby-benchmarks/exploreGlobalOptimizations/logs/bt_nas-smlprob/cma-9999\n"
     ]
    },
    {
     "data": {
      "application/vnd.jupyter.widget-view+json": {
       "model_id": "6fb3f1b9972f408abd35a1b29ee6d854",
       "version_major": 2,
       "version_minor": 0
      },
      "text/plain": [
       "  0%|          | 0/100 [00:00<?, ?it/s]"
      ]
     },
     "metadata": {},
     "output_type": "display_data"
    },
    {
     "name": "stdout",
     "output_type": "stream",
     "text": [
      "completed bt_nas smlprob cma 9999 (30000, 9) 0.2746396064758301 secs\n",
      "working on /usr/WS2/bolet1/ruby-benchmarks/exploreGlobalOptimizations/logs/bt_nas-smlprob/cma-4873\n"
     ]
    },
    {
     "data": {
      "application/vnd.jupyter.widget-view+json": {
       "model_id": "d2dbc7af308e4e69908e2f618a11f5bf",
       "version_major": 2,
       "version_minor": 0
      },
      "text/plain": [
       "  0%|          | 0/100 [00:00<?, ?it/s]"
      ]
     },
     "metadata": {},
     "output_type": "display_data"
    },
    {
     "name": "stdout",
     "output_type": "stream",
     "text": [
      "completed bt_nas smlprob cma 4873 (30000, 9) 0.2038562297821045 secs\n",
      "working on /usr/WS2/bolet1/ruby-benchmarks/exploreGlobalOptimizations/logs/bt_nas-medprob/cma-1337\n"
     ]
    },
    {
     "data": {
      "application/vnd.jupyter.widget-view+json": {
       "model_id": "2b7e623d2fcf4d0d96c928c2eaba0227",
       "version_major": 2,
       "version_minor": 0
      },
      "text/plain": [
       "  0%|          | 0/100 [00:00<?, ?it/s]"
      ]
     },
     "metadata": {},
     "output_type": "display_data"
    },
    {
     "name": "stdout",
     "output_type": "stream",
     "text": [
      "completed bt_nas medprob cma 1337 (30000, 9) 0.18847417831420898 secs\n",
      "working on /usr/WS2/bolet1/ruby-benchmarks/exploreGlobalOptimizations/logs/bt_nas-medprob/cma-3827\n"
     ]
    },
    {
     "data": {
      "application/vnd.jupyter.widget-view+json": {
       "model_id": "01d217e924e842619c12f634d938bd64",
       "version_major": 2,
       "version_minor": 0
      },
      "text/plain": [
       "  0%|          | 0/100 [00:00<?, ?it/s]"
      ]
     },
     "metadata": {},
     "output_type": "display_data"
    },
    {
     "name": "stdout",
     "output_type": "stream",
     "text": [
      "completed bt_nas medprob cma 3827 (30000, 9) 0.19375228881835938 secs\n",
      "working on /usr/WS2/bolet1/ruby-benchmarks/exploreGlobalOptimizations/logs/bt_nas-medprob/cma-9999\n"
     ]
    },
    {
     "data": {
      "application/vnd.jupyter.widget-view+json": {
       "model_id": "6d90a5c720d845e78e3c2a3625074989",
       "version_major": 2,
       "version_minor": 0
      },
      "text/plain": [
       "  0%|          | 0/100 [00:00<?, ?it/s]"
      ]
     },
     "metadata": {},
     "output_type": "display_data"
    },
    {
     "name": "stdout",
     "output_type": "stream",
     "text": [
      "completed bt_nas medprob cma 9999 (30000, 9) 0.19814777374267578 secs\n",
      "working on /usr/WS2/bolet1/ruby-benchmarks/exploreGlobalOptimizations/logs/bt_nas-medprob/cma-4873\n"
     ]
    },
    {
     "data": {
      "application/vnd.jupyter.widget-view+json": {
       "model_id": "bd41a3f927294bfe8e45436b37d6a1fc",
       "version_major": 2,
       "version_minor": 0
      },
      "text/plain": [
       "  0%|          | 0/100 [00:00<?, ?it/s]"
      ]
     },
     "metadata": {},
     "output_type": "display_data"
    },
    {
     "name": "stdout",
     "output_type": "stream",
     "text": [
      "completed bt_nas medprob cma 4873 (30000, 9) 0.18724751472473145 secs\n",
      "working on /usr/WS2/bolet1/ruby-benchmarks/exploreGlobalOptimizations/logs/bt_nas-lrgprob/cma-1337\n"
     ]
    },
    {
     "data": {
      "application/vnd.jupyter.widget-view+json": {
       "model_id": "fbe7865cbf76427d9c9e7b615d4c428b",
       "version_major": 2,
       "version_minor": 0
      },
      "text/plain": [
       "  0%|          | 0/100 [00:00<?, ?it/s]"
      ]
     },
     "metadata": {},
     "output_type": "display_data"
    },
    {
     "name": "stdout",
     "output_type": "stream",
     "text": [
      "completed bt_nas lrgprob cma 1337 (30000, 9) 0.19345855712890625 secs\n",
      "working on /usr/WS2/bolet1/ruby-benchmarks/exploreGlobalOptimizations/logs/bt_nas-lrgprob/cma-3827\n"
     ]
    },
    {
     "data": {
      "application/vnd.jupyter.widget-view+json": {
       "model_id": "74b917d5d7cd4106b0ec76257a4dbd8c",
       "version_major": 2,
       "version_minor": 0
      },
      "text/plain": [
       "  0%|          | 0/100 [00:00<?, ?it/s]"
      ]
     },
     "metadata": {},
     "output_type": "display_data"
    },
    {
     "name": "stdout",
     "output_type": "stream",
     "text": [
      "completed bt_nas lrgprob cma 3827 (30000, 9) 0.1857895851135254 secs\n",
      "working on /usr/WS2/bolet1/ruby-benchmarks/exploreGlobalOptimizations/logs/bt_nas-lrgprob/cma-9999\n"
     ]
    },
    {
     "data": {
      "application/vnd.jupyter.widget-view+json": {
       "model_id": "1fdf3260873a4578821c3eff331d7117",
       "version_major": 2,
       "version_minor": 0
      },
      "text/plain": [
       "  0%|          | 0/100 [00:00<?, ?it/s]"
      ]
     },
     "metadata": {},
     "output_type": "display_data"
    },
    {
     "name": "stdout",
     "output_type": "stream",
     "text": [
      "completed bt_nas lrgprob cma 9999 (30000, 9) 0.27187490463256836 secs\n",
      "working on /usr/WS2/bolet1/ruby-benchmarks/exploreGlobalOptimizations/logs/bt_nas-lrgprob/cma-4873\n"
     ]
    },
    {
     "data": {
      "application/vnd.jupyter.widget-view+json": {
       "model_id": "d61dd2044f944a9cb7e3f8e628bc4ed7",
       "version_major": 2,
       "version_minor": 0
      },
      "text/plain": [
       "  0%|          | 0/100 [00:00<?, ?it/s]"
      ]
     },
     "metadata": {},
     "output_type": "display_data"
    },
    {
     "name": "stdout",
     "output_type": "stream",
     "text": [
      "completed bt_nas lrgprob cma 4873 (30000, 9) 0.18602490425109863 secs\n",
      "\n",
      "\n",
      " wrote: /usr/WS2/bolet1/ruby-benchmarks/exploreGlobalOptimizations/databases/ruby-bt_nas-cma-GO_Data-rawXtimes.csv \n",
      "\n",
      "\n",
      "working on /usr/WS2/bolet1/ruby-benchmarks/exploreGlobalOptimizations/logs/ft_nas-smlprob/cma-1337\n"
     ]
    },
    {
     "data": {
      "application/vnd.jupyter.widget-view+json": {
       "model_id": "7fb4d611502e4f158c6986f619d4012e",
       "version_major": 2,
       "version_minor": 0
      },
      "text/plain": [
       "  0%|          | 0/100 [00:00<?, ?it/s]"
      ]
     },
     "metadata": {},
     "output_type": "display_data"
    },
    {
     "name": "stdout",
     "output_type": "stream",
     "text": [
      "completed ft_nas smlprob cma 1337 (30000, 9) 0.19709110260009766 secs\n",
      "working on /usr/WS2/bolet1/ruby-benchmarks/exploreGlobalOptimizations/logs/ft_nas-smlprob/cma-3827\n"
     ]
    },
    {
     "data": {
      "application/vnd.jupyter.widget-view+json": {
       "model_id": "2e024cf803ea46cab2e237c510ccec2e",
       "version_major": 2,
       "version_minor": 0
      },
      "text/plain": [
       "  0%|          | 0/100 [00:00<?, ?it/s]"
      ]
     },
     "metadata": {},
     "output_type": "display_data"
    },
    {
     "name": "stdout",
     "output_type": "stream",
     "text": [
      "completed ft_nas smlprob cma 3827 (30000, 9) 0.19706010818481445 secs\n",
      "working on /usr/WS2/bolet1/ruby-benchmarks/exploreGlobalOptimizations/logs/ft_nas-smlprob/cma-9999\n"
     ]
    },
    {
     "data": {
      "application/vnd.jupyter.widget-view+json": {
       "model_id": "8c4c8cd2f4354a6da8d6772d7c2c45aa",
       "version_major": 2,
       "version_minor": 0
      },
      "text/plain": [
       "  0%|          | 0/100 [00:00<?, ?it/s]"
      ]
     },
     "metadata": {},
     "output_type": "display_data"
    },
    {
     "name": "stdout",
     "output_type": "stream",
     "text": [
      "completed ft_nas smlprob cma 9999 (30000, 9) 0.19890069961547852 secs\n",
      "working on /usr/WS2/bolet1/ruby-benchmarks/exploreGlobalOptimizations/logs/ft_nas-smlprob/cma-4873\n"
     ]
    },
    {
     "data": {
      "application/vnd.jupyter.widget-view+json": {
       "model_id": "6d6d64268373452499038d7a16d6e208",
       "version_major": 2,
       "version_minor": 0
      },
      "text/plain": [
       "  0%|          | 0/100 [00:00<?, ?it/s]"
      ]
     },
     "metadata": {},
     "output_type": "display_data"
    },
    {
     "name": "stdout",
     "output_type": "stream",
     "text": [
      "completed ft_nas smlprob cma 4873 (30000, 9) 0.25026512145996094 secs\n",
      "working on /usr/WS2/bolet1/ruby-benchmarks/exploreGlobalOptimizations/logs/ft_nas-medprob/cma-1337\n"
     ]
    },
    {
     "data": {
      "application/vnd.jupyter.widget-view+json": {
       "model_id": "de39cf0607bd47b880fca8d7b06702f4",
       "version_major": 2,
       "version_minor": 0
      },
      "text/plain": [
       "  0%|          | 0/100 [00:00<?, ?it/s]"
      ]
     },
     "metadata": {},
     "output_type": "display_data"
    },
    {
     "name": "stdout",
     "output_type": "stream",
     "text": [
      "completed ft_nas medprob cma 1337 (30000, 9) 0.19762039184570312 secs\n",
      "working on /usr/WS2/bolet1/ruby-benchmarks/exploreGlobalOptimizations/logs/ft_nas-medprob/cma-3827\n"
     ]
    },
    {
     "data": {
      "application/vnd.jupyter.widget-view+json": {
       "model_id": "cacb946ec99f4e9aacd27e726c44a20e",
       "version_major": 2,
       "version_minor": 0
      },
      "text/plain": [
       "  0%|          | 0/100 [00:00<?, ?it/s]"
      ]
     },
     "metadata": {},
     "output_type": "display_data"
    },
    {
     "name": "stdout",
     "output_type": "stream",
     "text": [
      "completed ft_nas medprob cma 3827 (30000, 9) 0.18639445304870605 secs\n",
      "working on /usr/WS2/bolet1/ruby-benchmarks/exploreGlobalOptimizations/logs/ft_nas-medprob/cma-9999\n"
     ]
    },
    {
     "data": {
      "application/vnd.jupyter.widget-view+json": {
       "model_id": "b5599983fd014b939ebdffe1dc0300e3",
       "version_major": 2,
       "version_minor": 0
      },
      "text/plain": [
       "  0%|          | 0/100 [00:00<?, ?it/s]"
      ]
     },
     "metadata": {},
     "output_type": "display_data"
    },
    {
     "name": "stdout",
     "output_type": "stream",
     "text": [
      "completed ft_nas medprob cma 9999 (30000, 9) 0.2618436813354492 secs\n",
      "working on /usr/WS2/bolet1/ruby-benchmarks/exploreGlobalOptimizations/logs/ft_nas-medprob/cma-4873\n"
     ]
    },
    {
     "data": {
      "application/vnd.jupyter.widget-view+json": {
       "model_id": "a662a7dfc6f64a5696bf2c9296ebc1cc",
       "version_major": 2,
       "version_minor": 0
      },
      "text/plain": [
       "  0%|          | 0/100 [00:00<?, ?it/s]"
      ]
     },
     "metadata": {},
     "output_type": "display_data"
    },
    {
     "name": "stdout",
     "output_type": "stream",
     "text": [
      "completed ft_nas medprob cma 4873 (30000, 9) 0.19300413131713867 secs\n",
      "working on /usr/WS2/bolet1/ruby-benchmarks/exploreGlobalOptimizations/logs/ft_nas-lrgprob/cma-1337\n"
     ]
    },
    {
     "data": {
      "application/vnd.jupyter.widget-view+json": {
       "model_id": "dd900a9253324f7a9a6798bcbf47de76",
       "version_major": 2,
       "version_minor": 0
      },
      "text/plain": [
       "  0%|          | 0/100 [00:00<?, ?it/s]"
      ]
     },
     "metadata": {},
     "output_type": "display_data"
    },
    {
     "name": "stdout",
     "output_type": "stream",
     "text": [
      "completed ft_nas lrgprob cma 1337 (30000, 9) 0.2515997886657715 secs\n",
      "working on /usr/WS2/bolet1/ruby-benchmarks/exploreGlobalOptimizations/logs/ft_nas-lrgprob/cma-3827\n"
     ]
    },
    {
     "data": {
      "application/vnd.jupyter.widget-view+json": {
       "model_id": "3353e89710c04fc6bb60a50c8231cba1",
       "version_major": 2,
       "version_minor": 0
      },
      "text/plain": [
       "  0%|          | 0/100 [00:00<?, ?it/s]"
      ]
     },
     "metadata": {},
     "output_type": "display_data"
    },
    {
     "name": "stdout",
     "output_type": "stream",
     "text": [
      "completed ft_nas lrgprob cma 3827 (30000, 9) 0.19084477424621582 secs\n",
      "working on /usr/WS2/bolet1/ruby-benchmarks/exploreGlobalOptimizations/logs/ft_nas-lrgprob/cma-9999\n"
     ]
    },
    {
     "data": {
      "application/vnd.jupyter.widget-view+json": {
       "model_id": "a3eec02176cf42abbbec3dc4f9c30a96",
       "version_major": 2,
       "version_minor": 0
      },
      "text/plain": [
       "  0%|          | 0/100 [00:00<?, ?it/s]"
      ]
     },
     "metadata": {},
     "output_type": "display_data"
    },
    {
     "name": "stdout",
     "output_type": "stream",
     "text": [
      "completed ft_nas lrgprob cma 9999 (30000, 9) 0.19180655479431152 secs\n",
      "working on /usr/WS2/bolet1/ruby-benchmarks/exploreGlobalOptimizations/logs/ft_nas-lrgprob/cma-4873\n"
     ]
    },
    {
     "data": {
      "application/vnd.jupyter.widget-view+json": {
       "model_id": "fe5e5168a36244b2b9c5dbd38ea69e1e",
       "version_major": 2,
       "version_minor": 0
      },
      "text/plain": [
       "  0%|          | 0/100 [00:00<?, ?it/s]"
      ]
     },
     "metadata": {},
     "output_type": "display_data"
    },
    {
     "name": "stdout",
     "output_type": "stream",
     "text": [
      "completed ft_nas lrgprob cma 4873 (30000, 9) 0.1919560432434082 secs\n",
      "\n",
      "\n",
      " wrote: /usr/WS2/bolet1/ruby-benchmarks/exploreGlobalOptimizations/databases/ruby-ft_nas-cma-GO_Data-rawXtimes.csv \n",
      "\n",
      "\n",
      "working on /usr/WS2/bolet1/ruby-benchmarks/exploreGlobalOptimizations/logs/hpcg-smlprob/cma-1337\n"
     ]
    },
    {
     "data": {
      "application/vnd.jupyter.widget-view+json": {
       "model_id": "ba6a915eeac945a1b81ab2a33d6a7606",
       "version_major": 2,
       "version_minor": 0
      },
      "text/plain": [
       "  0%|          | 0/100 [00:00<?, ?it/s]"
      ]
     },
     "metadata": {},
     "output_type": "display_data"
    },
    {
     "name": "stdout",
     "output_type": "stream",
     "text": [
      "completed hpcg smlprob cma 1337 (30000, 9) 0.20534944534301758 secs\n",
      "working on /usr/WS2/bolet1/ruby-benchmarks/exploreGlobalOptimizations/logs/hpcg-smlprob/cma-3827\n"
     ]
    },
    {
     "data": {
      "application/vnd.jupyter.widget-view+json": {
       "model_id": "4a89a263625c4325858cc73e08085095",
       "version_major": 2,
       "version_minor": 0
      },
      "text/plain": [
       "  0%|          | 0/100 [00:00<?, ?it/s]"
      ]
     },
     "metadata": {},
     "output_type": "display_data"
    },
    {
     "name": "stdout",
     "output_type": "stream",
     "text": [
      "completed hpcg smlprob cma 3827 (30000, 9) 0.1971755027770996 secs\n",
      "working on /usr/WS2/bolet1/ruby-benchmarks/exploreGlobalOptimizations/logs/hpcg-smlprob/cma-9999\n"
     ]
    },
    {
     "data": {
      "application/vnd.jupyter.widget-view+json": {
       "model_id": "de4c1b56604a46c1b8be2d33d564d5f2",
       "version_major": 2,
       "version_minor": 0
      },
      "text/plain": [
       "  0%|          | 0/100 [00:00<?, ?it/s]"
      ]
     },
     "metadata": {},
     "output_type": "display_data"
    },
    {
     "name": "stdout",
     "output_type": "stream",
     "text": [
      "completed hpcg smlprob cma 9999 (30000, 9) 0.30489087104797363 secs\n",
      "working on /usr/WS2/bolet1/ruby-benchmarks/exploreGlobalOptimizations/logs/hpcg-smlprob/cma-4873\n"
     ]
    },
    {
     "data": {
      "application/vnd.jupyter.widget-view+json": {
       "model_id": "216fd1e4ebeb4e05b6ec812dac97dbde",
       "version_major": 2,
       "version_minor": 0
      },
      "text/plain": [
       "  0%|          | 0/100 [00:00<?, ?it/s]"
      ]
     },
     "metadata": {},
     "output_type": "display_data"
    },
    {
     "name": "stdout",
     "output_type": "stream",
     "text": [
      "completed hpcg smlprob cma 4873 (30000, 9) 0.20082902908325195 secs\n",
      "working on /usr/WS2/bolet1/ruby-benchmarks/exploreGlobalOptimizations/logs/hpcg-medprob/cma-1337\n"
     ]
    },
    {
     "data": {
      "application/vnd.jupyter.widget-view+json": {
       "model_id": "5fdd3caf244f40f3b2fb3bbb3ba2a596",
       "version_major": 2,
       "version_minor": 0
      },
      "text/plain": [
       "  0%|          | 0/100 [00:00<?, ?it/s]"
      ]
     },
     "metadata": {},
     "output_type": "display_data"
    },
    {
     "name": "stdout",
     "output_type": "stream",
     "text": [
      "completed hpcg medprob cma 1337 (30000, 9) 0.21865534782409668 secs\n",
      "working on /usr/WS2/bolet1/ruby-benchmarks/exploreGlobalOptimizations/logs/hpcg-medprob/cma-3827\n"
     ]
    },
    {
     "data": {
      "application/vnd.jupyter.widget-view+json": {
       "model_id": "6898bfb603974f9db61020ccbca4e039",
       "version_major": 2,
       "version_minor": 0
      },
      "text/plain": [
       "  0%|          | 0/100 [00:00<?, ?it/s]"
      ]
     },
     "metadata": {},
     "output_type": "display_data"
    },
    {
     "name": "stdout",
     "output_type": "stream",
     "text": [
      "completed hpcg medprob cma 3827 (30000, 9) 0.22132563591003418 secs\n",
      "working on /usr/WS2/bolet1/ruby-benchmarks/exploreGlobalOptimizations/logs/hpcg-medprob/cma-9999\n"
     ]
    },
    {
     "data": {
      "application/vnd.jupyter.widget-view+json": {
       "model_id": "8e6bc5f6bf0f4ad58a2055cf696019b6",
       "version_major": 2,
       "version_minor": 0
      },
      "text/plain": [
       "  0%|          | 0/100 [00:00<?, ?it/s]"
      ]
     },
     "metadata": {},
     "output_type": "display_data"
    },
    {
     "name": "stdout",
     "output_type": "stream",
     "text": [
      "completed hpcg medprob cma 9999 (30000, 9) 0.2203505039215088 secs\n",
      "working on /usr/WS2/bolet1/ruby-benchmarks/exploreGlobalOptimizations/logs/hpcg-medprob/cma-4873\n"
     ]
    },
    {
     "data": {
      "application/vnd.jupyter.widget-view+json": {
       "model_id": "ae6488de145e474481888008df53f217",
       "version_major": 2,
       "version_minor": 0
      },
      "text/plain": [
       "  0%|          | 0/100 [00:00<?, ?it/s]"
      ]
     },
     "metadata": {},
     "output_type": "display_data"
    },
    {
     "name": "stdout",
     "output_type": "stream",
     "text": [
      "completed hpcg medprob cma 4873 (30000, 9) 0.22001290321350098 secs\n",
      "working on /usr/WS2/bolet1/ruby-benchmarks/exploreGlobalOptimizations/logs/hpcg-lrgprob/cma-1337\n"
     ]
    },
    {
     "data": {
      "application/vnd.jupyter.widget-view+json": {
       "model_id": "cbb7affab3f94d2481fa832c4ce866e2",
       "version_major": 2,
       "version_minor": 0
      },
      "text/plain": [
       "  0%|          | 0/100 [00:00<?, ?it/s]"
      ]
     },
     "metadata": {},
     "output_type": "display_data"
    },
    {
     "name": "stdout",
     "output_type": "stream",
     "text": [
      "completed hpcg lrgprob cma 1337 (30000, 9) 0.21997547149658203 secs\n",
      "working on /usr/WS2/bolet1/ruby-benchmarks/exploreGlobalOptimizations/logs/hpcg-lrgprob/cma-3827\n"
     ]
    },
    {
     "data": {
      "application/vnd.jupyter.widget-view+json": {
       "model_id": "148d72bc5c114697b1babb3c7dadb47e",
       "version_major": 2,
       "version_minor": 0
      },
      "text/plain": [
       "  0%|          | 0/100 [00:00<?, ?it/s]"
      ]
     },
     "metadata": {},
     "output_type": "display_data"
    },
    {
     "name": "stdout",
     "output_type": "stream",
     "text": [
      "completed hpcg lrgprob cma 3827 (30000, 9) 0.21808552742004395 secs\n",
      "working on /usr/WS2/bolet1/ruby-benchmarks/exploreGlobalOptimizations/logs/hpcg-lrgprob/cma-9999\n"
     ]
    },
    {
     "data": {
      "application/vnd.jupyter.widget-view+json": {
       "model_id": "5537d23d65ec47f291eea30e5def46ae",
       "version_major": 2,
       "version_minor": 0
      },
      "text/plain": [
       "  0%|          | 0/100 [00:00<?, ?it/s]"
      ]
     },
     "metadata": {},
     "output_type": "display_data"
    },
    {
     "name": "stdout",
     "output_type": "stream",
     "text": [
      "completed hpcg lrgprob cma 9999 (30000, 9) 0.30617737770080566 secs\n",
      "working on /usr/WS2/bolet1/ruby-benchmarks/exploreGlobalOptimizations/logs/hpcg-lrgprob/cma-4873\n"
     ]
    },
    {
     "data": {
      "application/vnd.jupyter.widget-view+json": {
       "model_id": "b95018de53ef4d4e9c489e390e042faa",
       "version_major": 2,
       "version_minor": 0
      },
      "text/plain": [
       "  0%|          | 0/100 [00:00<?, ?it/s]"
      ]
     },
     "metadata": {},
     "output_type": "display_data"
    },
    {
     "name": "stdout",
     "output_type": "stream",
     "text": [
      "completed hpcg lrgprob cma 4873 (30000, 9) 0.2219991683959961 secs\n",
      "\n",
      "\n",
      " wrote: /usr/WS2/bolet1/ruby-benchmarks/exploreGlobalOptimizations/databases/ruby-hpcg-cma-GO_Data-rawXtimes.csv \n",
      "\n",
      "\n",
      "working on /usr/WS2/bolet1/ruby-benchmarks/exploreGlobalOptimizations/logs/lulesh-smlprob/cma-1337\n"
     ]
    },
    {
     "data": {
      "application/vnd.jupyter.widget-view+json": {
       "model_id": "bfba79ce1e384d709645b57a02811ea3",
       "version_major": 2,
       "version_minor": 0
      },
      "text/plain": [
       "  0%|          | 0/100 [00:00<?, ?it/s]"
      ]
     },
     "metadata": {},
     "output_type": "display_data"
    },
    {
     "name": "stdout",
     "output_type": "stream",
     "text": [
      "completed lulesh smlprob cma 1337 (30000, 9) 0.21755075454711914 secs\n",
      "working on /usr/WS2/bolet1/ruby-benchmarks/exploreGlobalOptimizations/logs/lulesh-smlprob/cma-3827\n"
     ]
    },
    {
     "data": {
      "application/vnd.jupyter.widget-view+json": {
       "model_id": "a6f1eecb7c4e4d708630a2f89f145c0c",
       "version_major": 2,
       "version_minor": 0
      },
      "text/plain": [
       "  0%|          | 0/100 [00:00<?, ?it/s]"
      ]
     },
     "metadata": {},
     "output_type": "display_data"
    },
    {
     "name": "stdout",
     "output_type": "stream",
     "text": [
      "completed lulesh smlprob cma 3827 (30000, 9) 0.2223818302154541 secs\n",
      "working on /usr/WS2/bolet1/ruby-benchmarks/exploreGlobalOptimizations/logs/lulesh-smlprob/cma-9999\n"
     ]
    },
    {
     "data": {
      "application/vnd.jupyter.widget-view+json": {
       "model_id": "0c9f4421e21342a1a153e6a3b77baf49",
       "version_major": 2,
       "version_minor": 0
      },
      "text/plain": [
       "  0%|          | 0/100 [00:00<?, ?it/s]"
      ]
     },
     "metadata": {},
     "output_type": "display_data"
    },
    {
     "name": "stdout",
     "output_type": "stream",
     "text": [
      "completed lulesh smlprob cma 9999 (30000, 9) 0.22017145156860352 secs\n",
      "working on /usr/WS2/bolet1/ruby-benchmarks/exploreGlobalOptimizations/logs/lulesh-smlprob/cma-4873\n"
     ]
    },
    {
     "data": {
      "application/vnd.jupyter.widget-view+json": {
       "model_id": "91fcd8ac5d86496b88ef1ab87a0d884b",
       "version_major": 2,
       "version_minor": 0
      },
      "text/plain": [
       "  0%|          | 0/100 [00:00<?, ?it/s]"
      ]
     },
     "metadata": {},
     "output_type": "display_data"
    },
    {
     "name": "stdout",
     "output_type": "stream",
     "text": [
      "completed lulesh smlprob cma 4873 (30000, 9) 0.21216225624084473 secs\n",
      "working on /usr/WS2/bolet1/ruby-benchmarks/exploreGlobalOptimizations/logs/lulesh-medprob/cma-1337\n"
     ]
    },
    {
     "data": {
      "application/vnd.jupyter.widget-view+json": {
       "model_id": "f9ea2e1e4f6d44709d83bc851fd1afa8",
       "version_major": 2,
       "version_minor": 0
      },
      "text/plain": [
       "  0%|          | 0/100 [00:00<?, ?it/s]"
      ]
     },
     "metadata": {},
     "output_type": "display_data"
    },
    {
     "name": "stdout",
     "output_type": "stream",
     "text": [
      "completed lulesh medprob cma 1337 (30000, 9) 0.1999044418334961 secs\n",
      "working on /usr/WS2/bolet1/ruby-benchmarks/exploreGlobalOptimizations/logs/lulesh-medprob/cma-3827\n"
     ]
    },
    {
     "data": {
      "application/vnd.jupyter.widget-view+json": {
       "model_id": "918ead43391b42cfbe7bd9c875c1ea98",
       "version_major": 2,
       "version_minor": 0
      },
      "text/plain": [
       "  0%|          | 0/100 [00:00<?, ?it/s]"
      ]
     },
     "metadata": {},
     "output_type": "display_data"
    },
    {
     "name": "stdout",
     "output_type": "stream",
     "text": [
      "completed lulesh medprob cma 3827 (30000, 9) 0.20107126235961914 secs\n",
      "working on /usr/WS2/bolet1/ruby-benchmarks/exploreGlobalOptimizations/logs/lulesh-medprob/cma-9999\n"
     ]
    },
    {
     "data": {
      "application/vnd.jupyter.widget-view+json": {
       "model_id": "44db4e9b91a64a50b33b1ad3d0cdf79b",
       "version_major": 2,
       "version_minor": 0
      },
      "text/plain": [
       "  0%|          | 0/100 [00:00<?, ?it/s]"
      ]
     },
     "metadata": {},
     "output_type": "display_data"
    },
    {
     "name": "stdout",
     "output_type": "stream",
     "text": [
      "completed lulesh medprob cma 9999 (30000, 9) 0.29314613342285156 secs\n",
      "working on /usr/WS2/bolet1/ruby-benchmarks/exploreGlobalOptimizations/logs/lulesh-medprob/cma-4873\n"
     ]
    },
    {
     "data": {
      "application/vnd.jupyter.widget-view+json": {
       "model_id": "8fa8a73ac68349e69f71bb0722ce8964",
       "version_major": 2,
       "version_minor": 0
      },
      "text/plain": [
       "  0%|          | 0/100 [00:00<?, ?it/s]"
      ]
     },
     "metadata": {},
     "output_type": "display_data"
    },
    {
     "name": "stdout",
     "output_type": "stream",
     "text": [
      "completed lulesh medprob cma 4873 (30000, 9) 0.20643067359924316 secs\n",
      "working on /usr/WS2/bolet1/ruby-benchmarks/exploreGlobalOptimizations/logs/lulesh-lrgprob/cma-1337\n"
     ]
    },
    {
     "data": {
      "application/vnd.jupyter.widget-view+json": {
       "model_id": "dd5916ff03aa403cb0364752b1f49128",
       "version_major": 2,
       "version_minor": 0
      },
      "text/plain": [
       "  0%|          | 0/100 [00:00<?, ?it/s]"
      ]
     },
     "metadata": {},
     "output_type": "display_data"
    },
    {
     "name": "stdout",
     "output_type": "stream",
     "text": [
      "completed lulesh lrgprob cma 1337 (30000, 9) 0.2184433937072754 secs\n",
      "working on /usr/WS2/bolet1/ruby-benchmarks/exploreGlobalOptimizations/logs/lulesh-lrgprob/cma-3827\n"
     ]
    },
    {
     "data": {
      "application/vnd.jupyter.widget-view+json": {
       "model_id": "1fc608767f0f4686a8b9b05f11806234",
       "version_major": 2,
       "version_minor": 0
      },
      "text/plain": [
       "  0%|          | 0/100 [00:00<?, ?it/s]"
      ]
     },
     "metadata": {},
     "output_type": "display_data"
    },
    {
     "name": "stdout",
     "output_type": "stream",
     "text": [
      "completed lulesh lrgprob cma 3827 (30000, 9) 0.2091381549835205 secs\n",
      "working on /usr/WS2/bolet1/ruby-benchmarks/exploreGlobalOptimizations/logs/lulesh-lrgprob/cma-9999\n"
     ]
    },
    {
     "data": {
      "application/vnd.jupyter.widget-view+json": {
       "model_id": "ea652ffc306040bcb5c3c1c2a27725ed",
       "version_major": 2,
       "version_minor": 0
      },
      "text/plain": [
       "  0%|          | 0/100 [00:00<?, ?it/s]"
      ]
     },
     "metadata": {},
     "output_type": "display_data"
    },
    {
     "name": "stdout",
     "output_type": "stream",
     "text": [
      "completed lulesh lrgprob cma 9999 (30000, 9) 0.21996498107910156 secs\n",
      "working on /usr/WS2/bolet1/ruby-benchmarks/exploreGlobalOptimizations/logs/lulesh-lrgprob/cma-4873\n"
     ]
    },
    {
     "data": {
      "application/vnd.jupyter.widget-view+json": {
       "model_id": "5d90cc3551b5446a92709dc03d0b8cb1",
       "version_major": 2,
       "version_minor": 0
      },
      "text/plain": [
       "  0%|          | 0/100 [00:00<?, ?it/s]"
      ]
     },
     "metadata": {},
     "output_type": "display_data"
    },
    {
     "name": "stdout",
     "output_type": "stream",
     "text": [
      "completed lulesh lrgprob cma 4873 (30000, 9) 0.21806740760803223 secs\n",
      "\n",
      "\n",
      " wrote: /usr/WS2/bolet1/ruby-benchmarks/exploreGlobalOptimizations/databases/ruby-lulesh-cma-GO_Data-rawXtimes.csv \n",
      "\n",
      "\n",
      "working on /usr/WS2/bolet1/ruby-benchmarks/exploreGlobalOptimizations/logs/bt_nas-smlprob/pso-1337\n"
     ]
    },
    {
     "data": {
      "application/vnd.jupyter.widget-view+json": {
       "model_id": "81bd92496d1c44d0af88afa2c0a93f74",
       "version_major": 2,
       "version_minor": 0
      },
      "text/plain": [
       "  0%|          | 0/1250 [00:00<?, ?it/s]"
      ]
     },
     "metadata": {},
     "output_type": "display_data"
    },
    {
     "name": "stdout",
     "output_type": "stream",
     "text": [
      "completed bt_nas smlprob pso 1337 (375000, 11) 3.1841461658477783 secs\n",
      "working on /usr/WS2/bolet1/ruby-benchmarks/exploreGlobalOptimizations/logs/bt_nas-smlprob/pso-3827\n"
     ]
    },
    {
     "data": {
      "application/vnd.jupyter.widget-view+json": {
       "model_id": "3c8a4f0c1a2c4a428712d1f4266d3b86",
       "version_major": 2,
       "version_minor": 0
      },
      "text/plain": [
       "  0%|          | 0/1250 [00:00<?, ?it/s]"
      ]
     },
     "metadata": {},
     "output_type": "display_data"
    },
    {
     "name": "stdout",
     "output_type": "stream",
     "text": [
      "completed bt_nas smlprob pso 3827 (375000, 11) 3.0442256927490234 secs\n",
      "working on /usr/WS2/bolet1/ruby-benchmarks/exploreGlobalOptimizations/logs/bt_nas-smlprob/pso-9999\n"
     ]
    },
    {
     "data": {
      "application/vnd.jupyter.widget-view+json": {
       "model_id": "abe80481829647aaa384b2c1065905de",
       "version_major": 2,
       "version_minor": 0
      },
      "text/plain": [
       "  0%|          | 0/1250 [00:00<?, ?it/s]"
      ]
     },
     "metadata": {},
     "output_type": "display_data"
    },
    {
     "name": "stdout",
     "output_type": "stream",
     "text": [
      "completed bt_nas smlprob pso 9999 (375000, 11) 2.971666097640991 secs\n",
      "working on /usr/WS2/bolet1/ruby-benchmarks/exploreGlobalOptimizations/logs/bt_nas-smlprob/pso-4873\n"
     ]
    },
    {
     "data": {
      "application/vnd.jupyter.widget-view+json": {
       "model_id": "95d3438a3768421e9317ae2f79453c16",
       "version_major": 2,
       "version_minor": 0
      },
      "text/plain": [
       "  0%|          | 0/1250 [00:00<?, ?it/s]"
      ]
     },
     "metadata": {},
     "output_type": "display_data"
    },
    {
     "name": "stdout",
     "output_type": "stream",
     "text": [
      "completed bt_nas smlprob pso 4873 (375000, 11) 3.0291526317596436 secs\n",
      "working on /usr/WS2/bolet1/ruby-benchmarks/exploreGlobalOptimizations/logs/bt_nas-medprob/pso-1337\n"
     ]
    },
    {
     "data": {
      "application/vnd.jupyter.widget-view+json": {
       "model_id": "aca1af30869e46c4bc65c955047221ca",
       "version_major": 2,
       "version_minor": 0
      },
      "text/plain": [
       "  0%|          | 0/1250 [00:00<?, ?it/s]"
      ]
     },
     "metadata": {},
     "output_type": "display_data"
    },
    {
     "name": "stdout",
     "output_type": "stream",
     "text": [
      "completed bt_nas medprob pso 1337 (375000, 11) 2.91536283493042 secs\n",
      "working on /usr/WS2/bolet1/ruby-benchmarks/exploreGlobalOptimizations/logs/bt_nas-medprob/pso-3827\n"
     ]
    },
    {
     "data": {
      "application/vnd.jupyter.widget-view+json": {
       "model_id": "7553c0ff5be947adb28401c454c0fff6",
       "version_major": 2,
       "version_minor": 0
      },
      "text/plain": [
       "  0%|          | 0/1250 [00:00<?, ?it/s]"
      ]
     },
     "metadata": {},
     "output_type": "display_data"
    },
    {
     "name": "stdout",
     "output_type": "stream",
     "text": [
      "completed bt_nas medprob pso 3827 (375000, 11) 3.0784530639648438 secs\n",
      "working on /usr/WS2/bolet1/ruby-benchmarks/exploreGlobalOptimizations/logs/bt_nas-medprob/pso-9999\n"
     ]
    },
    {
     "data": {
      "application/vnd.jupyter.widget-view+json": {
       "model_id": "c5a7114c12bb4f1aba28ee755c025f00",
       "version_major": 2,
       "version_minor": 0
      },
      "text/plain": [
       "  0%|          | 0/1250 [00:00<?, ?it/s]"
      ]
     },
     "metadata": {},
     "output_type": "display_data"
    },
    {
     "name": "stdout",
     "output_type": "stream",
     "text": [
      "completed bt_nas medprob pso 9999 (375000, 11) 3.1230757236480713 secs\n",
      "working on /usr/WS2/bolet1/ruby-benchmarks/exploreGlobalOptimizations/logs/bt_nas-medprob/pso-4873\n"
     ]
    },
    {
     "data": {
      "application/vnd.jupyter.widget-view+json": {
       "model_id": "a603ca67598e4c3a8490ff08f3d1b5e8",
       "version_major": 2,
       "version_minor": 0
      },
      "text/plain": [
       "  0%|          | 0/1250 [00:00<?, ?it/s]"
      ]
     },
     "metadata": {},
     "output_type": "display_data"
    },
    {
     "name": "stdout",
     "output_type": "stream",
     "text": [
      "completed bt_nas medprob pso 4873 (375000, 11) 3.1693718433380127 secs\n",
      "working on /usr/WS2/bolet1/ruby-benchmarks/exploreGlobalOptimizations/logs/bt_nas-lrgprob/pso-1337\n"
     ]
    },
    {
     "data": {
      "application/vnd.jupyter.widget-view+json": {
       "model_id": "c0246278b7ef45638c4a81232ed93774",
       "version_major": 2,
       "version_minor": 0
      },
      "text/plain": [
       "  0%|          | 0/1250 [00:00<?, ?it/s]"
      ]
     },
     "metadata": {},
     "output_type": "display_data"
    },
    {
     "name": "stdout",
     "output_type": "stream",
     "text": [
      "completed bt_nas lrgprob pso 1337 (375000, 11) 3.050705909729004 secs\n",
      "working on /usr/WS2/bolet1/ruby-benchmarks/exploreGlobalOptimizations/logs/bt_nas-lrgprob/pso-3827\n"
     ]
    },
    {
     "data": {
      "application/vnd.jupyter.widget-view+json": {
       "model_id": "61b05b6b0eaf4fa184dae102058c8ded",
       "version_major": 2,
       "version_minor": 0
      },
      "text/plain": [
       "  0%|          | 0/1250 [00:00<?, ?it/s]"
      ]
     },
     "metadata": {},
     "output_type": "display_data"
    },
    {
     "name": "stdout",
     "output_type": "stream",
     "text": [
      "completed bt_nas lrgprob pso 3827 (375000, 11) 3.1772255897521973 secs\n",
      "working on /usr/WS2/bolet1/ruby-benchmarks/exploreGlobalOptimizations/logs/bt_nas-lrgprob/pso-9999\n"
     ]
    },
    {
     "data": {
      "application/vnd.jupyter.widget-view+json": {
       "model_id": "449bd7282d01440e8114d9e8abcfc80f",
       "version_major": 2,
       "version_minor": 0
      },
      "text/plain": [
       "  0%|          | 0/1250 [00:00<?, ?it/s]"
      ]
     },
     "metadata": {},
     "output_type": "display_data"
    },
    {
     "name": "stdout",
     "output_type": "stream",
     "text": [
      "completed bt_nas lrgprob pso 9999 (375000, 11) 3.165370225906372 secs\n",
      "working on /usr/WS2/bolet1/ruby-benchmarks/exploreGlobalOptimizations/logs/bt_nas-lrgprob/pso-4873\n"
     ]
    },
    {
     "data": {
      "application/vnd.jupyter.widget-view+json": {
       "model_id": "ea56fc7b755d47dcab2fb620f8f59741",
       "version_major": 2,
       "version_minor": 0
      },
      "text/plain": [
       "  0%|          | 0/1250 [00:00<?, ?it/s]"
      ]
     },
     "metadata": {},
     "output_type": "display_data"
    },
    {
     "name": "stdout",
     "output_type": "stream",
     "text": [
      "completed bt_nas lrgprob pso 4873 (375000, 11) 3.078463554382324 secs\n",
      "\n",
      "\n",
      " wrote: /usr/WS2/bolet1/ruby-benchmarks/exploreGlobalOptimizations/databases/ruby-bt_nas-pso-GO_Data-rawXtimes.csv \n",
      "\n",
      "\n",
      "working on /usr/WS2/bolet1/ruby-benchmarks/exploreGlobalOptimizations/logs/ft_nas-smlprob/pso-1337\n"
     ]
    },
    {
     "data": {
      "application/vnd.jupyter.widget-view+json": {
       "model_id": "80cdc1944bdf45f9830434683a2cde19",
       "version_major": 2,
       "version_minor": 0
      },
      "text/plain": [
       "  0%|          | 0/1250 [00:00<?, ?it/s]"
      ]
     },
     "metadata": {},
     "output_type": "display_data"
    },
    {
     "name": "stdout",
     "output_type": "stream",
     "text": [
      "completed ft_nas smlprob pso 1337 (375000, 11) 3.1459712982177734 secs\n",
      "working on /usr/WS2/bolet1/ruby-benchmarks/exploreGlobalOptimizations/logs/ft_nas-smlprob/pso-3827\n"
     ]
    },
    {
     "data": {
      "application/vnd.jupyter.widget-view+json": {
       "model_id": "feb5d4af9829496e97808280a05e59da",
       "version_major": 2,
       "version_minor": 0
      },
      "text/plain": [
       "  0%|          | 0/1250 [00:00<?, ?it/s]"
      ]
     },
     "metadata": {},
     "output_type": "display_data"
    },
    {
     "name": "stdout",
     "output_type": "stream",
     "text": [
      "completed ft_nas smlprob pso 3827 (375000, 11) 3.0542638301849365 secs\n",
      "working on /usr/WS2/bolet1/ruby-benchmarks/exploreGlobalOptimizations/logs/ft_nas-smlprob/pso-9999\n"
     ]
    },
    {
     "data": {
      "application/vnd.jupyter.widget-view+json": {
       "model_id": "971896cfa891456d80d8d67204791a3e",
       "version_major": 2,
       "version_minor": 0
      },
      "text/plain": [
       "  0%|          | 0/1250 [00:00<?, ?it/s]"
      ]
     },
     "metadata": {},
     "output_type": "display_data"
    },
    {
     "name": "stdout",
     "output_type": "stream",
     "text": [
      "completed ft_nas smlprob pso 9999 (375000, 11) 3.1429545879364014 secs\n",
      "working on /usr/WS2/bolet1/ruby-benchmarks/exploreGlobalOptimizations/logs/ft_nas-smlprob/pso-4873\n"
     ]
    },
    {
     "data": {
      "application/vnd.jupyter.widget-view+json": {
       "model_id": "360c2c9c0cb649188510ea5ee2cde41d",
       "version_major": 2,
       "version_minor": 0
      },
      "text/plain": [
       "  0%|          | 0/1250 [00:00<?, ?it/s]"
      ]
     },
     "metadata": {},
     "output_type": "display_data"
    },
    {
     "name": "stdout",
     "output_type": "stream",
     "text": [
      "completed ft_nas smlprob pso 4873 (375000, 11) 3.100310802459717 secs\n",
      "working on /usr/WS2/bolet1/ruby-benchmarks/exploreGlobalOptimizations/logs/ft_nas-medprob/pso-1337\n"
     ]
    },
    {
     "data": {
      "application/vnd.jupyter.widget-view+json": {
       "model_id": "cef32f380cd5443c94e6334f0e05c19f",
       "version_major": 2,
       "version_minor": 0
      },
      "text/plain": [
       "  0%|          | 0/1250 [00:00<?, ?it/s]"
      ]
     },
     "metadata": {},
     "output_type": "display_data"
    },
    {
     "name": "stdout",
     "output_type": "stream",
     "text": [
      "completed ft_nas medprob pso 1337 (375000, 11) 3.188532590866089 secs\n",
      "working on /usr/WS2/bolet1/ruby-benchmarks/exploreGlobalOptimizations/logs/ft_nas-medprob/pso-3827\n"
     ]
    },
    {
     "data": {
      "application/vnd.jupyter.widget-view+json": {
       "model_id": "21b2943e06d044c19ad8c99001b6292c",
       "version_major": 2,
       "version_minor": 0
      },
      "text/plain": [
       "  0%|          | 0/1250 [00:00<?, ?it/s]"
      ]
     },
     "metadata": {},
     "output_type": "display_data"
    },
    {
     "name": "stdout",
     "output_type": "stream",
     "text": [
      "completed ft_nas medprob pso 3827 (375000, 11) 3.201035261154175 secs\n",
      "working on /usr/WS2/bolet1/ruby-benchmarks/exploreGlobalOptimizations/logs/ft_nas-medprob/pso-9999\n"
     ]
    },
    {
     "data": {
      "application/vnd.jupyter.widget-view+json": {
       "model_id": "7b9cb14de3e0495b92b7638161842ec3",
       "version_major": 2,
       "version_minor": 0
      },
      "text/plain": [
       "  0%|          | 0/1250 [00:00<?, ?it/s]"
      ]
     },
     "metadata": {},
     "output_type": "display_data"
    },
    {
     "name": "stdout",
     "output_type": "stream",
     "text": [
      "completed ft_nas medprob pso 9999 (375000, 11) 2.9530444145202637 secs\n",
      "working on /usr/WS2/bolet1/ruby-benchmarks/exploreGlobalOptimizations/logs/ft_nas-medprob/pso-4873\n"
     ]
    },
    {
     "data": {
      "application/vnd.jupyter.widget-view+json": {
       "model_id": "65e7ec14160343f9a7d885e7b2403351",
       "version_major": 2,
       "version_minor": 0
      },
      "text/plain": [
       "  0%|          | 0/1250 [00:00<?, ?it/s]"
      ]
     },
     "metadata": {},
     "output_type": "display_data"
    },
    {
     "name": "stdout",
     "output_type": "stream",
     "text": [
      "completed ft_nas medprob pso 4873 (375000, 11) 2.9513893127441406 secs\n",
      "working on /usr/WS2/bolet1/ruby-benchmarks/exploreGlobalOptimizations/logs/ft_nas-lrgprob/pso-1337\n"
     ]
    },
    {
     "data": {
      "application/vnd.jupyter.widget-view+json": {
       "model_id": "96a106ba738b4e3a9b03ede70a5a6c08",
       "version_major": 2,
       "version_minor": 0
      },
      "text/plain": [
       "  0%|          | 0/1250 [00:00<?, ?it/s]"
      ]
     },
     "metadata": {},
     "output_type": "display_data"
    },
    {
     "name": "stdout",
     "output_type": "stream",
     "text": [
      "completed ft_nas lrgprob pso 1337 (375000, 11) 3.2012479305267334 secs\n",
      "working on /usr/WS2/bolet1/ruby-benchmarks/exploreGlobalOptimizations/logs/ft_nas-lrgprob/pso-3827\n"
     ]
    },
    {
     "data": {
      "application/vnd.jupyter.widget-view+json": {
       "model_id": "64b55d7dd4c14865b077d2e458b904be",
       "version_major": 2,
       "version_minor": 0
      },
      "text/plain": [
       "  0%|          | 0/1250 [00:00<?, ?it/s]"
      ]
     },
     "metadata": {},
     "output_type": "display_data"
    },
    {
     "name": "stdout",
     "output_type": "stream",
     "text": [
      "completed ft_nas lrgprob pso 3827 (375000, 11) 3.1159539222717285 secs\n",
      "working on /usr/WS2/bolet1/ruby-benchmarks/exploreGlobalOptimizations/logs/ft_nas-lrgprob/pso-9999\n"
     ]
    },
    {
     "data": {
      "application/vnd.jupyter.widget-view+json": {
       "model_id": "4075904a81f84f449f307fc1f14f5883",
       "version_major": 2,
       "version_minor": 0
      },
      "text/plain": [
       "  0%|          | 0/1250 [00:00<?, ?it/s]"
      ]
     },
     "metadata": {},
     "output_type": "display_data"
    },
    {
     "name": "stdout",
     "output_type": "stream",
     "text": [
      "completed ft_nas lrgprob pso 9999 (375000, 11) 3.1422119140625 secs\n",
      "working on /usr/WS2/bolet1/ruby-benchmarks/exploreGlobalOptimizations/logs/ft_nas-lrgprob/pso-4873\n"
     ]
    },
    {
     "data": {
      "application/vnd.jupyter.widget-view+json": {
       "model_id": "bb352af129324ec68ea2b55c8c024157",
       "version_major": 2,
       "version_minor": 0
      },
      "text/plain": [
       "  0%|          | 0/1250 [00:00<?, ?it/s]"
      ]
     },
     "metadata": {},
     "output_type": "display_data"
    },
    {
     "name": "stdout",
     "output_type": "stream",
     "text": [
      "completed ft_nas lrgprob pso 4873 (375000, 11) 3.0457675457000732 secs\n",
      "\n",
      "\n",
      " wrote: /usr/WS2/bolet1/ruby-benchmarks/exploreGlobalOptimizations/databases/ruby-ft_nas-pso-GO_Data-rawXtimes.csv \n",
      "\n",
      "\n",
      "working on /usr/WS2/bolet1/ruby-benchmarks/exploreGlobalOptimizations/logs/hpcg-smlprob/pso-1337\n"
     ]
    },
    {
     "data": {
      "application/vnd.jupyter.widget-view+json": {
       "model_id": "eddfbf2c1ab2438bbc6ee62ae42e2e60",
       "version_major": 2,
       "version_minor": 0
      },
      "text/plain": [
       "  0%|          | 0/1250 [00:00<?, ?it/s]"
      ]
     },
     "metadata": {},
     "output_type": "display_data"
    },
    {
     "name": "stdout",
     "output_type": "stream",
     "text": [
      "completed hpcg smlprob pso 1337 (375000, 11) 3.1419568061828613 secs\n",
      "working on /usr/WS2/bolet1/ruby-benchmarks/exploreGlobalOptimizations/logs/hpcg-smlprob/pso-3827\n"
     ]
    },
    {
     "data": {
      "application/vnd.jupyter.widget-view+json": {
       "model_id": "ad15c60cecb24868be72c0fcfe947121",
       "version_major": 2,
       "version_minor": 0
      },
      "text/plain": [
       "  0%|          | 0/1250 [00:00<?, ?it/s]"
      ]
     },
     "metadata": {},
     "output_type": "display_data"
    },
    {
     "name": "stdout",
     "output_type": "stream",
     "text": [
      "completed hpcg smlprob pso 3827 (375000, 11) 3.084543466567993 secs\n",
      "working on /usr/WS2/bolet1/ruby-benchmarks/exploreGlobalOptimizations/logs/hpcg-smlprob/pso-9999\n"
     ]
    },
    {
     "data": {
      "application/vnd.jupyter.widget-view+json": {
       "model_id": "c55d91df2fd14540b5c79fd91c1d8f1e",
       "version_major": 2,
       "version_minor": 0
      },
      "text/plain": [
       "  0%|          | 0/1250 [00:00<?, ?it/s]"
      ]
     },
     "metadata": {},
     "output_type": "display_data"
    },
    {
     "name": "stdout",
     "output_type": "stream",
     "text": [
      "completed hpcg smlprob pso 9999 (375000, 11) 3.212775945663452 secs\n",
      "working on /usr/WS2/bolet1/ruby-benchmarks/exploreGlobalOptimizations/logs/hpcg-smlprob/pso-4873\n"
     ]
    },
    {
     "data": {
      "application/vnd.jupyter.widget-view+json": {
       "model_id": "fcaa337f7b8044abbd268e1f994119cf",
       "version_major": 2,
       "version_minor": 0
      },
      "text/plain": [
       "  0%|          | 0/1250 [00:00<?, ?it/s]"
      ]
     },
     "metadata": {},
     "output_type": "display_data"
    },
    {
     "name": "stdout",
     "output_type": "stream",
     "text": [
      "completed hpcg smlprob pso 4873 (375000, 11) 3.1443703174591064 secs\n",
      "working on /usr/WS2/bolet1/ruby-benchmarks/exploreGlobalOptimizations/logs/hpcg-medprob/pso-1337\n"
     ]
    },
    {
     "data": {
      "application/vnd.jupyter.widget-view+json": {
       "model_id": "4e54570049e54da39c766915f63ec619",
       "version_major": 2,
       "version_minor": 0
      },
      "text/plain": [
       "  0%|          | 0/1250 [00:00<?, ?it/s]"
      ]
     },
     "metadata": {},
     "output_type": "display_data"
    },
    {
     "name": "stdout",
     "output_type": "stream",
     "text": [
      "completed hpcg medprob pso 1337 (375000, 11) 3.157517671585083 secs\n",
      "working on /usr/WS2/bolet1/ruby-benchmarks/exploreGlobalOptimizations/logs/hpcg-medprob/pso-3827\n"
     ]
    },
    {
     "data": {
      "application/vnd.jupyter.widget-view+json": {
       "model_id": "0752d9564cd540759796bd695b66b3cc",
       "version_major": 2,
       "version_minor": 0
      },
      "text/plain": [
       "  0%|          | 0/1250 [00:00<?, ?it/s]"
      ]
     },
     "metadata": {},
     "output_type": "display_data"
    },
    {
     "name": "stdout",
     "output_type": "stream",
     "text": [
      "completed hpcg medprob pso 3827 (375000, 11) 3.4648587703704834 secs\n",
      "working on /usr/WS2/bolet1/ruby-benchmarks/exploreGlobalOptimizations/logs/hpcg-medprob/pso-9999\n"
     ]
    },
    {
     "data": {
      "application/vnd.jupyter.widget-view+json": {
       "model_id": "a3b0c3c4440b43f2a0b2da19e8c05836",
       "version_major": 2,
       "version_minor": 0
      },
      "text/plain": [
       "  0%|          | 0/1250 [00:00<?, ?it/s]"
      ]
     },
     "metadata": {},
     "output_type": "display_data"
    },
    {
     "name": "stdout",
     "output_type": "stream",
     "text": [
      "completed hpcg medprob pso 9999 (375000, 11) 3.2549729347229004 secs\n",
      "working on /usr/WS2/bolet1/ruby-benchmarks/exploreGlobalOptimizations/logs/hpcg-medprob/pso-4873\n"
     ]
    },
    {
     "data": {
      "application/vnd.jupyter.widget-view+json": {
       "model_id": "b97968d811ae4a509b4f38182dbeaa19",
       "version_major": 2,
       "version_minor": 0
      },
      "text/plain": [
       "  0%|          | 0/1250 [00:00<?, ?it/s]"
      ]
     },
     "metadata": {},
     "output_type": "display_data"
    },
    {
     "name": "stdout",
     "output_type": "stream",
     "text": [
      "completed hpcg medprob pso 4873 (375000, 11) 3.454000234603882 secs\n",
      "working on /usr/WS2/bolet1/ruby-benchmarks/exploreGlobalOptimizations/logs/hpcg-lrgprob/pso-1337\n"
     ]
    },
    {
     "data": {
      "application/vnd.jupyter.widget-view+json": {
       "model_id": "cb7106b709724d7dbe629986f9d43252",
       "version_major": 2,
       "version_minor": 0
      },
      "text/plain": [
       "  0%|          | 0/1250 [00:00<?, ?it/s]"
      ]
     },
     "metadata": {},
     "output_type": "display_data"
    },
    {
     "name": "stdout",
     "output_type": "stream",
     "text": [
      "completed hpcg lrgprob pso 1337 (375000, 11) 3.0677409172058105 secs\n",
      "working on /usr/WS2/bolet1/ruby-benchmarks/exploreGlobalOptimizations/logs/hpcg-lrgprob/pso-3827\n"
     ]
    },
    {
     "data": {
      "application/vnd.jupyter.widget-view+json": {
       "model_id": "c361842210a54dfd95a9eaf51e7817bf",
       "version_major": 2,
       "version_minor": 0
      },
      "text/plain": [
       "  0%|          | 0/1250 [00:00<?, ?it/s]"
      ]
     },
     "metadata": {},
     "output_type": "display_data"
    },
    {
     "name": "stdout",
     "output_type": "stream",
     "text": [
      "completed hpcg lrgprob pso 3827 (375000, 11) 3.202219247817993 secs\n",
      "working on /usr/WS2/bolet1/ruby-benchmarks/exploreGlobalOptimizations/logs/hpcg-lrgprob/pso-9999\n"
     ]
    },
    {
     "data": {
      "application/vnd.jupyter.widget-view+json": {
       "model_id": "689b1dd9b2964f3e82894ed296b13153",
       "version_major": 2,
       "version_minor": 0
      },
      "text/plain": [
       "  0%|          | 0/1250 [00:00<?, ?it/s]"
      ]
     },
     "metadata": {},
     "output_type": "display_data"
    },
    {
     "name": "stdout",
     "output_type": "stream",
     "text": [
      "completed hpcg lrgprob pso 9999 (375000, 11) 3.1568386554718018 secs\n",
      "working on /usr/WS2/bolet1/ruby-benchmarks/exploreGlobalOptimizations/logs/hpcg-lrgprob/pso-4873\n"
     ]
    },
    {
     "data": {
      "application/vnd.jupyter.widget-view+json": {
       "model_id": "882cf94947e3410ebbde1ccb62633772",
       "version_major": 2,
       "version_minor": 0
      },
      "text/plain": [
       "  0%|          | 0/1250 [00:00<?, ?it/s]"
      ]
     },
     "metadata": {},
     "output_type": "display_data"
    },
    {
     "name": "stdout",
     "output_type": "stream",
     "text": [
      "completed hpcg lrgprob pso 4873 (375000, 11) 3.1582722663879395 secs\n",
      "\n",
      "\n",
      " wrote: /usr/WS2/bolet1/ruby-benchmarks/exploreGlobalOptimizations/databases/ruby-hpcg-pso-GO_Data-rawXtimes.csv \n",
      "\n",
      "\n",
      "working on /usr/WS2/bolet1/ruby-benchmarks/exploreGlobalOptimizations/logs/lulesh-smlprob/pso-1337\n"
     ]
    },
    {
     "data": {
      "application/vnd.jupyter.widget-view+json": {
       "model_id": "e573e9cc06b444de94aa1fd48015b987",
       "version_major": 2,
       "version_minor": 0
      },
      "text/plain": [
       "  0%|          | 0/1250 [00:00<?, ?it/s]"
      ]
     },
     "metadata": {},
     "output_type": "display_data"
    },
    {
     "name": "stdout",
     "output_type": "stream",
     "text": [
      "completed lulesh smlprob pso 1337 (375000, 11) 3.1825203895568848 secs\n",
      "working on /usr/WS2/bolet1/ruby-benchmarks/exploreGlobalOptimizations/logs/lulesh-smlprob/pso-3827\n"
     ]
    },
    {
     "data": {
      "application/vnd.jupyter.widget-view+json": {
       "model_id": "d1d3f35d4bcc4d2ebd9f23f1a33b05f5",
       "version_major": 2,
       "version_minor": 0
      },
      "text/plain": [
       "  0%|          | 0/1250 [00:00<?, ?it/s]"
      ]
     },
     "metadata": {},
     "output_type": "display_data"
    },
    {
     "name": "stdout",
     "output_type": "stream",
     "text": [
      "completed lulesh smlprob pso 3827 (375000, 11) 3.119053840637207 secs\n",
      "working on /usr/WS2/bolet1/ruby-benchmarks/exploreGlobalOptimizations/logs/lulesh-smlprob/pso-9999\n"
     ]
    },
    {
     "data": {
      "application/vnd.jupyter.widget-view+json": {
       "model_id": "3bf49667041b49e793411d5867e082b0",
       "version_major": 2,
       "version_minor": 0
      },
      "text/plain": [
       "  0%|          | 0/1250 [00:00<?, ?it/s]"
      ]
     },
     "metadata": {},
     "output_type": "display_data"
    },
    {
     "name": "stdout",
     "output_type": "stream",
     "text": [
      "completed lulesh smlprob pso 9999 (375000, 11) 3.0671138763427734 secs\n",
      "working on /usr/WS2/bolet1/ruby-benchmarks/exploreGlobalOptimizations/logs/lulesh-smlprob/pso-4873\n"
     ]
    },
    {
     "data": {
      "application/vnd.jupyter.widget-view+json": {
       "model_id": "6cca0da3de41490aa856809bd45ac106",
       "version_major": 2,
       "version_minor": 0
      },
      "text/plain": [
       "  0%|          | 0/1250 [00:00<?, ?it/s]"
      ]
     },
     "metadata": {},
     "output_type": "display_data"
    },
    {
     "name": "stdout",
     "output_type": "stream",
     "text": [
      "completed lulesh smlprob pso 4873 (375000, 11) 3.0388247966766357 secs\n",
      "working on /usr/WS2/bolet1/ruby-benchmarks/exploreGlobalOptimizations/logs/lulesh-medprob/pso-1337\n"
     ]
    },
    {
     "data": {
      "application/vnd.jupyter.widget-view+json": {
       "model_id": "e0f68e52ccd9470aa471e2be6825a2fd",
       "version_major": 2,
       "version_minor": 0
      },
      "text/plain": [
       "  0%|          | 0/1250 [00:00<?, ?it/s]"
      ]
     },
     "metadata": {},
     "output_type": "display_data"
    },
    {
     "name": "stdout",
     "output_type": "stream",
     "text": [
      "completed lulesh medprob pso 1337 (375000, 11) 3.0308706760406494 secs\n",
      "working on /usr/WS2/bolet1/ruby-benchmarks/exploreGlobalOptimizations/logs/lulesh-medprob/pso-3827\n"
     ]
    },
    {
     "data": {
      "application/vnd.jupyter.widget-view+json": {
       "model_id": "6b66ea88c94a403f8385b1b1fce64d0a",
       "version_major": 2,
       "version_minor": 0
      },
      "text/plain": [
       "  0%|          | 0/1250 [00:00<?, ?it/s]"
      ]
     },
     "metadata": {},
     "output_type": "display_data"
    },
    {
     "name": "stdout",
     "output_type": "stream",
     "text": [
      "completed lulesh medprob pso 3827 (375000, 11) 3.084017515182495 secs\n",
      "working on /usr/WS2/bolet1/ruby-benchmarks/exploreGlobalOptimizations/logs/lulesh-medprob/pso-9999\n"
     ]
    },
    {
     "data": {
      "application/vnd.jupyter.widget-view+json": {
       "model_id": "41f0a99a01f0410f84783d2ab53703b7",
       "version_major": 2,
       "version_minor": 0
      },
      "text/plain": [
       "  0%|          | 0/1250 [00:00<?, ?it/s]"
      ]
     },
     "metadata": {},
     "output_type": "display_data"
    },
    {
     "name": "stdout",
     "output_type": "stream",
     "text": [
      "completed lulesh medprob pso 9999 (375000, 11) 3.034099817276001 secs\n",
      "working on /usr/WS2/bolet1/ruby-benchmarks/exploreGlobalOptimizations/logs/lulesh-medprob/pso-4873\n"
     ]
    },
    {
     "data": {
      "application/vnd.jupyter.widget-view+json": {
       "model_id": "20d49c7e928549d99964973deacbf898",
       "version_major": 2,
       "version_minor": 0
      },
      "text/plain": [
       "  0%|          | 0/1250 [00:00<?, ?it/s]"
      ]
     },
     "metadata": {},
     "output_type": "display_data"
    },
    {
     "name": "stdout",
     "output_type": "stream",
     "text": [
      "completed lulesh medprob pso 4873 (375000, 11) 2.8079421520233154 secs\n",
      "working on /usr/WS2/bolet1/ruby-benchmarks/exploreGlobalOptimizations/logs/lulesh-lrgprob/pso-1337\n"
     ]
    },
    {
     "data": {
      "application/vnd.jupyter.widget-view+json": {
       "model_id": "e1860d83d6324bbf81ee04bca0dc09f3",
       "version_major": 2,
       "version_minor": 0
      },
      "text/plain": [
       "  0%|          | 0/1250 [00:00<?, ?it/s]"
      ]
     },
     "metadata": {},
     "output_type": "display_data"
    },
    {
     "name": "stdout",
     "output_type": "stream",
     "text": [
      "completed lulesh lrgprob pso 1337 (375000, 11) 3.057670831680298 secs\n",
      "working on /usr/WS2/bolet1/ruby-benchmarks/exploreGlobalOptimizations/logs/lulesh-lrgprob/pso-3827\n"
     ]
    },
    {
     "data": {
      "application/vnd.jupyter.widget-view+json": {
       "model_id": "5645837ab17e4c57a1cd27a555e2d159",
       "version_major": 2,
       "version_minor": 0
      },
      "text/plain": [
       "  0%|          | 0/1250 [00:00<?, ?it/s]"
      ]
     },
     "metadata": {},
     "output_type": "display_data"
    },
    {
     "name": "stdout",
     "output_type": "stream",
     "text": [
      "completed lulesh lrgprob pso 3827 (375000, 11) 2.9415745735168457 secs\n",
      "working on /usr/WS2/bolet1/ruby-benchmarks/exploreGlobalOptimizations/logs/lulesh-lrgprob/pso-9999\n"
     ]
    },
    {
     "data": {
      "application/vnd.jupyter.widget-view+json": {
       "model_id": "4e318c48202f41d0930e70819186784d",
       "version_major": 2,
       "version_minor": 0
      },
      "text/plain": [
       "  0%|          | 0/1250 [00:00<?, ?it/s]"
      ]
     },
     "metadata": {},
     "output_type": "display_data"
    },
    {
     "name": "stdout",
     "output_type": "stream",
     "text": [
      "completed lulesh lrgprob pso 9999 (375000, 11) 3.071782112121582 secs\n",
      "working on /usr/WS2/bolet1/ruby-benchmarks/exploreGlobalOptimizations/logs/lulesh-lrgprob/pso-4873\n"
     ]
    },
    {
     "data": {
      "application/vnd.jupyter.widget-view+json": {
       "model_id": "ee07181cbf4e4f8392811c43e7ea70c4",
       "version_major": 2,
       "version_minor": 0
      },
      "text/plain": [
       "  0%|          | 0/1250 [00:00<?, ?it/s]"
      ]
     },
     "metadata": {},
     "output_type": "display_data"
    },
    {
     "name": "stdout",
     "output_type": "stream",
     "text": [
      "completed lulesh lrgprob pso 4873 (375000, 11) 2.9219472408294678 secs\n",
      "\n",
      "\n",
      " wrote: /usr/WS2/bolet1/ruby-benchmarks/exploreGlobalOptimizations/databases/ruby-lulesh-pso-GO_Data-rawXtimes.csv \n",
      "\n",
      "\n",
      "working on /usr/WS2/bolet1/ruby-benchmarks/exploreGlobalOptimizations/logs/bt_nas-smlprob/bo-1337\n"
     ]
    },
    {
     "data": {
      "application/vnd.jupyter.widget-view+json": {
       "model_id": "24c3e7c0c1f54124af2d66d2de3cb97d",
       "version_major": 2,
       "version_minor": 0
      },
      "text/plain": [
       "  0%|          | 0/60 [00:00<?, ?it/s]"
      ]
     },
     "metadata": {},
     "output_type": "display_data"
    },
    {
     "name": "stdout",
     "output_type": "stream",
     "text": [
      "completed bt_nas smlprob bo 1337 (18000, 12) 0.1438443660736084 secs\n",
      "working on /usr/WS2/bolet1/ruby-benchmarks/exploreGlobalOptimizations/logs/bt_nas-smlprob/bo-3827\n"
     ]
    },
    {
     "data": {
      "application/vnd.jupyter.widget-view+json": {
       "model_id": "dee063db19b245dd987416135e5e1a73",
       "version_major": 2,
       "version_minor": 0
      },
      "text/plain": [
       "  0%|          | 0/60 [00:00<?, ?it/s]"
      ]
     },
     "metadata": {},
     "output_type": "display_data"
    },
    {
     "name": "stdout",
     "output_type": "stream",
     "text": [
      "completed bt_nas smlprob bo 3827 (18000, 12) 0.1326768398284912 secs\n",
      "working on /usr/WS2/bolet1/ruby-benchmarks/exploreGlobalOptimizations/logs/bt_nas-smlprob/bo-9999\n"
     ]
    },
    {
     "data": {
      "application/vnd.jupyter.widget-view+json": {
       "model_id": "62ebe090a61c468a8c3ae162faf0fbf2",
       "version_major": 2,
       "version_minor": 0
      },
      "text/plain": [
       "  0%|          | 0/60 [00:00<?, ?it/s]"
      ]
     },
     "metadata": {},
     "output_type": "display_data"
    },
    {
     "name": "stdout",
     "output_type": "stream",
     "text": [
      "completed bt_nas smlprob bo 9999 (18000, 12) 0.13857793807983398 secs\n",
      "working on /usr/WS2/bolet1/ruby-benchmarks/exploreGlobalOptimizations/logs/bt_nas-smlprob/bo-4873\n"
     ]
    },
    {
     "data": {
      "application/vnd.jupyter.widget-view+json": {
       "model_id": "0d690ffe955a46baa3fe0bf3d554553b",
       "version_major": 2,
       "version_minor": 0
      },
      "text/plain": [
       "  0%|          | 0/60 [00:00<?, ?it/s]"
      ]
     },
     "metadata": {},
     "output_type": "display_data"
    },
    {
     "name": "stdout",
     "output_type": "stream",
     "text": [
      "completed bt_nas smlprob bo 4873 (18000, 12) 0.14040327072143555 secs\n",
      "working on /usr/WS2/bolet1/ruby-benchmarks/exploreGlobalOptimizations/logs/bt_nas-medprob/bo-1337\n"
     ]
    },
    {
     "data": {
      "application/vnd.jupyter.widget-view+json": {
       "model_id": "4c31181db47340748bf4fce52423194f",
       "version_major": 2,
       "version_minor": 0
      },
      "text/plain": [
       "  0%|          | 0/60 [00:00<?, ?it/s]"
      ]
     },
     "metadata": {},
     "output_type": "display_data"
    },
    {
     "name": "stdout",
     "output_type": "stream",
     "text": [
      "completed bt_nas medprob bo 1337 (18000, 12) 0.13087987899780273 secs\n",
      "working on /usr/WS2/bolet1/ruby-benchmarks/exploreGlobalOptimizations/logs/bt_nas-medprob/bo-3827\n"
     ]
    },
    {
     "data": {
      "application/vnd.jupyter.widget-view+json": {
       "model_id": "f965a463244145469090fd114e368128",
       "version_major": 2,
       "version_minor": 0
      },
      "text/plain": [
       "  0%|          | 0/60 [00:00<?, ?it/s]"
      ]
     },
     "metadata": {},
     "output_type": "display_data"
    },
    {
     "name": "stdout",
     "output_type": "stream",
     "text": [
      "completed bt_nas medprob bo 3827 (18000, 12) 0.1326160430908203 secs\n",
      "working on /usr/WS2/bolet1/ruby-benchmarks/exploreGlobalOptimizations/logs/bt_nas-medprob/bo-9999\n"
     ]
    },
    {
     "data": {
      "application/vnd.jupyter.widget-view+json": {
       "model_id": "80fcfae4bc284b1a9d19ed229885482a",
       "version_major": 2,
       "version_minor": 0
      },
      "text/plain": [
       "  0%|          | 0/60 [00:00<?, ?it/s]"
      ]
     },
     "metadata": {},
     "output_type": "display_data"
    },
    {
     "name": "stdout",
     "output_type": "stream",
     "text": [
      "completed bt_nas medprob bo 9999 (18000, 12) 0.13393712043762207 secs\n",
      "working on /usr/WS2/bolet1/ruby-benchmarks/exploreGlobalOptimizations/logs/bt_nas-medprob/bo-4873\n"
     ]
    },
    {
     "data": {
      "application/vnd.jupyter.widget-view+json": {
       "model_id": "ac237af30fb9427d87c4cf38a875f631",
       "version_major": 2,
       "version_minor": 0
      },
      "text/plain": [
       "  0%|          | 0/60 [00:00<?, ?it/s]"
      ]
     },
     "metadata": {},
     "output_type": "display_data"
    },
    {
     "name": "stdout",
     "output_type": "stream",
     "text": [
      "completed bt_nas medprob bo 4873 (18000, 12) 0.13484430313110352 secs\n",
      "working on /usr/WS2/bolet1/ruby-benchmarks/exploreGlobalOptimizations/logs/bt_nas-lrgprob/bo-1337\n"
     ]
    },
    {
     "data": {
      "application/vnd.jupyter.widget-view+json": {
       "model_id": "7ae8bd643ca043a09af0d8035685ad84",
       "version_major": 2,
       "version_minor": 0
      },
      "text/plain": [
       "  0%|          | 0/60 [00:00<?, ?it/s]"
      ]
     },
     "metadata": {},
     "output_type": "display_data"
    },
    {
     "name": "stdout",
     "output_type": "stream",
     "text": [
      "completed bt_nas lrgprob bo 1337 (18000, 12) 0.12877583503723145 secs\n",
      "working on /usr/WS2/bolet1/ruby-benchmarks/exploreGlobalOptimizations/logs/bt_nas-lrgprob/bo-3827\n"
     ]
    },
    {
     "data": {
      "application/vnd.jupyter.widget-view+json": {
       "model_id": "4b756391b3cb48f1b439d62ab39b6e0c",
       "version_major": 2,
       "version_minor": 0
      },
      "text/plain": [
       "  0%|          | 0/60 [00:00<?, ?it/s]"
      ]
     },
     "metadata": {},
     "output_type": "display_data"
    },
    {
     "name": "stdout",
     "output_type": "stream",
     "text": [
      "completed bt_nas lrgprob bo 3827 (18000, 12) 0.13522028923034668 secs\n",
      "working on /usr/WS2/bolet1/ruby-benchmarks/exploreGlobalOptimizations/logs/bt_nas-lrgprob/bo-9999\n"
     ]
    },
    {
     "data": {
      "application/vnd.jupyter.widget-view+json": {
       "model_id": "2f0e602cb822446c91d74cbd444f91fe",
       "version_major": 2,
       "version_minor": 0
      },
      "text/plain": [
       "  0%|          | 0/60 [00:00<?, ?it/s]"
      ]
     },
     "metadata": {},
     "output_type": "display_data"
    },
    {
     "name": "stdout",
     "output_type": "stream",
     "text": [
      "completed bt_nas lrgprob bo 9999 (18000, 12) 0.21822142601013184 secs\n",
      "working on /usr/WS2/bolet1/ruby-benchmarks/exploreGlobalOptimizations/logs/bt_nas-lrgprob/bo-4873\n"
     ]
    },
    {
     "data": {
      "application/vnd.jupyter.widget-view+json": {
       "model_id": "28ad30d05d1840ce9a32459c17b38946",
       "version_major": 2,
       "version_minor": 0
      },
      "text/plain": [
       "  0%|          | 0/60 [00:00<?, ?it/s]"
      ]
     },
     "metadata": {},
     "output_type": "display_data"
    },
    {
     "name": "stdout",
     "output_type": "stream",
     "text": [
      "completed bt_nas lrgprob bo 4873 (18000, 12) 0.1362285614013672 secs\n",
      "\n",
      "\n",
      " wrote: /usr/WS2/bolet1/ruby-benchmarks/exploreGlobalOptimizations/databases/ruby-bt_nas-bo-GO_Data-rawXtimes.csv \n",
      "\n",
      "\n",
      "working on /usr/WS2/bolet1/ruby-benchmarks/exploreGlobalOptimizations/logs/ft_nas-smlprob/bo-1337\n"
     ]
    },
    {
     "data": {
      "application/vnd.jupyter.widget-view+json": {
       "model_id": "ef7caa7b3c8b42e69e5e301179f4e962",
       "version_major": 2,
       "version_minor": 0
      },
      "text/plain": [
       "  0%|          | 0/60 [00:00<?, ?it/s]"
      ]
     },
     "metadata": {},
     "output_type": "display_data"
    },
    {
     "name": "stdout",
     "output_type": "stream",
     "text": [
      "completed ft_nas smlprob bo 1337 (18000, 12) 0.1346120834350586 secs\n",
      "working on /usr/WS2/bolet1/ruby-benchmarks/exploreGlobalOptimizations/logs/ft_nas-smlprob/bo-3827\n"
     ]
    },
    {
     "data": {
      "application/vnd.jupyter.widget-view+json": {
       "model_id": "bd9e5bc6fc3c4c438cee66d7972f5328",
       "version_major": 2,
       "version_minor": 0
      },
      "text/plain": [
       "  0%|          | 0/60 [00:00<?, ?it/s]"
      ]
     },
     "metadata": {},
     "output_type": "display_data"
    },
    {
     "name": "stdout",
     "output_type": "stream",
     "text": [
      "completed ft_nas smlprob bo 3827 (18000, 12) 0.13624906539916992 secs\n",
      "working on /usr/WS2/bolet1/ruby-benchmarks/exploreGlobalOptimizations/logs/ft_nas-smlprob/bo-9999\n"
     ]
    },
    {
     "data": {
      "application/vnd.jupyter.widget-view+json": {
       "model_id": "c1b3c4b5328a4e36a3c7482ddca7ab52",
       "version_major": 2,
       "version_minor": 0
      },
      "text/plain": [
       "  0%|          | 0/60 [00:00<?, ?it/s]"
      ]
     },
     "metadata": {},
     "output_type": "display_data"
    },
    {
     "name": "stdout",
     "output_type": "stream",
     "text": [
      "completed ft_nas smlprob bo 9999 (18000, 12) 0.1308577060699463 secs\n",
      "working on /usr/WS2/bolet1/ruby-benchmarks/exploreGlobalOptimizations/logs/ft_nas-smlprob/bo-4873\n"
     ]
    },
    {
     "data": {
      "application/vnd.jupyter.widget-view+json": {
       "model_id": "2f276a04a83946eb8acf8fa78c577147",
       "version_major": 2,
       "version_minor": 0
      },
      "text/plain": [
       "  0%|          | 0/60 [00:00<?, ?it/s]"
      ]
     },
     "metadata": {},
     "output_type": "display_data"
    },
    {
     "name": "stdout",
     "output_type": "stream",
     "text": [
      "completed ft_nas smlprob bo 4873 (18000, 12) 0.1313164234161377 secs\n",
      "working on /usr/WS2/bolet1/ruby-benchmarks/exploreGlobalOptimizations/logs/ft_nas-medprob/bo-1337\n"
     ]
    },
    {
     "data": {
      "application/vnd.jupyter.widget-view+json": {
       "model_id": "f74a2cb1d5b04e3588130c7ac9ee08a6",
       "version_major": 2,
       "version_minor": 0
      },
      "text/plain": [
       "  0%|          | 0/60 [00:00<?, ?it/s]"
      ]
     },
     "metadata": {},
     "output_type": "display_data"
    },
    {
     "name": "stdout",
     "output_type": "stream",
     "text": [
      "completed ft_nas medprob bo 1337 (18000, 12) 0.13640189170837402 secs\n",
      "working on /usr/WS2/bolet1/ruby-benchmarks/exploreGlobalOptimizations/logs/ft_nas-medprob/bo-3827\n"
     ]
    },
    {
     "data": {
      "application/vnd.jupyter.widget-view+json": {
       "model_id": "682af80cb88747c4ab90b6e6d87c479e",
       "version_major": 2,
       "version_minor": 0
      },
      "text/plain": [
       "  0%|          | 0/60 [00:00<?, ?it/s]"
      ]
     },
     "metadata": {},
     "output_type": "display_data"
    },
    {
     "name": "stdout",
     "output_type": "stream",
     "text": [
      "completed ft_nas medprob bo 3827 (18000, 12) 0.13685178756713867 secs\n",
      "working on /usr/WS2/bolet1/ruby-benchmarks/exploreGlobalOptimizations/logs/ft_nas-medprob/bo-9999\n"
     ]
    },
    {
     "data": {
      "application/vnd.jupyter.widget-view+json": {
       "model_id": "e31e1f8219d34108bcd88ea7bfdd1640",
       "version_major": 2,
       "version_minor": 0
      },
      "text/plain": [
       "  0%|          | 0/60 [00:00<?, ?it/s]"
      ]
     },
     "metadata": {},
     "output_type": "display_data"
    },
    {
     "name": "stdout",
     "output_type": "stream",
     "text": [
      "completed ft_nas medprob bo 9999 (18000, 12) 0.1284785270690918 secs\n",
      "working on /usr/WS2/bolet1/ruby-benchmarks/exploreGlobalOptimizations/logs/ft_nas-medprob/bo-4873\n"
     ]
    },
    {
     "data": {
      "application/vnd.jupyter.widget-view+json": {
       "model_id": "c06082bfeb1f4f9abe1694c2689ff6ca",
       "version_major": 2,
       "version_minor": 0
      },
      "text/plain": [
       "  0%|          | 0/60 [00:00<?, ?it/s]"
      ]
     },
     "metadata": {},
     "output_type": "display_data"
    },
    {
     "name": "stdout",
     "output_type": "stream",
     "text": [
      "completed ft_nas medprob bo 4873 (18000, 12) 0.13393521308898926 secs\n",
      "working on /usr/WS2/bolet1/ruby-benchmarks/exploreGlobalOptimizations/logs/ft_nas-lrgprob/bo-1337\n"
     ]
    },
    {
     "data": {
      "application/vnd.jupyter.widget-view+json": {
       "model_id": "205f469fb47a43d1829e2c8665ad4451",
       "version_major": 2,
       "version_minor": 0
      },
      "text/plain": [
       "  0%|          | 0/60 [00:00<?, ?it/s]"
      ]
     },
     "metadata": {},
     "output_type": "display_data"
    },
    {
     "name": "stdout",
     "output_type": "stream",
     "text": [
      "completed ft_nas lrgprob bo 1337 (18000, 12) 0.13406705856323242 secs\n",
      "working on /usr/WS2/bolet1/ruby-benchmarks/exploreGlobalOptimizations/logs/ft_nas-lrgprob/bo-3827\n"
     ]
    },
    {
     "data": {
      "application/vnd.jupyter.widget-view+json": {
       "model_id": "8d4383b31e794a508399c897657b2fd9",
       "version_major": 2,
       "version_minor": 0
      },
      "text/plain": [
       "  0%|          | 0/60 [00:00<?, ?it/s]"
      ]
     },
     "metadata": {},
     "output_type": "display_data"
    },
    {
     "name": "stdout",
     "output_type": "stream",
     "text": [
      "completed ft_nas lrgprob bo 3827 (18000, 12) 0.2306525707244873 secs\n",
      "working on /usr/WS2/bolet1/ruby-benchmarks/exploreGlobalOptimizations/logs/ft_nas-lrgprob/bo-9999\n"
     ]
    },
    {
     "data": {
      "application/vnd.jupyter.widget-view+json": {
       "model_id": "4957c49c20ad474ea53d8db503580613",
       "version_major": 2,
       "version_minor": 0
      },
      "text/plain": [
       "  0%|          | 0/60 [00:00<?, ?it/s]"
      ]
     },
     "metadata": {},
     "output_type": "display_data"
    },
    {
     "name": "stdout",
     "output_type": "stream",
     "text": [
      "completed ft_nas lrgprob bo 9999 (18000, 12) 0.13186049461364746 secs\n",
      "working on /usr/WS2/bolet1/ruby-benchmarks/exploreGlobalOptimizations/logs/ft_nas-lrgprob/bo-4873\n"
     ]
    },
    {
     "data": {
      "application/vnd.jupyter.widget-view+json": {
       "model_id": "a6d6429f830c444faab7784051286dc8",
       "version_major": 2,
       "version_minor": 0
      },
      "text/plain": [
       "  0%|          | 0/60 [00:00<?, ?it/s]"
      ]
     },
     "metadata": {},
     "output_type": "display_data"
    },
    {
     "name": "stdout",
     "output_type": "stream",
     "text": [
      "completed ft_nas lrgprob bo 4873 (18000, 12) 0.13578033447265625 secs\n",
      "\n",
      "\n",
      " wrote: /usr/WS2/bolet1/ruby-benchmarks/exploreGlobalOptimizations/databases/ruby-ft_nas-bo-GO_Data-rawXtimes.csv \n",
      "\n",
      "\n",
      "working on /usr/WS2/bolet1/ruby-benchmarks/exploreGlobalOptimizations/logs/hpcg-smlprob/bo-1337\n"
     ]
    },
    {
     "data": {
      "application/vnd.jupyter.widget-view+json": {
       "model_id": "4414832037f24fbcb8eedc4559c532ce",
       "version_major": 2,
       "version_minor": 0
      },
      "text/plain": [
       "  0%|          | 0/60 [00:00<?, ?it/s]"
      ]
     },
     "metadata": {},
     "output_type": "display_data"
    },
    {
     "name": "stdout",
     "output_type": "stream",
     "text": [
      "completed hpcg smlprob bo 1337 (18000, 12) 0.13532137870788574 secs\n",
      "working on /usr/WS2/bolet1/ruby-benchmarks/exploreGlobalOptimizations/logs/hpcg-smlprob/bo-3827\n"
     ]
    },
    {
     "data": {
      "application/vnd.jupyter.widget-view+json": {
       "model_id": "fd19189f6935454faa4b7da30e5b1d3b",
       "version_major": 2,
       "version_minor": 0
      },
      "text/plain": [
       "  0%|          | 0/60 [00:00<?, ?it/s]"
      ]
     },
     "metadata": {},
     "output_type": "display_data"
    },
    {
     "name": "stdout",
     "output_type": "stream",
     "text": [
      "completed hpcg smlprob bo 3827 (18000, 12) 0.1389453411102295 secs\n",
      "working on /usr/WS2/bolet1/ruby-benchmarks/exploreGlobalOptimizations/logs/hpcg-smlprob/bo-9999\n"
     ]
    },
    {
     "data": {
      "application/vnd.jupyter.widget-view+json": {
       "model_id": "02ce9a7a06f44de2bfbbacfdd08733d3",
       "version_major": 2,
       "version_minor": 0
      },
      "text/plain": [
       "  0%|          | 0/60 [00:00<?, ?it/s]"
      ]
     },
     "metadata": {},
     "output_type": "display_data"
    },
    {
     "name": "stdout",
     "output_type": "stream",
     "text": [
      "completed hpcg smlprob bo 9999 (18000, 12) 0.1404886245727539 secs\n",
      "working on /usr/WS2/bolet1/ruby-benchmarks/exploreGlobalOptimizations/logs/hpcg-smlprob/bo-4873\n"
     ]
    },
    {
     "data": {
      "application/vnd.jupyter.widget-view+json": {
       "model_id": "2c6abb9c365245179c68ffe7ff103c36",
       "version_major": 2,
       "version_minor": 0
      },
      "text/plain": [
       "  0%|          | 0/60 [00:00<?, ?it/s]"
      ]
     },
     "metadata": {},
     "output_type": "display_data"
    },
    {
     "name": "stdout",
     "output_type": "stream",
     "text": [
      "completed hpcg smlprob bo 4873 (18000, 12) 0.13851690292358398 secs\n",
      "working on /usr/WS2/bolet1/ruby-benchmarks/exploreGlobalOptimizations/logs/hpcg-medprob/bo-1337\n"
     ]
    },
    {
     "data": {
      "application/vnd.jupyter.widget-view+json": {
       "model_id": "060bcd6a9fc3427aa16f6d269256c3cb",
       "version_major": 2,
       "version_minor": 0
      },
      "text/plain": [
       "  0%|          | 0/60 [00:00<?, ?it/s]"
      ]
     },
     "metadata": {},
     "output_type": "display_data"
    },
    {
     "name": "stdout",
     "output_type": "stream",
     "text": [
      "completed hpcg medprob bo 1337 (18000, 12) 0.13843393325805664 secs\n",
      "working on /usr/WS2/bolet1/ruby-benchmarks/exploreGlobalOptimizations/logs/hpcg-medprob/bo-3827\n"
     ]
    },
    {
     "data": {
      "application/vnd.jupyter.widget-view+json": {
       "model_id": "f87d45815dc346cbaf9a685c30ebed1f",
       "version_major": 2,
       "version_minor": 0
      },
      "text/plain": [
       "  0%|          | 0/60 [00:00<?, ?it/s]"
      ]
     },
     "metadata": {},
     "output_type": "display_data"
    },
    {
     "name": "stdout",
     "output_type": "stream",
     "text": [
      "completed hpcg medprob bo 3827 (18000, 12) 0.13647174835205078 secs\n",
      "working on /usr/WS2/bolet1/ruby-benchmarks/exploreGlobalOptimizations/logs/hpcg-medprob/bo-9999\n"
     ]
    },
    {
     "data": {
      "application/vnd.jupyter.widget-view+json": {
       "model_id": "780a36b632724fa5bc8585f919567869",
       "version_major": 2,
       "version_minor": 0
      },
      "text/plain": [
       "  0%|          | 0/60 [00:00<?, ?it/s]"
      ]
     },
     "metadata": {},
     "output_type": "display_data"
    },
    {
     "name": "stdout",
     "output_type": "stream",
     "text": [
      "completed hpcg medprob bo 9999 (18000, 12) 0.13631439208984375 secs\n",
      "working on /usr/WS2/bolet1/ruby-benchmarks/exploreGlobalOptimizations/logs/hpcg-medprob/bo-4873\n"
     ]
    },
    {
     "data": {
      "application/vnd.jupyter.widget-view+json": {
       "model_id": "7687dc2a5283472ba3e0eec9da9cfa89",
       "version_major": 2,
       "version_minor": 0
      },
      "text/plain": [
       "  0%|          | 0/60 [00:00<?, ?it/s]"
      ]
     },
     "metadata": {},
     "output_type": "display_data"
    },
    {
     "name": "stdout",
     "output_type": "stream",
     "text": [
      "completed hpcg medprob bo 4873 (18000, 12) 0.13815736770629883 secs\n",
      "working on /usr/WS2/bolet1/ruby-benchmarks/exploreGlobalOptimizations/logs/hpcg-lrgprob/bo-1337\n"
     ]
    },
    {
     "data": {
      "application/vnd.jupyter.widget-view+json": {
       "model_id": "90039562bd94476d94903040396ec706",
       "version_major": 2,
       "version_minor": 0
      },
      "text/plain": [
       "  0%|          | 0/60 [00:00<?, ?it/s]"
      ]
     },
     "metadata": {},
     "output_type": "display_data"
    },
    {
     "name": "stdout",
     "output_type": "stream",
     "text": [
      "completed hpcg lrgprob bo 1337 (18000, 12) 0.13605737686157227 secs\n",
      "working on /usr/WS2/bolet1/ruby-benchmarks/exploreGlobalOptimizations/logs/hpcg-lrgprob/bo-3827\n"
     ]
    },
    {
     "data": {
      "application/vnd.jupyter.widget-view+json": {
       "model_id": "6c84c1b8342649b0b97ed57ab1678196",
       "version_major": 2,
       "version_minor": 0
      },
      "text/plain": [
       "  0%|          | 0/60 [00:00<?, ?it/s]"
      ]
     },
     "metadata": {},
     "output_type": "display_data"
    },
    {
     "name": "stdout",
     "output_type": "stream",
     "text": [
      "completed hpcg lrgprob bo 3827 (18000, 12) 0.22739052772521973 secs\n",
      "working on /usr/WS2/bolet1/ruby-benchmarks/exploreGlobalOptimizations/logs/hpcg-lrgprob/bo-9999\n"
     ]
    },
    {
     "data": {
      "application/vnd.jupyter.widget-view+json": {
       "model_id": "08cd4779c0f74b5c8940632155854d17",
       "version_major": 2,
       "version_minor": 0
      },
      "text/plain": [
       "  0%|          | 0/60 [00:00<?, ?it/s]"
      ]
     },
     "metadata": {},
     "output_type": "display_data"
    },
    {
     "name": "stdout",
     "output_type": "stream",
     "text": [
      "completed hpcg lrgprob bo 9999 (18000, 12) 0.12990498542785645 secs\n",
      "working on /usr/WS2/bolet1/ruby-benchmarks/exploreGlobalOptimizations/logs/hpcg-lrgprob/bo-4873\n"
     ]
    },
    {
     "data": {
      "application/vnd.jupyter.widget-view+json": {
       "model_id": "504efca8127b40569eb31dc5b8df3c13",
       "version_major": 2,
       "version_minor": 0
      },
      "text/plain": [
       "  0%|          | 0/60 [00:00<?, ?it/s]"
      ]
     },
     "metadata": {},
     "output_type": "display_data"
    },
    {
     "name": "stdout",
     "output_type": "stream",
     "text": [
      "completed hpcg lrgprob bo 4873 (18000, 12) 0.12965822219848633 secs\n",
      "\n",
      "\n",
      " wrote: /usr/WS2/bolet1/ruby-benchmarks/exploreGlobalOptimizations/databases/ruby-hpcg-bo-GO_Data-rawXtimes.csv \n",
      "\n",
      "\n",
      "working on /usr/WS2/bolet1/ruby-benchmarks/exploreGlobalOptimizations/logs/lulesh-smlprob/bo-1337\n"
     ]
    },
    {
     "data": {
      "application/vnd.jupyter.widget-view+json": {
       "model_id": "1d352a710e2649319e86736ec0052c14",
       "version_major": 2,
       "version_minor": 0
      },
      "text/plain": [
       "  0%|          | 0/60 [00:00<?, ?it/s]"
      ]
     },
     "metadata": {},
     "output_type": "display_data"
    },
    {
     "name": "stdout",
     "output_type": "stream",
     "text": [
      "completed lulesh smlprob bo 1337 (18000, 12) 0.13997673988342285 secs\n",
      "working on /usr/WS2/bolet1/ruby-benchmarks/exploreGlobalOptimizations/logs/lulesh-smlprob/bo-3827\n"
     ]
    },
    {
     "data": {
      "application/vnd.jupyter.widget-view+json": {
       "model_id": "d4975680d6ca4c0c9f16908428d905f2",
       "version_major": 2,
       "version_minor": 0
      },
      "text/plain": [
       "  0%|          | 0/60 [00:00<?, ?it/s]"
      ]
     },
     "metadata": {},
     "output_type": "display_data"
    },
    {
     "name": "stdout",
     "output_type": "stream",
     "text": [
      "completed lulesh smlprob bo 3827 (18000, 12) 0.13947749137878418 secs\n",
      "working on /usr/WS2/bolet1/ruby-benchmarks/exploreGlobalOptimizations/logs/lulesh-smlprob/bo-9999\n"
     ]
    },
    {
     "data": {
      "application/vnd.jupyter.widget-view+json": {
       "model_id": "50f5ce732a344f04a2d7150c935afffa",
       "version_major": 2,
       "version_minor": 0
      },
      "text/plain": [
       "  0%|          | 0/60 [00:00<?, ?it/s]"
      ]
     },
     "metadata": {},
     "output_type": "display_data"
    },
    {
     "name": "stdout",
     "output_type": "stream",
     "text": [
      "completed lulesh smlprob bo 9999 (18000, 12) 0.136610746383667 secs\n",
      "working on /usr/WS2/bolet1/ruby-benchmarks/exploreGlobalOptimizations/logs/lulesh-smlprob/bo-4873\n"
     ]
    },
    {
     "data": {
      "application/vnd.jupyter.widget-view+json": {
       "model_id": "42d1e5e60f2f417b97e4c1dfc0d3b1ab",
       "version_major": 2,
       "version_minor": 0
      },
      "text/plain": [
       "  0%|          | 0/60 [00:00<?, ?it/s]"
      ]
     },
     "metadata": {},
     "output_type": "display_data"
    },
    {
     "name": "stdout",
     "output_type": "stream",
     "text": [
      "completed lulesh smlprob bo 4873 (18000, 12) 0.13828635215759277 secs\n",
      "working on /usr/WS2/bolet1/ruby-benchmarks/exploreGlobalOptimizations/logs/lulesh-medprob/bo-1337\n"
     ]
    },
    {
     "data": {
      "application/vnd.jupyter.widget-view+json": {
       "model_id": "cd839e92d026495d88474c950312ac69",
       "version_major": 2,
       "version_minor": 0
      },
      "text/plain": [
       "  0%|          | 0/60 [00:00<?, ?it/s]"
      ]
     },
     "metadata": {},
     "output_type": "display_data"
    },
    {
     "name": "stdout",
     "output_type": "stream",
     "text": [
      "completed lulesh medprob bo 1337 (18000, 12) 0.13346648216247559 secs\n",
      "working on /usr/WS2/bolet1/ruby-benchmarks/exploreGlobalOptimizations/logs/lulesh-medprob/bo-3827\n"
     ]
    },
    {
     "data": {
      "application/vnd.jupyter.widget-view+json": {
       "model_id": "7234288f6ea349908452002decff7522",
       "version_major": 2,
       "version_minor": 0
      },
      "text/plain": [
       "  0%|          | 0/60 [00:00<?, ?it/s]"
      ]
     },
     "metadata": {},
     "output_type": "display_data"
    },
    {
     "name": "stdout",
     "output_type": "stream",
     "text": [
      "completed lulesh medprob bo 3827 (18000, 12) 0.13793325424194336 secs\n",
      "working on /usr/WS2/bolet1/ruby-benchmarks/exploreGlobalOptimizations/logs/lulesh-medprob/bo-9999\n"
     ]
    },
    {
     "data": {
      "application/vnd.jupyter.widget-view+json": {
       "model_id": "9d747542d2354cddba3e6f46ff07c7e2",
       "version_major": 2,
       "version_minor": 0
      },
      "text/plain": [
       "  0%|          | 0/60 [00:00<?, ?it/s]"
      ]
     },
     "metadata": {},
     "output_type": "display_data"
    },
    {
     "name": "stdout",
     "output_type": "stream",
     "text": [
      "completed lulesh medprob bo 9999 (18000, 12) 0.13071608543395996 secs\n",
      "working on /usr/WS2/bolet1/ruby-benchmarks/exploreGlobalOptimizations/logs/lulesh-medprob/bo-4873\n"
     ]
    },
    {
     "data": {
      "application/vnd.jupyter.widget-view+json": {
       "model_id": "11b4967dbd504adf8f186dab6da2b062",
       "version_major": 2,
       "version_minor": 0
      },
      "text/plain": [
       "  0%|          | 0/60 [00:00<?, ?it/s]"
      ]
     },
     "metadata": {},
     "output_type": "display_data"
    },
    {
     "name": "stdout",
     "output_type": "stream",
     "text": [
      "completed lulesh medprob bo 4873 (18000, 12) 0.13294696807861328 secs\n",
      "working on /usr/WS2/bolet1/ruby-benchmarks/exploreGlobalOptimizations/logs/lulesh-lrgprob/bo-1337\n"
     ]
    },
    {
     "data": {
      "application/vnd.jupyter.widget-view+json": {
       "model_id": "6449eeef9d924f099c184c825ec3f8c5",
       "version_major": 2,
       "version_minor": 0
      },
      "text/plain": [
       "  0%|          | 0/60 [00:00<?, ?it/s]"
      ]
     },
     "metadata": {},
     "output_type": "display_data"
    },
    {
     "name": "stdout",
     "output_type": "stream",
     "text": [
      "completed lulesh lrgprob bo 1337 (18000, 12) 0.1355116367340088 secs\n",
      "working on /usr/WS2/bolet1/ruby-benchmarks/exploreGlobalOptimizations/logs/lulesh-lrgprob/bo-3827\n"
     ]
    },
    {
     "data": {
      "application/vnd.jupyter.widget-view+json": {
       "model_id": "0c7ec50168704926a1b97b7ebf31f536",
       "version_major": 2,
       "version_minor": 0
      },
      "text/plain": [
       "  0%|          | 0/60 [00:00<?, ?it/s]"
      ]
     },
     "metadata": {},
     "output_type": "display_data"
    },
    {
     "name": "stdout",
     "output_type": "stream",
     "text": [
      "completed lulesh lrgprob bo 3827 (18000, 12) 0.13468170166015625 secs\n",
      "working on /usr/WS2/bolet1/ruby-benchmarks/exploreGlobalOptimizations/logs/lulesh-lrgprob/bo-9999\n"
     ]
    },
    {
     "data": {
      "application/vnd.jupyter.widget-view+json": {
       "model_id": "ccf3270ba64b4d74b3d831448ae18178",
       "version_major": 2,
       "version_minor": 0
      },
      "text/plain": [
       "  0%|          | 0/60 [00:00<?, ?it/s]"
      ]
     },
     "metadata": {},
     "output_type": "display_data"
    },
    {
     "name": "stdout",
     "output_type": "stream",
     "text": [
      "completed lulesh lrgprob bo 9999 (18000, 12) 0.2223188877105713 secs\n",
      "working on /usr/WS2/bolet1/ruby-benchmarks/exploreGlobalOptimizations/logs/lulesh-lrgprob/bo-4873\n"
     ]
    },
    {
     "data": {
      "application/vnd.jupyter.widget-view+json": {
       "model_id": "8a2df3e6804e4cc6835a09b3ab51a99b",
       "version_major": 2,
       "version_minor": 0
      },
      "text/plain": [
       "  0%|          | 0/60 [00:00<?, ?it/s]"
      ]
     },
     "metadata": {},
     "output_type": "display_data"
    },
    {
     "name": "stdout",
     "output_type": "stream",
     "text": [
      "completed lulesh lrgprob bo 4873 (18000, 12) 0.13213062286376953 secs\n",
      "\n",
      "\n",
      " wrote: /usr/WS2/bolet1/ruby-benchmarks/exploreGlobalOptimizations/databases/ruby-lulesh-bo-GO_Data-rawXtimes.csv \n",
      "\n",
      "\n"
     ]
    }
   ],
   "source": [
    "preprocessAllLogs(speedupNorm=True)\n",
    "preprocessAllLogs(minMaxNorm=True)\n",
    "preprocessAllLogs()"
   ]
  }
 ],
 "metadata": {
  "kernelspec": {
   "display_name": "python3.10.8-gregvirtenv",
   "language": "python",
   "name": "python3"
  },
  "language_info": {
   "codemirror_mode": {
    "name": "ipython",
    "version": 3
   },
   "file_extension": ".py",
   "mimetype": "text/x-python",
   "name": "python",
   "nbconvert_exporter": "python",
   "pygments_lexer": "ipython3",
   "version": "3.10.8"
  },
  "orig_nbformat": 4
 },
 "nbformat": 4,
 "nbformat_minor": 2
}
